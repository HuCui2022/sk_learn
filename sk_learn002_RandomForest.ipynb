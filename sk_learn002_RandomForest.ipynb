{
  "nbformat": 4,
  "nbformat_minor": 0,
  "metadata": {
    "colab": {
      "name": "sk_learn002_RandomForest.ipynb",
      "provenance": [],
      "collapsed_sections": [],
      "authorship_tag": "ABX9TyMhEHEBHFLUqyT1of1lzQ2r",
      "include_colab_link": true
    },
    "kernelspec": {
      "name": "python3",
      "display_name": "Python 3"
    }
  },
  "cells": [
    {
      "cell_type": "markdown",
      "metadata": {
        "id": "view-in-github",
        "colab_type": "text"
      },
      "source": [
        "<a href=\"https://colab.research.google.com/github/smiledinisa/sk_learn/blob/master/sk_learn002_RandomForest.ipynb\" target=\"_parent\"><img src=\"https://colab.research.google.com/assets/colab-badge.svg\" alt=\"Open In Colab\"/></a>"
      ]
    },
    {
      "cell_type": "code",
      "metadata": {
        "id": "4G-Y7BtPN-7x",
        "colab_type": "code",
        "colab": {
          "base_uri": "https://localhost:8080/",
          "height": 127
        },
        "outputId": "9aced02f-d9d1-405d-872c-c04713b2ebcb"
      },
      "source": [
        "from google.colab import drive\n",
        "drive.mount('/content/drive')"
      ],
      "execution_count": 1,
      "outputs": [
        {
          "output_type": "stream",
          "text": [
            "Go to this URL in a browser: https://accounts.google.com/o/oauth2/auth?client_id=947318989803-6bn6qk8qdgf4n4g3pfee6491hc0brc4i.apps.googleusercontent.com&redirect_uri=urn%3aietf%3awg%3aoauth%3a2.0%3aoob&scope=email%20https%3a%2f%2fwww.googleapis.com%2fauth%2fdocs.test%20https%3a%2f%2fwww.googleapis.com%2fauth%2fdrive%20https%3a%2f%2fwww.googleapis.com%2fauth%2fdrive.photos.readonly%20https%3a%2f%2fwww.googleapis.com%2fauth%2fpeopleapi.readonly&response_type=code\n",
            "\n",
            "Enter your authorization code:\n",
            "··········\n",
            "Mounted at /content/drive\n"
          ],
          "name": "stdout"
        }
      ]
    },
    {
      "cell_type": "code",
      "metadata": {
        "id": "Wt87jkCcOdK6",
        "colab_type": "code",
        "colab": {
          "base_uri": "https://localhost:8080/",
          "height": 35
        },
        "outputId": "81f8b8d0-d3e0-4980-da30-c26ded71e516"
      },
      "source": [
        "cd /content/drive/My Drive/RandomForest"
      ],
      "execution_count": 2,
      "outputs": [
        {
          "output_type": "stream",
          "text": [
            "/content/drive/My Drive/RandomForest\n"
          ],
          "name": "stdout"
        }
      ]
    },
    {
      "cell_type": "markdown",
      "metadata": {
        "id": "sNG0FfY1QIOM",
        "colab_type": "text"
      },
      "source": [
        "# 1 概述：\n",
        "\n",
        "#1.1 集成算法概述\n",
        "集成学习（ensemble learning）是时下非常流行的机器学习算法，它本身不是一个单独的机器学习算法，而是通\n",
        "过在数据上构建多个模型，集成所有模型的建模结果。基本上所有的机器学习领域都可以看到集成学习的身影，在\n",
        "现实中集成学习也有相当大的作用，它可以用来做市场营销模拟的建模，统计客户来源，保留和流失，也可用来预\n",
        "测疾病的风险和病患者的易感性。在现在的各种算法竞赛中，随机森林，梯度提升树（GBDT），Xgboost等集成\n",
        "算法的身影也随处可见，可见其效果之好，应用之广。"
      ]
    },
    {
      "cell_type": "markdown",
      "metadata": {
        "id": "1MVvndGMQIRR",
        "colab_type": "text"
      },
      "source": [
        "## 集成算法的目标\n",
        "集成算法会考虑多个评估器的建模结果，汇总之后得到一个综合的结果，以此来获取比单个模型更好的回归或\n",
        "分类表现。"
      ]
    },
    {
      "cell_type": "markdown",
      "metadata": {
        "id": "lPPK3El3QIUB",
        "colab_type": "text"
      },
      "source": [
        "多个模型集成成为的模型叫做集成评估器（ensemble estimator），组成集成评估器的每个模型都叫做基评估器\n",
        "（base estimator）。\n",
        "\n",
        "通常来说，有三类集成算法\n",
        "\n",
        "装袋法（Bagging）\n",
        "\n",
        "提升法（Boosting）\n",
        "\n",
        "和stacking。\n",
        "\n",
        "![链接文字](https://img-blog.csdnimg.cn/20200821214359206.png?x-oss-process=image/watermark,type_ZmFuZ3poZW5naGVpdGk,shadow_10,text_aHR0cHM6Ly9ibG9nLmNzZG4ubmV0L2dhb2N1aTg4Mw==,size_16,color_FFFFFF,t_70#pic_center)"
      ]
    },
    {
      "cell_type": "markdown",
      "metadata": {
        "id": "ntsEbfagQIW5",
        "colab_type": "text"
      },
      "source": [
        "##**装袋法**的核心思想是构建多个相互独立的评估器，然后对其预测进行平均或多数表决原则来决定集成评估器的结果。\n",
        "\n",
        "## 装袋法的代表模型就是随机森林。\n",
        "\n",
        "##**提升法**中，基评估器是相关的，是按顺序一一构建的。其核心思想是结合弱评估器的力量一次次对难以评估的样本进行预测，从而构成一个强评估器。提升法的代表模型有Adaboost和梯度提升树。"
      ]
    },
    {
      "cell_type": "markdown",
      "metadata": {
        "id": "mB2PWD1RQIZi",
        "colab_type": "text"
      },
      "source": [
        "# 1.2 skleran 中的继承算法\n",
        "\n",
        "\n",
        "## 集成算法模块： ensemble\n",
        "\n",
        "\n",
        "![链接文字](https://img-blog.csdnimg.cn/20200821214940222.png?x-oss-process=image/watermark,type_ZmFuZ3poZW5naGVpdGk,shadow_10,text_aHR0cHM6Ly9ibG9nLmNzZG4ubmV0L2dhb2N1aTg4Mw==,size_16,color_FFFFFF,t_70#pic_center)\n"
      ]
    },
    {
      "cell_type": "markdown",
      "metadata": {
        "id": "SUxIqXXUTGdf",
        "colab_type": "text"
      },
      "source": [
        "# 2. RandomForestClassifier \n",
        "\n",
        "RandomForestClassifier，随机森林分类\n",
        "器。\n",
        "\n",
        "class  sklearn.ensemble.RandomForestClassifier(   \n",
        "  n_estimators=’10’,  # 指定多少个评估器，然后用这些评估器来进行平均或者少数服从多数。   \n",
        "  **criterion**=’gini’,  # 不纯度的衡量指标。 ‘geni,entropy'      \n",
        "  **max_depth**=None,      \n",
        "  **min_samples_split**=2,   \n",
        "  **min_samples_leaf**=1,       \n",
        "  **min_weight_fraction_leaf**=0.0,   \n",
        "  **max_features**=’auto’,  #默认总特征数开平方取整。   \n",
        "  **max_leaf_nodes**=None,    \n",
        "  **min_impurity_decrease**=0.0,   \n",
        "  **min_impurity_split**=None,   \n",
        "  **bootstrap**=True,   \n",
        "  **oob_score**=False,  \n",
        "  **n_jobs**=None,   \n",
        "  **random_state**=None,   \n",
        "  **verbose**=0,   \n",
        "  **warm_start**=False,   \n",
        "  **class_weight**=None)     \n",
        "\n",
        "\n",
        "\n",
        "  大致于决策树一样的参数。"
      ]
    },
    {
      "cell_type": "code",
      "metadata": {
        "id": "PxOt0y9XVhPw",
        "colab_type": "code",
        "colab": {}
      },
      "source": [
        "# 随机数和随机森林进行比较。\n",
        "\n",
        "%matplotlib inline\n",
        "\n",
        "from sklearn.tree import DecisionTreeClassifier\n",
        "from sklearn.ensemble import RandomForestClassifier\n",
        "from sklearn.datasets import load_wine\n"
      ],
      "execution_count": 3,
      "outputs": []
    },
    {
      "cell_type": "code",
      "metadata": {
        "id": "A_vv5Zj5VibA",
        "colab_type": "code",
        "colab": {
          "base_uri": "https://localhost:8080/",
          "height": 251
        },
        "outputId": "30630b27-3903-4127-ec05-6ff4f6713856"
      },
      "source": [
        "# 导入数据。\n",
        "wine = load_wine()\n",
        "wine.data"
      ],
      "execution_count": 4,
      "outputs": [
        {
          "output_type": "execute_result",
          "data": {
            "text/plain": [
              "array([[1.423e+01, 1.710e+00, 2.430e+00, ..., 1.040e+00, 3.920e+00,\n",
              "        1.065e+03],\n",
              "       [1.320e+01, 1.780e+00, 2.140e+00, ..., 1.050e+00, 3.400e+00,\n",
              "        1.050e+03],\n",
              "       [1.316e+01, 2.360e+00, 2.670e+00, ..., 1.030e+00, 3.170e+00,\n",
              "        1.185e+03],\n",
              "       ...,\n",
              "       [1.327e+01, 4.280e+00, 2.260e+00, ..., 5.900e-01, 1.560e+00,\n",
              "        8.350e+02],\n",
              "       [1.317e+01, 2.590e+00, 2.370e+00, ..., 6.000e-01, 1.620e+00,\n",
              "        8.400e+02],\n",
              "       [1.413e+01, 4.100e+00, 2.740e+00, ..., 6.100e-01, 1.600e+00,\n",
              "        5.600e+02]])"
            ]
          },
          "metadata": {
            "tags": []
          },
          "execution_count": 4
        }
      ]
    },
    {
      "cell_type": "code",
      "metadata": {
        "id": "2GAuC-8GVid_",
        "colab_type": "code",
        "colab": {
          "base_uri": "https://localhost:8080/",
          "height": 179
        },
        "outputId": "2c68610d-db80-47fe-fb0b-5a5829711c4d"
      },
      "source": [
        "wine.target"
      ],
      "execution_count": 5,
      "outputs": [
        {
          "output_type": "execute_result",
          "data": {
            "text/plain": [
              "array([0, 0, 0, 0, 0, 0, 0, 0, 0, 0, 0, 0, 0, 0, 0, 0, 0, 0, 0, 0, 0, 0,\n",
              "       0, 0, 0, 0, 0, 0, 0, 0, 0, 0, 0, 0, 0, 0, 0, 0, 0, 0, 0, 0, 0, 0,\n",
              "       0, 0, 0, 0, 0, 0, 0, 0, 0, 0, 0, 0, 0, 0, 0, 1, 1, 1, 1, 1, 1, 1,\n",
              "       1, 1, 1, 1, 1, 1, 1, 1, 1, 1, 1, 1, 1, 1, 1, 1, 1, 1, 1, 1, 1, 1,\n",
              "       1, 1, 1, 1, 1, 1, 1, 1, 1, 1, 1, 1, 1, 1, 1, 1, 1, 1, 1, 1, 1, 1,\n",
              "       1, 1, 1, 1, 1, 1, 1, 1, 1, 1, 1, 1, 1, 1, 1, 1, 1, 1, 1, 1, 2, 2,\n",
              "       2, 2, 2, 2, 2, 2, 2, 2, 2, 2, 2, 2, 2, 2, 2, 2, 2, 2, 2, 2, 2, 2,\n",
              "       2, 2, 2, 2, 2, 2, 2, 2, 2, 2, 2, 2, 2, 2, 2, 2, 2, 2, 2, 2, 2, 2,\n",
              "       2, 2])"
            ]
          },
          "metadata": {
            "tags": []
          },
          "execution_count": 5
        }
      ]
    },
    {
      "cell_type": "code",
      "metadata": {
        "id": "2GG_SlkyVihH",
        "colab_type": "code",
        "colab": {
          "base_uri": "https://localhost:8080/",
          "height": 53
        },
        "outputId": "7bb77f01-f78d-4d10-a69a-74002fc1c179"
      },
      "source": [
        "# 建模决策树。\n",
        "from sklearn.model_selection import train_test_split\n",
        "\n",
        "xtrain,xtest,ytrain,ytest = train_test_split(wine.data, wine.target, test_size=0.3)\n",
        "\n",
        "clf = DecisionTreeClassifier(random_state=30)\n",
        "rfc = RandomForestClassifier(random_state=30)\n",
        "\n",
        "clf = clf.fit(xtrain,ytrain)\n",
        "rfc = rfc.fit(xtrain,ytrain)\n",
        "\n",
        "score_clf = clf.score(xtest,ytest)\n",
        "score_rfc = rfc.score(xtest,ytest)\n",
        "\n",
        "print('Single Tree: {}'.format(score_clf),\n",
        "      '\\nRandom Forest: {}'.format(score_rfc))\n"
      ],
      "execution_count": 10,
      "outputs": [
        {
          "output_type": "stream",
          "text": [
            "Single Tree: 0.9259259259259259 \n",
            "Random Forest: 0.9444444444444444\n"
          ],
          "name": "stdout"
        }
      ]
    },
    {
      "cell_type": "code",
      "metadata": {
        "id": "7wNWx9Y3VhTY",
        "colab_type": "code",
        "colab": {}
      },
      "source": [
        "# 从结果可以看出，效果显然要高一些。"
      ],
      "execution_count": null,
      "outputs": []
    },
    {
      "cell_type": "markdown",
      "metadata": {
        "id": "GHiyb_snTGg3",
        "colab_type": "text"
      },
      "source": [
        ""
      ]
    },
    {
      "cell_type": "markdown",
      "metadata": {
        "id": "eBXuNUpxTGjx",
        "colab_type": "text"
      },
      "source": [
        ""
      ]
    },
    {
      "cell_type": "markdown",
      "metadata": {
        "id": "ml5gz-_-TGmo",
        "colab_type": "text"
      },
      "source": [
        ""
      ]
    },
    {
      "cell_type": "markdown",
      "metadata": {
        "id": "zCqrOnFVTGsP",
        "colab_type": "text"
      },
      "source": [
        ""
      ]
    },
    {
      "cell_type": "markdown",
      "metadata": {
        "id": "AgoVrIYOTGvP",
        "colab_type": "text"
      },
      "source": [
        ""
      ]
    },
    {
      "cell_type": "markdown",
      "metadata": {
        "id": "f_80aYvPTGyY",
        "colab_type": "text"
      },
      "source": [
        ""
      ]
    },
    {
      "cell_type": "markdown",
      "metadata": {
        "id": "RN-As0UcTG1X",
        "colab_type": "text"
      },
      "source": [
        ""
      ]
    },
    {
      "cell_type": "code",
      "metadata": {
        "id": "TB3BFzHUTFzJ",
        "colab_type": "code",
        "colab": {}
      },
      "source": [
        ""
      ],
      "execution_count": null,
      "outputs": []
    },
    {
      "cell_type": "code",
      "metadata": {
        "id": "wfert1rNO6HC",
        "colab_type": "code",
        "colab": {}
      },
      "source": [
        ""
      ],
      "execution_count": null,
      "outputs": []
    }
  ]
}