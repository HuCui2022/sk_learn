{
  "nbformat": 4,
  "nbformat_minor": 0,
  "metadata": {
    "colab": {
      "name": "sk_learn002_RandomForest.ipynb",
      "provenance": [],
      "collapsed_sections": [],
      "toc_visible": true,
      "authorship_tag": "ABX9TyMohud7X6N/cpGKjgl07tI7",
      "include_colab_link": true
    },
    "kernelspec": {
      "name": "python3",
      "display_name": "Python 3"
    }
  },
  "cells": [
    {
      "cell_type": "markdown",
      "metadata": {
        "id": "view-in-github",
        "colab_type": "text"
      },
      "source": [
        "<a href=\"https://colab.research.google.com/github/smiledinisa/sk_learn/blob/master/sk_learn002_RandomForest.ipynb\" target=\"_parent\"><img src=\"https://colab.research.google.com/assets/colab-badge.svg\" alt=\"Open In Colab\"/></a>"
      ]
    },
    {
      "cell_type": "code",
      "metadata": {
        "id": "4G-Y7BtPN-7x",
        "colab_type": "code",
        "colab": {
          "base_uri": "https://localhost:8080/",
          "height": 127
        },
        "outputId": "25c33ff5-9012-4cf6-a7b3-83b7741e7e33"
      },
      "source": [
        "from google.colab import drive\n",
        "drive.mount('/content/drive')"
      ],
      "execution_count": 1,
      "outputs": [
        {
          "output_type": "stream",
          "text": [
            "Go to this URL in a browser: https://accounts.google.com/o/oauth2/auth?client_id=947318989803-6bn6qk8qdgf4n4g3pfee6491hc0brc4i.apps.googleusercontent.com&redirect_uri=urn%3aietf%3awg%3aoauth%3a2.0%3aoob&scope=email%20https%3a%2f%2fwww.googleapis.com%2fauth%2fdocs.test%20https%3a%2f%2fwww.googleapis.com%2fauth%2fdrive%20https%3a%2f%2fwww.googleapis.com%2fauth%2fdrive.photos.readonly%20https%3a%2f%2fwww.googleapis.com%2fauth%2fpeopleapi.readonly&response_type=code\n",
            "\n",
            "Enter your authorization code:\n",
            "··········\n",
            "Mounted at /content/drive\n"
          ],
          "name": "stdout"
        }
      ]
    },
    {
      "cell_type": "code",
      "metadata": {
        "id": "Wt87jkCcOdK6",
        "colab_type": "code",
        "colab": {
          "base_uri": "https://localhost:8080/",
          "height": 35
        },
        "outputId": "e30225a7-6fb2-4606-f408-fb526eca40c6"
      },
      "source": [
        "cd /content/drive/My Drive/RandomForest"
      ],
      "execution_count": 2,
      "outputs": [
        {
          "output_type": "stream",
          "text": [
            "/content/drive/My Drive/RandomForest\n"
          ],
          "name": "stdout"
        }
      ]
    },
    {
      "cell_type": "markdown",
      "metadata": {
        "id": "sNG0FfY1QIOM",
        "colab_type": "text"
      },
      "source": [
        "# 1 概述：\n",
        "\n",
        "#1.1 集成算法概述\n",
        "集成学习（ensemble learning）是时下非常流行的机器学习算法，它本身不是一个单独的机器学习算法，而是通\n",
        "过在数据上构建多个模型，集成所有模型的建模结果。基本上所有的机器学习领域都可以看到集成学习的身影，在\n",
        "现实中集成学习也有相当大的作用，它可以用来做市场营销模拟的建模，统计客户来源，保留和流失，也可用来预\n",
        "测疾病的风险和病患者的易感性。在现在的各种算法竞赛中，随机森林，梯度提升树（GBDT），Xgboost等集成\n",
        "算法的身影也随处可见，可见其效果之好，应用之广。"
      ]
    },
    {
      "cell_type": "markdown",
      "metadata": {
        "id": "1MVvndGMQIRR",
        "colab_type": "text"
      },
      "source": [
        "## 集成算法的目标\n",
        "集成算法会考虑多个评估器的建模结果，汇总之后得到一个综合的结果，以此来获取比单个模型更好的回归或\n",
        "分类表现。"
      ]
    },
    {
      "cell_type": "markdown",
      "metadata": {
        "id": "lPPK3El3QIUB",
        "colab_type": "text"
      },
      "source": [
        "多个模型集成成为的模型叫做集成评估器（ensemble estimator），组成集成评估器的每个模型都叫做基评估器\n",
        "（base estimator）。\n",
        "\n",
        "通常来说，有三类集成算法\n",
        "\n",
        "装袋法（Bagging）\n",
        "\n",
        "提升法（Boosting）\n",
        "\n",
        "和stacking。\n",
        "\n",
        "![链接文字](https://img-blog.csdnimg.cn/20200821214359206.png?x-oss-process=image/watermark,type_ZmFuZ3poZW5naGVpdGk,shadow_10,text_aHR0cHM6Ly9ibG9nLmNzZG4ubmV0L2dhb2N1aTg4Mw==,size_16,color_FFFFFF,t_70#pic_center)"
      ]
    },
    {
      "cell_type": "markdown",
      "metadata": {
        "id": "ntsEbfagQIW5",
        "colab_type": "text"
      },
      "source": [
        "##**装袋法**的核心思想是构建多个相互独立的评估器，然后对其预测进行平均或多数表决原则来决定集成评估器的结果。\n",
        "\n",
        "## 装袋法的代表模型就是随机森林。\n",
        "\n",
        "##**提升法**中，基评估器是相关的，是按顺序一一构建的。其核心思想是结合弱评估器的力量一次次对难以评估的样本进行预测，从而构成一个强评估器。提升法的代表模型有Adaboost和梯度提升树。"
      ]
    },
    {
      "cell_type": "markdown",
      "metadata": {
        "id": "mB2PWD1RQIZi",
        "colab_type": "text"
      },
      "source": [
        "# 1.2 skleran 中的继承算法\n",
        "\n",
        "\n",
        "## 集成算法模块： ensemble\n",
        "\n",
        "\n",
        "![链接文字](https://img-blog.csdnimg.cn/20200821214940222.png?x-oss-process=image/watermark,type_ZmFuZ3poZW5naGVpdGk,shadow_10,text_aHR0cHM6Ly9ibG9nLmNzZG4ubmV0L2dhb2N1aTg4Mw==,size_16,color_FFFFFF,t_70#pic_center)\n"
      ]
    },
    {
      "cell_type": "markdown",
      "metadata": {
        "id": "SUxIqXXUTGdf",
        "colab_type": "text"
      },
      "source": [
        "# 2. RandomForestClassifier \n",
        "\n",
        "RandomForestClassifier，随机森林分类\n",
        "器。\n",
        "\n",
        "class  sklearn.ensemble.RandomForestClassifier(   \n",
        "  n_estimators=’10’,  # 指定多少个评估器，然后用这些评估器来进行平均或者少数服从多数。   \n",
        "  **criterion**=’gini’,  # 不纯度的衡量指标。 ‘geni,entropy'      \n",
        "  **max_depth**=None,      \n",
        "  **min_samples_split**=2,   \n",
        "  **min_samples_leaf**=1,       \n",
        "  **min_weight_fraction_leaf**=0.0,   \n",
        "  **max_features**=’auto’,  #默认总特征数开平方取整。   \n",
        "  **max_leaf_nodes**=None,    \n",
        "  **min_impurity_decrease**=0.0,   \n",
        "  **min_impurity_split**=None,   \n",
        "  **bootstrap**=True,   \n",
        "  **oob_score**=False,  \n",
        "  **n_jobs**=None,   \n",
        "  **random_state**=None,   \n",
        "  **verbose**=0,   \n",
        "  **warm_start**=False,   \n",
        "  **class_weight**=None)     \n",
        "\n",
        "\n",
        "\n",
        "  大致于决策树一样的参数。"
      ]
    },
    {
      "cell_type": "code",
      "metadata": {
        "id": "PxOt0y9XVhPw",
        "colab_type": "code",
        "colab": {}
      },
      "source": [
        "# 随机数和随机森林进行比较。\n",
        "\n",
        "%matplotlib inline\n",
        "\n",
        "from sklearn.tree import DecisionTreeClassifier\n",
        "from sklearn.ensemble import RandomForestClassifier\n",
        "from sklearn.datasets import load_wine\n"
      ],
      "execution_count": null,
      "outputs": []
    },
    {
      "cell_type": "code",
      "metadata": {
        "id": "A_vv5Zj5VibA",
        "colab_type": "code",
        "colab": {
          "base_uri": "https://localhost:8080/",
          "height": 251
        },
        "outputId": "ae3f5107-a6fe-4c06-afa7-cc92933aa846"
      },
      "source": [
        "# 导入数据。\n",
        "wine = load_wine()\n",
        "wine.data"
      ],
      "execution_count": null,
      "outputs": [
        {
          "output_type": "execute_result",
          "data": {
            "text/plain": [
              "array([[1.423e+01, 1.710e+00, 2.430e+00, ..., 1.040e+00, 3.920e+00,\n",
              "        1.065e+03],\n",
              "       [1.320e+01, 1.780e+00, 2.140e+00, ..., 1.050e+00, 3.400e+00,\n",
              "        1.050e+03],\n",
              "       [1.316e+01, 2.360e+00, 2.670e+00, ..., 1.030e+00, 3.170e+00,\n",
              "        1.185e+03],\n",
              "       ...,\n",
              "       [1.327e+01, 4.280e+00, 2.260e+00, ..., 5.900e-01, 1.560e+00,\n",
              "        8.350e+02],\n",
              "       [1.317e+01, 2.590e+00, 2.370e+00, ..., 6.000e-01, 1.620e+00,\n",
              "        8.400e+02],\n",
              "       [1.413e+01, 4.100e+00, 2.740e+00, ..., 6.100e-01, 1.600e+00,\n",
              "        5.600e+02]])"
            ]
          },
          "metadata": {
            "tags": []
          },
          "execution_count": 4
        }
      ]
    },
    {
      "cell_type": "code",
      "metadata": {
        "id": "2GAuC-8GVid_",
        "colab_type": "code",
        "colab": {
          "base_uri": "https://localhost:8080/",
          "height": 179
        },
        "outputId": "174b2e0f-d088-43fb-9740-d389a67900f4"
      },
      "source": [
        "wine.target"
      ],
      "execution_count": null,
      "outputs": [
        {
          "output_type": "execute_result",
          "data": {
            "text/plain": [
              "array([0, 0, 0, 0, 0, 0, 0, 0, 0, 0, 0, 0, 0, 0, 0, 0, 0, 0, 0, 0, 0, 0,\n",
              "       0, 0, 0, 0, 0, 0, 0, 0, 0, 0, 0, 0, 0, 0, 0, 0, 0, 0, 0, 0, 0, 0,\n",
              "       0, 0, 0, 0, 0, 0, 0, 0, 0, 0, 0, 0, 0, 0, 0, 1, 1, 1, 1, 1, 1, 1,\n",
              "       1, 1, 1, 1, 1, 1, 1, 1, 1, 1, 1, 1, 1, 1, 1, 1, 1, 1, 1, 1, 1, 1,\n",
              "       1, 1, 1, 1, 1, 1, 1, 1, 1, 1, 1, 1, 1, 1, 1, 1, 1, 1, 1, 1, 1, 1,\n",
              "       1, 1, 1, 1, 1, 1, 1, 1, 1, 1, 1, 1, 1, 1, 1, 1, 1, 1, 1, 1, 2, 2,\n",
              "       2, 2, 2, 2, 2, 2, 2, 2, 2, 2, 2, 2, 2, 2, 2, 2, 2, 2, 2, 2, 2, 2,\n",
              "       2, 2, 2, 2, 2, 2, 2, 2, 2, 2, 2, 2, 2, 2, 2, 2, 2, 2, 2, 2, 2, 2,\n",
              "       2, 2])"
            ]
          },
          "metadata": {
            "tags": []
          },
          "execution_count": 5
        }
      ]
    },
    {
      "cell_type": "code",
      "metadata": {
        "id": "2GG_SlkyVihH",
        "colab_type": "code",
        "colab": {
          "base_uri": "https://localhost:8080/",
          "height": 53
        },
        "outputId": "4878df3d-7a09-4370-8658-289a366a6df9"
      },
      "source": [
        "# 建模决策树。\n",
        "from sklearn.model_selection import train_test_split\n",
        "\n",
        "xtrain,xtest,ytrain,ytest = train_test_split(wine.data, wine.target, test_size=0.3)\n",
        "\n",
        "clf = DecisionTreeClassifier(random_state=30)\n",
        "rfc = RandomForestClassifier(random_state=30)\n",
        "\n",
        "clf = clf.fit(xtrain,ytrain)\n",
        "rfc = rfc.fit(xtrain,ytrain)\n",
        "\n",
        "score_clf = clf.score(xtest,ytest)\n",
        "score_rfc = rfc.score(xtest,ytest)\n",
        "\n",
        "print('Single Tree: {}'.format(score_clf),\n",
        "      '\\nRandom Forest: {}'.format(score_rfc))\n"
      ],
      "execution_count": null,
      "outputs": [
        {
          "output_type": "stream",
          "text": [
            "Single Tree: 0.9074074074074074 \n",
            "Random Forest: 0.9814814814814815\n"
          ],
          "name": "stdout"
        }
      ]
    },
    {
      "cell_type": "code",
      "metadata": {
        "id": "7wNWx9Y3VhTY",
        "colab_type": "code",
        "colab": {
          "base_uri": "https://localhost:8080/",
          "height": 265
        },
        "outputId": "9013c176-9a2e-4b71-bf3b-91147da6e533"
      },
      "source": [
        "# 从结果可以看出，效果显然要高一些。\n",
        "\n",
        "# 画出随机森林和决策树在一组交叉验证下的效果对比。\n",
        "\n",
        "# 交叉验证，简单来说就检测模型的稳定性。\n",
        "\n",
        "# 注意，交叉验证验证的是没有训练过的模型，验证的中间就已经进行了训练。\n",
        "\n",
        "from sklearn.model_selection import cross_val_score\n",
        "import matplotlib.pyplot as plt\n",
        "\n",
        "rfc = RandomForestClassifier(n_estimators=25)\n",
        "rfc_s = cross_val_score(rfc, wine.data, wine.target, cv = 10)\n",
        "\n",
        "clf = DecisionTreeClassifier()\n",
        "clf_s = cross_val_score(clf, wine.data, wine.target, cv=10)\n",
        "\n",
        "plt.plot(range(1,11), rfc_s, label='RandomForest')\n",
        "plt.plot(range(1,11), clf_s, label='Decision Tree')\n",
        "plt.legend()\n",
        "plt.show()  # 从下图的结果可以看出，很显然，随机森林分类的模型更加稳定。"
      ],
      "execution_count": null,
      "outputs": [
        {
          "output_type": "display_data",
          "data": {
            "image/png": "[encoded data removed]",
            "text/plain": [
              "<Figure size 432x288 with 1 Axes>"
            ]
          },
          "metadata": {
            "tags": [],
            "needs_background": "light"
          }
        }
      ]
    },
    {
      "cell_type": "code",
      "metadata": {
        "id": "s5LumYE0L2Dj",
        "colab_type": "code",
        "colab": {
          "base_uri": "https://localhost:8080/",
          "height": 337
        },
        "outputId": "93f53715-7e7f-4287-e7df-c6e3b53ae08a"
      },
      "source": [
        "# 另一种写法。\n",
        "\n",
        "label = 'Random Forest'\n",
        "for model in [RandomForestClassifier(n_estimators=25), DecisionTreeClassifier()]:\n",
        "  score = cross_val_score(model, wine.data, wine.target, cv=10)\n",
        "  print('{}:'.format(label))\n",
        "  print(score.mean())\n",
        "  plt.plot(range(1,11), score, label=label)\n",
        "  plt.legend()\n",
        "  label = 'DecisionTree'\n"
      ],
      "execution_count": null,
      "outputs": [
        {
          "output_type": "stream",
          "text": [
            "Random Forest:\n",
            "0.9777777777777779\n",
            "DecisionTree:\n",
            "0.8761437908496731\n"
          ],
          "name": "stdout"
        },
        {
          "output_type": "display_data",
          "data": {
            "image/png": "[encoded data removed]",
            "text/plain": [
              "<Figure size 432x288 with 1 Axes>"
            ]
          },
          "metadata": {
            "tags": [],
            "needs_background": "light"
          }
        }
      ]
    },
    {
      "cell_type": "code",
      "metadata": {
        "id": "BG37Z72OL2GY",
        "colab_type": "code",
        "colab": {
          "base_uri": "https://localhost:8080/",
          "height": 265
        },
        "outputId": "cdaffe54-c4fc-45b0-914b-2cf752cff24b"
      },
      "source": [
        "# 以上的结果只是一组交叉验证。\n",
        "# 我们如果进行十组交叉验证，每次取平均值。画出相应的图像。\n",
        "\n",
        "rfc_l = []\n",
        "clf_l = []\n",
        "\n",
        "for i in range(10):\n",
        "  rfc = RandomForestClassifier(n_estimators=25)\n",
        "  rfc_s = cross_val_score(rfc, wine.data, wine.target, cv=10).mean()   #每次交叉验证的是个分数取平均。\n",
        "  rfc_l.append(rfc_s)\n",
        "\n",
        "  clf = DecisionTreeClassifier()\n",
        "  clf_s = cross_val_score(clf, wine.data, wine.target, cv=10).mean()\n",
        "  clf_l.append(clf_s)\n",
        "\n",
        "plt.plot(range(1,11), rfc_l, label='Random Forest')\n",
        "plt.plot(range(1,11), clf_l, label='Decision Tree')\n",
        "plt.legend()\n",
        "plt.show()  #从加过可以看出很明显的稳定性差距。"
      ],
      "execution_count": null,
      "outputs": [
        {
          "output_type": "display_data",
          "data": {
            "image/png": "[encoded data removed]",
            "text/plain": [
              "<Figure size 432x288 with 1 Axes>"
            ]
          },
          "metadata": {
            "tags": [],
            "needs_background": "light"
          }
        }
      ]
    },
    {
      "cell_type": "markdown",
      "metadata": {
        "id": "Ag7af0QkT8LI",
        "colab_type": "text"
      },
      "source": [
        "# n_estimators 参数。"
      ]
    },
    {
      "cell_type": "code",
      "metadata": {
        "id": "KkiDFvRzL2JY",
        "colab_type": "code",
        "colab": {
          "base_uri": "https://localhost:8080/",
          "height": 338
        },
        "outputId": "742e4672-74eb-403e-86c1-896f0709e711"
      },
      "source": [
        "# n_estimators 的学习曲线，从而找出最优的个数。\n",
        "\n",
        "superpa = []\n",
        "\n",
        "for i in range(200):\n",
        "  rfc = RandomForestClassifier(n_estimators= i+1, n_jobs=-1)  #?？？？n_jobs 参数什么意思？？？ 如果-1 的，按么随机森林将利用cpu所有的核来建树，每个核一个。并行。\n",
        "  rfc_s = cross_val_score(rfc, wine.data, wine.target, cv=10).mean()\n",
        "  superpa.append(rfc_s)\n",
        "  \n",
        "print(max(superpa), superpa.index(max(superpa)))\n",
        "\n",
        "plt.figure(figsize=[20,5])\n",
        "plt.plot(range(1,201), superpa)\n",
        "plt.show()"
      ],
      "execution_count": null,
      "outputs": [
        {
          "output_type": "stream",
          "text": [
            "0.9888888888888889 14\n"
          ],
          "name": "stdout"
        },
        {
          "output_type": "display_data",
          "data": {
            "image/png": "[encoded data removed]",
            "text/plain": [
              "<Figure size 1440x360 with 1 Axes>"
            ]
          },
          "metadata": {
            "tags": [],
            "needs_background": "light"
          }
        }
      ]
    },
    {
      "cell_type": "markdown",
      "metadata": {
        "id": "7dpWBqSQUCC_",
        "colab_type": "text"
      },
      "source": [
        "# random_state\n",
        "\n",
        "![链接文字](https://img-blog.csdnimg.cn/20200822163803448.png#pic_center)"
      ]
    },
    {
      "cell_type": "code",
      "metadata": {
        "id": "HWUvj6NqTW9b",
        "colab_type": "code",
        "colab": {
          "base_uri": "https://localhost:8080/",
          "height": 35
        },
        "outputId": "73e72aab-2fe1-4164-a90c-430c78236869"
      },
      "source": [
        "# 随机森林的本质是一种装袋集成算法（bagging），装袋集成算法是对基评估器的预测结果进行平均或用多数表决\n",
        "# 原则来决定集成评估器的结果。在刚才的红酒例子中，我们建立了25棵树，对任何一个样本而言，平均或多数表决\n",
        "# 原则下，当且仅当有13棵以上的树判断错误的时候，随机森林才会判断错误。单独一棵决策树对红酒数据集的分类\n",
        "# 准确率在0.85上下浮动，假设一棵树判断错误的可能性为0.2(ε)，那20棵树以上都判断错误的可能性是：\n",
        "\n",
        "import numpy as np\n",
        "from scipy.special import comb\n",
        "\n",
        "np.array([comb(25,i)*(0.2**i)*((1-0.2)**(25-i)) for i in range(13,26)]).sum()  #comb 数学C 25取i 个的组合。\n"
      ],
      "execution_count": null,
      "outputs": [
        {
          "output_type": "execute_result",
          "data": {
            "text/plain": [
              "0.00036904803455582827"
            ]
          },
          "metadata": {
            "tags": []
          },
          "execution_count": 16
        }
      ]
    },
    {
      "cell_type": "code",
      "metadata": {
        "id": "Uw-CfQuTTXHm",
        "colab_type": "code",
        "colab": {}
      },
      "source": [
        "# 从上结果可以看出，错误率为0.2， 总共25个estimator ，13个以上都判断错才算错，那么判断错误的概率就是0.000036xxxx\n",
        "\n",
        "\n",
        "# 可见，判断错误的几率非常小，这让随机森林在红酒数据集上的表现远远好于单棵决策树。\n",
        "# 那现在就有一个问题了：我们说袋装法服从多数表决原则或对基分类器结果求平均，这即是说，我们默认森林中的\n",
        "# 每棵树应该是不同的，并且会返回不同的结果。设想一下，如果随机森林里所有的树的判断结果都一致（全判断对\n",
        "# 或全判断错），那随机森林无论应用何种集成原则来求结果，都应该无法比单棵决策树取得更好的效果才对。但我\n",
        "# 们使用了一样的类DecisionTreeClassifier，一样的参数，一样的训练集和测试集，为什么随机森林里的众多树会有\n",
        "# 不同的判断结果？\n",
        "# 问到这个问题，很多小伙伴可能就会想到了：sklearn中的分类树DecisionTreeClassifier自带随机性，所以随机森\n",
        "# 林中的树天生就都是不一样的。我们在讲解分类树时曾提到，决策树从最重要的特征中随机选择出一个特征来进行\n",
        "# 分枝，因此每次生成的决策树都不一样，这个功能由参数random_state控制。\n",
        "# 随机森林中其实也有random_state，用法和分类树中相似，只不过在分类树中，一个random_state只控制生成一\n",
        "# 棵树，而随机森林中的random_state控制的是生成森林的模式，而非让一个森林中只有一棵树。"
      ],
      "execution_count": null,
      "outputs": []
    },
    {
      "cell_type": "code",
      "metadata": {
        "id": "M-sbqrnSTXMY",
        "colab_type": "code",
        "colab": {
          "base_uri": "https://localhost:8080/",
          "height": 35
        },
        "outputId": "d8367eba-4023-44c2-cedf-ab92319e09cf"
      },
      "source": [
        "# 决策树的random_state 是控制一棵树。\n",
        "# 随机森林的random_state 控制生成决策树的模式。\n",
        "\n",
        "rfc = RandomForestClassifier(n_estimators=20, random_state =2)\n",
        "rfc = rfc.fit(xtrain,ytrain)\n",
        "\n",
        "# 用随机森林的属性来查看森林的状态。\n",
        "rfc.estimators_[0].random_state"
      ],
      "execution_count": null,
      "outputs": [
        {
          "output_type": "execute_result",
          "data": {
            "text/plain": [
              "1872583848"
            ]
          },
          "metadata": {
            "tags": []
          },
          "execution_count": 19
        }
      ]
    },
    {
      "cell_type": "code",
      "metadata": {
        "id": "bZP9ch5YXS1A",
        "colab_type": "code",
        "colab": {
          "base_uri": "https://localhost:8080/",
          "height": 377
        },
        "outputId": "bba339f0-be23-4390-d27b-c9cffe241565"
      },
      "source": [
        "for i in range(len(rfc.estimators_)):\n",
        "  print(rfc.estimators_[i].random_state)"
      ],
      "execution_count": null,
      "outputs": [
        {
          "output_type": "stream",
          "text": [
            "1872583848\n",
            "794921487\n",
            "111352301\n",
            "1853453896\n",
            "213298710\n",
            "1922988331\n",
            "1869695442\n",
            "2081981515\n",
            "1805465960\n",
            "1376693511\n",
            "1418777250\n",
            "663257521\n",
            "878959199\n",
            "854108747\n",
            "512264917\n",
            "515183663\n",
            "1287007039\n",
            "2083814687\n",
            "1146014426\n",
            "570104212\n"
          ],
          "name": "stdout"
        }
      ]
    },
    {
      "cell_type": "code",
      "metadata": {
        "id": "jjKqslKpXS4V",
        "colab_type": "code",
        "colab": {}
      },
      "source": [
        "# 我们可以观察到，当random_state固定时，随机森林中生成是一组固定的树，但每棵树依然是不一致的，这是\n",
        "# 用”随机挑选特征进行分枝“的方法得到的随机性。并且我们可以证明，当这种随机性越大的时候，袋装法的效果一\n",
        "# 般会越来越好。用袋装法集成时，基分类器应当是相互独立的，是不相同的。\n",
        "# 但这种做法的局限性是很强的，当我们需要成千上万棵树的时候，数据不一定能够提供成千上万的特征来让我们构\n",
        "# 筑尽量多尽量不同的树。因此，除了random_state。我们还需要其他的随机性。"
      ],
      "execution_count": null,
      "outputs": []
    },
    {
      "cell_type": "markdown",
      "metadata": {
        "id": "tNE4Vh0bYh04",
        "colab_type": "text"
      },
      "source": [
        "# bootstrap & oob_score\n",
        "\n",
        "# bootstrap 控制抽样技术的参数，每次构造树的时候，使用不同的训练集来进行训练和构造。\n",
        "\n",
        "# 在一个含有n个样本的原始训练集中，我们进行随机采样，每次采样一个样本，并在抽取下一个样本之前将该样本\n",
        "#放回原始训练集，也就是说下次采样时这个样本依然可能被采集到，这样采集n次，最终得到一个和原始训练集一\n",
        "#样大的，n个样本组成的自助集。由于是随机采样，这样每次的自助集和原始数据集不同，和其他的采样集也是不\n",
        "#同的。这样我们就可以自由创造取之不尽用之不竭，并且互不相同的自助集，用这些自助集来训练我们的基分类\n",
        "#器，我们的基分类器自然也就各不相同了。\n",
        "\n",
        "# 这样在样本本身不变的情况下，通过允许重复样本出现的方法，达到了样本集的扩充，使得每次构造的基分类器不同，使得随机树性能提升。\n",
        "\n",
        "\n",
        "![链接文字](https://img-blog.csdnimg.cn/20200822170224253.png#pic_center)"
      ]
    },
    {
      "cell_type": "markdown",
      "metadata": {
        "id": "TA6mn5OraqrW",
        "colab_type": "text"
      },
      "source": [
        "#然而有放回抽样也会有自己的问题。由于是有放回，一些样本可能在同一个自助集中出现多次，而其他一些却可能\n",
        "#被忽略，一般来说，自助集大约平均会包含63%的原始数据。因为每一个样本被抽到某个自助集中的概率为：\n",
        "#当n足够大时，\n",
        "\n",
        "#这个概率收敛于**1-(1/e)，约等于0.632**。 \n",
        "\n",
        "# 因此，会有约37%的训练数据被浪费掉，没有参与建模，\n",
        "#这些数据被称为袋外数据(out of bag data，简写为oob)。除了我们最开始就划分好的测试集之外，这些数据也可\n",
        "#以被用来作为集成算法的测试集。也就是说，在使用随机森林时，我们可以不划分测试集和**训练集，只需要用袋外**\n",
        "#**数据来测试我们的模型即可**。当然，这也不是绝对的，当n和n_estimators都不够大的时候，很可能就没有数据掉\n",
        "#落在袋外，自然也就无法使用oob数据来测试模型了"
      ]
    },
    {
      "cell_type": "markdown",
      "metadata": {
        "id": "bRoP3abpbsEe",
        "colab_type": "text"
      },
      "source": [
        ""
      ]
    },
    {
      "cell_type": "markdown",
      "metadata": {
        "id": "Oh8zTS34bsHk",
        "colab_type": "text"
      },
      "source": [
        "# oob_score 这个参数 out of bag score 如果为True,表示用袋外模型来进行测试模型。\n",
        "\n",
        "#之后用 oob_score_ 属性来查看测试结果。"
      ]
    },
    {
      "cell_type": "code",
      "metadata": {
        "id": "aJGzL_bnXS7N",
        "colab_type": "code",
        "colab": {
          "base_uri": "https://localhost:8080/",
          "height": 35
        },
        "outputId": "e942e0d9-7695-4ffc-f7d7-32a71c7d28d0"
      },
      "source": [
        "rfc = RandomForestClassifier(n_estimators=25, oob_score=True)\n",
        "rfc = rfc.fit(wine.data, wine.target)\n",
        "\n",
        "\n",
        "rfc.oob_score_"
      ],
      "execution_count": null,
      "outputs": [
        {
          "output_type": "execute_result",
          "data": {
            "text/plain": [
              "0.9662921348314607"
            ]
          },
          "metadata": {
            "tags": []
          },
          "execution_count": 22
        }
      ]
    },
    {
      "cell_type": "code",
      "metadata": {
        "id": "pG3feVNpXTBV",
        "colab_type": "code",
        "colab": {}
      },
      "source": [
        ""
      ],
      "execution_count": null,
      "outputs": []
    },
    {
      "cell_type": "markdown",
      "metadata": {
        "id": "GHiyb_snTGg3",
        "colab_type": "text"
      },
      "source": [
        "# 2 重要的属性和接口。\n",
        "\n",
        "#传统的随机森林是利用袋装法中的规则，平均或少数服从多数来决定集成的结果，而sklearn中的随机森林是平均\n",
        "#每个样本对应的predict_proba返回的概率，得到一个平均概率，从而决定测试样本的分类"
      ]
    },
    {
      "cell_type": "code",
      "metadata": {
        "id": "a0MKCW05TWKo",
        "colab_type": "code",
        "colab": {
          "base_uri": "https://localhost:8080/",
          "height": 35
        },
        "outputId": "c90e59d9-f8b8-4960-9236-a1ab3b8a6268"
      },
      "source": [
        "rfc = RandomForestClassifier(n_estimators=25)\n",
        "rfc = rfc.fit(xtrain,ytrain)\n",
        "rfc.score(xtest,ytest)\n"
      ],
      "execution_count": null,
      "outputs": [
        {
          "output_type": "execute_result",
          "data": {
            "text/plain": [
              "0.9814814814814815"
            ]
          },
          "metadata": {
            "tags": []
          },
          "execution_count": 23
        }
      ]
    },
    {
      "cell_type": "code",
      "metadata": {
        "id": "85A0Q9bcdbtt",
        "colab_type": "code",
        "colab": {
          "base_uri": "https://localhost:8080/",
          "height": 71
        },
        "outputId": "25fb3801-73a6-4072-da9c-48de4e3ff773"
      },
      "source": [
        "rfc.feature_importances_ #各个属性的重要性。"
      ],
      "execution_count": null,
      "outputs": [
        {
          "output_type": "execute_result",
          "data": {
            "text/plain": [
              "array([0.15521064, 0.04048216, 0.00889554, 0.01669016, 0.01968047,\n",
              "       0.05701973, 0.15302827, 0.01511682, 0.02078997, 0.11655352,\n",
              "       0.05724482, 0.14214061, 0.19714728])"
            ]
          },
          "metadata": {
            "tags": []
          },
          "execution_count": 24
        }
      ]
    },
    {
      "cell_type": "code",
      "metadata": {
        "id": "Zcx7wgiGdjM1",
        "colab_type": "code",
        "colab": {
          "base_uri": "https://localhost:8080/",
          "height": 143
        },
        "outputId": "23cbcda1-b0a3-4f83-ca66-83586b69b9e5"
      },
      "source": [
        "rfc.apply(xtest) # 返回所在的索引。"
      ],
      "execution_count": null,
      "outputs": [
        {
          "output_type": "execute_result",
          "data": {
            "text/plain": [
              "array([[14,  3,  8, ...,  2,  5,  5],\n",
              "       [ 7,  6,  3, ...,  9,  4,  2],\n",
              "       [22,  9, 25, ..., 12,  8, 10],\n",
              "       ...,\n",
              "       [12,  1,  4, ..., 15,  1,  8],\n",
              "       [14,  3,  8, ...,  2,  5,  5],\n",
              "       [14,  3,  4, ...,  2,  5,  5]])"
            ]
          },
          "metadata": {
            "tags": []
          },
          "execution_count": 25
        }
      ]
    },
    {
      "cell_type": "code",
      "metadata": {
        "id": "HEsF-CSWdjQD",
        "colab_type": "code",
        "colab": {
          "base_uri": "https://localhost:8080/",
          "height": 71
        },
        "outputId": "7ee7b7f1-a3b3-4e1d-f19c-b7cc559204c4"
      },
      "source": [
        "rfc.predict(xtest) #返回预测标签。\n"
      ],
      "execution_count": null,
      "outputs": [
        {
          "output_type": "execute_result",
          "data": {
            "text/plain": [
              "array([1, 2, 0, 0, 2, 1, 2, 2, 0, 1, 1, 0, 2, 0, 0, 1, 0, 0, 2, 0, 0, 2,\n",
              "       2, 1, 1, 0, 2, 2, 2, 1, 1, 0, 1, 0, 2, 2, 0, 0, 0, 0, 2, 0, 2, 1,\n",
              "       1, 0, 1, 2, 1, 1, 1, 2, 1, 1])"
            ]
          },
          "metadata": {
            "tags": []
          },
          "execution_count": 27
        }
      ]
    },
    {
      "cell_type": "code",
      "metadata": {
        "id": "0kdDeFAndjTL",
        "colab_type": "code",
        "colab": {
          "base_uri": "https://localhost:8080/",
          "height": 989
        },
        "outputId": "2f8537dc-e8dd-4c0d-8bd5-3c463caef476"
      },
      "source": [
        "rfc.predict_proba(xtest) #返回各个标签的概率，全部返回。"
      ],
      "execution_count": null,
      "outputs": [
        {
          "output_type": "execute_result",
          "data": {
            "text/plain": [
              "array([[0.  , 0.96, 0.04],\n",
              "       [0.04, 0.16, 0.8 ],\n",
              "       [0.96, 0.04, 0.  ],\n",
              "       [1.  , 0.  , 0.  ],\n",
              "       [0.  , 0.08, 0.92],\n",
              "       [0.16, 0.8 , 0.04],\n",
              "       [0.  , 0.4 , 0.6 ],\n",
              "       [0.  , 0.  , 1.  ],\n",
              "       [0.92, 0.08, 0.  ],\n",
              "       [0.08, 0.92, 0.  ],\n",
              "       [0.04, 0.92, 0.04],\n",
              "       [0.64, 0.28, 0.08],\n",
              "       [0.  , 0.  , 1.  ],\n",
              "       [0.64, 0.32, 0.04],\n",
              "       [0.8 , 0.2 , 0.  ],\n",
              "       [0.08, 0.88, 0.04],\n",
              "       [0.96, 0.04, 0.  ],\n",
              "       [1.  , 0.  , 0.  ],\n",
              "       [0.  , 0.  , 1.  ],\n",
              "       [1.  , 0.  , 0.  ],\n",
              "       [0.84, 0.16, 0.  ],\n",
              "       [0.  , 0.04, 0.96],\n",
              "       [0.08, 0.24, 0.68],\n",
              "       [0.  , 0.56, 0.44],\n",
              "       [0.08, 0.92, 0.  ],\n",
              "       [0.96, 0.04, 0.  ],\n",
              "       [0.04, 0.16, 0.8 ],\n",
              "       [0.  , 0.12, 0.88],\n",
              "       [0.08, 0.16, 0.76],\n",
              "       [0.  , 1.  , 0.  ],\n",
              "       [0.  , 0.92, 0.08],\n",
              "       [0.96, 0.04, 0.  ],\n",
              "       [0.  , 1.  , 0.  ],\n",
              "       [1.  , 0.  , 0.  ],\n",
              "       [0.  , 0.  , 1.  ],\n",
              "       [0.  , 0.04, 0.96],\n",
              "       [1.  , 0.  , 0.  ],\n",
              "       [0.48, 0.48, 0.04],\n",
              "       [0.52, 0.44, 0.04],\n",
              "       [1.  , 0.  , 0.  ],\n",
              "       [0.  , 0.2 , 0.8 ],\n",
              "       [1.  , 0.  , 0.  ],\n",
              "       [0.04, 0.08, 0.88],\n",
              "       [0.04, 0.84, 0.12],\n",
              "       [0.08, 0.88, 0.04],\n",
              "       [1.  , 0.  , 0.  ],\n",
              "       [0.08, 0.88, 0.04],\n",
              "       [0.  , 0.16, 0.84],\n",
              "       [0.24, 0.68, 0.08],\n",
              "       [0.  , 0.72, 0.28],\n",
              "       [0.  , 1.  , 0.  ],\n",
              "       [0.  , 0.2 , 0.8 ],\n",
              "       [0.  , 1.  , 0.  ],\n",
              "       [0.04, 0.96, 0.  ]])"
            ]
          },
          "metadata": {
            "tags": []
          },
          "execution_count": 28
        }
      ]
    },
    {
      "cell_type": "markdown",
      "metadata": {
        "id": "0jX5K-eTeEq2",
        "colab_type": "text"
      },
      "source": [
        "#Bonus：Bagging的另一个必要条件"
      ]
    },
    {
      "cell_type": "markdown",
      "metadata": {
        "id": "cn0g3zzneEuM",
        "colab_type": "text"
      },
      "source": [
        "# 要求基分类器的准确率必须达到50以上。这也是一个必要条件。\n",
        "\n"
      ]
    },
    {
      "cell_type": "code",
      "metadata": {
        "id": "FH71uNh7djkq",
        "colab_type": "code",
        "colab": {
          "base_uri": "https://localhost:8080/",
          "height": 279
        },
        "outputId": "c78207dc-9db2-4d5a-bf45-d9229d334b81"
      },
      "source": [
        "import numpy as np\n",
        "from scipy.special import comb\n",
        "\n",
        "# 计算25个随机数的森林，各个错误率，综合后的随机森林错误率。\n",
        "\n",
        "x = np.linspace(0,1,20)\n",
        "y = []\n",
        "\n",
        "for epsilon in np.linspace(0,1,20):\n",
        "  e = np.array([comb(25,i)*(epsilon**i)*((1-epsilon)**(25-i)) for i in range(13,26)]).sum()\n",
        "  y.append(e)\n",
        "  \n",
        "plt.plot(x,y,'o-', label='when estimators are diffrent')\n",
        "plt.plot(x,x,'--', color='red', label='if all estimators are same')\n",
        "plt.xlabel(\"individual estimator's error\")\n",
        "plt.ylabel('RandomForest error')\n",
        "plt.legend()\n",
        "plt.show()"
      ],
      "execution_count": null,
      "outputs": [
        {
          "output_type": "display_data",
          "data": {
            "image/png": "[encoded data removed]",
            "text/plain": [
              "<Figure size 432x288 with 1 Axes>"
            ]
          },
          "metadata": {
            "tags": [],
            "needs_background": "light"
          }
        }
      ]
    },
    {
      "cell_type": "markdown",
      "metadata": {
        "id": "eBXuNUpxTGjx",
        "colab_type": "text"
      },
      "source": [
        "# 从上图可以看出，只有当基分类器的误差小于50%时候，随机森林才会有效的降低误差提高准确率，否则随机森林失去意义。\n",
        "\n",
        "\n",
        "# 所以在使用随机森连前，必须保证基分类器可以达到50%以上的准确率。"
      ]
    },
    {
      "cell_type": "markdown",
      "metadata": {
        "id": "ml5gz-_-TGmo",
        "colab_type": "text"
      },
      "source": [
        "# 3.RandomForestRegressor 随机回归森林"
      ]
    },
    {
      "cell_type": "markdown",
      "metadata": {
        "id": "zCqrOnFVTGsP",
        "colab_type": "text"
      },
      "source": [
        "class  sklearn.ensemble.RandomForestRegressor (\n",
        "\n",
        "  \n",
        "  n_estimators=’warn’, \n",
        "\n",
        "  criterion=’mse’, \n",
        "\n",
        "  max_depth=None,\n",
        "\n",
        "min_samples_split=2,\n",
        "\n",
        " min_samples_leaf=1, \n",
        "\n",
        " min_weight_fraction_leaf=0.0, \n",
        "\n",
        " max_features=’auto’,\n",
        "\n",
        "max_leaf_nodes=None,\n",
        "\n",
        " min_impurity_decrease=0.0,\n",
        " \n",
        "  min_impurity_split=None,\n",
        "  \n",
        "   bootstrap=True, \n",
        "   \n",
        "   oob_score=False,\n",
        "\n",
        "\n",
        "n_jobs=None, \n",
        "\n",
        "random_state=None, \n",
        "\n",
        "verbose=0, \n",
        "\n",
        "warm_start=False)\n",
        "\n",
        "\n",
        "所有的参数，属性与接口，全部和随机森林分类器一致。仅有的不同就是回归树与分类树的不同，不纯度的指标，\n",
        "参数Criterion不一致"
      ]
    },
    {
      "cell_type": "markdown",
      "metadata": {
        "id": "AgoVrIYOTGvP",
        "colab_type": "text"
      },
      "source": [
        ""
      ]
    },
    {
      "cell_type": "code",
      "metadata": {
        "id": "TB3BFzHUTFzJ",
        "colab_type": "code",
        "colab": {
          "base_uri": "https://localhost:8080/",
          "height": 881
        },
        "outputId": "d77b9cd4-0d89-483b-e6e0-615fd506752e"
      },
      "source": [
        "from sklearn.datasets import load_boston\n",
        "import sklearn\n",
        "from sklearn.model_selection import cross_val_score\n",
        "from sklearn.ensemble import RandomForestRegressor\n",
        "boston = load_boston()\n",
        "regressor = RandomForestRegressor(n_estimators=100,random_state=0)\n",
        "cross_val_score(regressor, boston.data, boston.target, cv=10, scoring = \"neg_mean_squared_error\")\n",
        "sorted(sklearn.metrics.SCORERS.keys()) #打印scoring可以取的关键字。"
      ],
      "execution_count": null,
      "outputs": [
        {
          "output_type": "execute_result",
          "data": {
            "text/plain": [
              "['accuracy',\n",
              " 'adjusted_mutual_info_score',\n",
              " 'adjusted_rand_score',\n",
              " 'average_precision',\n",
              " 'balanced_accuracy',\n",
              " 'completeness_score',\n",
              " 'explained_variance',\n",
              " 'f1',\n",
              " 'f1_macro',\n",
              " 'f1_micro',\n",
              " 'f1_samples',\n",
              " 'f1_weighted',\n",
              " 'fowlkes_mallows_score',\n",
              " 'homogeneity_score',\n",
              " 'jaccard',\n",
              " 'jaccard_macro',\n",
              " 'jaccard_micro',\n",
              " 'jaccard_samples',\n",
              " 'jaccard_weighted',\n",
              " 'max_error',\n",
              " 'mutual_info_score',\n",
              " 'neg_brier_score',\n",
              " 'neg_log_loss',\n",
              " 'neg_mean_absolute_error',\n",
              " 'neg_mean_gamma_deviance',\n",
              " 'neg_mean_poisson_deviance',\n",
              " 'neg_mean_squared_error',\n",
              " 'neg_mean_squared_log_error',\n",
              " 'neg_median_absolute_error',\n",
              " 'neg_root_mean_squared_error',\n",
              " 'normalized_mutual_info_score',\n",
              " 'precision',\n",
              " 'precision_macro',\n",
              " 'precision_micro',\n",
              " 'precision_samples',\n",
              " 'precision_weighted',\n",
              " 'r2',\n",
              " 'recall',\n",
              " 'recall_macro',\n",
              " 'recall_micro',\n",
              " 'recall_samples',\n",
              " 'recall_weighted',\n",
              " 'roc_auc',\n",
              " 'roc_auc_ovo',\n",
              " 'roc_auc_ovo_weighted',\n",
              " 'roc_auc_ovr',\n",
              " 'roc_auc_ovr_weighted',\n",
              " 'v_measure_score']"
            ]
          },
          "metadata": {
            "tags": []
          },
          "execution_count": 33
        }
      ]
    },
    {
      "cell_type": "markdown",
      "metadata": {
        "id": "f_80aYvPTGyY",
        "colab_type": "text"
      },
      "source": [
        "#3.2 实例：用随机森林回归填补缺失值"
      ]
    },
    {
      "cell_type": "markdown",
      "metadata": {
        "id": "RN-As0UcTG1X",
        "colab_type": "text"
      },
      "source": [
        "### **在sklearn中，我们可以使用sklearn.impute.SimpleImputer来轻松地将均值，中值，或者其他最常用的数值填补到数据中，在这个案例中，我们将使用均值，0，和随机森林回归来填补缺失值，并验证四种状况下的拟合状况，找出对使用的数据集来说最佳的缺失值填补方法。**"
      ]
    },
    {
      "cell_type": "code",
      "metadata": {
        "id": "wfert1rNO6HC",
        "colab_type": "code",
        "colab": {}
      },
      "source": [
        "import numpy as np\n",
        "import pandas as pd\n",
        "import matplotlib.pyplot as plt\n",
        "\n",
        "from sklearn.datasets import load_boston\n",
        "from sklearn.impute import SimpleImputer # 填充。 impute 归罪于。\n",
        "from sklearn.ensemble import RandomForestRegressor\n",
        "\n",
        "from sklearn.model_selection import cross_val_score\n",
        "\n"
      ],
      "execution_count": 3,
      "outputs": []
    },
    {
      "cell_type": "code",
      "metadata": {
        "id": "QEibwgSj701F",
        "colab_type": "code",
        "colab": {
          "base_uri": "https://localhost:8080/",
          "height": 35
        },
        "outputId": "abfcb89a-24a4-4bcf-8811-cd4e1a6fc5cc"
      },
      "source": [
        "# 以波士顿数据为例，导入完整的数据集并进行探索。\n",
        "dataset = load_boston()\n",
        "dataset.data.shape"
      ],
      "execution_count": 4,
      "outputs": [
        {
          "output_type": "execute_result",
          "data": {
            "text/plain": [
              "(506, 13)"
            ]
          },
          "metadata": {
            "tags": []
          },
          "execution_count": 4
        }
      ]
    },
    {
      "cell_type": "code",
      "metadata": {
        "id": "qRnlGiXe8ATX",
        "colab_type": "code",
        "colab": {}
      },
      "source": [
        "x_full, y_full = dataset.data, dataset.target\n",
        "n_samples = x_full.shape[0]\n",
        "n_features = x_full.shape[1]\n",
        "# 样本数和特征数。"
      ],
      "execution_count": 6,
      "outputs": []
    },
    {
      "cell_type": "code",
      "metadata": {
        "id": "YFx6chq98VVp",
        "colab_type": "code",
        "colab": {
          "base_uri": "https://localhost:8080/",
          "height": 35
        },
        "outputId": "d05869ce-2f83-4783-e2f4-c720c2ae3d67"
      },
      "source": [
        "n_samples"
      ],
      "execution_count": 7,
      "outputs": [
        {
          "output_type": "execute_result",
          "data": {
            "text/plain": [
              "506"
            ]
          },
          "metadata": {
            "tags": []
          },
          "execution_count": 7
        }
      ]
    },
    {
      "cell_type": "code",
      "metadata": {
        "id": "-nbW0cvZ8dL-",
        "colab_type": "code",
        "colab": {}
      },
      "source": [
        "# 为完整的数据放入缺失值。\n",
        "#首先确定我们希望放入的缺失数据的比例，在这里我们假设是50%，那总共就要有3289个数据缺失\n",
        "# 我们以百分之50的概率来进行na值填充。\n",
        "rng = np.random.RandomState(0)\n",
        "missing_rate = 0.5\n",
        "n_missing_samples = int(np.floor(n_samples*n_features*missing_rate)) # 抽样的个数。"
      ],
      "execution_count": 8,
      "outputs": []
    },
    {
      "cell_type": "code",
      "metadata": {
        "id": "vl4Cx5m2-qTE",
        "colab_type": "code",
        "colab": {
          "base_uri": "https://localhost:8080/",
          "height": 419
        },
        "outputId": "25cf4d72-6dcb-4866-c80e-8c53d4f84e55"
      },
      "source": [
        "missing_features = rng.randint(0, n_features, n_missing_samples)\n",
        "missing_samples = rng.randint(0, n_samples, n_missing_samples)\n",
        "# 横坐标和纵坐标相应对应起来就组成了n_missing_samples 个点。当然，这些点可能是重复的。\n",
        "# 如果抽样的个数远远小于行数或者列数，可以使用\n",
        "\n",
        "# missing_features = rng.choice(dataset.data.shpa[1], n_mising_samples, replace = False)\n",
        "# 这样可以不重复抽样。\n",
        "\n",
        "x_missing = x_full.copy()\n",
        "y_missing = y_full.copy()\n",
        "\n",
        "x_missing[missing_samples, missing_features] = np.nan\n",
        "\n",
        "x_missing = pd.DataFrame(x_missing)\n",
        "x_missing #需要用索引操作的时候用pandas，需要用矩阵操作的时候用np"
      ],
      "execution_count": 9,
      "outputs": [
        {
          "output_type": "execute_result",
          "data": {
            "text/html": [
              "<div>\n",
              "<style scoped>\n",
              "    .dataframe tbody tr th:only-of-type {\n",
              "        vertical-align: middle;\n",
              "    }\n",
              "\n",
              "    .dataframe tbody tr th {\n",
              "        vertical-align: top;\n",
              "    }\n",
              "\n",
              "    .dataframe thead th {\n",
              "        text-align: right;\n",
              "    }\n",
              "</style>\n",
              "<table border=\"1\" class=\"dataframe\">\n",
              "  <thead>\n",
              "    <tr style=\"text-align: right;\">\n",
              "      <th></th>\n",
              "      <th>0</th>\n",
              "      <th>1</th>\n",
              "      <th>2</th>\n",
              "      <th>3</th>\n",
              "      <th>4</th>\n",
              "      <th>5</th>\n",
              "      <th>6</th>\n",
              "      <th>7</th>\n",
              "      <th>8</th>\n",
              "      <th>9</th>\n",
              "      <th>10</th>\n",
              "      <th>11</th>\n",
              "      <th>12</th>\n",
              "    </tr>\n",
              "  </thead>\n",
              "  <tbody>\n",
              "    <tr>\n",
              "      <th>0</th>\n",
              "      <td>NaN</td>\n",
              "      <td>18.0</td>\n",
              "      <td>NaN</td>\n",
              "      <td>NaN</td>\n",
              "      <td>0.538</td>\n",
              "      <td>NaN</td>\n",
              "      <td>65.2</td>\n",
              "      <td>4.0900</td>\n",
              "      <td>1.0</td>\n",
              "      <td>296.0</td>\n",
              "      <td>NaN</td>\n",
              "      <td>NaN</td>\n",
              "      <td>4.98</td>\n",
              "    </tr>\n",
              "    <tr>\n",
              "      <th>1</th>\n",
              "      <td>0.02731</td>\n",
              "      <td>0.0</td>\n",
              "      <td>NaN</td>\n",
              "      <td>0.0</td>\n",
              "      <td>0.469</td>\n",
              "      <td>NaN</td>\n",
              "      <td>78.9</td>\n",
              "      <td>4.9671</td>\n",
              "      <td>2.0</td>\n",
              "      <td>NaN</td>\n",
              "      <td>NaN</td>\n",
              "      <td>396.90</td>\n",
              "      <td>9.14</td>\n",
              "    </tr>\n",
              "    <tr>\n",
              "      <th>2</th>\n",
              "      <td>0.02729</td>\n",
              "      <td>NaN</td>\n",
              "      <td>7.07</td>\n",
              "      <td>0.0</td>\n",
              "      <td>NaN</td>\n",
              "      <td>7.185</td>\n",
              "      <td>61.1</td>\n",
              "      <td>NaN</td>\n",
              "      <td>2.0</td>\n",
              "      <td>242.0</td>\n",
              "      <td>NaN</td>\n",
              "      <td>NaN</td>\n",
              "      <td>NaN</td>\n",
              "    </tr>\n",
              "    <tr>\n",
              "      <th>3</th>\n",
              "      <td>NaN</td>\n",
              "      <td>NaN</td>\n",
              "      <td>NaN</td>\n",
              "      <td>0.0</td>\n",
              "      <td>0.458</td>\n",
              "      <td>NaN</td>\n",
              "      <td>45.8</td>\n",
              "      <td>NaN</td>\n",
              "      <td>NaN</td>\n",
              "      <td>222.0</td>\n",
              "      <td>18.7</td>\n",
              "      <td>NaN</td>\n",
              "      <td>NaN</td>\n",
              "    </tr>\n",
              "    <tr>\n",
              "      <th>4</th>\n",
              "      <td>NaN</td>\n",
              "      <td>0.0</td>\n",
              "      <td>2.18</td>\n",
              "      <td>0.0</td>\n",
              "      <td>NaN</td>\n",
              "      <td>7.147</td>\n",
              "      <td>NaN</td>\n",
              "      <td>NaN</td>\n",
              "      <td>NaN</td>\n",
              "      <td>NaN</td>\n",
              "      <td>18.7</td>\n",
              "      <td>NaN</td>\n",
              "      <td>5.33</td>\n",
              "    </tr>\n",
              "    <tr>\n",
              "      <th>...</th>\n",
              "      <td>...</td>\n",
              "      <td>...</td>\n",
              "      <td>...</td>\n",
              "      <td>...</td>\n",
              "      <td>...</td>\n",
              "      <td>...</td>\n",
              "      <td>...</td>\n",
              "      <td>...</td>\n",
              "      <td>...</td>\n",
              "      <td>...</td>\n",
              "      <td>...</td>\n",
              "      <td>...</td>\n",
              "      <td>...</td>\n",
              "    </tr>\n",
              "    <tr>\n",
              "      <th>501</th>\n",
              "      <td>NaN</td>\n",
              "      <td>NaN</td>\n",
              "      <td>NaN</td>\n",
              "      <td>0.0</td>\n",
              "      <td>0.573</td>\n",
              "      <td>NaN</td>\n",
              "      <td>69.1</td>\n",
              "      <td>NaN</td>\n",
              "      <td>1.0</td>\n",
              "      <td>NaN</td>\n",
              "      <td>21.0</td>\n",
              "      <td>NaN</td>\n",
              "      <td>9.67</td>\n",
              "    </tr>\n",
              "    <tr>\n",
              "      <th>502</th>\n",
              "      <td>0.04527</td>\n",
              "      <td>0.0</td>\n",
              "      <td>11.93</td>\n",
              "      <td>0.0</td>\n",
              "      <td>0.573</td>\n",
              "      <td>6.120</td>\n",
              "      <td>76.7</td>\n",
              "      <td>2.2875</td>\n",
              "      <td>1.0</td>\n",
              "      <td>273.0</td>\n",
              "      <td>NaN</td>\n",
              "      <td>396.90</td>\n",
              "      <td>9.08</td>\n",
              "    </tr>\n",
              "    <tr>\n",
              "      <th>503</th>\n",
              "      <td>NaN</td>\n",
              "      <td>NaN</td>\n",
              "      <td>11.93</td>\n",
              "      <td>NaN</td>\n",
              "      <td>0.573</td>\n",
              "      <td>6.976</td>\n",
              "      <td>91.0</td>\n",
              "      <td>NaN</td>\n",
              "      <td>NaN</td>\n",
              "      <td>NaN</td>\n",
              "      <td>21.0</td>\n",
              "      <td>NaN</td>\n",
              "      <td>5.64</td>\n",
              "    </tr>\n",
              "    <tr>\n",
              "      <th>504</th>\n",
              "      <td>0.10959</td>\n",
              "      <td>0.0</td>\n",
              "      <td>11.93</td>\n",
              "      <td>NaN</td>\n",
              "      <td>0.573</td>\n",
              "      <td>NaN</td>\n",
              "      <td>89.3</td>\n",
              "      <td>NaN</td>\n",
              "      <td>1.0</td>\n",
              "      <td>NaN</td>\n",
              "      <td>21.0</td>\n",
              "      <td>393.45</td>\n",
              "      <td>6.48</td>\n",
              "    </tr>\n",
              "    <tr>\n",
              "      <th>505</th>\n",
              "      <td>0.04741</td>\n",
              "      <td>0.0</td>\n",
              "      <td>11.93</td>\n",
              "      <td>0.0</td>\n",
              "      <td>0.573</td>\n",
              "      <td>6.030</td>\n",
              "      <td>NaN</td>\n",
              "      <td>NaN</td>\n",
              "      <td>1.0</td>\n",
              "      <td>NaN</td>\n",
              "      <td>NaN</td>\n",
              "      <td>396.90</td>\n",
              "      <td>7.88</td>\n",
              "    </tr>\n",
              "  </tbody>\n",
              "</table>\n",
              "<p>506 rows × 13 columns</p>\n",
              "</div>"
            ],
            "text/plain": [
              "          0     1      2    3      4   ...   8      9     10      11    12\n",
              "0        NaN  18.0    NaN  NaN  0.538  ...  1.0  296.0   NaN     NaN  4.98\n",
              "1    0.02731   0.0    NaN  0.0  0.469  ...  2.0    NaN   NaN  396.90  9.14\n",
              "2    0.02729   NaN   7.07  0.0    NaN  ...  2.0  242.0   NaN     NaN   NaN\n",
              "3        NaN   NaN    NaN  0.0  0.458  ...  NaN  222.0  18.7     NaN   NaN\n",
              "4        NaN   0.0   2.18  0.0    NaN  ...  NaN    NaN  18.7     NaN  5.33\n",
              "..       ...   ...    ...  ...    ...  ...  ...    ...   ...     ...   ...\n",
              "501      NaN   NaN    NaN  0.0  0.573  ...  1.0    NaN  21.0     NaN  9.67\n",
              "502  0.04527   0.0  11.93  0.0  0.573  ...  1.0  273.0   NaN  396.90  9.08\n",
              "503      NaN   NaN  11.93  NaN  0.573  ...  NaN    NaN  21.0     NaN  5.64\n",
              "504  0.10959   0.0  11.93  NaN  0.573  ...  1.0    NaN  21.0  393.45  6.48\n",
              "505  0.04741   0.0  11.93  0.0  0.573  ...  1.0    NaN   NaN  396.90  7.88\n",
              "\n",
              "[506 rows x 13 columns]"
            ]
          },
          "metadata": {
            "tags": []
          },
          "execution_count": 9
        }
      ]
    },
    {
      "cell_type": "code",
      "metadata": {
        "id": "hZ9S8a85_8FG",
        "colab_type": "code",
        "colab": {}
      },
      "source": [
        "# 使用0和均值填补空缺值。"
      ],
      "execution_count": 10,
      "outputs": []
    },
    {
      "cell_type": "code",
      "metadata": {
        "id": "EtoF6YF8AI_j",
        "colab_type": "code",
        "colab": {
          "base_uri": "https://localhost:8080/",
          "height": 251
        },
        "outputId": "81038af6-b65d-491a-f6c4-602beeace382"
      },
      "source": [
        "# 问题，这里使用pandas 函数进行填补操作是否也可以？？/\n",
        "# 使用均值进行填补。\n",
        "from sklearn.impute import SimpleImputer\n",
        "imp_mean = SimpleImputer(missing_values=np.nan, strategy='mean')\n",
        "x_missing_mean = imp_mean.fit_transform(x_missing)\n",
        "x_missing_mean"
      ],
      "execution_count": 12,
      "outputs": [
        {
          "output_type": "execute_result",
          "data": {
            "text/plain": [
              "array([[3.62757895e+00, 1.80000000e+01, 1.11634641e+01, ...,\n",
              "        1.85211921e+01, 3.52741952e+02, 4.98000000e+00],\n",
              "       [2.73100000e-02, 0.00000000e+00, 1.11634641e+01, ...,\n",
              "        1.85211921e+01, 3.96900000e+02, 9.14000000e+00],\n",
              "       [2.72900000e-02, 1.07229508e+01, 7.07000000e+00, ...,\n",
              "        1.85211921e+01, 3.52741952e+02, 1.29917666e+01],\n",
              "       ...,\n",
              "       [3.62757895e+00, 1.07229508e+01, 1.19300000e+01, ...,\n",
              "        2.10000000e+01, 3.52741952e+02, 5.64000000e+00],\n",
              "       [1.09590000e-01, 0.00000000e+00, 1.19300000e+01, ...,\n",
              "        2.10000000e+01, 3.93450000e+02, 6.48000000e+00],\n",
              "       [4.74100000e-02, 0.00000000e+00, 1.19300000e+01, ...,\n",
              "        1.85211921e+01, 3.96900000e+02, 7.88000000e+00]])"
            ]
          },
          "metadata": {
            "tags": []
          },
          "execution_count": 12
        }
      ]
    },
    {
      "cell_type": "code",
      "metadata": {
        "id": "o3bSIHIHBHtL",
        "colab_type": "code",
        "colab": {
          "base_uri": "https://localhost:8080/",
          "height": 419
        },
        "outputId": "7d1993ed-0ae2-4353-949c-1b72ff271878"
      },
      "source": [
        "x_missing"
      ],
      "execution_count": 13,
      "outputs": [
        {
          "output_type": "execute_result",
          "data": {
            "text/html": [
              "<div>\n",
              "<style scoped>\n",
              "    .dataframe tbody tr th:only-of-type {\n",
              "        vertical-align: middle;\n",
              "    }\n",
              "\n",
              "    .dataframe tbody tr th {\n",
              "        vertical-align: top;\n",
              "    }\n",
              "\n",
              "    .dataframe thead th {\n",
              "        text-align: right;\n",
              "    }\n",
              "</style>\n",
              "<table border=\"1\" class=\"dataframe\">\n",
              "  <thead>\n",
              "    <tr style=\"text-align: right;\">\n",
              "      <th></th>\n",
              "      <th>0</th>\n",
              "      <th>1</th>\n",
              "      <th>2</th>\n",
              "      <th>3</th>\n",
              "      <th>4</th>\n",
              "      <th>5</th>\n",
              "      <th>6</th>\n",
              "      <th>7</th>\n",
              "      <th>8</th>\n",
              "      <th>9</th>\n",
              "      <th>10</th>\n",
              "      <th>11</th>\n",
              "      <th>12</th>\n",
              "    </tr>\n",
              "  </thead>\n",
              "  <tbody>\n",
              "    <tr>\n",
              "      <th>0</th>\n",
              "      <td>NaN</td>\n",
              "      <td>18.0</td>\n",
              "      <td>NaN</td>\n",
              "      <td>NaN</td>\n",
              "      <td>0.538</td>\n",
              "      <td>NaN</td>\n",
              "      <td>65.2</td>\n",
              "      <td>4.0900</td>\n",
              "      <td>1.0</td>\n",
              "      <td>296.0</td>\n",
              "      <td>NaN</td>\n",
              "      <td>NaN</td>\n",
              "      <td>4.98</td>\n",
              "    </tr>\n",
              "    <tr>\n",
              "      <th>1</th>\n",
              "      <td>0.02731</td>\n",
              "      <td>0.0</td>\n",
              "      <td>NaN</td>\n",
              "      <td>0.0</td>\n",
              "      <td>0.469</td>\n",
              "      <td>NaN</td>\n",
              "      <td>78.9</td>\n",
              "      <td>4.9671</td>\n",
              "      <td>2.0</td>\n",
              "      <td>NaN</td>\n",
              "      <td>NaN</td>\n",
              "      <td>396.90</td>\n",
              "      <td>9.14</td>\n",
              "    </tr>\n",
              "    <tr>\n",
              "      <th>2</th>\n",
              "      <td>0.02729</td>\n",
              "      <td>NaN</td>\n",
              "      <td>7.07</td>\n",
              "      <td>0.0</td>\n",
              "      <td>NaN</td>\n",
              "      <td>7.185</td>\n",
              "      <td>61.1</td>\n",
              "      <td>NaN</td>\n",
              "      <td>2.0</td>\n",
              "      <td>242.0</td>\n",
              "      <td>NaN</td>\n",
              "      <td>NaN</td>\n",
              "      <td>NaN</td>\n",
              "    </tr>\n",
              "    <tr>\n",
              "      <th>3</th>\n",
              "      <td>NaN</td>\n",
              "      <td>NaN</td>\n",
              "      <td>NaN</td>\n",
              "      <td>0.0</td>\n",
              "      <td>0.458</td>\n",
              "      <td>NaN</td>\n",
              "      <td>45.8</td>\n",
              "      <td>NaN</td>\n",
              "      <td>NaN</td>\n",
              "      <td>222.0</td>\n",
              "      <td>18.7</td>\n",
              "      <td>NaN</td>\n",
              "      <td>NaN</td>\n",
              "    </tr>\n",
              "    <tr>\n",
              "      <th>4</th>\n",
              "      <td>NaN</td>\n",
              "      <td>0.0</td>\n",
              "      <td>2.18</td>\n",
              "      <td>0.0</td>\n",
              "      <td>NaN</td>\n",
              "      <td>7.147</td>\n",
              "      <td>NaN</td>\n",
              "      <td>NaN</td>\n",
              "      <td>NaN</td>\n",
              "      <td>NaN</td>\n",
              "      <td>18.7</td>\n",
              "      <td>NaN</td>\n",
              "      <td>5.33</td>\n",
              "    </tr>\n",
              "    <tr>\n",
              "      <th>...</th>\n",
              "      <td>...</td>\n",
              "      <td>...</td>\n",
              "      <td>...</td>\n",
              "      <td>...</td>\n",
              "      <td>...</td>\n",
              "      <td>...</td>\n",
              "      <td>...</td>\n",
              "      <td>...</td>\n",
              "      <td>...</td>\n",
              "      <td>...</td>\n",
              "      <td>...</td>\n",
              "      <td>...</td>\n",
              "      <td>...</td>\n",
              "    </tr>\n",
              "    <tr>\n",
              "      <th>501</th>\n",
              "      <td>NaN</td>\n",
              "      <td>NaN</td>\n",
              "      <td>NaN</td>\n",
              "      <td>0.0</td>\n",
              "      <td>0.573</td>\n",
              "      <td>NaN</td>\n",
              "      <td>69.1</td>\n",
              "      <td>NaN</td>\n",
              "      <td>1.0</td>\n",
              "      <td>NaN</td>\n",
              "      <td>21.0</td>\n",
              "      <td>NaN</td>\n",
              "      <td>9.67</td>\n",
              "    </tr>\n",
              "    <tr>\n",
              "      <th>502</th>\n",
              "      <td>0.04527</td>\n",
              "      <td>0.0</td>\n",
              "      <td>11.93</td>\n",
              "      <td>0.0</td>\n",
              "      <td>0.573</td>\n",
              "      <td>6.120</td>\n",
              "      <td>76.7</td>\n",
              "      <td>2.2875</td>\n",
              "      <td>1.0</td>\n",
              "      <td>273.0</td>\n",
              "      <td>NaN</td>\n",
              "      <td>396.90</td>\n",
              "      <td>9.08</td>\n",
              "    </tr>\n",
              "    <tr>\n",
              "      <th>503</th>\n",
              "      <td>NaN</td>\n",
              "      <td>NaN</td>\n",
              "      <td>11.93</td>\n",
              "      <td>NaN</td>\n",
              "      <td>0.573</td>\n",
              "      <td>6.976</td>\n",
              "      <td>91.0</td>\n",
              "      <td>NaN</td>\n",
              "      <td>NaN</td>\n",
              "      <td>NaN</td>\n",
              "      <td>21.0</td>\n",
              "      <td>NaN</td>\n",
              "      <td>5.64</td>\n",
              "    </tr>\n",
              "    <tr>\n",
              "      <th>504</th>\n",
              "      <td>0.10959</td>\n",
              "      <td>0.0</td>\n",
              "      <td>11.93</td>\n",
              "      <td>NaN</td>\n",
              "      <td>0.573</td>\n",
              "      <td>NaN</td>\n",
              "      <td>89.3</td>\n",
              "      <td>NaN</td>\n",
              "      <td>1.0</td>\n",
              "      <td>NaN</td>\n",
              "      <td>21.0</td>\n",
              "      <td>393.45</td>\n",
              "      <td>6.48</td>\n",
              "    </tr>\n",
              "    <tr>\n",
              "      <th>505</th>\n",
              "      <td>0.04741</td>\n",
              "      <td>0.0</td>\n",
              "      <td>11.93</td>\n",
              "      <td>0.0</td>\n",
              "      <td>0.573</td>\n",
              "      <td>6.030</td>\n",
              "      <td>NaN</td>\n",
              "      <td>NaN</td>\n",
              "      <td>1.0</td>\n",
              "      <td>NaN</td>\n",
              "      <td>NaN</td>\n",
              "      <td>396.90</td>\n",
              "      <td>7.88</td>\n",
              "    </tr>\n",
              "  </tbody>\n",
              "</table>\n",
              "<p>506 rows × 13 columns</p>\n",
              "</div>"
            ],
            "text/plain": [
              "          0     1      2    3      4   ...   8      9     10      11    12\n",
              "0        NaN  18.0    NaN  NaN  0.538  ...  1.0  296.0   NaN     NaN  4.98\n",
              "1    0.02731   0.0    NaN  0.0  0.469  ...  2.0    NaN   NaN  396.90  9.14\n",
              "2    0.02729   NaN   7.07  0.0    NaN  ...  2.0  242.0   NaN     NaN   NaN\n",
              "3        NaN   NaN    NaN  0.0  0.458  ...  NaN  222.0  18.7     NaN   NaN\n",
              "4        NaN   0.0   2.18  0.0    NaN  ...  NaN    NaN  18.7     NaN  5.33\n",
              "..       ...   ...    ...  ...    ...  ...  ...    ...   ...     ...   ...\n",
              "501      NaN   NaN    NaN  0.0  0.573  ...  1.0    NaN  21.0     NaN  9.67\n",
              "502  0.04527   0.0  11.93  0.0  0.573  ...  1.0  273.0   NaN  396.90  9.08\n",
              "503      NaN   NaN  11.93  NaN  0.573  ...  NaN    NaN  21.0     NaN  5.64\n",
              "504  0.10959   0.0  11.93  NaN  0.573  ...  1.0    NaN  21.0  393.45  6.48\n",
              "505  0.04741   0.0  11.93  0.0  0.573  ...  1.0    NaN   NaN  396.90  7.88\n",
              "\n",
              "[506 rows x 13 columns]"
            ]
          },
          "metadata": {
            "tags": []
          },
          "execution_count": 13
        }
      ]
    },
    {
      "cell_type": "code",
      "metadata": {
        "id": "TmRUAiTxB8zf",
        "colab_type": "code",
        "colab": {
          "base_uri": "https://localhost:8080/",
          "height": 269
        },
        "outputId": "2d257c88-4cfa-43e3-9095-f98859d55095"
      },
      "source": [
        "x_missing.mean()"
      ],
      "execution_count": 19,
      "outputs": [
        {
          "output_type": "execute_result",
          "data": {
            "text/plain": [
              "0       3.627579\n",
              "1      10.722951\n",
              "2      11.163464\n",
              "3       0.066007\n",
              "4       0.564128\n",
              "5       6.305921\n",
              "6      67.400000\n",
              "7       3.856371\n",
              "8       9.383871\n",
              "9     405.935275\n",
              "10     18.521192\n",
              "11    352.741952\n",
              "12     12.991767\n",
              "dtype: float64"
            ]
          },
          "metadata": {
            "tags": []
          },
          "execution_count": 19
        }
      ]
    },
    {
      "cell_type": "code",
      "metadata": {
        "id": "hYcaYRLCBQ9G",
        "colab_type": "code",
        "colab": {
          "base_uri": "https://localhost:8080/",
          "height": 439
        },
        "outputId": "46d09a10-fbc3-4acc-de5a-eb391b7081f7"
      },
      "source": [
        "\n",
        "df = x_missing.fillna(value=x_missing.mean(), axis=0) #这样也是可以的。\n",
        "df"
      ],
      "execution_count": 30,
      "outputs": [
        {
          "output_type": "execute_result",
          "data": {
            "text/html": [
              "<div>\n",
              "<style scoped>\n",
              "    .dataframe tbody tr th:only-of-type {\n",
              "        vertical-align: middle;\n",
              "    }\n",
              "\n",
              "    .dataframe tbody tr th {\n",
              "        vertical-align: top;\n",
              "    }\n",
              "\n",
              "    .dataframe thead th {\n",
              "        text-align: right;\n",
              "    }\n",
              "</style>\n",
              "<table border=\"1\" class=\"dataframe\">\n",
              "  <thead>\n",
              "    <tr style=\"text-align: right;\">\n",
              "      <th></th>\n",
              "      <th>0</th>\n",
              "      <th>1</th>\n",
              "      <th>2</th>\n",
              "      <th>3</th>\n",
              "      <th>4</th>\n",
              "      <th>5</th>\n",
              "      <th>6</th>\n",
              "      <th>7</th>\n",
              "      <th>8</th>\n",
              "      <th>9</th>\n",
              "      <th>10</th>\n",
              "      <th>11</th>\n",
              "      <th>12</th>\n",
              "    </tr>\n",
              "  </thead>\n",
              "  <tbody>\n",
              "    <tr>\n",
              "      <th>0</th>\n",
              "      <td>3.627579</td>\n",
              "      <td>18.000000</td>\n",
              "      <td>11.163464</td>\n",
              "      <td>0.066007</td>\n",
              "      <td>0.538000</td>\n",
              "      <td>6.305921</td>\n",
              "      <td>65.2</td>\n",
              "      <td>4.090000</td>\n",
              "      <td>1.000000</td>\n",
              "      <td>296.000000</td>\n",
              "      <td>18.521192</td>\n",
              "      <td>352.741952</td>\n",
              "      <td>4.980000</td>\n",
              "    </tr>\n",
              "    <tr>\n",
              "      <th>1</th>\n",
              "      <td>0.027310</td>\n",
              "      <td>0.000000</td>\n",
              "      <td>11.163464</td>\n",
              "      <td>0.000000</td>\n",
              "      <td>0.469000</td>\n",
              "      <td>6.305921</td>\n",
              "      <td>78.9</td>\n",
              "      <td>4.967100</td>\n",
              "      <td>2.000000</td>\n",
              "      <td>405.935275</td>\n",
              "      <td>18.521192</td>\n",
              "      <td>396.900000</td>\n",
              "      <td>9.140000</td>\n",
              "    </tr>\n",
              "    <tr>\n",
              "      <th>2</th>\n",
              "      <td>0.027290</td>\n",
              "      <td>10.722951</td>\n",
              "      <td>7.070000</td>\n",
              "      <td>0.000000</td>\n",
              "      <td>0.564128</td>\n",
              "      <td>7.185000</td>\n",
              "      <td>61.1</td>\n",
              "      <td>3.856371</td>\n",
              "      <td>2.000000</td>\n",
              "      <td>242.000000</td>\n",
              "      <td>18.521192</td>\n",
              "      <td>352.741952</td>\n",
              "      <td>12.991767</td>\n",
              "    </tr>\n",
              "    <tr>\n",
              "      <th>3</th>\n",
              "      <td>3.627579</td>\n",
              "      <td>10.722951</td>\n",
              "      <td>11.163464</td>\n",
              "      <td>0.000000</td>\n",
              "      <td>0.458000</td>\n",
              "      <td>6.305921</td>\n",
              "      <td>45.8</td>\n",
              "      <td>3.856371</td>\n",
              "      <td>9.383871</td>\n",
              "      <td>222.000000</td>\n",
              "      <td>18.700000</td>\n",
              "      <td>352.741952</td>\n",
              "      <td>12.991767</td>\n",
              "    </tr>\n",
              "    <tr>\n",
              "      <th>4</th>\n",
              "      <td>3.627579</td>\n",
              "      <td>0.000000</td>\n",
              "      <td>2.180000</td>\n",
              "      <td>0.000000</td>\n",
              "      <td>0.564128</td>\n",
              "      <td>7.147000</td>\n",
              "      <td>67.4</td>\n",
              "      <td>3.856371</td>\n",
              "      <td>9.383871</td>\n",
              "      <td>405.935275</td>\n",
              "      <td>18.700000</td>\n",
              "      <td>352.741952</td>\n",
              "      <td>5.330000</td>\n",
              "    </tr>\n",
              "    <tr>\n",
              "      <th>...</th>\n",
              "      <td>...</td>\n",
              "      <td>...</td>\n",
              "      <td>...</td>\n",
              "      <td>...</td>\n",
              "      <td>...</td>\n",
              "      <td>...</td>\n",
              "      <td>...</td>\n",
              "      <td>...</td>\n",
              "      <td>...</td>\n",
              "      <td>...</td>\n",
              "      <td>...</td>\n",
              "      <td>...</td>\n",
              "      <td>...</td>\n",
              "    </tr>\n",
              "    <tr>\n",
              "      <th>501</th>\n",
              "      <td>3.627579</td>\n",
              "      <td>10.722951</td>\n",
              "      <td>11.163464</td>\n",
              "      <td>0.000000</td>\n",
              "      <td>0.573000</td>\n",
              "      <td>6.305921</td>\n",
              "      <td>69.1</td>\n",
              "      <td>3.856371</td>\n",
              "      <td>1.000000</td>\n",
              "      <td>405.935275</td>\n",
              "      <td>21.000000</td>\n",
              "      <td>352.741952</td>\n",
              "      <td>9.670000</td>\n",
              "    </tr>\n",
              "    <tr>\n",
              "      <th>502</th>\n",
              "      <td>0.045270</td>\n",
              "      <td>0.000000</td>\n",
              "      <td>11.930000</td>\n",
              "      <td>0.000000</td>\n",
              "      <td>0.573000</td>\n",
              "      <td>6.120000</td>\n",
              "      <td>76.7</td>\n",
              "      <td>2.287500</td>\n",
              "      <td>1.000000</td>\n",
              "      <td>273.000000</td>\n",
              "      <td>18.521192</td>\n",
              "      <td>396.900000</td>\n",
              "      <td>9.080000</td>\n",
              "    </tr>\n",
              "    <tr>\n",
              "      <th>503</th>\n",
              "      <td>3.627579</td>\n",
              "      <td>10.722951</td>\n",
              "      <td>11.930000</td>\n",
              "      <td>0.066007</td>\n",
              "      <td>0.573000</td>\n",
              "      <td>6.976000</td>\n",
              "      <td>91.0</td>\n",
              "      <td>3.856371</td>\n",
              "      <td>9.383871</td>\n",
              "      <td>405.935275</td>\n",
              "      <td>21.000000</td>\n",
              "      <td>352.741952</td>\n",
              "      <td>5.640000</td>\n",
              "    </tr>\n",
              "    <tr>\n",
              "      <th>504</th>\n",
              "      <td>0.109590</td>\n",
              "      <td>0.000000</td>\n",
              "      <td>11.930000</td>\n",
              "      <td>0.066007</td>\n",
              "      <td>0.573000</td>\n",
              "      <td>6.305921</td>\n",
              "      <td>89.3</td>\n",
              "      <td>3.856371</td>\n",
              "      <td>1.000000</td>\n",
              "      <td>405.935275</td>\n",
              "      <td>21.000000</td>\n",
              "      <td>393.450000</td>\n",
              "      <td>6.480000</td>\n",
              "    </tr>\n",
              "    <tr>\n",
              "      <th>505</th>\n",
              "      <td>0.047410</td>\n",
              "      <td>0.000000</td>\n",
              "      <td>11.930000</td>\n",
              "      <td>0.000000</td>\n",
              "      <td>0.573000</td>\n",
              "      <td>6.030000</td>\n",
              "      <td>67.4</td>\n",
              "      <td>3.856371</td>\n",
              "      <td>1.000000</td>\n",
              "      <td>405.935275</td>\n",
              "      <td>18.521192</td>\n",
              "      <td>396.900000</td>\n",
              "      <td>7.880000</td>\n",
              "    </tr>\n",
              "  </tbody>\n",
              "</table>\n",
              "<p>506 rows × 13 columns</p>\n",
              "</div>"
            ],
            "text/plain": [
              "           0          1          2   ...         10          11         12\n",
              "0    3.627579  18.000000  11.163464  ...  18.521192  352.741952   4.980000\n",
              "1    0.027310   0.000000  11.163464  ...  18.521192  396.900000   9.140000\n",
              "2    0.027290  10.722951   7.070000  ...  18.521192  352.741952  12.991767\n",
              "3    3.627579  10.722951  11.163464  ...  18.700000  352.741952  12.991767\n",
              "4    3.627579   0.000000   2.180000  ...  18.700000  352.741952   5.330000\n",
              "..        ...        ...        ...  ...        ...         ...        ...\n",
              "501  3.627579  10.722951  11.163464  ...  21.000000  352.741952   9.670000\n",
              "502  0.045270   0.000000  11.930000  ...  18.521192  396.900000   9.080000\n",
              "503  3.627579  10.722951  11.930000  ...  21.000000  352.741952   5.640000\n",
              "504  0.109590   0.000000  11.930000  ...  21.000000  393.450000   6.480000\n",
              "505  0.047410   0.000000  11.930000  ...  18.521192  396.900000   7.880000\n",
              "\n",
              "[506 rows x 13 columns]"
            ]
          },
          "metadata": {
            "tags": []
          },
          "execution_count": 30
        }
      ]
    },
    {
      "cell_type": "code",
      "metadata": {
        "id": "FjqucMccE_F4",
        "colab_type": "code",
        "colab": {
          "base_uri": "https://localhost:8080/",
          "height": 143
        },
        "outputId": "6ee0ce35-1706-449f-9ba9-f44c8676e5b7"
      },
      "source": [
        "df.values ##或者可以。\n",
        "np.array(df) == x_missing_mean # 可以看出两个效果是相同的。"
      ],
      "execution_count": 35,
      "outputs": [
        {
          "output_type": "execute_result",
          "data": {
            "text/plain": [
              "array([[ True,  True,  True, ...,  True,  True,  True],\n",
              "       [ True,  True,  True, ...,  True,  True,  True],\n",
              "       [ True,  True,  True, ...,  True,  True,  True],\n",
              "       ...,\n",
              "       [ True,  True,  True, ...,  True,  True,  True],\n",
              "       [ True,  True,  True, ...,  True,  True,  True],\n",
              "       [ True,  True,  True, ...,  True,  True,  True]])"
            ]
          },
          "metadata": {
            "tags": []
          },
          "execution_count": 35
        }
      ]
    },
    {
      "cell_type": "code",
      "metadata": {
        "id": "TyQ6RpNIE_I-",
        "colab_type": "code",
        "colab": {}
      },
      "source": [
        ""
      ],
      "execution_count": null,
      "outputs": []
    },
    {
      "cell_type": "code",
      "metadata": {
        "id": "pCK8uv8dBgzW",
        "colab_type": "code",
        "colab": {}
      },
      "source": [
        "x_missing.fillna?\n",
        "Signature: x_missing.fillna(value=None, method=None, axis=None, inplace=False, limit=None, downcast=None) -> Union[_ForwardRef('DataFrame'), NoneType]\n",
        "Docstring:\n",
        "Fill NA/NaN values using the specified method.\n",
        "\n",
        "Parameters\n",
        "----------\n",
        "value : scalar, dict, Series, or DataFrame\n",
        "    Value to use to fill holes (e.g. 0), alternately a\n",
        "    dict/Series/DataFrame of values specifying which value to use for\n",
        "    each index (for a Series) or column (for a DataFrame).  Values not\n",
        "    in the dict/Series/DataFrame will not be filled. This value cannot\n",
        "    be a list.\n",
        "method : {'backfill', 'bfill', 'pad', 'ffill', None}, default None\n",
        "    Method to use for filling holes in reindexed Series\n",
        "    pad / ffill: propagate last valid observation forward to next valid\n",
        "    backfill / bfill: use next valid observation to fill gap.\n",
        "axis : {0 or 'index', 1 or 'columns'}\n",
        "    Axis along which to fill missing values.\n",
        "inplace : bool, default False\n",
        "    If True, fill in-place. Note: this will modify any\n",
        "    other views on this object (e.g., a no-copy slice for a column in a\n",
        "    DataFrame).\n",
        "limit : int, default None\n",
        "    If method is specified, this is the maximum number of consecutive\n",
        "    NaN values to forward/backward fill. In other words, if there is\n",
        "    a gap with more than this number of consecutive NaNs, it will only\n",
        "    be partially filled. If method is not specified, this is the\n",
        "    maximum number of entries along the entire axis where NaNs will be\n",
        "    filled. Must be greater than 0 if not None.\n",
        "downcast : dict, default is None\n",
        "    A dict of item->dtype of what to downcast if possible,\n",
        "    or the string 'infer' which will try to downcast to an appropriate\n",
        "    equal type (e.g. float64 to int64 if possible)."
      ],
      "execution_count": 15,
      "outputs": []
    },
    {
      "cell_type": "code",
      "metadata": {
        "id": "v05AGoUbBpGy",
        "colab_type": "code",
        "colab": {
          "base_uri": "https://localhost:8080/",
          "height": 251
        },
        "outputId": "cb943cbe-9d0e-4197-e987-377676e71598"
      },
      "source": [
        "# 进行0 值填补\n",
        "\n",
        "imp_0 = SimpleImputer(missing_values=np.nan, strategy='constant', fill_value=0)\n",
        "x_missing_0 = imp_0.fit_transform(x_missing)\n",
        "x_missing_0"
      ],
      "execution_count": 21,
      "outputs": [
        {
          "output_type": "execute_result",
          "data": {
            "text/plain": [
              "array([[0.0000e+00, 1.8000e+01, 0.0000e+00, ..., 0.0000e+00, 0.0000e+00,\n",
              "        4.9800e+00],\n",
              "       [2.7310e-02, 0.0000e+00, 0.0000e+00, ..., 0.0000e+00, 3.9690e+02,\n",
              "        9.1400e+00],\n",
              "       [2.7290e-02, 0.0000e+00, 7.0700e+00, ..., 0.0000e+00, 0.0000e+00,\n",
              "        0.0000e+00],\n",
              "       ...,\n",
              "       [0.0000e+00, 0.0000e+00, 1.1930e+01, ..., 2.1000e+01, 0.0000e+00,\n",
              "        5.6400e+00],\n",
              "       [1.0959e-01, 0.0000e+00, 1.1930e+01, ..., 2.1000e+01, 3.9345e+02,\n",
              "        6.4800e+00],\n",
              "       [4.7410e-02, 0.0000e+00, 1.1930e+01, ..., 0.0000e+00, 3.9690e+02,\n",
              "        7.8800e+00]])"
            ]
          },
          "metadata": {
            "tags": []
          },
          "execution_count": 21
        }
      ]
    },
    {
      "cell_type": "code",
      "metadata": {
        "id": "4dlnPoPCELvi",
        "colab_type": "code",
        "colab": {
          "base_uri": "https://localhost:8080/",
          "height": 419
        },
        "outputId": "87bd3f97-9126-49c6-d695-d566718114ec"
      },
      "source": [
        "# 也可以使用dataframe.fillna \n",
        "df2 = x_missing.fillna(0)\n",
        "df2"
      ],
      "execution_count": 36,
      "outputs": [
        {
          "output_type": "execute_result",
          "data": {
            "text/html": [
              "<div>\n",
              "<style scoped>\n",
              "    .dataframe tbody tr th:only-of-type {\n",
              "        vertical-align: middle;\n",
              "    }\n",
              "\n",
              "    .dataframe tbody tr th {\n",
              "        vertical-align: top;\n",
              "    }\n",
              "\n",
              "    .dataframe thead th {\n",
              "        text-align: right;\n",
              "    }\n",
              "</style>\n",
              "<table border=\"1\" class=\"dataframe\">\n",
              "  <thead>\n",
              "    <tr style=\"text-align: right;\">\n",
              "      <th></th>\n",
              "      <th>0</th>\n",
              "      <th>1</th>\n",
              "      <th>2</th>\n",
              "      <th>3</th>\n",
              "      <th>4</th>\n",
              "      <th>5</th>\n",
              "      <th>6</th>\n",
              "      <th>7</th>\n",
              "      <th>8</th>\n",
              "      <th>9</th>\n",
              "      <th>10</th>\n",
              "      <th>11</th>\n",
              "      <th>12</th>\n",
              "    </tr>\n",
              "  </thead>\n",
              "  <tbody>\n",
              "    <tr>\n",
              "      <th>0</th>\n",
              "      <td>0.00000</td>\n",
              "      <td>18.0</td>\n",
              "      <td>0.00</td>\n",
              "      <td>0.0</td>\n",
              "      <td>0.538</td>\n",
              "      <td>0.000</td>\n",
              "      <td>65.2</td>\n",
              "      <td>4.0900</td>\n",
              "      <td>1.0</td>\n",
              "      <td>296.0</td>\n",
              "      <td>0.0</td>\n",
              "      <td>0.00</td>\n",
              "      <td>4.98</td>\n",
              "    </tr>\n",
              "    <tr>\n",
              "      <th>1</th>\n",
              "      <td>0.02731</td>\n",
              "      <td>0.0</td>\n",
              "      <td>0.00</td>\n",
              "      <td>0.0</td>\n",
              "      <td>0.469</td>\n",
              "      <td>0.000</td>\n",
              "      <td>78.9</td>\n",
              "      <td>4.9671</td>\n",
              "      <td>2.0</td>\n",
              "      <td>0.0</td>\n",
              "      <td>0.0</td>\n",
              "      <td>396.90</td>\n",
              "      <td>9.14</td>\n",
              "    </tr>\n",
              "    <tr>\n",
              "      <th>2</th>\n",
              "      <td>0.02729</td>\n",
              "      <td>0.0</td>\n",
              "      <td>7.07</td>\n",
              "      <td>0.0</td>\n",
              "      <td>0.000</td>\n",
              "      <td>7.185</td>\n",
              "      <td>61.1</td>\n",
              "      <td>0.0000</td>\n",
              "      <td>2.0</td>\n",
              "      <td>242.0</td>\n",
              "      <td>0.0</td>\n",
              "      <td>0.00</td>\n",
              "      <td>0.00</td>\n",
              "    </tr>\n",
              "    <tr>\n",
              "      <th>3</th>\n",
              "      <td>0.00000</td>\n",
              "      <td>0.0</td>\n",
              "      <td>0.00</td>\n",
              "      <td>0.0</td>\n",
              "      <td>0.458</td>\n",
              "      <td>0.000</td>\n",
              "      <td>45.8</td>\n",
              "      <td>0.0000</td>\n",
              "      <td>0.0</td>\n",
              "      <td>222.0</td>\n",
              "      <td>18.7</td>\n",
              "      <td>0.00</td>\n",
              "      <td>0.00</td>\n",
              "    </tr>\n",
              "    <tr>\n",
              "      <th>4</th>\n",
              "      <td>0.00000</td>\n",
              "      <td>0.0</td>\n",
              "      <td>2.18</td>\n",
              "      <td>0.0</td>\n",
              "      <td>0.000</td>\n",
              "      <td>7.147</td>\n",
              "      <td>0.0</td>\n",
              "      <td>0.0000</td>\n",
              "      <td>0.0</td>\n",
              "      <td>0.0</td>\n",
              "      <td>18.7</td>\n",
              "      <td>0.00</td>\n",
              "      <td>5.33</td>\n",
              "    </tr>\n",
              "    <tr>\n",
              "      <th>...</th>\n",
              "      <td>...</td>\n",
              "      <td>...</td>\n",
              "      <td>...</td>\n",
              "      <td>...</td>\n",
              "      <td>...</td>\n",
              "      <td>...</td>\n",
              "      <td>...</td>\n",
              "      <td>...</td>\n",
              "      <td>...</td>\n",
              "      <td>...</td>\n",
              "      <td>...</td>\n",
              "      <td>...</td>\n",
              "      <td>...</td>\n",
              "    </tr>\n",
              "    <tr>\n",
              "      <th>501</th>\n",
              "      <td>0.00000</td>\n",
              "      <td>0.0</td>\n",
              "      <td>0.00</td>\n",
              "      <td>0.0</td>\n",
              "      <td>0.573</td>\n",
              "      <td>0.000</td>\n",
              "      <td>69.1</td>\n",
              "      <td>0.0000</td>\n",
              "      <td>1.0</td>\n",
              "      <td>0.0</td>\n",
              "      <td>21.0</td>\n",
              "      <td>0.00</td>\n",
              "      <td>9.67</td>\n",
              "    </tr>\n",
              "    <tr>\n",
              "      <th>502</th>\n",
              "      <td>0.04527</td>\n",
              "      <td>0.0</td>\n",
              "      <td>11.93</td>\n",
              "      <td>0.0</td>\n",
              "      <td>0.573</td>\n",
              "      <td>6.120</td>\n",
              "      <td>76.7</td>\n",
              "      <td>2.2875</td>\n",
              "      <td>1.0</td>\n",
              "      <td>273.0</td>\n",
              "      <td>0.0</td>\n",
              "      <td>396.90</td>\n",
              "      <td>9.08</td>\n",
              "    </tr>\n",
              "    <tr>\n",
              "      <th>503</th>\n",
              "      <td>0.00000</td>\n",
              "      <td>0.0</td>\n",
              "      <td>11.93</td>\n",
              "      <td>0.0</td>\n",
              "      <td>0.573</td>\n",
              "      <td>6.976</td>\n",
              "      <td>91.0</td>\n",
              "      <td>0.0000</td>\n",
              "      <td>0.0</td>\n",
              "      <td>0.0</td>\n",
              "      <td>21.0</td>\n",
              "      <td>0.00</td>\n",
              "      <td>5.64</td>\n",
              "    </tr>\n",
              "    <tr>\n",
              "      <th>504</th>\n",
              "      <td>0.10959</td>\n",
              "      <td>0.0</td>\n",
              "      <td>11.93</td>\n",
              "      <td>0.0</td>\n",
              "      <td>0.573</td>\n",
              "      <td>0.000</td>\n",
              "      <td>89.3</td>\n",
              "      <td>0.0000</td>\n",
              "      <td>1.0</td>\n",
              "      <td>0.0</td>\n",
              "      <td>21.0</td>\n",
              "      <td>393.45</td>\n",
              "      <td>6.48</td>\n",
              "    </tr>\n",
              "    <tr>\n",
              "      <th>505</th>\n",
              "      <td>0.04741</td>\n",
              "      <td>0.0</td>\n",
              "      <td>11.93</td>\n",
              "      <td>0.0</td>\n",
              "      <td>0.573</td>\n",
              "      <td>6.030</td>\n",
              "      <td>0.0</td>\n",
              "      <td>0.0000</td>\n",
              "      <td>1.0</td>\n",
              "      <td>0.0</td>\n",
              "      <td>0.0</td>\n",
              "      <td>396.90</td>\n",
              "      <td>7.88</td>\n",
              "    </tr>\n",
              "  </tbody>\n",
              "</table>\n",
              "<p>506 rows × 13 columns</p>\n",
              "</div>"
            ],
            "text/plain": [
              "          0     1      2    3      4   ...   8      9     10      11    12\n",
              "0    0.00000  18.0   0.00  0.0  0.538  ...  1.0  296.0   0.0    0.00  4.98\n",
              "1    0.02731   0.0   0.00  0.0  0.469  ...  2.0    0.0   0.0  396.90  9.14\n",
              "2    0.02729   0.0   7.07  0.0  0.000  ...  2.0  242.0   0.0    0.00  0.00\n",
              "3    0.00000   0.0   0.00  0.0  0.458  ...  0.0  222.0  18.7    0.00  0.00\n",
              "4    0.00000   0.0   2.18  0.0  0.000  ...  0.0    0.0  18.7    0.00  5.33\n",
              "..       ...   ...    ...  ...    ...  ...  ...    ...   ...     ...   ...\n",
              "501  0.00000   0.0   0.00  0.0  0.573  ...  1.0    0.0  21.0    0.00  9.67\n",
              "502  0.04527   0.0  11.93  0.0  0.573  ...  1.0  273.0   0.0  396.90  9.08\n",
              "503  0.00000   0.0  11.93  0.0  0.573  ...  0.0    0.0  21.0    0.00  5.64\n",
              "504  0.10959   0.0  11.93  0.0  0.573  ...  1.0    0.0  21.0  393.45  6.48\n",
              "505  0.04741   0.0  11.93  0.0  0.573  ...  1.0    0.0   0.0  396.90  7.88\n",
              "\n",
              "[506 rows x 13 columns]"
            ]
          },
          "metadata": {
            "tags": []
          },
          "execution_count": 36
        }
      ]
    },
    {
      "cell_type": "code",
      "metadata": {
        "id": "ufoNgg2pElfO",
        "colab_type": "code",
        "colab": {
          "base_uri": "https://localhost:8080/",
          "height": 143
        },
        "outputId": "0ce9fabf-06f6-4e38-d3d3-b4faffed3035"
      },
      "source": [
        "df2.values == x_missing_0"
      ],
      "execution_count": 37,
      "outputs": [
        {
          "output_type": "execute_result",
          "data": {
            "text/plain": [
              "array([[ True,  True,  True, ...,  True,  True,  True],\n",
              "       [ True,  True,  True, ...,  True,  True,  True],\n",
              "       [ True,  True,  True, ...,  True,  True,  True],\n",
              "       ...,\n",
              "       [ True,  True,  True, ...,  True,  True,  True],\n",
              "       [ True,  True,  True, ...,  True,  True,  True],\n",
              "       [ True,  True,  True, ...,  True,  True,  True]])"
            ]
          },
          "metadata": {
            "tags": []
          },
          "execution_count": 37
        }
      ]
    },
    {
      "cell_type": "code",
      "metadata": {
        "id": "zAlpCGy3GAqD",
        "colab_type": "code",
        "colab": {}
      },
      "source": [
        "# 使用随机森林填补缺失值。\n",
        "\n",
        "# 思想： \n",
        "\n",
        "# \"\"\"\n",
        "# 使用随机森林回归填补缺失值\n",
        "# 任何回归都是从特征矩阵中学习，然后求解连续型标签y的过程，之所以能够实现这个过程，是因为回归算法认为，特征\n",
        "# 矩阵和标签之前存在着某种联系。实际上，标签和特征是可以相互转换的，比如说，在一个“用地区，环境，附近学校数\n",
        "# 量”预测“房价”的问题中，我们既可以用“地区”，“环境”，“附近学校数量”的数据来预测“房价”，也可以反过来，\n",
        "# 用“环境”，“附近学校数量”和“房价”来预测“地区”。而回归填补缺失值，正是利用了这种思想。\n",
        "# 对于一个有n个特征的数据来说，其中特征T有缺失值，我们就把特征T当作标签，其他的n-1个特征和原本的标签组成新\n",
        "# 的特征矩阵。那对于T来说，它没有缺失的部分，就是我们的Y_test，这部分数据既有标签也有特征，而它缺失的部\n",
        "# 分，只有特征没有标签，就是我们需要预测的部分。\n",
        "# 特征T不缺失的值对应的其他n-1个特征 + 本来的标签：X_train\n",
        "# 特征T不缺失的值：Y_train\n",
        "# 特征T缺失的值对应的其他n-1个特征 + 本来的标签：X_test\n",
        "# 特征T缺失的值：未知，我们需要预测的Y_test\n",
        "# 这种做法，对于某一个特征大量缺失，其他特征却很完整的情况，非常适用。\n",
        "# 那如果数据中除了特征T之外，其他特征也有缺失值怎么办？\n",
        "# 答案是遍历所有的特征，从缺失最少的开始进行填补（因为填补缺失最少的特征所需要的准确信息最少）。\n",
        "# 填补一个特征时，先将其他特征的缺失值用0代替，每完成一次回归预测，就将预测值放到原本的特征矩阵中，再继续填\n",
        "# 补下一个特征。每一次填补完毕，有缺失值的特征会减少一个，所以每次循环后，需要用0来填补的特征就越来越少。当\n",
        "# 进行到最后一个特征时（这个特征应该是所有特征中缺失值最多的），已经没有任何的其他特征需要用0来进行填补了，\n",
        "# 而我们已经使用回归为其他特征填补了大量有效信息，可以用来填补缺失最多的特征。\n",
        "# 遍历所有的特征后，数据就完整，不再有缺失值了。\n",
        "# \"\"\"\n",
        "\n",
        "# 简单来说就是，将缺失的特征当作label，其他特征当作特征，来根据缺失特征的未缺失部分进行训练，然后预测缺失部分的特征。\n",
        "# 如果多个特征都有缺失，那么从缺失最少的开始进行预测，其他缺失的特征用0填补。逐次填补，最优使得数据完整。"
      ],
      "execution_count": 39,
      "outputs": []
    },
    {
      "cell_type": "code",
      "metadata": {
        "id": "0WTf3P5VH3Et",
        "colab_type": "code",
        "colab": {
          "base_uri": "https://localhost:8080/",
          "height": 35
        },
        "outputId": "2510b414-35e9-4f54-a0bc-f716ff054edf"
      },
      "source": [
        "# 使用随机森林回归进行填补特征缺失。\n",
        "\n",
        "# 填补x_missing；\n",
        "\n",
        "x_missing_reg = x_missing.copy()\n",
        "sortindex = np.argsort(x_missing_reg.isnull().sum(axis=0)).values\n",
        "sortindex"
      ],
      "execution_count": 40,
      "outputs": [
        {
          "output_type": "execute_result",
          "data": {
            "text/plain": [
              "array([ 6, 12,  8,  7,  9,  0,  2,  1,  5,  4,  3, 10, 11])"
            ]
          },
          "metadata": {
            "tags": []
          },
          "execution_count": 40
        }
      ]
    },
    {
      "cell_type": "code",
      "metadata": {
        "id": "01wJj8GGMeuS",
        "colab_type": "code",
        "colab": {}
      },
      "source": [
        "# 先对nan进行判断，然后统计每个特征下的nan个数，然后进行排序，转换未array\n",
        "\n",
        "# 从小到大排序的索引，然后以这些索引逐个对其进行填补。\n",
        "\n",
        "for i in sortindex:\n",
        "  #当前标签当作目标label，其他当作特征。\n",
        "  df = x_missing_reg\n",
        "  fillc = df.iloc[:,i]\n",
        "  df = pd.concat([df.iloc[:, df.columns != i], pd.DataFrame(y_full)], axis=1) # 将其他特征与 房价进行链接，组成新的特征。\n",
        "\n",
        "#对其他特征的缺失值进行填补0\n",
        "  df_0 = SimpleImputer(missing_values=np.nan, strategy='constant', fill_value=0).fit_transform(df)\n",
        "  \n",
        "  #找出训练集，测试，以及相应的标签。\n",
        "  ytrain = fillc[fillc.notnull()]\n",
        "  ytest = fillc[fillc.isnull()]\n",
        "  xtrain = df_0[ytrain.index,:]\n",
        "  xtest = df_0[ytest.index,:]\n",
        "\n",
        "\n",
        "  # 用随机森林进行回归预测，并用预测值进行填补。\n",
        "\n",
        "  rfc = RandomForestRegressor(n_estimators=100)\n",
        "  rfc = rfc.fit(xtrain,ytrain)\n",
        "  ypredict = rfc.predict(xtest)\n",
        "\n",
        "\n",
        "  x_missing_reg.loc[x_missing_reg.iloc[:,i].isnull(), i] = ypredict\n"
      ],
      "execution_count": 42,
      "outputs": []
    },
    {
      "cell_type": "code",
      "metadata": {
        "id": "w0yNnq8BPKLJ",
        "colab_type": "code",
        "colab": {
          "base_uri": "https://localhost:8080/",
          "height": 419
        },
        "outputId": "b6272d09-a0fa-442a-c4da-e6c92e79a786"
      },
      "source": [
        "x_missing_reg"
      ],
      "execution_count": 43,
      "outputs": [
        {
          "output_type": "execute_result",
          "data": {
            "text/html": [
              "<div>\n",
              "<style scoped>\n",
              "    .dataframe tbody tr th:only-of-type {\n",
              "        vertical-align: middle;\n",
              "    }\n",
              "\n",
              "    .dataframe tbody tr th {\n",
              "        vertical-align: top;\n",
              "    }\n",
              "\n",
              "    .dataframe thead th {\n",
              "        text-align: right;\n",
              "    }\n",
              "</style>\n",
              "<table border=\"1\" class=\"dataframe\">\n",
              "  <thead>\n",
              "    <tr style=\"text-align: right;\">\n",
              "      <th></th>\n",
              "      <th>0</th>\n",
              "      <th>1</th>\n",
              "      <th>2</th>\n",
              "      <th>3</th>\n",
              "      <th>4</th>\n",
              "      <th>5</th>\n",
              "      <th>6</th>\n",
              "      <th>7</th>\n",
              "      <th>8</th>\n",
              "      <th>9</th>\n",
              "      <th>10</th>\n",
              "      <th>11</th>\n",
              "      <th>12</th>\n",
              "    </tr>\n",
              "  </thead>\n",
              "  <tbody>\n",
              "    <tr>\n",
              "      <th>0</th>\n",
              "      <td>0.337443</td>\n",
              "      <td>18.00</td>\n",
              "      <td>7.6064</td>\n",
              "      <td>0.07</td>\n",
              "      <td>0.538000</td>\n",
              "      <td>6.84673</td>\n",
              "      <td>65.200</td>\n",
              "      <td>4.090000</td>\n",
              "      <td>1.00</td>\n",
              "      <td>296.00</td>\n",
              "      <td>18.387</td>\n",
              "      <td>389.7079</td>\n",
              "      <td>4.9800</td>\n",
              "    </tr>\n",
              "    <tr>\n",
              "      <th>1</th>\n",
              "      <td>0.027310</td>\n",
              "      <td>0.00</td>\n",
              "      <td>5.1711</td>\n",
              "      <td>0.00</td>\n",
              "      <td>0.469000</td>\n",
              "      <td>6.18008</td>\n",
              "      <td>78.900</td>\n",
              "      <td>4.967100</td>\n",
              "      <td>2.00</td>\n",
              "      <td>299.04</td>\n",
              "      <td>18.916</td>\n",
              "      <td>396.9000</td>\n",
              "      <td>9.1400</td>\n",
              "    </tr>\n",
              "    <tr>\n",
              "      <th>2</th>\n",
              "      <td>0.027290</td>\n",
              "      <td>14.94</td>\n",
              "      <td>7.0700</td>\n",
              "      <td>0.00</td>\n",
              "      <td>0.465977</td>\n",
              "      <td>7.18500</td>\n",
              "      <td>61.100</td>\n",
              "      <td>4.341232</td>\n",
              "      <td>2.00</td>\n",
              "      <td>242.00</td>\n",
              "      <td>18.035</td>\n",
              "      <td>389.2240</td>\n",
              "      <td>4.9998</td>\n",
              "    </tr>\n",
              "    <tr>\n",
              "      <th>3</th>\n",
              "      <td>0.087602</td>\n",
              "      <td>21.88</td>\n",
              "      <td>2.9385</td>\n",
              "      <td>0.00</td>\n",
              "      <td>0.458000</td>\n",
              "      <td>6.98303</td>\n",
              "      <td>45.800</td>\n",
              "      <td>4.861065</td>\n",
              "      <td>3.65</td>\n",
              "      <td>222.00</td>\n",
              "      <td>18.700</td>\n",
              "      <td>393.3800</td>\n",
              "      <td>5.5440</td>\n",
              "    </tr>\n",
              "    <tr>\n",
              "      <th>4</th>\n",
              "      <td>0.094228</td>\n",
              "      <td>0.00</td>\n",
              "      <td>2.1800</td>\n",
              "      <td>0.00</td>\n",
              "      <td>0.458383</td>\n",
              "      <td>7.14700</td>\n",
              "      <td>55.636</td>\n",
              "      <td>4.876709</td>\n",
              "      <td>4.10</td>\n",
              "      <td>271.43</td>\n",
              "      <td>18.700</td>\n",
              "      <td>391.6863</td>\n",
              "      <td>5.3300</td>\n",
              "    </tr>\n",
              "    <tr>\n",
              "      <th>...</th>\n",
              "      <td>...</td>\n",
              "      <td>...</td>\n",
              "      <td>...</td>\n",
              "      <td>...</td>\n",
              "      <td>...</td>\n",
              "      <td>...</td>\n",
              "      <td>...</td>\n",
              "      <td>...</td>\n",
              "      <td>...</td>\n",
              "      <td>...</td>\n",
              "      <td>...</td>\n",
              "      <td>...</td>\n",
              "      <td>...</td>\n",
              "    </tr>\n",
              "    <tr>\n",
              "      <th>501</th>\n",
              "      <td>0.503880</td>\n",
              "      <td>2.77</td>\n",
              "      <td>10.6204</td>\n",
              "      <td>0.00</td>\n",
              "      <td>0.573000</td>\n",
              "      <td>6.25740</td>\n",
              "      <td>69.100</td>\n",
              "      <td>3.060266</td>\n",
              "      <td>1.00</td>\n",
              "      <td>288.19</td>\n",
              "      <td>21.000</td>\n",
              "      <td>390.4912</td>\n",
              "      <td>9.6700</td>\n",
              "    </tr>\n",
              "    <tr>\n",
              "      <th>502</th>\n",
              "      <td>0.045270</td>\n",
              "      <td>0.00</td>\n",
              "      <td>11.9300</td>\n",
              "      <td>0.00</td>\n",
              "      <td>0.573000</td>\n",
              "      <td>6.12000</td>\n",
              "      <td>76.700</td>\n",
              "      <td>2.287500</td>\n",
              "      <td>1.00</td>\n",
              "      <td>273.00</td>\n",
              "      <td>18.792</td>\n",
              "      <td>396.9000</td>\n",
              "      <td>9.0800</td>\n",
              "    </tr>\n",
              "    <tr>\n",
              "      <th>503</th>\n",
              "      <td>0.542169</td>\n",
              "      <td>0.71</td>\n",
              "      <td>11.9300</td>\n",
              "      <td>0.18</td>\n",
              "      <td>0.573000</td>\n",
              "      <td>6.97600</td>\n",
              "      <td>91.000</td>\n",
              "      <td>2.685474</td>\n",
              "      <td>4.13</td>\n",
              "      <td>308.69</td>\n",
              "      <td>21.000</td>\n",
              "      <td>389.7353</td>\n",
              "      <td>5.6400</td>\n",
              "    </tr>\n",
              "    <tr>\n",
              "      <th>504</th>\n",
              "      <td>0.109590</td>\n",
              "      <td>0.00</td>\n",
              "      <td>11.9300</td>\n",
              "      <td>0.08</td>\n",
              "      <td>0.573000</td>\n",
              "      <td>6.38339</td>\n",
              "      <td>89.300</td>\n",
              "      <td>2.885011</td>\n",
              "      <td>1.00</td>\n",
              "      <td>258.74</td>\n",
              "      <td>21.000</td>\n",
              "      <td>393.4500</td>\n",
              "      <td>6.4800</td>\n",
              "    </tr>\n",
              "    <tr>\n",
              "      <th>505</th>\n",
              "      <td>0.047410</td>\n",
              "      <td>0.00</td>\n",
              "      <td>11.9300</td>\n",
              "      <td>0.00</td>\n",
              "      <td>0.573000</td>\n",
              "      <td>6.03000</td>\n",
              "      <td>86.998</td>\n",
              "      <td>2.997191</td>\n",
              "      <td>1.00</td>\n",
              "      <td>326.16</td>\n",
              "      <td>18.713</td>\n",
              "      <td>396.9000</td>\n",
              "      <td>7.8800</td>\n",
              "    </tr>\n",
              "  </tbody>\n",
              "</table>\n",
              "<p>506 rows × 13 columns</p>\n",
              "</div>"
            ],
            "text/plain": [
              "           0      1        2     3   ...      9       10        11      12\n",
              "0    0.337443  18.00   7.6064  0.07  ...  296.00  18.387  389.7079  4.9800\n",
              "1    0.027310   0.00   5.1711  0.00  ...  299.04  18.916  396.9000  9.1400\n",
              "2    0.027290  14.94   7.0700  0.00  ...  242.00  18.035  389.2240  4.9998\n",
              "3    0.087602  21.88   2.9385  0.00  ...  222.00  18.700  393.3800  5.5440\n",
              "4    0.094228   0.00   2.1800  0.00  ...  271.43  18.700  391.6863  5.3300\n",
              "..        ...    ...      ...   ...  ...     ...     ...       ...     ...\n",
              "501  0.503880   2.77  10.6204  0.00  ...  288.19  21.000  390.4912  9.6700\n",
              "502  0.045270   0.00  11.9300  0.00  ...  273.00  18.792  396.9000  9.0800\n",
              "503  0.542169   0.71  11.9300  0.18  ...  308.69  21.000  389.7353  5.6400\n",
              "504  0.109590   0.00  11.9300  0.08  ...  258.74  21.000  393.4500  6.4800\n",
              "505  0.047410   0.00  11.9300  0.00  ...  326.16  18.713  396.9000  7.8800\n",
              "\n",
              "[506 rows x 13 columns]"
            ]
          },
          "metadata": {
            "tags": []
          },
          "execution_count": 43
        }
      ]
    },
    {
      "cell_type": "code",
      "metadata": {
        "id": "xqZoBK0GPfuQ",
        "colab_type": "code",
        "colab": {}
      },
      "source": [
        "# 对填补的数据进行建模。\n",
        "\n",
        "x = [x_full, x_missing_mean,x_missing_0,x_missing_reg]\n",
        "\n",
        "mse = []\n",
        "std = []\n",
        "\n",
        "for x in x:\n",
        "  estimator = RandomForestRegressor(random_state=0, n_estimators=100)\n",
        "  scores = cross_val_score(estimator, x, y_full, scoring='neg_mean_squared_error', cv=5).mean()\n",
        "  mse.append(scores*-1)\n",
        "\n",
        "  "
      ],
      "execution_count": 45,
      "outputs": []
    },
    {
      "cell_type": "code",
      "metadata": {
        "id": "nxbzhW1_QnVU",
        "colab_type": "code",
        "colab": {
          "base_uri": "https://localhost:8080/",
          "height": 404
        },
        "outputId": "e2092fcd-6461-45d4-f48a-12e6287f9332"
      },
      "source": [
        "# 用所得的mse来画图。\n",
        "\n",
        "x_labels = ['full data',\n",
        "            'mean imputation',\n",
        "            'zero imputation',\n",
        "            'regressor imputation']\n",
        "\n",
        "colors = ['r', 'g', 'b', 'orange']\n",
        "\n",
        "plt.figure(figsize=(12,6))\n",
        "ax = plt.subplot(111)\n",
        "for i in np.arange(len(mse)):\n",
        "  ax.barh(i, mse[i], color=colors[i], alpha=0.6, align='center') #bar h 水平bar\n",
        "ax.set_title('inputation techniques with boston data')\n",
        "ax.set_xlim(left=np.min(mse)*0.9, right=np.max(mse)*1.1)\n",
        "ax.set_yticks(np.arange(len(mse)))\n",
        "ax.set_xlabel('MSE')\n",
        "ax.set_yticklabels(x_labels)\n",
        "plt.show()"
      ],
      "execution_count": 48,
      "outputs": [
        {
          "output_type": "display_data",
          "data": {
            "image/png": "[encoded data removed]",
            "text/plain": [
              "<Figure size 864x432 with 1 Axes>"
            ]
          },
          "metadata": {
            "tags": [],
            "needs_background": "light"
          }
        }
      ]
    },
    {
      "cell_type": "code",
      "metadata": {
        "id": "02jYmOLBSY1H",
        "colab_type": "code",
        "colab": {}
      },
      "source": [
        "# 从结果可以看出，使用随机森林来进行空值填补，结果更加接近真实效果。"
      ],
      "execution_count": null,
      "outputs": []
    },
    {
      "cell_type": "markdown",
      "metadata": {
        "id": "-UfO6tluUP3-",
        "colab_type": "text"
      },
      "source": [
        ""
      ]
    },
    {
      "cell_type": "markdown",
      "metadata": {
        "id": "W4uE3A6iUP7C",
        "colab_type": "text"
      },
      "source": [
        "# 机器学习中的调参的基本思想：\n",
        "\n",
        "![链接文字](https://img-blog.csdnimg.cn/20200823204842106.png?x-oss-process=image/watermark,type_ZmFuZ3poZW5naGVpdGk,shadow_10,text_aHR0cHM6Ly9ibG9nLmNzZG4ubmV0L2dhb2N1aTg4Mw==,size_16,color_FFFFFF,t_70#pic_center)\n",
        "\n",
        "![链接文字](https://img-blog.csdnimg.cn/20200823204852727.png?x-oss-process=image/watermark,type_ZmFuZ3poZW5naGVpdGk,shadow_10,text_aHR0cHM6Ly9ibG9nLmNzZG4ubmV0L2dhb2N1aTg4Mw==,size_16,color_FFFFFF,t_70#pic_center)\n",
        "\n",
        "![链接文字](https://img-blog.csdnimg.cn/20200823204902860.png?x-oss-process=image/watermark,type_ZmFuZ3poZW5naGVpdGk,shadow_10,text_aHR0cHM6Ly9ibG9nLmNzZG4ubmV0L2dhb2N1aTg4Mw==,size_16,color_FFFFFF,t_70#pic_center)\n",
        "\n",
        "![链接文字](https://img-blog.csdnimg.cn/20200823204928316.png?x-oss-process=image/watermark,type_ZmFuZ3poZW5naGVpdGk,shadow_10,text_aHR0cHM6Ly9ibG9nLmNzZG4ubmV0L2dhb2N1aTg4Mw==,size_16,color_FFFFFF,t_70#pic_center)\n",
        "\n",
        "![链接文字](https://img-blog.csdnimg.cn/20200823204936116.png?x-oss-process=image/watermark,type_ZmFuZ3poZW5naGVpdGk,shadow_10,text_aHR0cHM6Ly9ibG9nLmNzZG4ubmV0L2dhb2N1aTg4Mw==,size_16,color_FFFFFF,t_70#pic_center)\n",
        "\n",
        "![链接文字](https://img-blog.csdnimg.cn/20200823204945754.png?x-oss-process=image/watermark,type_ZmFuZ3poZW5naGVpdGk,shadow_10,text_aHR0cHM6Ly9ibG9nLmNzZG4ubmV0L2dhb2N1aTg4Mw==,size_16,color_FFFFFF,t_70#pic_center)\n",
        "\n",
        "![链接文字](https://img-blog.csdnimg.cn/20200823204954791.png#pic_center)"
      ]
    },
    {
      "cell_type": "code",
      "metadata": {
        "id": "liN2o1s4UKjt",
        "colab_type": "code",
        "colab": {}
      },
      "source": [
        ""
      ],
      "execution_count": null,
      "outputs": []
    }
  ]
}