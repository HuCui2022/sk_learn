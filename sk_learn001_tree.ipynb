{
  "nbformat": 4,
  "nbformat_minor": 0,
  "metadata": {
    "colab": {
      "name": "sk_learn001_tree.ipynb",
      "provenance": [],
      "collapsed_sections": [],
      "toc_visible": true,
      "authorship_tag": "ABX9TyPG+/GbxupKJ38HSwqiuatW",
      "include_colab_link": true
    },
    "kernelspec": {
      "name": "python3",
      "display_name": "Python 3"
    }
  },
  "cells": [
    {
      "cell_type": "markdown",
      "metadata": {
        "id": "view-in-github",
        "colab_type": "text"
      },
      "source": [
        "<a href=\"https://colab.research.google.com/github/smiledinisa/sk_learn/blob/master/sk_learn001_tree.ipynb\" target=\"_parent\"><img src=\"https://colab.research.google.com/assets/colab-badge.svg\" alt=\"Open In Colab\"/></a>"
      ]
    },
    {
      "cell_type": "code",
      "metadata": {
        "id": "XlNniN08nDS-",
        "colab_type": "code",
        "colab": {
          "base_uri": "https://localhost:8080/",
          "height": 127
        },
        "outputId": "ae8bbdfb-06b2-44df-b209-624df8acd30f"
      },
      "source": [
        "from google.colab import drive\n",
        "drive.mount('/content/drive/')\n"
      ],
      "execution_count": 1,
      "outputs": [
        {
          "output_type": "stream",
          "text": [
            "Go to this URL in a browser: https://accounts.google.com/o/oauth2/auth?client_id=947318989803-6bn6qk8qdgf4n4g3pfee6491hc0brc4i.apps.googleusercontent.com&redirect_uri=urn%3aietf%3awg%3aoauth%3a2.0%3aoob&scope=email%20https%3a%2f%2fwww.googleapis.com%2fauth%2fdocs.test%20https%3a%2f%2fwww.googleapis.com%2fauth%2fdrive%20https%3a%2f%2fwww.googleapis.com%2fauth%2fdrive.photos.readonly%20https%3a%2f%2fwww.googleapis.com%2fauth%2fpeopleapi.readonly&response_type=code\n",
            "\n",
            "Enter your authorization code:\n",
            "··········\n",
            "Mounted at /content/drive/\n"
          ],
          "name": "stdout"
        }
      ]
    },
    {
      "cell_type": "code",
      "metadata": {
        "id": "W853B96VnYN6",
        "colab_type": "code",
        "colab": {}
      },
      "source": [
        "# from sklearn import tree #导入需要的模块\n",
        "# clf = tree.DecisionTreeClassifier()   #实例化\n",
        "# clf = clf.fit(X_train,y_train) #用训练集数据训练模型\n",
        "# result = clf.score(X_test,y_test)  #导入测试集，从接口中调用需要的信息"
      ],
      "execution_count": null,
      "outputs": []
    },
    {
      "cell_type": "code",
      "metadata": {
        "id": "LhVBr2XSnxKz",
        "colab_type": "code",
        "colab": {
          "base_uri": "https://localhost:8080/",
          "height": 35
        },
        "outputId": "48155b1d-4e0e-4680-c2e1-37da45d4219d"
      },
      "source": [
        "cd /content/drive/My Drive"
      ],
      "execution_count": 2,
      "outputs": [
        {
          "output_type": "stream",
          "text": [
            "/content/drive/My Drive\n"
          ],
          "name": "stdout"
        }
      ]
    },
    {
      "cell_type": "code",
      "metadata": {
        "id": "C28dqCRRn3KD",
        "colab_type": "code",
        "colab": {}
      },
      "source": [
        "from sklearn import tree\n",
        "import sklearn\n",
        "\n",
        "\n",
        "# class sklearn.tree.DecisionTreeClassifier (criterion=’gini’, splitter=’best’, max_depth=None,\n",
        "# min_samples_split=2, min_samples_leaf=1, min_weight_fraction_leaf=0.0, max_features=None,\n",
        "# random_state=None, max_leaf_nodes=None, min_impurity_decrease=0.0, min_impurity_split=None,\n",
        "# class_weight=None, presort=False)"
      ],
      "execution_count": 3,
      "outputs": []
    },
    {
      "cell_type": "code",
      "metadata": {
        "id": "ujun196YoKw7",
        "colab_type": "code",
        "colab": {}
      },
      "source": [
        "# 以下就对以上的各个参数进行分析和解读。\n",
        "\n",
        "# criterion: 标准。 不纯度： 有两个，信息熵，entropy，和基尼系数 Gini imputrity .\n",
        "\n",
        "# 该参数就是确定不纯度的计算，找出最佳节点和最佳分支，不纯度越低，决策树对训练集的拟合越好。\n",
        "# 该参数不填写默认使用gini，填写的话就两个选项。gini和 entropy。"
      ],
      "execution_count": null,
      "outputs": []
    },
    {
      "cell_type": "markdown",
      "metadata": {
        "id": "4OAp1DYOqwD-",
        "colab_type": "text"
      },
      "source": [
        "![链接文字](https://img-blog.csdnimg.cn/20200818210331733.png?x-oss-process=image/watermark,type_ZmFuZ3poZW5naGVpdGk,shadow_10,text_aHR0cHM6Ly9ibG9nLmNzZG4ubmV0L2dhb2N1aTg4Mw==,size_16,color_FFFFFF,t_70#pic_center)\n",
        "\n",
        "\n",
        "p(i|t) 代表了t节点，i代表各个分类，p代表所占比例。分类i在节点t上所占的比例。\n",
        "\n",
        "信息熵对不纯度更加敏感，惩罚最强。\n",
        "\n",
        "但是实际使用中，信息熵和基尼系数其实是相当的。\n",
        "\n",
        "信息熵的决策树生长的会更加精细，适合应用于高维数据和噪音较多的数据。\n",
        "\n",
        "entropy很容易过拟合。\n",
        "\n"
      ]
    },
    {
      "cell_type": "markdown",
      "metadata": {
        "id": "j8JhC9Exqybl",
        "colab_type": "text"
      },
      "source": [
        "# 怎么选取：entropy 还是gini？？？\n",
        "# 维度很大信息熵，噪音很大信息熵。\n",
        "# 低纬度两者无区别。\n",
        "# 拟合度度不够的时候选信息熵。\n",
        "# 最终结论：两个都试试，哪个好，用哪个。----------------------废话。\n",
        "\n",
        "决策树流程就是： 计算全部特征的不纯度指标-----》选取不纯度指标最优的特征来进行分支-----》在第一个特征的分支下，计算全部特征的不纯度指标-----------》选取最优----------》循环直到没有更多的特征，决策树停止生长。"
      ]
    },
    {
      "cell_type": "code",
      "metadata": {
        "id": "IH5D8MlVqyes",
        "colab_type": "code",
        "colab": {}
      },
      "source": [
        "##1. 建立一棵树。\n",
        "\n",
        "from sklearn import tree\n",
        "from sklearn.datasets import load_wine #红酒数据集。\n",
        "from sklearn.model_selection import train_test_split #进行数据集的分割，成为训练集和测试集。\n"
      ],
      "execution_count": 4,
      "outputs": []
    },
    {
      "cell_type": "code",
      "metadata": {
        "id": "naMKqqHtuRoW",
        "colab_type": "code",
        "colab": {
          "base_uri": "https://localhost:8080/",
          "height": 35
        },
        "outputId": "b20c5edf-f368-4d19-873b-77fe38b29b56"
      },
      "source": [
        "# 2.探索数据。（分析数据）\n",
        "wine = load_wine()\n",
        "wine.data.shape"
      ],
      "execution_count": 8,
      "outputs": [
        {
          "output_type": "execute_result",
          "data": {
            "text/plain": [
              "(178, 13)"
            ]
          },
          "metadata": {
            "tags": []
          },
          "execution_count": 8
        }
      ]
    },
    {
      "cell_type": "code",
      "metadata": {
        "id": "wwV2__S9vFA4",
        "colab_type": "code",
        "colab": {
          "base_uri": "https://localhost:8080/",
          "height": 179
        },
        "outputId": "da74b753-1fb3-460a-d762-c36fff9cdf4a"
      },
      "source": [
        "wine.target"
      ],
      "execution_count": 9,
      "outputs": [
        {
          "output_type": "execute_result",
          "data": {
            "text/plain": [
              "array([0, 0, 0, 0, 0, 0, 0, 0, 0, 0, 0, 0, 0, 0, 0, 0, 0, 0, 0, 0, 0, 0,\n",
              "       0, 0, 0, 0, 0, 0, 0, 0, 0, 0, 0, 0, 0, 0, 0, 0, 0, 0, 0, 0, 0, 0,\n",
              "       0, 0, 0, 0, 0, 0, 0, 0, 0, 0, 0, 0, 0, 0, 0, 1, 1, 1, 1, 1, 1, 1,\n",
              "       1, 1, 1, 1, 1, 1, 1, 1, 1, 1, 1, 1, 1, 1, 1, 1, 1, 1, 1, 1, 1, 1,\n",
              "       1, 1, 1, 1, 1, 1, 1, 1, 1, 1, 1, 1, 1, 1, 1, 1, 1, 1, 1, 1, 1, 1,\n",
              "       1, 1, 1, 1, 1, 1, 1, 1, 1, 1, 1, 1, 1, 1, 1, 1, 1, 1, 1, 1, 2, 2,\n",
              "       2, 2, 2, 2, 2, 2, 2, 2, 2, 2, 2, 2, 2, 2, 2, 2, 2, 2, 2, 2, 2, 2,\n",
              "       2, 2, 2, 2, 2, 2, 2, 2, 2, 2, 2, 2, 2, 2, 2, 2, 2, 2, 2, 2, 2, 2,\n",
              "       2, 2])"
            ]
          },
          "metadata": {
            "tags": []
          },
          "execution_count": 9
        }
      ]
    },
    {
      "cell_type": "code",
      "metadata": {
        "id": "WktEm7kHvHOx",
        "colab_type": "code",
        "colab": {}
      },
      "source": [
        "import pandas as pd"
      ],
      "execution_count": 10,
      "outputs": []
    },
    {
      "cell_type": "code",
      "metadata": {
        "id": "2K0XEVP7vL5Y",
        "colab_type": "code",
        "colab": {
          "base_uri": "https://localhost:8080/",
          "height": 419
        },
        "outputId": "710ee079-0390-42c2-ef71-0a62498de7b8"
      },
      "source": [
        "pd.concat([pd.DataFrame(wine.data),pd.DataFrame(wine.target)], axis=1)\n",
        "\n"
      ],
      "execution_count": 11,
      "outputs": [
        {
          "output_type": "execute_result",
          "data": {
            "text/html": [
              "<div>\n",
              "<style scoped>\n",
              "    .dataframe tbody tr th:only-of-type {\n",
              "        vertical-align: middle;\n",
              "    }\n",
              "\n",
              "    .dataframe tbody tr th {\n",
              "        vertical-align: top;\n",
              "    }\n",
              "\n",
              "    .dataframe thead th {\n",
              "        text-align: right;\n",
              "    }\n",
              "</style>\n",
              "<table border=\"1\" class=\"dataframe\">\n",
              "  <thead>\n",
              "    <tr style=\"text-align: right;\">\n",
              "      <th></th>\n",
              "      <th>0</th>\n",
              "      <th>1</th>\n",
              "      <th>2</th>\n",
              "      <th>3</th>\n",
              "      <th>4</th>\n",
              "      <th>5</th>\n",
              "      <th>6</th>\n",
              "      <th>7</th>\n",
              "      <th>8</th>\n",
              "      <th>9</th>\n",
              "      <th>10</th>\n",
              "      <th>11</th>\n",
              "      <th>12</th>\n",
              "      <th>0</th>\n",
              "    </tr>\n",
              "  </thead>\n",
              "  <tbody>\n",
              "    <tr>\n",
              "      <th>0</th>\n",
              "      <td>14.23</td>\n",
              "      <td>1.71</td>\n",
              "      <td>2.43</td>\n",
              "      <td>15.6</td>\n",
              "      <td>127.0</td>\n",
              "      <td>2.80</td>\n",
              "      <td>3.06</td>\n",
              "      <td>0.28</td>\n",
              "      <td>2.29</td>\n",
              "      <td>5.64</td>\n",
              "      <td>1.04</td>\n",
              "      <td>3.92</td>\n",
              "      <td>1065.0</td>\n",
              "      <td>0</td>\n",
              "    </tr>\n",
              "    <tr>\n",
              "      <th>1</th>\n",
              "      <td>13.20</td>\n",
              "      <td>1.78</td>\n",
              "      <td>2.14</td>\n",
              "      <td>11.2</td>\n",
              "      <td>100.0</td>\n",
              "      <td>2.65</td>\n",
              "      <td>2.76</td>\n",
              "      <td>0.26</td>\n",
              "      <td>1.28</td>\n",
              "      <td>4.38</td>\n",
              "      <td>1.05</td>\n",
              "      <td>3.40</td>\n",
              "      <td>1050.0</td>\n",
              "      <td>0</td>\n",
              "    </tr>\n",
              "    <tr>\n",
              "      <th>2</th>\n",
              "      <td>13.16</td>\n",
              "      <td>2.36</td>\n",
              "      <td>2.67</td>\n",
              "      <td>18.6</td>\n",
              "      <td>101.0</td>\n",
              "      <td>2.80</td>\n",
              "      <td>3.24</td>\n",
              "      <td>0.30</td>\n",
              "      <td>2.81</td>\n",
              "      <td>5.68</td>\n",
              "      <td>1.03</td>\n",
              "      <td>3.17</td>\n",
              "      <td>1185.0</td>\n",
              "      <td>0</td>\n",
              "    </tr>\n",
              "    <tr>\n",
              "      <th>3</th>\n",
              "      <td>14.37</td>\n",
              "      <td>1.95</td>\n",
              "      <td>2.50</td>\n",
              "      <td>16.8</td>\n",
              "      <td>113.0</td>\n",
              "      <td>3.85</td>\n",
              "      <td>3.49</td>\n",
              "      <td>0.24</td>\n",
              "      <td>2.18</td>\n",
              "      <td>7.80</td>\n",
              "      <td>0.86</td>\n",
              "      <td>3.45</td>\n",
              "      <td>1480.0</td>\n",
              "      <td>0</td>\n",
              "    </tr>\n",
              "    <tr>\n",
              "      <th>4</th>\n",
              "      <td>13.24</td>\n",
              "      <td>2.59</td>\n",
              "      <td>2.87</td>\n",
              "      <td>21.0</td>\n",
              "      <td>118.0</td>\n",
              "      <td>2.80</td>\n",
              "      <td>2.69</td>\n",
              "      <td>0.39</td>\n",
              "      <td>1.82</td>\n",
              "      <td>4.32</td>\n",
              "      <td>1.04</td>\n",
              "      <td>2.93</td>\n",
              "      <td>735.0</td>\n",
              "      <td>0</td>\n",
              "    </tr>\n",
              "    <tr>\n",
              "      <th>...</th>\n",
              "      <td>...</td>\n",
              "      <td>...</td>\n",
              "      <td>...</td>\n",
              "      <td>...</td>\n",
              "      <td>...</td>\n",
              "      <td>...</td>\n",
              "      <td>...</td>\n",
              "      <td>...</td>\n",
              "      <td>...</td>\n",
              "      <td>...</td>\n",
              "      <td>...</td>\n",
              "      <td>...</td>\n",
              "      <td>...</td>\n",
              "      <td>...</td>\n",
              "    </tr>\n",
              "    <tr>\n",
              "      <th>173</th>\n",
              "      <td>13.71</td>\n",
              "      <td>5.65</td>\n",
              "      <td>2.45</td>\n",
              "      <td>20.5</td>\n",
              "      <td>95.0</td>\n",
              "      <td>1.68</td>\n",
              "      <td>0.61</td>\n",
              "      <td>0.52</td>\n",
              "      <td>1.06</td>\n",
              "      <td>7.70</td>\n",
              "      <td>0.64</td>\n",
              "      <td>1.74</td>\n",
              "      <td>740.0</td>\n",
              "      <td>2</td>\n",
              "    </tr>\n",
              "    <tr>\n",
              "      <th>174</th>\n",
              "      <td>13.40</td>\n",
              "      <td>3.91</td>\n",
              "      <td>2.48</td>\n",
              "      <td>23.0</td>\n",
              "      <td>102.0</td>\n",
              "      <td>1.80</td>\n",
              "      <td>0.75</td>\n",
              "      <td>0.43</td>\n",
              "      <td>1.41</td>\n",
              "      <td>7.30</td>\n",
              "      <td>0.70</td>\n",
              "      <td>1.56</td>\n",
              "      <td>750.0</td>\n",
              "      <td>2</td>\n",
              "    </tr>\n",
              "    <tr>\n",
              "      <th>175</th>\n",
              "      <td>13.27</td>\n",
              "      <td>4.28</td>\n",
              "      <td>2.26</td>\n",
              "      <td>20.0</td>\n",
              "      <td>120.0</td>\n",
              "      <td>1.59</td>\n",
              "      <td>0.69</td>\n",
              "      <td>0.43</td>\n",
              "      <td>1.35</td>\n",
              "      <td>10.20</td>\n",
              "      <td>0.59</td>\n",
              "      <td>1.56</td>\n",
              "      <td>835.0</td>\n",
              "      <td>2</td>\n",
              "    </tr>\n",
              "    <tr>\n",
              "      <th>176</th>\n",
              "      <td>13.17</td>\n",
              "      <td>2.59</td>\n",
              "      <td>2.37</td>\n",
              "      <td>20.0</td>\n",
              "      <td>120.0</td>\n",
              "      <td>1.65</td>\n",
              "      <td>0.68</td>\n",
              "      <td>0.53</td>\n",
              "      <td>1.46</td>\n",
              "      <td>9.30</td>\n",
              "      <td>0.60</td>\n",
              "      <td>1.62</td>\n",
              "      <td>840.0</td>\n",
              "      <td>2</td>\n",
              "    </tr>\n",
              "    <tr>\n",
              "      <th>177</th>\n",
              "      <td>14.13</td>\n",
              "      <td>4.10</td>\n",
              "      <td>2.74</td>\n",
              "      <td>24.5</td>\n",
              "      <td>96.0</td>\n",
              "      <td>2.05</td>\n",
              "      <td>0.76</td>\n",
              "      <td>0.56</td>\n",
              "      <td>1.35</td>\n",
              "      <td>9.20</td>\n",
              "      <td>0.61</td>\n",
              "      <td>1.60</td>\n",
              "      <td>560.0</td>\n",
              "      <td>2</td>\n",
              "    </tr>\n",
              "  </tbody>\n",
              "</table>\n",
              "<p>178 rows × 14 columns</p>\n",
              "</div>"
            ],
            "text/plain": [
              "        0     1     2     3      4     5   ...    8      9     10    11      12  0 \n",
              "0    14.23  1.71  2.43  15.6  127.0  2.80  ...  2.29   5.64  1.04  3.92  1065.0   0\n",
              "1    13.20  1.78  2.14  11.2  100.0  2.65  ...  1.28   4.38  1.05  3.40  1050.0   0\n",
              "2    13.16  2.36  2.67  18.6  101.0  2.80  ...  2.81   5.68  1.03  3.17  1185.0   0\n",
              "3    14.37  1.95  2.50  16.8  113.0  3.85  ...  2.18   7.80  0.86  3.45  1480.0   0\n",
              "4    13.24  2.59  2.87  21.0  118.0  2.80  ...  1.82   4.32  1.04  2.93   735.0   0\n",
              "..     ...   ...   ...   ...    ...   ...  ...   ...    ...   ...   ...     ...  ..\n",
              "173  13.71  5.65  2.45  20.5   95.0  1.68  ...  1.06   7.70  0.64  1.74   740.0   2\n",
              "174  13.40  3.91  2.48  23.0  102.0  1.80  ...  1.41   7.30  0.70  1.56   750.0   2\n",
              "175  13.27  4.28  2.26  20.0  120.0  1.59  ...  1.35  10.20  0.59  1.56   835.0   2\n",
              "176  13.17  2.59  2.37  20.0  120.0  1.65  ...  1.46   9.30  0.60  1.62   840.0   2\n",
              "177  14.13  4.10  2.74  24.5   96.0  2.05  ...  1.35   9.20  0.61  1.60   560.0   2\n",
              "\n",
              "[178 rows x 14 columns]"
            ]
          },
          "metadata": {
            "tags": []
          },
          "execution_count": 11
        }
      ]
    },
    {
      "cell_type": "code",
      "metadata": {
        "id": "5p0-wAa3k2Ad",
        "colab_type": "code",
        "colab": {
          "base_uri": "https://localhost:8080/",
          "height": 251
        },
        "outputId": "d14987b9-0ce7-4cfe-a8a4-05715d3caaac"
      },
      "source": [
        "wine.feature_names #酒的特征。"
      ],
      "execution_count": 12,
      "outputs": [
        {
          "output_type": "execute_result",
          "data": {
            "text/plain": [
              "['alcohol',\n",
              " 'malic_acid',\n",
              " 'ash',\n",
              " 'alcalinity_of_ash',\n",
              " 'magnesium',\n",
              " 'total_phenols',\n",
              " 'flavanoids',\n",
              " 'nonflavanoid_phenols',\n",
              " 'proanthocyanins',\n",
              " 'color_intensity',\n",
              " 'hue',\n",
              " 'od280/od315_of_diluted_wines',\n",
              " 'proline']"
            ]
          },
          "metadata": {
            "tags": []
          },
          "execution_count": 12
        }
      ]
    },
    {
      "cell_type": "code",
      "metadata": {
        "id": "euyCvrqXvkcf",
        "colab_type": "code",
        "colab": {
          "base_uri": "https://localhost:8080/",
          "height": 35
        },
        "outputId": "6063517c-a062-4d0e-c278-8083f6e97dbe"
      },
      "source": [
        "wine.target_names # 分类标签。"
      ],
      "execution_count": null,
      "outputs": [
        {
          "output_type": "execute_result",
          "data": {
            "text/plain": [
              "array(['class_0', 'class_1', 'class_2'], dtype='<U7')"
            ]
          },
          "metadata": {
            "tags": []
          },
          "execution_count": 16
        }
      ]
    },
    {
      "cell_type": "code",
      "metadata": {
        "id": "4awfhExBvoPA",
        "colab_type": "code",
        "colab": {
          "base_uri": "https://localhost:8080/",
          "height": 251
        },
        "outputId": "245b6435-bc18-48ce-b46e-6990ab3f4bfa"
      },
      "source": [
        "wine.data"
      ],
      "execution_count": null,
      "outputs": [
        {
          "output_type": "execute_result",
          "data": {
            "text/plain": [
              "array([[1.423e+01, 1.710e+00, 2.430e+00, ..., 1.040e+00, 3.920e+00,\n",
              "        1.065e+03],\n",
              "       [1.320e+01, 1.780e+00, 2.140e+00, ..., 1.050e+00, 3.400e+00,\n",
              "        1.050e+03],\n",
              "       [1.316e+01, 2.360e+00, 2.670e+00, ..., 1.030e+00, 3.170e+00,\n",
              "        1.185e+03],\n",
              "       ...,\n",
              "       [1.327e+01, 4.280e+00, 2.260e+00, ..., 5.900e-01, 1.560e+00,\n",
              "        8.350e+02],\n",
              "       [1.317e+01, 2.590e+00, 2.370e+00, ..., 6.000e-01, 1.620e+00,\n",
              "        8.400e+02],\n",
              "       [1.413e+01, 4.100e+00, 2.740e+00, ..., 6.100e-01, 1.600e+00,\n",
              "        5.600e+02]])"
            ]
          },
          "metadata": {
            "tags": []
          },
          "execution_count": 18
        }
      ]
    },
    {
      "cell_type": "code",
      "metadata": {
        "id": "64Muwgyyv3N_",
        "colab_type": "code",
        "colab": {
          "base_uri": "https://localhost:8080/",
          "height": 35
        },
        "outputId": "8262a041-40cd-4c61-a96b-5f3ac63b362e"
      },
      "source": [
        "# 3. 分训练集HE TEST\n",
        "\n",
        "Xtrain, Xtest, Ytrain,Ytest = train_test_split(wine.data,wine.target, test_size =0.3)\n",
        "\n",
        "Xtrain.shape"
      ],
      "execution_count": 20,
      "outputs": [
        {
          "output_type": "execute_result",
          "data": {
            "text/plain": [
              "(124, 13)"
            ]
          },
          "metadata": {
            "tags": []
          },
          "execution_count": 20
        }
      ]
    },
    {
      "cell_type": "code",
      "metadata": {
        "id": "Gu8b8rSdwyDp",
        "colab_type": "code",
        "colab": {
          "base_uri": "https://localhost:8080/",
          "height": 35
        },
        "outputId": "d081da20-0a0c-464e-9172-acacd1d36694"
      },
      "source": [
        "Xtest.shape # X是数据，Y是标签，特征数为13\n"
      ],
      "execution_count": null,
      "outputs": [
        {
          "output_type": "execute_result",
          "data": {
            "text/plain": [
              "(54, 13)"
            ]
          },
          "metadata": {
            "tags": []
          },
          "execution_count": 21
        }
      ]
    },
    {
      "cell_type": "code",
      "metadata": {
        "id": "eg3-yloRwzzn",
        "colab_type": "code",
        "colab": {
          "base_uri": "https://localhost:8080/",
          "height": 35
        },
        "outputId": "551634fe-7d43-4a57-963b-4a25687c4a8b"
      },
      "source": [
        "# 建立模型。\n",
        "clf =tree.DecisionTreeClassifier(criterion='entropy')\n",
        "clf = clf.fit(Xtrain,Ytrain) # 填入训练集。\n",
        "score = clf.score(Xtest,Ytest) # 用测试集进行测试。\n",
        "\n",
        "score #得出测试准确度。"
      ],
      "execution_count": 21,
      "outputs": [
        {
          "output_type": "execute_result",
          "data": {
            "text/plain": [
              "0.9444444444444444"
            ]
          },
          "metadata": {
            "tags": []
          },
          "execution_count": 21
        }
      ]
    },
    {
      "cell_type": "code",
      "metadata": {
        "id": "5RpnBdrLxifh",
        "colab_type": "code",
        "colab": {
          "base_uri": "https://localhost:8080/",
          "height": 1000
        },
        "outputId": "a053cdb0-c8d6-40d5-e6f3-b40281746abb"
      },
      "source": [
        "# 5 画出一棵树。\n",
        "\n",
        "feature_name = ['酒精','苹果酸','灰','灰的碱性','镁','总酚','类黄酮','非黄烷类酚类','花青素','颜色强度','色调','od280/od315稀释葡萄酒','脯氨酸']\n",
        "\n",
        "import graphviz\n",
        "dot_data = tree.export_graphviz(clf, out_file=None\n",
        "                                ,feature_names = feature_name\n",
        "                                ,class_names=[\"琴酒\",\"雪莉\",\"贝尔摩德\"]\n",
        "                                ,filled=True\n",
        "                                ,rounded=True\n",
        "                               ) \n",
        "graph = graphviz.Source(dot_data)\n",
        "graph"
      ],
      "execution_count": 24,
      "outputs": [
        {
          "output_type": "execute_result",
          "data": {
            "text/plain": [
              "<graphviz.files.Source at 0x7f4437b2d7f0>"
            ],
            "image/svg+xml": "<?xml version=\"1.0\" encoding=\"UTF-8\" standalone=\"no\"?>\n<!DOCTYPE svg PUBLIC \"-//W3C//DTD SVG 1.1//EN\"\n \"http://www.w3.org/Graphics/SVG/1.1/DTD/svg11.dtd\">\n<!-- Generated by graphviz version 2.40.1 (20161225.0304)\n -->\n<!-- Title: Tree Pages: 1 -->\n<svg width=\"1224pt\" height=\"790pt\"\n viewBox=\"0.00 0.00 1224.00 790.00\" xmlns=\"http://www.w3.org/2000/svg\" xmlns:xlink=\"http://www.w3.org/1999/xlink\">\n<g id=\"graph0\" class=\"graph\" transform=\"scale(1 1) rotate(0) translate(4 786)\">\n<title>Tree</title>\n<polygon fill=\"#ffffff\" stroke=\"transparent\" points=\"-4,4 -4,-786 1220,-786 1220,4 -4,4\"/>\n<!-- 0 -->\n<g id=\"node1\" class=\"node\">\n<title>0</title>\n<path fill=\"#e7fcef\" stroke=\"#000000\" d=\"M807.5,-782C807.5,-782 691.5,-782 691.5,-782 685.5,-782 679.5,-776 679.5,-770 679.5,-770 679.5,-711 679.5,-711 679.5,-705 685.5,-699 691.5,-699 691.5,-699 807.5,-699 807.5,-699 813.5,-699 819.5,-705 819.5,-711 819.5,-711 819.5,-770 819.5,-770 819.5,-776 813.5,-782 807.5,-782\"/>\n<text text-anchor=\"middle\" x=\"749.5\" y=\"-766.8\" font-family=\"Helvetica,sans-Serif\" font-size=\"14.00\" fill=\"#000000\">类黄酮 &lt;= 2.234</text>\n<text text-anchor=\"middle\" x=\"749.5\" y=\"-751.8\" font-family=\"Helvetica,sans-Serif\" font-size=\"14.00\" fill=\"#000000\">entropy = 1.539</text>\n<text text-anchor=\"middle\" x=\"749.5\" y=\"-736.8\" font-family=\"Helvetica,sans-Serif\" font-size=\"14.00\" fill=\"#000000\">samples = 124</text>\n<text text-anchor=\"middle\" x=\"749.5\" y=\"-721.8\" font-family=\"Helvetica,sans-Serif\" font-size=\"14.00\" fill=\"#000000\">value = [43, 53, 28]</text>\n<text text-anchor=\"middle\" x=\"749.5\" y=\"-706.8\" font-family=\"Helvetica,sans-Serif\" font-size=\"14.00\" fill=\"#000000\">class = 雪莉</text>\n</g>\n<!-- 1 -->\n<g id=\"node2\" class=\"node\">\n<title>1</title>\n<path fill=\"#e2fbec\" stroke=\"#000000\" d=\"M701,-663C701,-663 498,-663 498,-663 492,-663 486,-657 486,-651 486,-651 486,-592 486,-592 486,-586 492,-580 498,-580 498,-580 701,-580 701,-580 707,-580 713,-586 713,-592 713,-592 713,-651 713,-651 713,-657 707,-663 701,-663\"/>\n<text text-anchor=\"middle\" x=\"599.5\" y=\"-647.8\" font-family=\"Helvetica,sans-Serif\" font-size=\"14.00\" fill=\"#000000\">od280/od315稀释葡萄酒 &lt;= 2.21</text>\n<text text-anchor=\"middle\" x=\"599.5\" y=\"-632.8\" font-family=\"Helvetica,sans-Serif\" font-size=\"14.00\" fill=\"#000000\">entropy = 1.098</text>\n<text text-anchor=\"middle\" x=\"599.5\" y=\"-617.8\" font-family=\"Helvetica,sans-Serif\" font-size=\"14.00\" fill=\"#000000\">samples = 62</text>\n<text text-anchor=\"middle\" x=\"599.5\" y=\"-602.8\" font-family=\"Helvetica,sans-Serif\" font-size=\"14.00\" fill=\"#000000\">value = [1, 33, 28]</text>\n<text text-anchor=\"middle\" x=\"599.5\" y=\"-587.8\" font-family=\"Helvetica,sans-Serif\" font-size=\"14.00\" fill=\"#000000\">class = 雪莉</text>\n</g>\n<!-- 0&#45;&gt;1 -->\n<g id=\"edge1\" class=\"edge\">\n<title>0&#45;&gt;1</title>\n<path fill=\"none\" stroke=\"#000000\" d=\"M697.0373,-698.8796C685.0479,-689.368 672.2113,-679.1843 659.9184,-669.432\"/>\n<polygon fill=\"#000000\" stroke=\"#000000\" points=\"661.9425,-666.5701 651.9331,-663.0969 657.5919,-672.054 661.9425,-666.5701\"/>\n<text text-anchor=\"middle\" x=\"654.7952\" y=\"-684.2326\" font-family=\"Helvetica,sans-Serif\" font-size=\"14.00\" fill=\"#000000\">True</text>\n</g>\n<!-- 20 -->\n<g id=\"node21\" class=\"node\">\n<title>20</title>\n<path fill=\"#f1bd97\" stroke=\"#000000\" d=\"M935,-663C935,-663 828,-663 828,-663 822,-663 816,-657 816,-651 816,-651 816,-592 816,-592 816,-586 822,-580 828,-580 828,-580 935,-580 935,-580 941,-580 947,-586 947,-592 947,-592 947,-651 947,-651 947,-657 941,-663 935,-663\"/>\n<text text-anchor=\"middle\" x=\"881.5\" y=\"-647.8\" font-family=\"Helvetica,sans-Serif\" font-size=\"14.00\" fill=\"#000000\">酒精 &lt;= 13.123</text>\n<text text-anchor=\"middle\" x=\"881.5\" y=\"-632.8\" font-family=\"Helvetica,sans-Serif\" font-size=\"14.00\" fill=\"#000000\">entropy = 0.907</text>\n<text text-anchor=\"middle\" x=\"881.5\" y=\"-617.8\" font-family=\"Helvetica,sans-Serif\" font-size=\"14.00\" fill=\"#000000\">samples = 62</text>\n<text text-anchor=\"middle\" x=\"881.5\" y=\"-602.8\" font-family=\"Helvetica,sans-Serif\" font-size=\"14.00\" fill=\"#000000\">value = [42, 20, 0]</text>\n<text text-anchor=\"middle\" x=\"881.5\" y=\"-587.8\" font-family=\"Helvetica,sans-Serif\" font-size=\"14.00\" fill=\"#000000\">class = 琴酒</text>\n</g>\n<!-- 0&#45;&gt;20 -->\n<g id=\"edge20\" class=\"edge\">\n<title>0&#45;&gt;20</title>\n<path fill=\"none\" stroke=\"#000000\" d=\"M795.6672,-698.8796C805.9571,-689.6031 816.956,-679.6874 827.5287,-670.1559\"/>\n<polygon fill=\"#000000\" stroke=\"#000000\" points=\"830.0519,-672.5935 835.1358,-663.2981 825.3648,-667.3944 830.0519,-672.5935\"/>\n<text text-anchor=\"middle\" x=\"833.8427\" y=\"-684.5646\" font-family=\"Helvetica,sans-Serif\" font-size=\"14.00\" fill=\"#000000\">False</text>\n</g>\n<!-- 2 -->\n<g id=\"node3\" class=\"node\">\n<title>2</title>\n<path fill=\"#a876ed\" stroke=\"#000000\" d=\"M485,-544C485,-544 386,-544 386,-544 380,-544 374,-538 374,-532 374,-532 374,-473 374,-473 374,-467 380,-461 386,-461 386,-461 485,-461 485,-461 491,-461 497,-467 497,-473 497,-473 497,-532 497,-532 497,-538 491,-544 485,-544\"/>\n<text text-anchor=\"middle\" x=\"435.5\" y=\"-528.8\" font-family=\"Helvetica,sans-Serif\" font-size=\"14.00\" fill=\"#000000\">色调 &lt;= 0.981</text>\n<text text-anchor=\"middle\" x=\"435.5\" y=\"-513.8\" font-family=\"Helvetica,sans-Serif\" font-size=\"14.00\" fill=\"#000000\">entropy = 0.787</text>\n<text text-anchor=\"middle\" x=\"435.5\" y=\"-498.8\" font-family=\"Helvetica,sans-Serif\" font-size=\"14.00\" fill=\"#000000\">samples = 34</text>\n<text text-anchor=\"middle\" x=\"435.5\" y=\"-483.8\" font-family=\"Helvetica,sans-Serif\" font-size=\"14.00\" fill=\"#000000\">value = [0, 8, 26]</text>\n<text text-anchor=\"middle\" x=\"435.5\" y=\"-468.8\" font-family=\"Helvetica,sans-Serif\" font-size=\"14.00\" fill=\"#000000\">class = 贝尔摩德</text>\n</g>\n<!-- 1&#45;&gt;2 -->\n<g id=\"edge2\" class=\"edge\">\n<title>1&#45;&gt;2</title>\n<path fill=\"none\" stroke=\"#000000\" d=\"M542.1408,-579.8796C528.9075,-570.2774 514.7303,-559.9903 501.1736,-550.1534\"/>\n<polygon fill=\"#000000\" stroke=\"#000000\" points=\"502.9762,-547.1371 492.8269,-544.0969 498.8651,-552.8027 502.9762,-547.1371\"/>\n</g>\n<!-- 11 -->\n<g id=\"node12\" class=\"node\">\n<title>11</title>\n<path fill=\"#50e890\" stroke=\"#000000\" d=\"M649,-544C649,-544 550,-544 550,-544 544,-544 538,-538 538,-532 538,-532 538,-473 538,-473 538,-467 544,-461 550,-461 550,-461 649,-461 649,-461 655,-461 661,-467 661,-473 661,-473 661,-532 661,-532 661,-538 655,-544 649,-544\"/>\n<text text-anchor=\"middle\" x=\"599.5\" y=\"-528.8\" font-family=\"Helvetica,sans-Serif\" font-size=\"14.00\" fill=\"#000000\">色调 &lt;= 0.863</text>\n<text text-anchor=\"middle\" x=\"599.5\" y=\"-513.8\" font-family=\"Helvetica,sans-Serif\" font-size=\"14.00\" fill=\"#000000\">entropy = 0.59</text>\n<text text-anchor=\"middle\" x=\"599.5\" y=\"-498.8\" font-family=\"Helvetica,sans-Serif\" font-size=\"14.00\" fill=\"#000000\">samples = 28</text>\n<text text-anchor=\"middle\" x=\"599.5\" y=\"-483.8\" font-family=\"Helvetica,sans-Serif\" font-size=\"14.00\" fill=\"#000000\">value = [1, 25, 2]</text>\n<text text-anchor=\"middle\" x=\"599.5\" y=\"-468.8\" font-family=\"Helvetica,sans-Serif\" font-size=\"14.00\" fill=\"#000000\">class = 雪莉</text>\n</g>\n<!-- 1&#45;&gt;11 -->\n<g id=\"edge11\" class=\"edge\">\n<title>1&#45;&gt;11</title>\n<path fill=\"none\" stroke=\"#000000\" d=\"M599.5,-579.8796C599.5,-571.6838 599.5,-562.9891 599.5,-554.5013\"/>\n<polygon fill=\"#000000\" stroke=\"#000000\" points=\"603.0001,-554.298 599.5,-544.2981 596.0001,-554.2981 603.0001,-554.298\"/>\n</g>\n<!-- 3 -->\n<g id=\"node4\" class=\"node\">\n<title>3</title>\n<path fill=\"#995fea\" stroke=\"#000000\" d=\"M308,-425C308,-425 209,-425 209,-425 203,-425 197,-419 197,-413 197,-413 197,-354 197,-354 197,-348 203,-342 209,-342 209,-342 308,-342 308,-342 314,-342 320,-348 320,-354 320,-354 320,-413 320,-413 320,-419 314,-425 308,-425\"/>\n<text text-anchor=\"middle\" x=\"258.5\" y=\"-409.8\" font-family=\"Helvetica,sans-Serif\" font-size=\"14.00\" fill=\"#000000\">类黄酮 &lt;= 0.847</text>\n<text text-anchor=\"middle\" x=\"258.5\" y=\"-394.8\" font-family=\"Helvetica,sans-Serif\" font-size=\"14.00\" fill=\"#000000\">entropy = 0.637</text>\n<text text-anchor=\"middle\" x=\"258.5\" y=\"-379.8\" font-family=\"Helvetica,sans-Serif\" font-size=\"14.00\" fill=\"#000000\">samples = 31</text>\n<text text-anchor=\"middle\" x=\"258.5\" y=\"-364.8\" font-family=\"Helvetica,sans-Serif\" font-size=\"14.00\" fill=\"#000000\">value = [0, 5, 26]</text>\n<text text-anchor=\"middle\" x=\"258.5\" y=\"-349.8\" font-family=\"Helvetica,sans-Serif\" font-size=\"14.00\" fill=\"#000000\">class = 贝尔摩德</text>\n</g>\n<!-- 2&#45;&gt;3 -->\n<g id=\"edge3\" class=\"edge\">\n<title>2&#45;&gt;3</title>\n<path fill=\"none\" stroke=\"#000000\" d=\"M373.594,-460.8796C359.0937,-451.1308 343.5433,-440.676 328.7097,-430.7032\"/>\n<polygon fill=\"#000000\" stroke=\"#000000\" points=\"330.3238,-427.5709 320.0722,-424.896 326.4182,-433.38 330.3238,-427.5709\"/>\n</g>\n<!-- 10 -->\n<g id=\"node11\" class=\"node\">\n<title>10</title>\n<path fill=\"#39e581\" stroke=\"#000000\" d=\"M481,-417.5C481,-417.5 390,-417.5 390,-417.5 384,-417.5 378,-411.5 378,-405.5 378,-405.5 378,-361.5 378,-361.5 378,-355.5 384,-349.5 390,-349.5 390,-349.5 481,-349.5 481,-349.5 487,-349.5 493,-355.5 493,-361.5 493,-361.5 493,-405.5 493,-405.5 493,-411.5 487,-417.5 481,-417.5\"/>\n<text text-anchor=\"middle\" x=\"435.5\" y=\"-402.3\" font-family=\"Helvetica,sans-Serif\" font-size=\"14.00\" fill=\"#000000\">entropy = 0.0</text>\n<text text-anchor=\"middle\" x=\"435.5\" y=\"-387.3\" font-family=\"Helvetica,sans-Serif\" font-size=\"14.00\" fill=\"#000000\">samples = 3</text>\n<text text-anchor=\"middle\" x=\"435.5\" y=\"-372.3\" font-family=\"Helvetica,sans-Serif\" font-size=\"14.00\" fill=\"#000000\">value = [0, 3, 0]</text>\n<text text-anchor=\"middle\" x=\"435.5\" y=\"-357.3\" font-family=\"Helvetica,sans-Serif\" font-size=\"14.00\" fill=\"#000000\">class = 雪莉</text>\n</g>\n<!-- 2&#45;&gt;10 -->\n<g id=\"edge10\" class=\"edge\">\n<title>2&#45;&gt;10</title>\n<path fill=\"none\" stroke=\"#000000\" d=\"M435.5,-460.8796C435.5,-450.2134 435.5,-438.7021 435.5,-427.9015\"/>\n<polygon fill=\"#000000\" stroke=\"#000000\" points=\"439.0001,-427.8149 435.5,-417.8149 432.0001,-427.815 439.0001,-427.8149\"/>\n</g>\n<!-- 4 -->\n<g id=\"node5\" class=\"node\">\n<title>4</title>\n<path fill=\"#8139e5\" stroke=\"#000000\" d=\"M111,-298.5C111,-298.5 12,-298.5 12,-298.5 6,-298.5 0,-292.5 0,-286.5 0,-286.5 0,-242.5 0,-242.5 0,-236.5 6,-230.5 12,-230.5 12,-230.5 111,-230.5 111,-230.5 117,-230.5 123,-236.5 123,-242.5 123,-242.5 123,-286.5 123,-286.5 123,-292.5 117,-298.5 111,-298.5\"/>\n<text text-anchor=\"middle\" x=\"61.5\" y=\"-283.3\" font-family=\"Helvetica,sans-Serif\" font-size=\"14.00\" fill=\"#000000\">entropy = 0.0</text>\n<text text-anchor=\"middle\" x=\"61.5\" y=\"-268.3\" font-family=\"Helvetica,sans-Serif\" font-size=\"14.00\" fill=\"#000000\">samples = 20</text>\n<text text-anchor=\"middle\" x=\"61.5\" y=\"-253.3\" font-family=\"Helvetica,sans-Serif\" font-size=\"14.00\" fill=\"#000000\">value = [0, 0, 20]</text>\n<text text-anchor=\"middle\" x=\"61.5\" y=\"-238.3\" font-family=\"Helvetica,sans-Serif\" font-size=\"14.00\" fill=\"#000000\">class = 贝尔摩德</text>\n</g>\n<!-- 3&#45;&gt;4 -->\n<g id=\"edge4\" class=\"edge\">\n<title>3&#45;&gt;4</title>\n<path fill=\"none\" stroke=\"#000000\" d=\"M196.9783,-346.3371C174.5546,-332.7919 149.1399,-317.4398 126.4296,-303.7214\"/>\n<polygon fill=\"#000000\" stroke=\"#000000\" points=\"128.2391,-300.7255 117.8699,-298.5508 124.6198,-306.7172 128.2391,-300.7255\"/>\n</g>\n<!-- 5 -->\n<g id=\"node6\" class=\"node\">\n<title>5</title>\n<path fill=\"#eadefb\" stroke=\"#000000\" d=\"M364,-306C364,-306 153,-306 153,-306 147,-306 141,-300 141,-294 141,-294 141,-235 141,-235 141,-229 147,-223 153,-223 153,-223 364,-223 364,-223 370,-223 376,-229 376,-235 376,-235 376,-294 376,-294 376,-300 370,-306 364,-306\"/>\n<text text-anchor=\"middle\" x=\"258.5\" y=\"-290.8\" font-family=\"Helvetica,sans-Serif\" font-size=\"14.00\" fill=\"#000000\">od280/od315稀释葡萄酒 &lt;= 1.444</text>\n<text text-anchor=\"middle\" x=\"258.5\" y=\"-275.8\" font-family=\"Helvetica,sans-Serif\" font-size=\"14.00\" fill=\"#000000\">entropy = 0.994</text>\n<text text-anchor=\"middle\" x=\"258.5\" y=\"-260.8\" font-family=\"Helvetica,sans-Serif\" font-size=\"14.00\" fill=\"#000000\">samples = 11</text>\n<text text-anchor=\"middle\" x=\"258.5\" y=\"-245.8\" font-family=\"Helvetica,sans-Serif\" font-size=\"14.00\" fill=\"#000000\">value = [0, 5, 6]</text>\n<text text-anchor=\"middle\" x=\"258.5\" y=\"-230.8\" font-family=\"Helvetica,sans-Serif\" font-size=\"14.00\" fill=\"#000000\">class = 贝尔摩德</text>\n</g>\n<!-- 3&#45;&gt;5 -->\n<g id=\"edge5\" class=\"edge\">\n<title>3&#45;&gt;5</title>\n<path fill=\"none\" stroke=\"#000000\" d=\"M258.5,-341.8796C258.5,-333.6838 258.5,-324.9891 258.5,-316.5013\"/>\n<polygon fill=\"#000000\" stroke=\"#000000\" points=\"262.0001,-316.298 258.5,-306.2981 255.0001,-316.2981 262.0001,-316.298\"/>\n</g>\n<!-- 6 -->\n<g id=\"node7\" class=\"node\">\n<title>6</title>\n<path fill=\"#8139e5\" stroke=\"#000000\" d=\"M239,-179.5C239,-179.5 140,-179.5 140,-179.5 134,-179.5 128,-173.5 128,-167.5 128,-167.5 128,-123.5 128,-123.5 128,-117.5 134,-111.5 140,-111.5 140,-111.5 239,-111.5 239,-111.5 245,-111.5 251,-117.5 251,-123.5 251,-123.5 251,-167.5 251,-167.5 251,-173.5 245,-179.5 239,-179.5\"/>\n<text text-anchor=\"middle\" x=\"189.5\" y=\"-164.3\" font-family=\"Helvetica,sans-Serif\" font-size=\"14.00\" fill=\"#000000\">entropy = 0.0</text>\n<text text-anchor=\"middle\" x=\"189.5\" y=\"-149.3\" font-family=\"Helvetica,sans-Serif\" font-size=\"14.00\" fill=\"#000000\">samples = 4</text>\n<text text-anchor=\"middle\" x=\"189.5\" y=\"-134.3\" font-family=\"Helvetica,sans-Serif\" font-size=\"14.00\" fill=\"#000000\">value = [0, 0, 4]</text>\n<text text-anchor=\"middle\" x=\"189.5\" y=\"-119.3\" font-family=\"Helvetica,sans-Serif\" font-size=\"14.00\" fill=\"#000000\">class = 贝尔摩德</text>\n</g>\n<!-- 5&#45;&gt;6 -->\n<g id=\"edge6\" class=\"edge\">\n<title>5&#45;&gt;6</title>\n<path fill=\"none\" stroke=\"#000000\" d=\"M234.3671,-222.8796C227.9275,-211.7735 220.9566,-199.7513 214.4729,-188.5691\"/>\n<polygon fill=\"#000000\" stroke=\"#000000\" points=\"217.4409,-186.7102 209.3969,-179.8149 211.3852,-190.2215 217.4409,-186.7102\"/>\n</g>\n<!-- 7 -->\n<g id=\"node8\" class=\"node\">\n<title>7</title>\n<path fill=\"#88efb3\" stroke=\"#000000\" d=\"M375.5,-187C375.5,-187 281.5,-187 281.5,-187 275.5,-187 269.5,-181 269.5,-175 269.5,-175 269.5,-116 269.5,-116 269.5,-110 275.5,-104 281.5,-104 281.5,-104 375.5,-104 375.5,-104 381.5,-104 387.5,-110 387.5,-116 387.5,-116 387.5,-175 387.5,-175 387.5,-181 381.5,-187 375.5,-187\"/>\n<text text-anchor=\"middle\" x=\"328.5\" y=\"-171.8\" font-family=\"Helvetica,sans-Serif\" font-size=\"14.00\" fill=\"#000000\">酒精 &lt;= 13.06</text>\n<text text-anchor=\"middle\" x=\"328.5\" y=\"-156.8\" font-family=\"Helvetica,sans-Serif\" font-size=\"14.00\" fill=\"#000000\">entropy = 0.863</text>\n<text text-anchor=\"middle\" x=\"328.5\" y=\"-141.8\" font-family=\"Helvetica,sans-Serif\" font-size=\"14.00\" fill=\"#000000\">samples = 7</text>\n<text text-anchor=\"middle\" x=\"328.5\" y=\"-126.8\" font-family=\"Helvetica,sans-Serif\" font-size=\"14.00\" fill=\"#000000\">value = [0, 5, 2]</text>\n<text text-anchor=\"middle\" x=\"328.5\" y=\"-111.8\" font-family=\"Helvetica,sans-Serif\" font-size=\"14.00\" fill=\"#000000\">class = 雪莉</text>\n</g>\n<!-- 5&#45;&gt;7 -->\n<g id=\"edge7\" class=\"edge\">\n<title>5&#45;&gt;7</title>\n<path fill=\"none\" stroke=\"#000000\" d=\"M282.9826,-222.8796C288.0685,-214.2335 293.4811,-205.0322 298.7328,-196.1042\"/>\n<polygon fill=\"#000000\" stroke=\"#000000\" points=\"301.8594,-197.692 303.9129,-187.2981 295.8259,-194.1428 301.8594,-197.692\"/>\n</g>\n<!-- 8 -->\n<g id=\"node9\" class=\"node\">\n<title>8</title>\n<path fill=\"#39e581\" stroke=\"#000000\" d=\"M305,-68C305,-68 214,-68 214,-68 208,-68 202,-62 202,-56 202,-56 202,-12 202,-12 202,-6 208,0 214,0 214,0 305,0 305,0 311,0 317,-6 317,-12 317,-12 317,-56 317,-56 317,-62 311,-68 305,-68\"/>\n<text text-anchor=\"middle\" x=\"259.5\" y=\"-52.8\" font-family=\"Helvetica,sans-Serif\" font-size=\"14.00\" fill=\"#000000\">entropy = 0.0</text>\n<text text-anchor=\"middle\" x=\"259.5\" y=\"-37.8\" font-family=\"Helvetica,sans-Serif\" font-size=\"14.00\" fill=\"#000000\">samples = 5</text>\n<text text-anchor=\"middle\" x=\"259.5\" y=\"-22.8\" font-family=\"Helvetica,sans-Serif\" font-size=\"14.00\" fill=\"#000000\">value = [0, 5, 0]</text>\n<text text-anchor=\"middle\" x=\"259.5\" y=\"-7.8\" font-family=\"Helvetica,sans-Serif\" font-size=\"14.00\" fill=\"#000000\">class = 雪莉</text>\n</g>\n<!-- 7&#45;&gt;8 -->\n<g id=\"edge8\" class=\"edge\">\n<title>7&#45;&gt;8</title>\n<path fill=\"none\" stroke=\"#000000\" d=\"M302.8069,-103.9815C297.3469,-95.1585 291.5716,-85.8258 286.0793,-76.9506\"/>\n<polygon fill=\"#000000\" stroke=\"#000000\" points=\"288.942,-74.9254 280.7035,-68.2637 282.9896,-78.609 288.942,-74.9254\"/>\n</g>\n<!-- 9 -->\n<g id=\"node10\" class=\"node\">\n<title>9</title>\n<path fill=\"#8139e5\" stroke=\"#000000\" d=\"M446,-68C446,-68 347,-68 347,-68 341,-68 335,-62 335,-56 335,-56 335,-12 335,-12 335,-6 341,0 347,0 347,0 446,0 446,0 452,0 458,-6 458,-12 458,-12 458,-56 458,-56 458,-62 452,-68 446,-68\"/>\n<text text-anchor=\"middle\" x=\"396.5\" y=\"-52.8\" font-family=\"Helvetica,sans-Serif\" font-size=\"14.00\" fill=\"#000000\">entropy = 0.0</text>\n<text text-anchor=\"middle\" x=\"396.5\" y=\"-37.8\" font-family=\"Helvetica,sans-Serif\" font-size=\"14.00\" fill=\"#000000\">samples = 2</text>\n<text text-anchor=\"middle\" x=\"396.5\" y=\"-22.8\" font-family=\"Helvetica,sans-Serif\" font-size=\"14.00\" fill=\"#000000\">value = [0, 0, 2]</text>\n<text text-anchor=\"middle\" x=\"396.5\" y=\"-7.8\" font-family=\"Helvetica,sans-Serif\" font-size=\"14.00\" fill=\"#000000\">class = 贝尔摩德</text>\n</g>\n<!-- 7&#45;&gt;9 -->\n<g id=\"edge9\" class=\"edge\">\n<title>7&#45;&gt;9</title>\n<path fill=\"none\" stroke=\"#000000\" d=\"M353.8207,-103.9815C359.2016,-95.1585 364.8932,-85.8258 370.3059,-76.9506\"/>\n<polygon fill=\"#000000\" stroke=\"#000000\" points=\"373.3851,-78.6236 375.6038,-68.2637 367.4088,-74.9789 373.3851,-78.6236\"/>\n</g>\n<!-- 12 -->\n<g id=\"node13\" class=\"node\">\n<title>12</title>\n<path fill=\"#9cf2c0\" stroke=\"#000000\" d=\"M632.5,-425C632.5,-425 538.5,-425 538.5,-425 532.5,-425 526.5,-419 526.5,-413 526.5,-413 526.5,-354 526.5,-354 526.5,-348 532.5,-342 538.5,-342 538.5,-342 632.5,-342 632.5,-342 638.5,-342 644.5,-348 644.5,-354 644.5,-354 644.5,-413 644.5,-413 644.5,-419 638.5,-425 632.5,-425\"/>\n<text text-anchor=\"middle\" x=\"585.5\" y=\"-409.8\" font-family=\"Helvetica,sans-Serif\" font-size=\"14.00\" fill=\"#000000\">酒精 &lt;= 12.583</text>\n<text text-anchor=\"middle\" x=\"585.5\" y=\"-394.8\" font-family=\"Helvetica,sans-Serif\" font-size=\"14.00\" fill=\"#000000\">entropy = 0.918</text>\n<text text-anchor=\"middle\" x=\"585.5\" y=\"-379.8\" font-family=\"Helvetica,sans-Serif\" font-size=\"14.00\" fill=\"#000000\">samples = 6</text>\n<text text-anchor=\"middle\" x=\"585.5\" y=\"-364.8\" font-family=\"Helvetica,sans-Serif\" font-size=\"14.00\" fill=\"#000000\">value = [0, 4, 2]</text>\n<text text-anchor=\"middle\" x=\"585.5\" y=\"-349.8\" font-family=\"Helvetica,sans-Serif\" font-size=\"14.00\" fill=\"#000000\">class = 雪莉</text>\n</g>\n<!-- 11&#45;&gt;12 -->\n<g id=\"edge12\" class=\"edge\">\n<title>11&#45;&gt;12</title>\n<path fill=\"none\" stroke=\"#000000\" d=\"M594.6035,-460.8796C593.6393,-452.6838 592.6164,-443.9891 591.6178,-435.5013\"/>\n<polygon fill=\"#000000\" stroke=\"#000000\" points=\"595.0619,-434.8206 590.4174,-425.2981 588.1099,-435.6386 595.0619,-434.8206\"/>\n</g>\n<!-- 15 -->\n<g id=\"node16\" class=\"node\">\n<title>15</title>\n<path fill=\"#42e687\" stroke=\"#000000\" d=\"M788,-425C788,-425 675,-425 675,-425 669,-425 663,-419 663,-413 663,-413 663,-354 663,-354 663,-348 669,-342 675,-342 675,-342 788,-342 788,-342 794,-342 800,-348 800,-354 800,-354 800,-413 800,-413 800,-419 794,-425 788,-425\"/>\n<text text-anchor=\"middle\" x=\"731.5\" y=\"-409.8\" font-family=\"Helvetica,sans-Serif\" font-size=\"14.00\" fill=\"#000000\">脯氨酸 &lt;= 847.758</text>\n<text text-anchor=\"middle\" x=\"731.5\" y=\"-394.8\" font-family=\"Helvetica,sans-Serif\" font-size=\"14.00\" fill=\"#000000\">entropy = 0.267</text>\n<text text-anchor=\"middle\" x=\"731.5\" y=\"-379.8\" font-family=\"Helvetica,sans-Serif\" font-size=\"14.00\" fill=\"#000000\">samples = 22</text>\n<text text-anchor=\"middle\" x=\"731.5\" y=\"-364.8\" font-family=\"Helvetica,sans-Serif\" font-size=\"14.00\" fill=\"#000000\">value = [1, 21, 0]</text>\n<text text-anchor=\"middle\" x=\"731.5\" y=\"-349.8\" font-family=\"Helvetica,sans-Serif\" font-size=\"14.00\" fill=\"#000000\">class = 雪莉</text>\n</g>\n<!-- 11&#45;&gt;15 -->\n<g id=\"edge15\" class=\"edge\">\n<title>11&#45;&gt;15</title>\n<path fill=\"none\" stroke=\"#000000\" d=\"M645.6672,-460.8796C655.9571,-451.6031 666.956,-441.6874 677.5287,-432.1559\"/>\n<polygon fill=\"#000000\" stroke=\"#000000\" points=\"680.0519,-434.5935 685.1358,-425.2981 675.3648,-429.3944 680.0519,-434.5935\"/>\n</g>\n<!-- 13 -->\n<g id=\"node14\" class=\"node\">\n<title>13</title>\n<path fill=\"#39e581\" stroke=\"#000000\" d=\"M497,-298.5C497,-298.5 406,-298.5 406,-298.5 400,-298.5 394,-292.5 394,-286.5 394,-286.5 394,-242.5 394,-242.5 394,-236.5 400,-230.5 406,-230.5 406,-230.5 497,-230.5 497,-230.5 503,-230.5 509,-236.5 509,-242.5 509,-242.5 509,-286.5 509,-286.5 509,-292.5 503,-298.5 497,-298.5\"/>\n<text text-anchor=\"middle\" x=\"451.5\" y=\"-283.3\" font-family=\"Helvetica,sans-Serif\" font-size=\"14.00\" fill=\"#000000\">entropy = 0.0</text>\n<text text-anchor=\"middle\" x=\"451.5\" y=\"-268.3\" font-family=\"Helvetica,sans-Serif\" font-size=\"14.00\" fill=\"#000000\">samples = 4</text>\n<text text-anchor=\"middle\" x=\"451.5\" y=\"-253.3\" font-family=\"Helvetica,sans-Serif\" font-size=\"14.00\" fill=\"#000000\">value = [0, 4, 0]</text>\n<text text-anchor=\"middle\" x=\"451.5\" y=\"-238.3\" font-family=\"Helvetica,sans-Serif\" font-size=\"14.00\" fill=\"#000000\">class = 雪莉</text>\n</g>\n<!-- 12&#45;&gt;13 -->\n<g id=\"edge13\" class=\"edge\">\n<title>12&#45;&gt;13</title>\n<path fill=\"none\" stroke=\"#000000\" d=\"M538.6333,-341.8796C525.3844,-330.1138 510.9776,-317.3197 497.7644,-305.5855\"/>\n<polygon fill=\"#000000\" stroke=\"#000000\" points=\"499.9416,-302.8381 490.1403,-298.8149 495.2935,-308.0722 499.9416,-302.8381\"/>\n</g>\n<!-- 14 -->\n<g id=\"node15\" class=\"node\">\n<title>14</title>\n<path fill=\"#8139e5\" stroke=\"#000000\" d=\"M638,-298.5C638,-298.5 539,-298.5 539,-298.5 533,-298.5 527,-292.5 527,-286.5 527,-286.5 527,-242.5 527,-242.5 527,-236.5 533,-230.5 539,-230.5 539,-230.5 638,-230.5 638,-230.5 644,-230.5 650,-236.5 650,-242.5 650,-242.5 650,-286.5 650,-286.5 650,-292.5 644,-298.5 638,-298.5\"/>\n<text text-anchor=\"middle\" x=\"588.5\" y=\"-283.3\" font-family=\"Helvetica,sans-Serif\" font-size=\"14.00\" fill=\"#000000\">entropy = 0.0</text>\n<text text-anchor=\"middle\" x=\"588.5\" y=\"-268.3\" font-family=\"Helvetica,sans-Serif\" font-size=\"14.00\" fill=\"#000000\">samples = 2</text>\n<text text-anchor=\"middle\" x=\"588.5\" y=\"-253.3\" font-family=\"Helvetica,sans-Serif\" font-size=\"14.00\" fill=\"#000000\">value = [0, 0, 2]</text>\n<text text-anchor=\"middle\" x=\"588.5\" y=\"-238.3\" font-family=\"Helvetica,sans-Serif\" font-size=\"14.00\" fill=\"#000000\">class = 贝尔摩德</text>\n</g>\n<!-- 12&#45;&gt;14 -->\n<g id=\"edge14\" class=\"edge\">\n<title>12&#45;&gt;14</title>\n<path fill=\"none\" stroke=\"#000000\" d=\"M586.5493,-341.8796C586.8182,-331.2134 587.1084,-319.7021 587.3806,-308.9015\"/>\n<polygon fill=\"#000000\" stroke=\"#000000\" points=\"590.8817,-308.9 587.6349,-298.8149 583.8839,-308.7235 590.8817,-308.9\"/>\n</g>\n<!-- 16 -->\n<g id=\"node17\" class=\"node\">\n<title>16</title>\n<path fill=\"#39e581\" stroke=\"#000000\" d=\"M779,-298.5C779,-298.5 680,-298.5 680,-298.5 674,-298.5 668,-292.5 668,-286.5 668,-286.5 668,-242.5 668,-242.5 668,-236.5 674,-230.5 680,-230.5 680,-230.5 779,-230.5 779,-230.5 785,-230.5 791,-236.5 791,-242.5 791,-242.5 791,-286.5 791,-286.5 791,-292.5 785,-298.5 779,-298.5\"/>\n<text text-anchor=\"middle\" x=\"729.5\" y=\"-283.3\" font-family=\"Helvetica,sans-Serif\" font-size=\"14.00\" fill=\"#000000\">entropy = 0.0</text>\n<text text-anchor=\"middle\" x=\"729.5\" y=\"-268.3\" font-family=\"Helvetica,sans-Serif\" font-size=\"14.00\" fill=\"#000000\">samples = 20</text>\n<text text-anchor=\"middle\" x=\"729.5\" y=\"-253.3\" font-family=\"Helvetica,sans-Serif\" font-size=\"14.00\" fill=\"#000000\">value = [0, 20, 0]</text>\n<text text-anchor=\"middle\" x=\"729.5\" y=\"-238.3\" font-family=\"Helvetica,sans-Serif\" font-size=\"14.00\" fill=\"#000000\">class = 雪莉</text>\n</g>\n<!-- 15&#45;&gt;16 -->\n<g id=\"edge16\" class=\"edge\">\n<title>15&#45;&gt;16</title>\n<path fill=\"none\" stroke=\"#000000\" d=\"M730.8005,-341.8796C730.6212,-331.2134 730.4278,-319.7021 730.2462,-308.9015\"/>\n<polygon fill=\"#000000\" stroke=\"#000000\" points=\"733.7444,-308.7547 730.0767,-298.8149 726.7454,-308.8724 733.7444,-308.7547\"/>\n</g>\n<!-- 17 -->\n<g id=\"node18\" class=\"node\">\n<title>17</title>\n<path fill=\"#ffffff\" stroke=\"#000000\" d=\"M934,-306C934,-306 821,-306 821,-306 815,-306 809,-300 809,-294 809,-294 809,-235 809,-235 809,-229 815,-223 821,-223 821,-223 934,-223 934,-223 940,-223 946,-229 946,-235 946,-235 946,-294 946,-294 946,-300 940,-306 934,-306\"/>\n<text text-anchor=\"middle\" x=\"877.5\" y=\"-290.8\" font-family=\"Helvetica,sans-Serif\" font-size=\"14.00\" fill=\"#000000\">脯氨酸 &lt;= 894.913</text>\n<text text-anchor=\"middle\" x=\"877.5\" y=\"-275.8\" font-family=\"Helvetica,sans-Serif\" font-size=\"14.00\" fill=\"#000000\">entropy = 1.0</text>\n<text text-anchor=\"middle\" x=\"877.5\" y=\"-260.8\" font-family=\"Helvetica,sans-Serif\" font-size=\"14.00\" fill=\"#000000\">samples = 2</text>\n<text text-anchor=\"middle\" x=\"877.5\" y=\"-245.8\" font-family=\"Helvetica,sans-Serif\" font-size=\"14.00\" fill=\"#000000\">value = [1, 1, 0]</text>\n<text text-anchor=\"middle\" x=\"877.5\" y=\"-230.8\" font-family=\"Helvetica,sans-Serif\" font-size=\"14.00\" fill=\"#000000\">class = 琴酒</text>\n</g>\n<!-- 15&#45;&gt;17 -->\n<g id=\"edge17\" class=\"edge\">\n<title>15&#45;&gt;17</title>\n<path fill=\"none\" stroke=\"#000000\" d=\"M782.5637,-341.8796C794.0555,-332.513 806.3468,-322.4948 818.145,-312.8784\"/>\n<polygon fill=\"#000000\" stroke=\"#000000\" points=\"820.6782,-315.329 826.2183,-306.2981 816.2556,-309.903 820.6782,-315.329\"/>\n</g>\n<!-- 18 -->\n<g id=\"node19\" class=\"node\">\n<title>18</title>\n<path fill=\"#39e581\" stroke=\"#000000\" d=\"M793,-179.5C793,-179.5 702,-179.5 702,-179.5 696,-179.5 690,-173.5 690,-167.5 690,-167.5 690,-123.5 690,-123.5 690,-117.5 696,-111.5 702,-111.5 702,-111.5 793,-111.5 793,-111.5 799,-111.5 805,-117.5 805,-123.5 805,-123.5 805,-167.5 805,-167.5 805,-173.5 799,-179.5 793,-179.5\"/>\n<text text-anchor=\"middle\" x=\"747.5\" y=\"-164.3\" font-family=\"Helvetica,sans-Serif\" font-size=\"14.00\" fill=\"#000000\">entropy = 0.0</text>\n<text text-anchor=\"middle\" x=\"747.5\" y=\"-149.3\" font-family=\"Helvetica,sans-Serif\" font-size=\"14.00\" fill=\"#000000\">samples = 1</text>\n<text text-anchor=\"middle\" x=\"747.5\" y=\"-134.3\" font-family=\"Helvetica,sans-Serif\" font-size=\"14.00\" fill=\"#000000\">value = [0, 1, 0]</text>\n<text text-anchor=\"middle\" x=\"747.5\" y=\"-119.3\" font-family=\"Helvetica,sans-Serif\" font-size=\"14.00\" fill=\"#000000\">class = 雪莉</text>\n</g>\n<!-- 17&#45;&gt;18 -->\n<g id=\"edge18\" class=\"edge\">\n<title>17&#45;&gt;18</title>\n<path fill=\"none\" stroke=\"#000000\" d=\"M832.0323,-222.8796C819.1789,-211.1138 805.2021,-198.3197 792.3834,-186.5855\"/>\n<polygon fill=\"#000000\" stroke=\"#000000\" points=\"794.7264,-183.9854 784.9869,-179.8149 789.9999,-189.1488 794.7264,-183.9854\"/>\n</g>\n<!-- 19 -->\n<g id=\"node20\" class=\"node\">\n<title>19</title>\n<path fill=\"#e58139\" stroke=\"#000000\" d=\"M926,-179.5C926,-179.5 835,-179.5 835,-179.5 829,-179.5 823,-173.5 823,-167.5 823,-167.5 823,-123.5 823,-123.5 823,-117.5 829,-111.5 835,-111.5 835,-111.5 926,-111.5 926,-111.5 932,-111.5 938,-117.5 938,-123.5 938,-123.5 938,-167.5 938,-167.5 938,-173.5 932,-179.5 926,-179.5\"/>\n<text text-anchor=\"middle\" x=\"880.5\" y=\"-164.3\" font-family=\"Helvetica,sans-Serif\" font-size=\"14.00\" fill=\"#000000\">entropy = 0.0</text>\n<text text-anchor=\"middle\" x=\"880.5\" y=\"-149.3\" font-family=\"Helvetica,sans-Serif\" font-size=\"14.00\" fill=\"#000000\">samples = 1</text>\n<text text-anchor=\"middle\" x=\"880.5\" y=\"-134.3\" font-family=\"Helvetica,sans-Serif\" font-size=\"14.00\" fill=\"#000000\">value = [1, 0, 0]</text>\n<text text-anchor=\"middle\" x=\"880.5\" y=\"-119.3\" font-family=\"Helvetica,sans-Serif\" font-size=\"14.00\" fill=\"#000000\">class = 琴酒</text>\n</g>\n<!-- 17&#45;&gt;19 -->\n<g id=\"edge19\" class=\"edge\">\n<title>17&#45;&gt;19</title>\n<path fill=\"none\" stroke=\"#000000\" d=\"M878.5493,-222.8796C878.8182,-212.2134 879.1084,-200.7021 879.3806,-189.9015\"/>\n<polygon fill=\"#000000\" stroke=\"#000000\" points=\"882.8817,-189.9 879.6349,-179.8149 875.8839,-189.7235 882.8817,-189.9\"/>\n</g>\n<!-- 21 -->\n<g id=\"node22\" class=\"node\">\n<title>21</title>\n<path fill=\"#74eda7\" stroke=\"#000000\" d=\"M931,-544C931,-544 832,-544 832,-544 826,-544 820,-538 820,-532 820,-532 820,-473 820,-473 820,-467 826,-461 832,-461 832,-461 931,-461 931,-461 937,-461 943,-467 943,-473 943,-473 943,-532 943,-532 943,-538 937,-544 931,-544\"/>\n<text text-anchor=\"middle\" x=\"881.5\" y=\"-528.8\" font-family=\"Helvetica,sans-Serif\" font-size=\"14.00\" fill=\"#000000\">脯氨酸 &lt;= 711.3</text>\n<text text-anchor=\"middle\" x=\"881.5\" y=\"-513.8\" font-family=\"Helvetica,sans-Serif\" font-size=\"14.00\" fill=\"#000000\">entropy = 0.779</text>\n<text text-anchor=\"middle\" x=\"881.5\" y=\"-498.8\" font-family=\"Helvetica,sans-Serif\" font-size=\"14.00\" fill=\"#000000\">samples = 26</text>\n<text text-anchor=\"middle\" x=\"881.5\" y=\"-483.8\" font-family=\"Helvetica,sans-Serif\" font-size=\"14.00\" fill=\"#000000\">value = [6, 20, 0]</text>\n<text text-anchor=\"middle\" x=\"881.5\" y=\"-468.8\" font-family=\"Helvetica,sans-Serif\" font-size=\"14.00\" fill=\"#000000\">class = 雪莉</text>\n</g>\n<!-- 20&#45;&gt;21 -->\n<g id=\"edge21\" class=\"edge\">\n<title>20&#45;&gt;21</title>\n<path fill=\"none\" stroke=\"#000000\" d=\"M881.5,-579.8796C881.5,-571.6838 881.5,-562.9891 881.5,-554.5013\"/>\n<polygon fill=\"#000000\" stroke=\"#000000\" points=\"885.0001,-554.298 881.5,-544.2981 878.0001,-554.2981 885.0001,-554.298\"/>\n</g>\n<!-- 28 -->\n<g id=\"node29\" class=\"node\">\n<title>28</title>\n<path fill=\"#e58139\" stroke=\"#000000\" d=\"M1072,-536.5C1072,-536.5 973,-536.5 973,-536.5 967,-536.5 961,-530.5 961,-524.5 961,-524.5 961,-480.5 961,-480.5 961,-474.5 967,-468.5 973,-468.5 973,-468.5 1072,-468.5 1072,-468.5 1078,-468.5 1084,-474.5 1084,-480.5 1084,-480.5 1084,-524.5 1084,-524.5 1084,-530.5 1078,-536.5 1072,-536.5\"/>\n<text text-anchor=\"middle\" x=\"1022.5\" y=\"-521.3\" font-family=\"Helvetica,sans-Serif\" font-size=\"14.00\" fill=\"#000000\">entropy = 0.0</text>\n<text text-anchor=\"middle\" x=\"1022.5\" y=\"-506.3\" font-family=\"Helvetica,sans-Serif\" font-size=\"14.00\" fill=\"#000000\">samples = 36</text>\n<text text-anchor=\"middle\" x=\"1022.5\" y=\"-491.3\" font-family=\"Helvetica,sans-Serif\" font-size=\"14.00\" fill=\"#000000\">value = [36, 0, 0]</text>\n<text text-anchor=\"middle\" x=\"1022.5\" y=\"-476.3\" font-family=\"Helvetica,sans-Serif\" font-size=\"14.00\" fill=\"#000000\">class = 琴酒</text>\n</g>\n<!-- 20&#45;&gt;28 -->\n<g id=\"edge28\" class=\"edge\">\n<title>20&#45;&gt;28</title>\n<path fill=\"none\" stroke=\"#000000\" d=\"M930.815,-579.8796C944.756,-568.1138 959.9154,-555.3197 973.8188,-543.5855\"/>\n<polygon fill=\"#000000\" stroke=\"#000000\" points=\"976.4564,-545.9394 981.8411,-536.8149 971.9416,-540.5899 976.4564,-545.9394\"/>\n</g>\n<!-- 22 -->\n<g id=\"node23\" class=\"node\">\n<title>22</title>\n<path fill=\"#39e581\" stroke=\"#000000\" d=\"M931,-417.5C931,-417.5 832,-417.5 832,-417.5 826,-417.5 820,-411.5 820,-405.5 820,-405.5 820,-361.5 820,-361.5 820,-355.5 826,-349.5 832,-349.5 832,-349.5 931,-349.5 931,-349.5 937,-349.5 943,-355.5 943,-361.5 943,-361.5 943,-405.5 943,-405.5 943,-411.5 937,-417.5 931,-417.5\"/>\n<text text-anchor=\"middle\" x=\"881.5\" y=\"-402.3\" font-family=\"Helvetica,sans-Serif\" font-size=\"14.00\" fill=\"#000000\">entropy = 0.0</text>\n<text text-anchor=\"middle\" x=\"881.5\" y=\"-387.3\" font-family=\"Helvetica,sans-Serif\" font-size=\"14.00\" fill=\"#000000\">samples = 17</text>\n<text text-anchor=\"middle\" x=\"881.5\" y=\"-372.3\" font-family=\"Helvetica,sans-Serif\" font-size=\"14.00\" fill=\"#000000\">value = [0, 17, 0]</text>\n<text text-anchor=\"middle\" x=\"881.5\" y=\"-357.3\" font-family=\"Helvetica,sans-Serif\" font-size=\"14.00\" fill=\"#000000\">class = 雪莉</text>\n</g>\n<!-- 21&#45;&gt;22 -->\n<g id=\"edge22\" class=\"edge\">\n<title>21&#45;&gt;22</title>\n<path fill=\"none\" stroke=\"#000000\" d=\"M881.5,-460.8796C881.5,-450.2134 881.5,-438.7021 881.5,-427.9015\"/>\n<polygon fill=\"#000000\" stroke=\"#000000\" points=\"885.0001,-427.8149 881.5,-417.8149 878.0001,-427.815 885.0001,-427.8149\"/>\n</g>\n<!-- 23 -->\n<g id=\"node24\" class=\"node\">\n<title>23</title>\n<path fill=\"#f2c09c\" stroke=\"#000000\" d=\"M1070.5,-425C1070.5,-425 976.5,-425 976.5,-425 970.5,-425 964.5,-419 964.5,-413 964.5,-413 964.5,-354 964.5,-354 964.5,-348 970.5,-342 976.5,-342 976.5,-342 1070.5,-342 1070.5,-342 1076.5,-342 1082.5,-348 1082.5,-354 1082.5,-354 1082.5,-413 1082.5,-413 1082.5,-419 1076.5,-425 1070.5,-425\"/>\n<text text-anchor=\"middle\" x=\"1023.5\" y=\"-409.8\" font-family=\"Helvetica,sans-Serif\" font-size=\"14.00\" fill=\"#000000\">镁 &lt;= 126.556</text>\n<text text-anchor=\"middle\" x=\"1023.5\" y=\"-394.8\" font-family=\"Helvetica,sans-Serif\" font-size=\"14.00\" fill=\"#000000\">entropy = 0.918</text>\n<text text-anchor=\"middle\" x=\"1023.5\" y=\"-379.8\" font-family=\"Helvetica,sans-Serif\" font-size=\"14.00\" fill=\"#000000\">samples = 9</text>\n<text text-anchor=\"middle\" x=\"1023.5\" y=\"-364.8\" font-family=\"Helvetica,sans-Serif\" font-size=\"14.00\" fill=\"#000000\">value = [6, 3, 0]</text>\n<text text-anchor=\"middle\" x=\"1023.5\" y=\"-349.8\" font-family=\"Helvetica,sans-Serif\" font-size=\"14.00\" fill=\"#000000\">class = 琴酒</text>\n</g>\n<!-- 21&#45;&gt;23 -->\n<g id=\"edge23\" class=\"edge\">\n<title>21&#45;&gt;23</title>\n<path fill=\"none\" stroke=\"#000000\" d=\"M931.1647,-460.8796C942.3416,-451.513 954.2962,-441.4948 965.7712,-431.8784\"/>\n<polygon fill=\"#000000\" stroke=\"#000000\" points=\"968.2069,-434.4037 973.6233,-425.2981 963.7107,-429.0386 968.2069,-434.4037\"/>\n</g>\n<!-- 24 -->\n<g id=\"node25\" class=\"node\">\n<title>24</title>\n<path fill=\"#e9965a\" stroke=\"#000000\" d=\"M1070.5,-306C1070.5,-306 976.5,-306 976.5,-306 970.5,-306 964.5,-300 964.5,-294 964.5,-294 964.5,-235 964.5,-235 964.5,-229 970.5,-223 976.5,-223 976.5,-223 1070.5,-223 1070.5,-223 1076.5,-223 1082.5,-229 1082.5,-235 1082.5,-235 1082.5,-294 1082.5,-294 1082.5,-300 1076.5,-306 1070.5,-306\"/>\n<text text-anchor=\"middle\" x=\"1023.5\" y=\"-290.8\" font-family=\"Helvetica,sans-Serif\" font-size=\"14.00\" fill=\"#000000\">镁 &lt;= 90.855</text>\n<text text-anchor=\"middle\" x=\"1023.5\" y=\"-275.8\" font-family=\"Helvetica,sans-Serif\" font-size=\"14.00\" fill=\"#000000\">entropy = 0.592</text>\n<text text-anchor=\"middle\" x=\"1023.5\" y=\"-260.8\" font-family=\"Helvetica,sans-Serif\" font-size=\"14.00\" fill=\"#000000\">samples = 7</text>\n<text text-anchor=\"middle\" x=\"1023.5\" y=\"-245.8\" font-family=\"Helvetica,sans-Serif\" font-size=\"14.00\" fill=\"#000000\">value = [6, 1, 0]</text>\n<text text-anchor=\"middle\" x=\"1023.5\" y=\"-230.8\" font-family=\"Helvetica,sans-Serif\" font-size=\"14.00\" fill=\"#000000\">class = 琴酒</text>\n</g>\n<!-- 23&#45;&gt;24 -->\n<g id=\"edge24\" class=\"edge\">\n<title>23&#45;&gt;24</title>\n<path fill=\"none\" stroke=\"#000000\" d=\"M1023.5,-341.8796C1023.5,-333.6838 1023.5,-324.9891 1023.5,-316.5013\"/>\n<polygon fill=\"#000000\" stroke=\"#000000\" points=\"1027.0001,-316.298 1023.5,-306.2981 1020.0001,-316.2981 1027.0001,-316.298\"/>\n</g>\n<!-- 27 -->\n<g id=\"node28\" class=\"node\">\n<title>27</title>\n<path fill=\"#39e581\" stroke=\"#000000\" d=\"M1204,-298.5C1204,-298.5 1113,-298.5 1113,-298.5 1107,-298.5 1101,-292.5 1101,-286.5 1101,-286.5 1101,-242.5 1101,-242.5 1101,-236.5 1107,-230.5 1113,-230.5 1113,-230.5 1204,-230.5 1204,-230.5 1210,-230.5 1216,-236.5 1216,-242.5 1216,-242.5 1216,-286.5 1216,-286.5 1216,-292.5 1210,-298.5 1204,-298.5\"/>\n<text text-anchor=\"middle\" x=\"1158.5\" y=\"-283.3\" font-family=\"Helvetica,sans-Serif\" font-size=\"14.00\" fill=\"#000000\">entropy = 0.0</text>\n<text text-anchor=\"middle\" x=\"1158.5\" y=\"-268.3\" font-family=\"Helvetica,sans-Serif\" font-size=\"14.00\" fill=\"#000000\">samples = 2</text>\n<text text-anchor=\"middle\" x=\"1158.5\" y=\"-253.3\" font-family=\"Helvetica,sans-Serif\" font-size=\"14.00\" fill=\"#000000\">value = [0, 2, 0]</text>\n<text text-anchor=\"middle\" x=\"1158.5\" y=\"-238.3\" font-family=\"Helvetica,sans-Serif\" font-size=\"14.00\" fill=\"#000000\">class = 雪莉</text>\n</g>\n<!-- 23&#45;&gt;27 -->\n<g id=\"edge27\" class=\"edge\">\n<title>23&#45;&gt;27</title>\n<path fill=\"none\" stroke=\"#000000\" d=\"M1070.7164,-341.8796C1084.0642,-330.1138 1098.5785,-317.3197 1111.8904,-305.5855\"/>\n<polygon fill=\"#000000\" stroke=\"#000000\" points=\"1114.384,-308.0531 1119.5713,-298.8149 1109.7552,-302.8019 1114.384,-308.0531\"/>\n</g>\n<!-- 25 -->\n<g id=\"node26\" class=\"node\">\n<title>25</title>\n<path fill=\"#39e581\" stroke=\"#000000\" d=\"M1065,-179.5C1065,-179.5 974,-179.5 974,-179.5 968,-179.5 962,-173.5 962,-167.5 962,-167.5 962,-123.5 962,-123.5 962,-117.5 968,-111.5 974,-111.5 974,-111.5 1065,-111.5 1065,-111.5 1071,-111.5 1077,-117.5 1077,-123.5 1077,-123.5 1077,-167.5 1077,-167.5 1077,-173.5 1071,-179.5 1065,-179.5\"/>\n<text text-anchor=\"middle\" x=\"1019.5\" y=\"-164.3\" font-family=\"Helvetica,sans-Serif\" font-size=\"14.00\" fill=\"#000000\">entropy = 0.0</text>\n<text text-anchor=\"middle\" x=\"1019.5\" y=\"-149.3\" font-family=\"Helvetica,sans-Serif\" font-size=\"14.00\" fill=\"#000000\">samples = 1</text>\n<text text-anchor=\"middle\" x=\"1019.5\" y=\"-134.3\" font-family=\"Helvetica,sans-Serif\" font-size=\"14.00\" fill=\"#000000\">value = [0, 1, 0]</text>\n<text text-anchor=\"middle\" x=\"1019.5\" y=\"-119.3\" font-family=\"Helvetica,sans-Serif\" font-size=\"14.00\" fill=\"#000000\">class = 雪莉</text>\n</g>\n<!-- 24&#45;&gt;25 -->\n<g id=\"edge25\" class=\"edge\">\n<title>24&#45;&gt;25</title>\n<path fill=\"none\" stroke=\"#000000\" d=\"M1022.101,-222.8796C1021.7425,-212.2134 1021.3555,-200.7021 1020.9925,-189.9015\"/>\n<polygon fill=\"#000000\" stroke=\"#000000\" points=\"1024.4875,-189.6917 1020.6534,-179.8149 1017.4915,-189.9269 1024.4875,-189.6917\"/>\n</g>\n<!-- 26 -->\n<g id=\"node27\" class=\"node\">\n<title>26</title>\n<path fill=\"#e58139\" stroke=\"#000000\" d=\"M1198,-179.5C1198,-179.5 1107,-179.5 1107,-179.5 1101,-179.5 1095,-173.5 1095,-167.5 1095,-167.5 1095,-123.5 1095,-123.5 1095,-117.5 1101,-111.5 1107,-111.5 1107,-111.5 1198,-111.5 1198,-111.5 1204,-111.5 1210,-117.5 1210,-123.5 1210,-123.5 1210,-167.5 1210,-167.5 1210,-173.5 1204,-179.5 1198,-179.5\"/>\n<text text-anchor=\"middle\" x=\"1152.5\" y=\"-164.3\" font-family=\"Helvetica,sans-Serif\" font-size=\"14.00\" fill=\"#000000\">entropy = 0.0</text>\n<text text-anchor=\"middle\" x=\"1152.5\" y=\"-149.3\" font-family=\"Helvetica,sans-Serif\" font-size=\"14.00\" fill=\"#000000\">samples = 6</text>\n<text text-anchor=\"middle\" x=\"1152.5\" y=\"-134.3\" font-family=\"Helvetica,sans-Serif\" font-size=\"14.00\" fill=\"#000000\">value = [6, 0, 0]</text>\n<text text-anchor=\"middle\" x=\"1152.5\" y=\"-119.3\" font-family=\"Helvetica,sans-Serif\" font-size=\"14.00\" fill=\"#000000\">class = 琴酒</text>\n</g>\n<!-- 24&#45;&gt;26 -->\n<g id=\"edge26\" class=\"edge\">\n<title>24&#45;&gt;26</title>\n<path fill=\"none\" stroke=\"#000000\" d=\"M1068.6179,-222.8796C1081.2533,-211.2237 1094.9826,-198.5587 1107.605,-186.9148\"/>\n<polygon fill=\"#000000\" stroke=\"#000000\" points=\"1110.3244,-189.168 1115.3015,-179.8149 1105.578,-184.0228 1110.3244,-189.168\"/>\n</g>\n</g>\n</svg>\n"
          },
          "metadata": {
            "tags": []
          },
          "execution_count": 24
        }
      ]
    },
    {
      "cell_type": "code",
      "metadata": {
        "id": "h5vn1MfuyY9-",
        "colab_type": "code",
        "colab": {}
      },
      "source": [
        "# 我们已经根据一个参数也就是标准 criterion ：来建立了一棵决策树。\n",
        "# 但是一般来说决策树对不同的数据不能保证最优，那么sk-learn的方法就是造不同的决策树。\n",
        "\n",
        "# 第二个参数。 random_state.\n",
        "\n",
        "# 然后sklearn根据不同的决策树来选择最优的树。\n",
        "\n",
        "# clf = tree.DecisionTreeClassifier(criterion='entropy', random_state=30)\n",
        "# clf = clf.fit(Xtrain,Ytrian)\n",
        "# score = clf.score(Xtest,Ytest)"
      ],
      "execution_count": null,
      "outputs": []
    },
    {
      "cell_type": "markdown",
      "metadata": {
        "id": "pjIDAakx36u_",
        "colab_type": "text"
      },
      "source": [
        "## random_state & spliter\n",
        "\n",
        " random_state 让树构建的时候更加随机，当然这中随机是建立在数据集维度够高的前提下。\n",
        "\n",
        "spliter 有两个参数 best和random ，best，虽然随机，但是还是会考虑更加重要的feature。重要性可以同构feature_importances_来查看。\n",
        "\n",
        "random ：则就不会考虑feature_importances_\n",
        "\n",
        "\n"
      ]
    },
    {
      "cell_type": "code",
      "metadata": {
        "id": "jETMtIKOz5SP",
        "colab_type": "code",
        "colab": {
          "base_uri": "https://localhost:8080/",
          "height": 35
        },
        "outputId": "04536e32-f3d3-48f6-9cee-c96a938b6a2b"
      },
      "source": [
        "clf = tree.DecisionTreeClassifier(criterion='entropy', random_state=30, splitter='random')\n",
        "\n",
        "clf = clf.fit(Xtrain,Ytrain)\n",
        "\n",
        "score = clf.score(Xtest,Ytest)\n",
        "\n",
        "score"
      ],
      "execution_count": 22,
      "outputs": [
        {
          "output_type": "execute_result",
          "data": {
            "text/plain": [
              "0.9444444444444444"
            ]
          },
          "metadata": {
            "tags": []
          },
          "execution_count": 22
        }
      ]
    },
    {
      "cell_type": "code",
      "metadata": {
        "id": "O8g4ADB16E9W",
        "colab_type": "code",
        "colab": {
          "base_uri": "https://localhost:8080/",
          "height": 1000
        },
        "outputId": "2327fc9a-b161-4a0b-fa39-218290e829dc"
      },
      "source": [
        "import graphviz\n",
        "dot_data = tree.export_graphviz(clf,feature_names=feature_name,class_names=['琴酒','雪梨','贝尔莫德'],filled=True,rounded=True)\n",
        "\n",
        "graph = graphviz.Source(dot_data)\n",
        "graph"
      ],
      "execution_count": 25,
      "outputs": [
        {
          "output_type": "execute_result",
          "data": {
            "text/plain": [
              "<graphviz.files.Source at 0x7f44502f7940>"
            ],
            "image/svg+xml": "<?xml version=\"1.0\" encoding=\"UTF-8\" standalone=\"no\"?>\n<!DOCTYPE svg PUBLIC \"-//W3C//DTD SVG 1.1//EN\"\n \"http://www.w3.org/Graphics/SVG/1.1/DTD/svg11.dtd\">\n<!-- Generated by graphviz version 2.40.1 (20161225.0304)\n -->\n<!-- Title: Tree Pages: 1 -->\n<svg width=\"1224pt\" height=\"790pt\"\n viewBox=\"0.00 0.00 1224.00 790.00\" xmlns=\"http://www.w3.org/2000/svg\" xmlns:xlink=\"http://www.w3.org/1999/xlink\">\n<g id=\"graph0\" class=\"graph\" transform=\"scale(1 1) rotate(0) translate(4 786)\">\n<title>Tree</title>\n<polygon fill=\"#ffffff\" stroke=\"transparent\" points=\"-4,4 -4,-786 1220,-786 1220,4 -4,4\"/>\n<!-- 0 -->\n<g id=\"node1\" class=\"node\">\n<title>0</title>\n<path fill=\"#e7fcef\" stroke=\"#000000\" d=\"M807.5,-782C807.5,-782 691.5,-782 691.5,-782 685.5,-782 679.5,-776 679.5,-770 679.5,-770 679.5,-711 679.5,-711 679.5,-705 685.5,-699 691.5,-699 691.5,-699 807.5,-699 807.5,-699 813.5,-699 819.5,-705 819.5,-711 819.5,-711 819.5,-770 819.5,-770 819.5,-776 813.5,-782 807.5,-782\"/>\n<text text-anchor=\"middle\" x=\"749.5\" y=\"-766.8\" font-family=\"Helvetica,sans-Serif\" font-size=\"14.00\" fill=\"#000000\">类黄酮 &lt;= 2.234</text>\n<text text-anchor=\"middle\" x=\"749.5\" y=\"-751.8\" font-family=\"Helvetica,sans-Serif\" font-size=\"14.00\" fill=\"#000000\">entropy = 1.539</text>\n<text text-anchor=\"middle\" x=\"749.5\" y=\"-736.8\" font-family=\"Helvetica,sans-Serif\" font-size=\"14.00\" fill=\"#000000\">samples = 124</text>\n<text text-anchor=\"middle\" x=\"749.5\" y=\"-721.8\" font-family=\"Helvetica,sans-Serif\" font-size=\"14.00\" fill=\"#000000\">value = [43, 53, 28]</text>\n<text text-anchor=\"middle\" x=\"749.5\" y=\"-706.8\" font-family=\"Helvetica,sans-Serif\" font-size=\"14.00\" fill=\"#000000\">class = 雪梨</text>\n</g>\n<!-- 1 -->\n<g id=\"node2\" class=\"node\">\n<title>1</title>\n<path fill=\"#e2fbec\" stroke=\"#000000\" d=\"M701,-663C701,-663 498,-663 498,-663 492,-663 486,-657 486,-651 486,-651 486,-592 486,-592 486,-586 492,-580 498,-580 498,-580 701,-580 701,-580 707,-580 713,-586 713,-592 713,-592 713,-651 713,-651 713,-657 707,-663 701,-663\"/>\n<text text-anchor=\"middle\" x=\"599.5\" y=\"-647.8\" font-family=\"Helvetica,sans-Serif\" font-size=\"14.00\" fill=\"#000000\">od280/od315稀释葡萄酒 &lt;= 2.21</text>\n<text text-anchor=\"middle\" x=\"599.5\" y=\"-632.8\" font-family=\"Helvetica,sans-Serif\" font-size=\"14.00\" fill=\"#000000\">entropy = 1.098</text>\n<text text-anchor=\"middle\" x=\"599.5\" y=\"-617.8\" font-family=\"Helvetica,sans-Serif\" font-size=\"14.00\" fill=\"#000000\">samples = 62</text>\n<text text-anchor=\"middle\" x=\"599.5\" y=\"-602.8\" font-family=\"Helvetica,sans-Serif\" font-size=\"14.00\" fill=\"#000000\">value = [1, 33, 28]</text>\n<text text-anchor=\"middle\" x=\"599.5\" y=\"-587.8\" font-family=\"Helvetica,sans-Serif\" font-size=\"14.00\" fill=\"#000000\">class = 雪梨</text>\n</g>\n<!-- 0&#45;&gt;1 -->\n<g id=\"edge1\" class=\"edge\">\n<title>0&#45;&gt;1</title>\n<path fill=\"none\" stroke=\"#000000\" d=\"M697.0373,-698.8796C685.0479,-689.368 672.2113,-679.1843 659.9184,-669.432\"/>\n<polygon fill=\"#000000\" stroke=\"#000000\" points=\"661.9425,-666.5701 651.9331,-663.0969 657.5919,-672.054 661.9425,-666.5701\"/>\n<text text-anchor=\"middle\" x=\"654.7952\" y=\"-684.2326\" font-family=\"Helvetica,sans-Serif\" font-size=\"14.00\" fill=\"#000000\">True</text>\n</g>\n<!-- 20 -->\n<g id=\"node21\" class=\"node\">\n<title>20</title>\n<path fill=\"#f1bd97\" stroke=\"#000000\" d=\"M935,-663C935,-663 828,-663 828,-663 822,-663 816,-657 816,-651 816,-651 816,-592 816,-592 816,-586 822,-580 828,-580 828,-580 935,-580 935,-580 941,-580 947,-586 947,-592 947,-592 947,-651 947,-651 947,-657 941,-663 935,-663\"/>\n<text text-anchor=\"middle\" x=\"881.5\" y=\"-647.8\" font-family=\"Helvetica,sans-Serif\" font-size=\"14.00\" fill=\"#000000\">酒精 &lt;= 13.123</text>\n<text text-anchor=\"middle\" x=\"881.5\" y=\"-632.8\" font-family=\"Helvetica,sans-Serif\" font-size=\"14.00\" fill=\"#000000\">entropy = 0.907</text>\n<text text-anchor=\"middle\" x=\"881.5\" y=\"-617.8\" font-family=\"Helvetica,sans-Serif\" font-size=\"14.00\" fill=\"#000000\">samples = 62</text>\n<text text-anchor=\"middle\" x=\"881.5\" y=\"-602.8\" font-family=\"Helvetica,sans-Serif\" font-size=\"14.00\" fill=\"#000000\">value = [42, 20, 0]</text>\n<text text-anchor=\"middle\" x=\"881.5\" y=\"-587.8\" font-family=\"Helvetica,sans-Serif\" font-size=\"14.00\" fill=\"#000000\">class = 琴酒</text>\n</g>\n<!-- 0&#45;&gt;20 -->\n<g id=\"edge20\" class=\"edge\">\n<title>0&#45;&gt;20</title>\n<path fill=\"none\" stroke=\"#000000\" d=\"M795.6672,-698.8796C805.9571,-689.6031 816.956,-679.6874 827.5287,-670.1559\"/>\n<polygon fill=\"#000000\" stroke=\"#000000\" points=\"830.0519,-672.5935 835.1358,-663.2981 825.3648,-667.3944 830.0519,-672.5935\"/>\n<text text-anchor=\"middle\" x=\"833.8427\" y=\"-684.5646\" font-family=\"Helvetica,sans-Serif\" font-size=\"14.00\" fill=\"#000000\">False</text>\n</g>\n<!-- 2 -->\n<g id=\"node3\" class=\"node\">\n<title>2</title>\n<path fill=\"#a876ed\" stroke=\"#000000\" d=\"M485,-544C485,-544 386,-544 386,-544 380,-544 374,-538 374,-532 374,-532 374,-473 374,-473 374,-467 380,-461 386,-461 386,-461 485,-461 485,-461 491,-461 497,-467 497,-473 497,-473 497,-532 497,-532 497,-538 491,-544 485,-544\"/>\n<text text-anchor=\"middle\" x=\"435.5\" y=\"-528.8\" font-family=\"Helvetica,sans-Serif\" font-size=\"14.00\" fill=\"#000000\">色调 &lt;= 0.981</text>\n<text text-anchor=\"middle\" x=\"435.5\" y=\"-513.8\" font-family=\"Helvetica,sans-Serif\" font-size=\"14.00\" fill=\"#000000\">entropy = 0.787</text>\n<text text-anchor=\"middle\" x=\"435.5\" y=\"-498.8\" font-family=\"Helvetica,sans-Serif\" font-size=\"14.00\" fill=\"#000000\">samples = 34</text>\n<text text-anchor=\"middle\" x=\"435.5\" y=\"-483.8\" font-family=\"Helvetica,sans-Serif\" font-size=\"14.00\" fill=\"#000000\">value = [0, 8, 26]</text>\n<text text-anchor=\"middle\" x=\"435.5\" y=\"-468.8\" font-family=\"Helvetica,sans-Serif\" font-size=\"14.00\" fill=\"#000000\">class = 贝尔莫德</text>\n</g>\n<!-- 1&#45;&gt;2 -->\n<g id=\"edge2\" class=\"edge\">\n<title>1&#45;&gt;2</title>\n<path fill=\"none\" stroke=\"#000000\" d=\"M542.1408,-579.8796C528.9075,-570.2774 514.7303,-559.9903 501.1736,-550.1534\"/>\n<polygon fill=\"#000000\" stroke=\"#000000\" points=\"502.9762,-547.1371 492.8269,-544.0969 498.8651,-552.8027 502.9762,-547.1371\"/>\n</g>\n<!-- 11 -->\n<g id=\"node12\" class=\"node\">\n<title>11</title>\n<path fill=\"#50e890\" stroke=\"#000000\" d=\"M649,-544C649,-544 550,-544 550,-544 544,-544 538,-538 538,-532 538,-532 538,-473 538,-473 538,-467 544,-461 550,-461 550,-461 649,-461 649,-461 655,-461 661,-467 661,-473 661,-473 661,-532 661,-532 661,-538 655,-544 649,-544\"/>\n<text text-anchor=\"middle\" x=\"599.5\" y=\"-528.8\" font-family=\"Helvetica,sans-Serif\" font-size=\"14.00\" fill=\"#000000\">色调 &lt;= 0.863</text>\n<text text-anchor=\"middle\" x=\"599.5\" y=\"-513.8\" font-family=\"Helvetica,sans-Serif\" font-size=\"14.00\" fill=\"#000000\">entropy = 0.59</text>\n<text text-anchor=\"middle\" x=\"599.5\" y=\"-498.8\" font-family=\"Helvetica,sans-Serif\" font-size=\"14.00\" fill=\"#000000\">samples = 28</text>\n<text text-anchor=\"middle\" x=\"599.5\" y=\"-483.8\" font-family=\"Helvetica,sans-Serif\" font-size=\"14.00\" fill=\"#000000\">value = [1, 25, 2]</text>\n<text text-anchor=\"middle\" x=\"599.5\" y=\"-468.8\" font-family=\"Helvetica,sans-Serif\" font-size=\"14.00\" fill=\"#000000\">class = 雪梨</text>\n</g>\n<!-- 1&#45;&gt;11 -->\n<g id=\"edge11\" class=\"edge\">\n<title>1&#45;&gt;11</title>\n<path fill=\"none\" stroke=\"#000000\" d=\"M599.5,-579.8796C599.5,-571.6838 599.5,-562.9891 599.5,-554.5013\"/>\n<polygon fill=\"#000000\" stroke=\"#000000\" points=\"603.0001,-554.298 599.5,-544.2981 596.0001,-554.2981 603.0001,-554.298\"/>\n</g>\n<!-- 3 -->\n<g id=\"node4\" class=\"node\">\n<title>3</title>\n<path fill=\"#995fea\" stroke=\"#000000\" d=\"M308,-425C308,-425 209,-425 209,-425 203,-425 197,-419 197,-413 197,-413 197,-354 197,-354 197,-348 203,-342 209,-342 209,-342 308,-342 308,-342 314,-342 320,-348 320,-354 320,-354 320,-413 320,-413 320,-419 314,-425 308,-425\"/>\n<text text-anchor=\"middle\" x=\"258.5\" y=\"-409.8\" font-family=\"Helvetica,sans-Serif\" font-size=\"14.00\" fill=\"#000000\">类黄酮 &lt;= 0.847</text>\n<text text-anchor=\"middle\" x=\"258.5\" y=\"-394.8\" font-family=\"Helvetica,sans-Serif\" font-size=\"14.00\" fill=\"#000000\">entropy = 0.637</text>\n<text text-anchor=\"middle\" x=\"258.5\" y=\"-379.8\" font-family=\"Helvetica,sans-Serif\" font-size=\"14.00\" fill=\"#000000\">samples = 31</text>\n<text text-anchor=\"middle\" x=\"258.5\" y=\"-364.8\" font-family=\"Helvetica,sans-Serif\" font-size=\"14.00\" fill=\"#000000\">value = [0, 5, 26]</text>\n<text text-anchor=\"middle\" x=\"258.5\" y=\"-349.8\" font-family=\"Helvetica,sans-Serif\" font-size=\"14.00\" fill=\"#000000\">class = 贝尔莫德</text>\n</g>\n<!-- 2&#45;&gt;3 -->\n<g id=\"edge3\" class=\"edge\">\n<title>2&#45;&gt;3</title>\n<path fill=\"none\" stroke=\"#000000\" d=\"M373.594,-460.8796C359.0937,-451.1308 343.5433,-440.676 328.7097,-430.7032\"/>\n<polygon fill=\"#000000\" stroke=\"#000000\" points=\"330.3238,-427.5709 320.0722,-424.896 326.4182,-433.38 330.3238,-427.5709\"/>\n</g>\n<!-- 10 -->\n<g id=\"node11\" class=\"node\">\n<title>10</title>\n<path fill=\"#39e581\" stroke=\"#000000\" d=\"M481,-417.5C481,-417.5 390,-417.5 390,-417.5 384,-417.5 378,-411.5 378,-405.5 378,-405.5 378,-361.5 378,-361.5 378,-355.5 384,-349.5 390,-349.5 390,-349.5 481,-349.5 481,-349.5 487,-349.5 493,-355.5 493,-361.5 493,-361.5 493,-405.5 493,-405.5 493,-411.5 487,-417.5 481,-417.5\"/>\n<text text-anchor=\"middle\" x=\"435.5\" y=\"-402.3\" font-family=\"Helvetica,sans-Serif\" font-size=\"14.00\" fill=\"#000000\">entropy = 0.0</text>\n<text text-anchor=\"middle\" x=\"435.5\" y=\"-387.3\" font-family=\"Helvetica,sans-Serif\" font-size=\"14.00\" fill=\"#000000\">samples = 3</text>\n<text text-anchor=\"middle\" x=\"435.5\" y=\"-372.3\" font-family=\"Helvetica,sans-Serif\" font-size=\"14.00\" fill=\"#000000\">value = [0, 3, 0]</text>\n<text text-anchor=\"middle\" x=\"435.5\" y=\"-357.3\" font-family=\"Helvetica,sans-Serif\" font-size=\"14.00\" fill=\"#000000\">class = 雪梨</text>\n</g>\n<!-- 2&#45;&gt;10 -->\n<g id=\"edge10\" class=\"edge\">\n<title>2&#45;&gt;10</title>\n<path fill=\"none\" stroke=\"#000000\" d=\"M435.5,-460.8796C435.5,-450.2134 435.5,-438.7021 435.5,-427.9015\"/>\n<polygon fill=\"#000000\" stroke=\"#000000\" points=\"439.0001,-427.8149 435.5,-417.8149 432.0001,-427.815 439.0001,-427.8149\"/>\n</g>\n<!-- 4 -->\n<g id=\"node5\" class=\"node\">\n<title>4</title>\n<path fill=\"#8139e5\" stroke=\"#000000\" d=\"M111,-298.5C111,-298.5 12,-298.5 12,-298.5 6,-298.5 0,-292.5 0,-286.5 0,-286.5 0,-242.5 0,-242.5 0,-236.5 6,-230.5 12,-230.5 12,-230.5 111,-230.5 111,-230.5 117,-230.5 123,-236.5 123,-242.5 123,-242.5 123,-286.5 123,-286.5 123,-292.5 117,-298.5 111,-298.5\"/>\n<text text-anchor=\"middle\" x=\"61.5\" y=\"-283.3\" font-family=\"Helvetica,sans-Serif\" font-size=\"14.00\" fill=\"#000000\">entropy = 0.0</text>\n<text text-anchor=\"middle\" x=\"61.5\" y=\"-268.3\" font-family=\"Helvetica,sans-Serif\" font-size=\"14.00\" fill=\"#000000\">samples = 20</text>\n<text text-anchor=\"middle\" x=\"61.5\" y=\"-253.3\" font-family=\"Helvetica,sans-Serif\" font-size=\"14.00\" fill=\"#000000\">value = [0, 0, 20]</text>\n<text text-anchor=\"middle\" x=\"61.5\" y=\"-238.3\" font-family=\"Helvetica,sans-Serif\" font-size=\"14.00\" fill=\"#000000\">class = 贝尔莫德</text>\n</g>\n<!-- 3&#45;&gt;4 -->\n<g id=\"edge4\" class=\"edge\">\n<title>3&#45;&gt;4</title>\n<path fill=\"none\" stroke=\"#000000\" d=\"M196.9783,-346.3371C174.5546,-332.7919 149.1399,-317.4398 126.4296,-303.7214\"/>\n<polygon fill=\"#000000\" stroke=\"#000000\" points=\"128.2391,-300.7255 117.8699,-298.5508 124.6198,-306.7172 128.2391,-300.7255\"/>\n</g>\n<!-- 5 -->\n<g id=\"node6\" class=\"node\">\n<title>5</title>\n<path fill=\"#eadefb\" stroke=\"#000000\" d=\"M364,-306C364,-306 153,-306 153,-306 147,-306 141,-300 141,-294 141,-294 141,-235 141,-235 141,-229 147,-223 153,-223 153,-223 364,-223 364,-223 370,-223 376,-229 376,-235 376,-235 376,-294 376,-294 376,-300 370,-306 364,-306\"/>\n<text text-anchor=\"middle\" x=\"258.5\" y=\"-290.8\" font-family=\"Helvetica,sans-Serif\" font-size=\"14.00\" fill=\"#000000\">od280/od315稀释葡萄酒 &lt;= 1.444</text>\n<text text-anchor=\"middle\" x=\"258.5\" y=\"-275.8\" font-family=\"Helvetica,sans-Serif\" font-size=\"14.00\" fill=\"#000000\">entropy = 0.994</text>\n<text text-anchor=\"middle\" x=\"258.5\" y=\"-260.8\" font-family=\"Helvetica,sans-Serif\" font-size=\"14.00\" fill=\"#000000\">samples = 11</text>\n<text text-anchor=\"middle\" x=\"258.5\" y=\"-245.8\" font-family=\"Helvetica,sans-Serif\" font-size=\"14.00\" fill=\"#000000\">value = [0, 5, 6]</text>\n<text text-anchor=\"middle\" x=\"258.5\" y=\"-230.8\" font-family=\"Helvetica,sans-Serif\" font-size=\"14.00\" fill=\"#000000\">class = 贝尔莫德</text>\n</g>\n<!-- 3&#45;&gt;5 -->\n<g id=\"edge5\" class=\"edge\">\n<title>3&#45;&gt;5</title>\n<path fill=\"none\" stroke=\"#000000\" d=\"M258.5,-341.8796C258.5,-333.6838 258.5,-324.9891 258.5,-316.5013\"/>\n<polygon fill=\"#000000\" stroke=\"#000000\" points=\"262.0001,-316.298 258.5,-306.2981 255.0001,-316.2981 262.0001,-316.298\"/>\n</g>\n<!-- 6 -->\n<g id=\"node7\" class=\"node\">\n<title>6</title>\n<path fill=\"#8139e5\" stroke=\"#000000\" d=\"M239,-179.5C239,-179.5 140,-179.5 140,-179.5 134,-179.5 128,-173.5 128,-167.5 128,-167.5 128,-123.5 128,-123.5 128,-117.5 134,-111.5 140,-111.5 140,-111.5 239,-111.5 239,-111.5 245,-111.5 251,-117.5 251,-123.5 251,-123.5 251,-167.5 251,-167.5 251,-173.5 245,-179.5 239,-179.5\"/>\n<text text-anchor=\"middle\" x=\"189.5\" y=\"-164.3\" font-family=\"Helvetica,sans-Serif\" font-size=\"14.00\" fill=\"#000000\">entropy = 0.0</text>\n<text text-anchor=\"middle\" x=\"189.5\" y=\"-149.3\" font-family=\"Helvetica,sans-Serif\" font-size=\"14.00\" fill=\"#000000\">samples = 4</text>\n<text text-anchor=\"middle\" x=\"189.5\" y=\"-134.3\" font-family=\"Helvetica,sans-Serif\" font-size=\"14.00\" fill=\"#000000\">value = [0, 0, 4]</text>\n<text text-anchor=\"middle\" x=\"189.5\" y=\"-119.3\" font-family=\"Helvetica,sans-Serif\" font-size=\"14.00\" fill=\"#000000\">class = 贝尔莫德</text>\n</g>\n<!-- 5&#45;&gt;6 -->\n<g id=\"edge6\" class=\"edge\">\n<title>5&#45;&gt;6</title>\n<path fill=\"none\" stroke=\"#000000\" d=\"M234.3671,-222.8796C227.9275,-211.7735 220.9566,-199.7513 214.4729,-188.5691\"/>\n<polygon fill=\"#000000\" stroke=\"#000000\" points=\"217.4409,-186.7102 209.3969,-179.8149 211.3852,-190.2215 217.4409,-186.7102\"/>\n</g>\n<!-- 7 -->\n<g id=\"node8\" class=\"node\">\n<title>7</title>\n<path fill=\"#88efb3\" stroke=\"#000000\" d=\"M375.5,-187C375.5,-187 281.5,-187 281.5,-187 275.5,-187 269.5,-181 269.5,-175 269.5,-175 269.5,-116 269.5,-116 269.5,-110 275.5,-104 281.5,-104 281.5,-104 375.5,-104 375.5,-104 381.5,-104 387.5,-110 387.5,-116 387.5,-116 387.5,-175 387.5,-175 387.5,-181 381.5,-187 375.5,-187\"/>\n<text text-anchor=\"middle\" x=\"328.5\" y=\"-171.8\" font-family=\"Helvetica,sans-Serif\" font-size=\"14.00\" fill=\"#000000\">酒精 &lt;= 13.06</text>\n<text text-anchor=\"middle\" x=\"328.5\" y=\"-156.8\" font-family=\"Helvetica,sans-Serif\" font-size=\"14.00\" fill=\"#000000\">entropy = 0.863</text>\n<text text-anchor=\"middle\" x=\"328.5\" y=\"-141.8\" font-family=\"Helvetica,sans-Serif\" font-size=\"14.00\" fill=\"#000000\">samples = 7</text>\n<text text-anchor=\"middle\" x=\"328.5\" y=\"-126.8\" font-family=\"Helvetica,sans-Serif\" font-size=\"14.00\" fill=\"#000000\">value = [0, 5, 2]</text>\n<text text-anchor=\"middle\" x=\"328.5\" y=\"-111.8\" font-family=\"Helvetica,sans-Serif\" font-size=\"14.00\" fill=\"#000000\">class = 雪梨</text>\n</g>\n<!-- 5&#45;&gt;7 -->\n<g id=\"edge7\" class=\"edge\">\n<title>5&#45;&gt;7</title>\n<path fill=\"none\" stroke=\"#000000\" d=\"M282.9826,-222.8796C288.0685,-214.2335 293.4811,-205.0322 298.7328,-196.1042\"/>\n<polygon fill=\"#000000\" stroke=\"#000000\" points=\"301.8594,-197.692 303.9129,-187.2981 295.8259,-194.1428 301.8594,-197.692\"/>\n</g>\n<!-- 8 -->\n<g id=\"node9\" class=\"node\">\n<title>8</title>\n<path fill=\"#39e581\" stroke=\"#000000\" d=\"M305,-68C305,-68 214,-68 214,-68 208,-68 202,-62 202,-56 202,-56 202,-12 202,-12 202,-6 208,0 214,0 214,0 305,0 305,0 311,0 317,-6 317,-12 317,-12 317,-56 317,-56 317,-62 311,-68 305,-68\"/>\n<text text-anchor=\"middle\" x=\"259.5\" y=\"-52.8\" font-family=\"Helvetica,sans-Serif\" font-size=\"14.00\" fill=\"#000000\">entropy = 0.0</text>\n<text text-anchor=\"middle\" x=\"259.5\" y=\"-37.8\" font-family=\"Helvetica,sans-Serif\" font-size=\"14.00\" fill=\"#000000\">samples = 5</text>\n<text text-anchor=\"middle\" x=\"259.5\" y=\"-22.8\" font-family=\"Helvetica,sans-Serif\" font-size=\"14.00\" fill=\"#000000\">value = [0, 5, 0]</text>\n<text text-anchor=\"middle\" x=\"259.5\" y=\"-7.8\" font-family=\"Helvetica,sans-Serif\" font-size=\"14.00\" fill=\"#000000\">class = 雪梨</text>\n</g>\n<!-- 7&#45;&gt;8 -->\n<g id=\"edge8\" class=\"edge\">\n<title>7&#45;&gt;8</title>\n<path fill=\"none\" stroke=\"#000000\" d=\"M302.8069,-103.9815C297.3469,-95.1585 291.5716,-85.8258 286.0793,-76.9506\"/>\n<polygon fill=\"#000000\" stroke=\"#000000\" points=\"288.942,-74.9254 280.7035,-68.2637 282.9896,-78.609 288.942,-74.9254\"/>\n</g>\n<!-- 9 -->\n<g id=\"node10\" class=\"node\">\n<title>9</title>\n<path fill=\"#8139e5\" stroke=\"#000000\" d=\"M446,-68C446,-68 347,-68 347,-68 341,-68 335,-62 335,-56 335,-56 335,-12 335,-12 335,-6 341,0 347,0 347,0 446,0 446,0 452,0 458,-6 458,-12 458,-12 458,-56 458,-56 458,-62 452,-68 446,-68\"/>\n<text text-anchor=\"middle\" x=\"396.5\" y=\"-52.8\" font-family=\"Helvetica,sans-Serif\" font-size=\"14.00\" fill=\"#000000\">entropy = 0.0</text>\n<text text-anchor=\"middle\" x=\"396.5\" y=\"-37.8\" font-family=\"Helvetica,sans-Serif\" font-size=\"14.00\" fill=\"#000000\">samples = 2</text>\n<text text-anchor=\"middle\" x=\"396.5\" y=\"-22.8\" font-family=\"Helvetica,sans-Serif\" font-size=\"14.00\" fill=\"#000000\">value = [0, 0, 2]</text>\n<text text-anchor=\"middle\" x=\"396.5\" y=\"-7.8\" font-family=\"Helvetica,sans-Serif\" font-size=\"14.00\" fill=\"#000000\">class = 贝尔莫德</text>\n</g>\n<!-- 7&#45;&gt;9 -->\n<g id=\"edge9\" class=\"edge\">\n<title>7&#45;&gt;9</title>\n<path fill=\"none\" stroke=\"#000000\" d=\"M353.8207,-103.9815C359.2016,-95.1585 364.8932,-85.8258 370.3059,-76.9506\"/>\n<polygon fill=\"#000000\" stroke=\"#000000\" points=\"373.3851,-78.6236 375.6038,-68.2637 367.4088,-74.9789 373.3851,-78.6236\"/>\n</g>\n<!-- 12 -->\n<g id=\"node13\" class=\"node\">\n<title>12</title>\n<path fill=\"#9cf2c0\" stroke=\"#000000\" d=\"M632.5,-425C632.5,-425 538.5,-425 538.5,-425 532.5,-425 526.5,-419 526.5,-413 526.5,-413 526.5,-354 526.5,-354 526.5,-348 532.5,-342 538.5,-342 538.5,-342 632.5,-342 632.5,-342 638.5,-342 644.5,-348 644.5,-354 644.5,-354 644.5,-413 644.5,-413 644.5,-419 638.5,-425 632.5,-425\"/>\n<text text-anchor=\"middle\" x=\"585.5\" y=\"-409.8\" font-family=\"Helvetica,sans-Serif\" font-size=\"14.00\" fill=\"#000000\">酒精 &lt;= 12.583</text>\n<text text-anchor=\"middle\" x=\"585.5\" y=\"-394.8\" font-family=\"Helvetica,sans-Serif\" font-size=\"14.00\" fill=\"#000000\">entropy = 0.918</text>\n<text text-anchor=\"middle\" x=\"585.5\" y=\"-379.8\" font-family=\"Helvetica,sans-Serif\" font-size=\"14.00\" fill=\"#000000\">samples = 6</text>\n<text text-anchor=\"middle\" x=\"585.5\" y=\"-364.8\" font-family=\"Helvetica,sans-Serif\" font-size=\"14.00\" fill=\"#000000\">value = [0, 4, 2]</text>\n<text text-anchor=\"middle\" x=\"585.5\" y=\"-349.8\" font-family=\"Helvetica,sans-Serif\" font-size=\"14.00\" fill=\"#000000\">class = 雪梨</text>\n</g>\n<!-- 11&#45;&gt;12 -->\n<g id=\"edge12\" class=\"edge\">\n<title>11&#45;&gt;12</title>\n<path fill=\"none\" stroke=\"#000000\" d=\"M594.6035,-460.8796C593.6393,-452.6838 592.6164,-443.9891 591.6178,-435.5013\"/>\n<polygon fill=\"#000000\" stroke=\"#000000\" points=\"595.0619,-434.8206 590.4174,-425.2981 588.1099,-435.6386 595.0619,-434.8206\"/>\n</g>\n<!-- 15 -->\n<g id=\"node16\" class=\"node\">\n<title>15</title>\n<path fill=\"#42e687\" stroke=\"#000000\" d=\"M788,-425C788,-425 675,-425 675,-425 669,-425 663,-419 663,-413 663,-413 663,-354 663,-354 663,-348 669,-342 675,-342 675,-342 788,-342 788,-342 794,-342 800,-348 800,-354 800,-354 800,-413 800,-413 800,-419 794,-425 788,-425\"/>\n<text text-anchor=\"middle\" x=\"731.5\" y=\"-409.8\" font-family=\"Helvetica,sans-Serif\" font-size=\"14.00\" fill=\"#000000\">脯氨酸 &lt;= 847.758</text>\n<text text-anchor=\"middle\" x=\"731.5\" y=\"-394.8\" font-family=\"Helvetica,sans-Serif\" font-size=\"14.00\" fill=\"#000000\">entropy = 0.267</text>\n<text text-anchor=\"middle\" x=\"731.5\" y=\"-379.8\" font-family=\"Helvetica,sans-Serif\" font-size=\"14.00\" fill=\"#000000\">samples = 22</text>\n<text text-anchor=\"middle\" x=\"731.5\" y=\"-364.8\" font-family=\"Helvetica,sans-Serif\" font-size=\"14.00\" fill=\"#000000\">value = [1, 21, 0]</text>\n<text text-anchor=\"middle\" x=\"731.5\" y=\"-349.8\" font-family=\"Helvetica,sans-Serif\" font-size=\"14.00\" fill=\"#000000\">class = 雪梨</text>\n</g>\n<!-- 11&#45;&gt;15 -->\n<g id=\"edge15\" class=\"edge\">\n<title>11&#45;&gt;15</title>\n<path fill=\"none\" stroke=\"#000000\" d=\"M645.6672,-460.8796C655.9571,-451.6031 666.956,-441.6874 677.5287,-432.1559\"/>\n<polygon fill=\"#000000\" stroke=\"#000000\" points=\"680.0519,-434.5935 685.1358,-425.2981 675.3648,-429.3944 680.0519,-434.5935\"/>\n</g>\n<!-- 13 -->\n<g id=\"node14\" class=\"node\">\n<title>13</title>\n<path fill=\"#39e581\" stroke=\"#000000\" d=\"M497,-298.5C497,-298.5 406,-298.5 406,-298.5 400,-298.5 394,-292.5 394,-286.5 394,-286.5 394,-242.5 394,-242.5 394,-236.5 400,-230.5 406,-230.5 406,-230.5 497,-230.5 497,-230.5 503,-230.5 509,-236.5 509,-242.5 509,-242.5 509,-286.5 509,-286.5 509,-292.5 503,-298.5 497,-298.5\"/>\n<text text-anchor=\"middle\" x=\"451.5\" y=\"-283.3\" font-family=\"Helvetica,sans-Serif\" font-size=\"14.00\" fill=\"#000000\">entropy = 0.0</text>\n<text text-anchor=\"middle\" x=\"451.5\" y=\"-268.3\" font-family=\"Helvetica,sans-Serif\" font-size=\"14.00\" fill=\"#000000\">samples = 4</text>\n<text text-anchor=\"middle\" x=\"451.5\" y=\"-253.3\" font-family=\"Helvetica,sans-Serif\" font-size=\"14.00\" fill=\"#000000\">value = [0, 4, 0]</text>\n<text text-anchor=\"middle\" x=\"451.5\" y=\"-238.3\" font-family=\"Helvetica,sans-Serif\" font-size=\"14.00\" fill=\"#000000\">class = 雪梨</text>\n</g>\n<!-- 12&#45;&gt;13 -->\n<g id=\"edge13\" class=\"edge\">\n<title>12&#45;&gt;13</title>\n<path fill=\"none\" stroke=\"#000000\" d=\"M538.6333,-341.8796C525.3844,-330.1138 510.9776,-317.3197 497.7644,-305.5855\"/>\n<polygon fill=\"#000000\" stroke=\"#000000\" points=\"499.9416,-302.8381 490.1403,-298.8149 495.2935,-308.0722 499.9416,-302.8381\"/>\n</g>\n<!-- 14 -->\n<g id=\"node15\" class=\"node\">\n<title>14</title>\n<path fill=\"#8139e5\" stroke=\"#000000\" d=\"M638,-298.5C638,-298.5 539,-298.5 539,-298.5 533,-298.5 527,-292.5 527,-286.5 527,-286.5 527,-242.5 527,-242.5 527,-236.5 533,-230.5 539,-230.5 539,-230.5 638,-230.5 638,-230.5 644,-230.5 650,-236.5 650,-242.5 650,-242.5 650,-286.5 650,-286.5 650,-292.5 644,-298.5 638,-298.5\"/>\n<text text-anchor=\"middle\" x=\"588.5\" y=\"-283.3\" font-family=\"Helvetica,sans-Serif\" font-size=\"14.00\" fill=\"#000000\">entropy = 0.0</text>\n<text text-anchor=\"middle\" x=\"588.5\" y=\"-268.3\" font-family=\"Helvetica,sans-Serif\" font-size=\"14.00\" fill=\"#000000\">samples = 2</text>\n<text text-anchor=\"middle\" x=\"588.5\" y=\"-253.3\" font-family=\"Helvetica,sans-Serif\" font-size=\"14.00\" fill=\"#000000\">value = [0, 0, 2]</text>\n<text text-anchor=\"middle\" x=\"588.5\" y=\"-238.3\" font-family=\"Helvetica,sans-Serif\" font-size=\"14.00\" fill=\"#000000\">class = 贝尔莫德</text>\n</g>\n<!-- 12&#45;&gt;14 -->\n<g id=\"edge14\" class=\"edge\">\n<title>12&#45;&gt;14</title>\n<path fill=\"none\" stroke=\"#000000\" d=\"M586.5493,-341.8796C586.8182,-331.2134 587.1084,-319.7021 587.3806,-308.9015\"/>\n<polygon fill=\"#000000\" stroke=\"#000000\" points=\"590.8817,-308.9 587.6349,-298.8149 583.8839,-308.7235 590.8817,-308.9\"/>\n</g>\n<!-- 16 -->\n<g id=\"node17\" class=\"node\">\n<title>16</title>\n<path fill=\"#39e581\" stroke=\"#000000\" d=\"M779,-298.5C779,-298.5 680,-298.5 680,-298.5 674,-298.5 668,-292.5 668,-286.5 668,-286.5 668,-242.5 668,-242.5 668,-236.5 674,-230.5 680,-230.5 680,-230.5 779,-230.5 779,-230.5 785,-230.5 791,-236.5 791,-242.5 791,-242.5 791,-286.5 791,-286.5 791,-292.5 785,-298.5 779,-298.5\"/>\n<text text-anchor=\"middle\" x=\"729.5\" y=\"-283.3\" font-family=\"Helvetica,sans-Serif\" font-size=\"14.00\" fill=\"#000000\">entropy = 0.0</text>\n<text text-anchor=\"middle\" x=\"729.5\" y=\"-268.3\" font-family=\"Helvetica,sans-Serif\" font-size=\"14.00\" fill=\"#000000\">samples = 20</text>\n<text text-anchor=\"middle\" x=\"729.5\" y=\"-253.3\" font-family=\"Helvetica,sans-Serif\" font-size=\"14.00\" fill=\"#000000\">value = [0, 20, 0]</text>\n<text text-anchor=\"middle\" x=\"729.5\" y=\"-238.3\" font-family=\"Helvetica,sans-Serif\" font-size=\"14.00\" fill=\"#000000\">class = 雪梨</text>\n</g>\n<!-- 15&#45;&gt;16 -->\n<g id=\"edge16\" class=\"edge\">\n<title>15&#45;&gt;16</title>\n<path fill=\"none\" stroke=\"#000000\" d=\"M730.8005,-341.8796C730.6212,-331.2134 730.4278,-319.7021 730.2462,-308.9015\"/>\n<polygon fill=\"#000000\" stroke=\"#000000\" points=\"733.7444,-308.7547 730.0767,-298.8149 726.7454,-308.8724 733.7444,-308.7547\"/>\n</g>\n<!-- 17 -->\n<g id=\"node18\" class=\"node\">\n<title>17</title>\n<path fill=\"#ffffff\" stroke=\"#000000\" d=\"M934,-306C934,-306 821,-306 821,-306 815,-306 809,-300 809,-294 809,-294 809,-235 809,-235 809,-229 815,-223 821,-223 821,-223 934,-223 934,-223 940,-223 946,-229 946,-235 946,-235 946,-294 946,-294 946,-300 940,-306 934,-306\"/>\n<text text-anchor=\"middle\" x=\"877.5\" y=\"-290.8\" font-family=\"Helvetica,sans-Serif\" font-size=\"14.00\" fill=\"#000000\">脯氨酸 &lt;= 894.913</text>\n<text text-anchor=\"middle\" x=\"877.5\" y=\"-275.8\" font-family=\"Helvetica,sans-Serif\" font-size=\"14.00\" fill=\"#000000\">entropy = 1.0</text>\n<text text-anchor=\"middle\" x=\"877.5\" y=\"-260.8\" font-family=\"Helvetica,sans-Serif\" font-size=\"14.00\" fill=\"#000000\">samples = 2</text>\n<text text-anchor=\"middle\" x=\"877.5\" y=\"-245.8\" font-family=\"Helvetica,sans-Serif\" font-size=\"14.00\" fill=\"#000000\">value = [1, 1, 0]</text>\n<text text-anchor=\"middle\" x=\"877.5\" y=\"-230.8\" font-family=\"Helvetica,sans-Serif\" font-size=\"14.00\" fill=\"#000000\">class = 琴酒</text>\n</g>\n<!-- 15&#45;&gt;17 -->\n<g id=\"edge17\" class=\"edge\">\n<title>15&#45;&gt;17</title>\n<path fill=\"none\" stroke=\"#000000\" d=\"M782.5637,-341.8796C794.0555,-332.513 806.3468,-322.4948 818.145,-312.8784\"/>\n<polygon fill=\"#000000\" stroke=\"#000000\" points=\"820.6782,-315.329 826.2183,-306.2981 816.2556,-309.903 820.6782,-315.329\"/>\n</g>\n<!-- 18 -->\n<g id=\"node19\" class=\"node\">\n<title>18</title>\n<path fill=\"#39e581\" stroke=\"#000000\" d=\"M793,-179.5C793,-179.5 702,-179.5 702,-179.5 696,-179.5 690,-173.5 690,-167.5 690,-167.5 690,-123.5 690,-123.5 690,-117.5 696,-111.5 702,-111.5 702,-111.5 793,-111.5 793,-111.5 799,-111.5 805,-117.5 805,-123.5 805,-123.5 805,-167.5 805,-167.5 805,-173.5 799,-179.5 793,-179.5\"/>\n<text text-anchor=\"middle\" x=\"747.5\" y=\"-164.3\" font-family=\"Helvetica,sans-Serif\" font-size=\"14.00\" fill=\"#000000\">entropy = 0.0</text>\n<text text-anchor=\"middle\" x=\"747.5\" y=\"-149.3\" font-family=\"Helvetica,sans-Serif\" font-size=\"14.00\" fill=\"#000000\">samples = 1</text>\n<text text-anchor=\"middle\" x=\"747.5\" y=\"-134.3\" font-family=\"Helvetica,sans-Serif\" font-size=\"14.00\" fill=\"#000000\">value = [0, 1, 0]</text>\n<text text-anchor=\"middle\" x=\"747.5\" y=\"-119.3\" font-family=\"Helvetica,sans-Serif\" font-size=\"14.00\" fill=\"#000000\">class = 雪梨</text>\n</g>\n<!-- 17&#45;&gt;18 -->\n<g id=\"edge18\" class=\"edge\">\n<title>17&#45;&gt;18</title>\n<path fill=\"none\" stroke=\"#000000\" d=\"M832.0323,-222.8796C819.1789,-211.1138 805.2021,-198.3197 792.3834,-186.5855\"/>\n<polygon fill=\"#000000\" stroke=\"#000000\" points=\"794.7264,-183.9854 784.9869,-179.8149 789.9999,-189.1488 794.7264,-183.9854\"/>\n</g>\n<!-- 19 -->\n<g id=\"node20\" class=\"node\">\n<title>19</title>\n<path fill=\"#e58139\" stroke=\"#000000\" d=\"M926,-179.5C926,-179.5 835,-179.5 835,-179.5 829,-179.5 823,-173.5 823,-167.5 823,-167.5 823,-123.5 823,-123.5 823,-117.5 829,-111.5 835,-111.5 835,-111.5 926,-111.5 926,-111.5 932,-111.5 938,-117.5 938,-123.5 938,-123.5 938,-167.5 938,-167.5 938,-173.5 932,-179.5 926,-179.5\"/>\n<text text-anchor=\"middle\" x=\"880.5\" y=\"-164.3\" font-family=\"Helvetica,sans-Serif\" font-size=\"14.00\" fill=\"#000000\">entropy = 0.0</text>\n<text text-anchor=\"middle\" x=\"880.5\" y=\"-149.3\" font-family=\"Helvetica,sans-Serif\" font-size=\"14.00\" fill=\"#000000\">samples = 1</text>\n<text text-anchor=\"middle\" x=\"880.5\" y=\"-134.3\" font-family=\"Helvetica,sans-Serif\" font-size=\"14.00\" fill=\"#000000\">value = [1, 0, 0]</text>\n<text text-anchor=\"middle\" x=\"880.5\" y=\"-119.3\" font-family=\"Helvetica,sans-Serif\" font-size=\"14.00\" fill=\"#000000\">class = 琴酒</text>\n</g>\n<!-- 17&#45;&gt;19 -->\n<g id=\"edge19\" class=\"edge\">\n<title>17&#45;&gt;19</title>\n<path fill=\"none\" stroke=\"#000000\" d=\"M878.5493,-222.8796C878.8182,-212.2134 879.1084,-200.7021 879.3806,-189.9015\"/>\n<polygon fill=\"#000000\" stroke=\"#000000\" points=\"882.8817,-189.9 879.6349,-179.8149 875.8839,-189.7235 882.8817,-189.9\"/>\n</g>\n<!-- 21 -->\n<g id=\"node22\" class=\"node\">\n<title>21</title>\n<path fill=\"#74eda7\" stroke=\"#000000\" d=\"M931,-544C931,-544 832,-544 832,-544 826,-544 820,-538 820,-532 820,-532 820,-473 820,-473 820,-467 826,-461 832,-461 832,-461 931,-461 931,-461 937,-461 943,-467 943,-473 943,-473 943,-532 943,-532 943,-538 937,-544 931,-544\"/>\n<text text-anchor=\"middle\" x=\"881.5\" y=\"-528.8\" font-family=\"Helvetica,sans-Serif\" font-size=\"14.00\" fill=\"#000000\">脯氨酸 &lt;= 711.3</text>\n<text text-anchor=\"middle\" x=\"881.5\" y=\"-513.8\" font-family=\"Helvetica,sans-Serif\" font-size=\"14.00\" fill=\"#000000\">entropy = 0.779</text>\n<text text-anchor=\"middle\" x=\"881.5\" y=\"-498.8\" font-family=\"Helvetica,sans-Serif\" font-size=\"14.00\" fill=\"#000000\">samples = 26</text>\n<text text-anchor=\"middle\" x=\"881.5\" y=\"-483.8\" font-family=\"Helvetica,sans-Serif\" font-size=\"14.00\" fill=\"#000000\">value = [6, 20, 0]</text>\n<text text-anchor=\"middle\" x=\"881.5\" y=\"-468.8\" font-family=\"Helvetica,sans-Serif\" font-size=\"14.00\" fill=\"#000000\">class = 雪梨</text>\n</g>\n<!-- 20&#45;&gt;21 -->\n<g id=\"edge21\" class=\"edge\">\n<title>20&#45;&gt;21</title>\n<path fill=\"none\" stroke=\"#000000\" d=\"M881.5,-579.8796C881.5,-571.6838 881.5,-562.9891 881.5,-554.5013\"/>\n<polygon fill=\"#000000\" stroke=\"#000000\" points=\"885.0001,-554.298 881.5,-544.2981 878.0001,-554.2981 885.0001,-554.298\"/>\n</g>\n<!-- 28 -->\n<g id=\"node29\" class=\"node\">\n<title>28</title>\n<path fill=\"#e58139\" stroke=\"#000000\" d=\"M1072,-536.5C1072,-536.5 973,-536.5 973,-536.5 967,-536.5 961,-530.5 961,-524.5 961,-524.5 961,-480.5 961,-480.5 961,-474.5 967,-468.5 973,-468.5 973,-468.5 1072,-468.5 1072,-468.5 1078,-468.5 1084,-474.5 1084,-480.5 1084,-480.5 1084,-524.5 1084,-524.5 1084,-530.5 1078,-536.5 1072,-536.5\"/>\n<text text-anchor=\"middle\" x=\"1022.5\" y=\"-521.3\" font-family=\"Helvetica,sans-Serif\" font-size=\"14.00\" fill=\"#000000\">entropy = 0.0</text>\n<text text-anchor=\"middle\" x=\"1022.5\" y=\"-506.3\" font-family=\"Helvetica,sans-Serif\" font-size=\"14.00\" fill=\"#000000\">samples = 36</text>\n<text text-anchor=\"middle\" x=\"1022.5\" y=\"-491.3\" font-family=\"Helvetica,sans-Serif\" font-size=\"14.00\" fill=\"#000000\">value = [36, 0, 0]</text>\n<text text-anchor=\"middle\" x=\"1022.5\" y=\"-476.3\" font-family=\"Helvetica,sans-Serif\" font-size=\"14.00\" fill=\"#000000\">class = 琴酒</text>\n</g>\n<!-- 20&#45;&gt;28 -->\n<g id=\"edge28\" class=\"edge\">\n<title>20&#45;&gt;28</title>\n<path fill=\"none\" stroke=\"#000000\" d=\"M930.815,-579.8796C944.756,-568.1138 959.9154,-555.3197 973.8188,-543.5855\"/>\n<polygon fill=\"#000000\" stroke=\"#000000\" points=\"976.4564,-545.9394 981.8411,-536.8149 971.9416,-540.5899 976.4564,-545.9394\"/>\n</g>\n<!-- 22 -->\n<g id=\"node23\" class=\"node\">\n<title>22</title>\n<path fill=\"#39e581\" stroke=\"#000000\" d=\"M931,-417.5C931,-417.5 832,-417.5 832,-417.5 826,-417.5 820,-411.5 820,-405.5 820,-405.5 820,-361.5 820,-361.5 820,-355.5 826,-349.5 832,-349.5 832,-349.5 931,-349.5 931,-349.5 937,-349.5 943,-355.5 943,-361.5 943,-361.5 943,-405.5 943,-405.5 943,-411.5 937,-417.5 931,-417.5\"/>\n<text text-anchor=\"middle\" x=\"881.5\" y=\"-402.3\" font-family=\"Helvetica,sans-Serif\" font-size=\"14.00\" fill=\"#000000\">entropy = 0.0</text>\n<text text-anchor=\"middle\" x=\"881.5\" y=\"-387.3\" font-family=\"Helvetica,sans-Serif\" font-size=\"14.00\" fill=\"#000000\">samples = 17</text>\n<text text-anchor=\"middle\" x=\"881.5\" y=\"-372.3\" font-family=\"Helvetica,sans-Serif\" font-size=\"14.00\" fill=\"#000000\">value = [0, 17, 0]</text>\n<text text-anchor=\"middle\" x=\"881.5\" y=\"-357.3\" font-family=\"Helvetica,sans-Serif\" font-size=\"14.00\" fill=\"#000000\">class = 雪梨</text>\n</g>\n<!-- 21&#45;&gt;22 -->\n<g id=\"edge22\" class=\"edge\">\n<title>21&#45;&gt;22</title>\n<path fill=\"none\" stroke=\"#000000\" d=\"M881.5,-460.8796C881.5,-450.2134 881.5,-438.7021 881.5,-427.9015\"/>\n<polygon fill=\"#000000\" stroke=\"#000000\" points=\"885.0001,-427.8149 881.5,-417.8149 878.0001,-427.815 885.0001,-427.8149\"/>\n</g>\n<!-- 23 -->\n<g id=\"node24\" class=\"node\">\n<title>23</title>\n<path fill=\"#f2c09c\" stroke=\"#000000\" d=\"M1070.5,-425C1070.5,-425 976.5,-425 976.5,-425 970.5,-425 964.5,-419 964.5,-413 964.5,-413 964.5,-354 964.5,-354 964.5,-348 970.5,-342 976.5,-342 976.5,-342 1070.5,-342 1070.5,-342 1076.5,-342 1082.5,-348 1082.5,-354 1082.5,-354 1082.5,-413 1082.5,-413 1082.5,-419 1076.5,-425 1070.5,-425\"/>\n<text text-anchor=\"middle\" x=\"1023.5\" y=\"-409.8\" font-family=\"Helvetica,sans-Serif\" font-size=\"14.00\" fill=\"#000000\">镁 &lt;= 126.556</text>\n<text text-anchor=\"middle\" x=\"1023.5\" y=\"-394.8\" font-family=\"Helvetica,sans-Serif\" font-size=\"14.00\" fill=\"#000000\">entropy = 0.918</text>\n<text text-anchor=\"middle\" x=\"1023.5\" y=\"-379.8\" font-family=\"Helvetica,sans-Serif\" font-size=\"14.00\" fill=\"#000000\">samples = 9</text>\n<text text-anchor=\"middle\" x=\"1023.5\" y=\"-364.8\" font-family=\"Helvetica,sans-Serif\" font-size=\"14.00\" fill=\"#000000\">value = [6, 3, 0]</text>\n<text text-anchor=\"middle\" x=\"1023.5\" y=\"-349.8\" font-family=\"Helvetica,sans-Serif\" font-size=\"14.00\" fill=\"#000000\">class = 琴酒</text>\n</g>\n<!-- 21&#45;&gt;23 -->\n<g id=\"edge23\" class=\"edge\">\n<title>21&#45;&gt;23</title>\n<path fill=\"none\" stroke=\"#000000\" d=\"M931.1647,-460.8796C942.3416,-451.513 954.2962,-441.4948 965.7712,-431.8784\"/>\n<polygon fill=\"#000000\" stroke=\"#000000\" points=\"968.2069,-434.4037 973.6233,-425.2981 963.7107,-429.0386 968.2069,-434.4037\"/>\n</g>\n<!-- 24 -->\n<g id=\"node25\" class=\"node\">\n<title>24</title>\n<path fill=\"#e9965a\" stroke=\"#000000\" d=\"M1070.5,-306C1070.5,-306 976.5,-306 976.5,-306 970.5,-306 964.5,-300 964.5,-294 964.5,-294 964.5,-235 964.5,-235 964.5,-229 970.5,-223 976.5,-223 976.5,-223 1070.5,-223 1070.5,-223 1076.5,-223 1082.5,-229 1082.5,-235 1082.5,-235 1082.5,-294 1082.5,-294 1082.5,-300 1076.5,-306 1070.5,-306\"/>\n<text text-anchor=\"middle\" x=\"1023.5\" y=\"-290.8\" font-family=\"Helvetica,sans-Serif\" font-size=\"14.00\" fill=\"#000000\">镁 &lt;= 90.855</text>\n<text text-anchor=\"middle\" x=\"1023.5\" y=\"-275.8\" font-family=\"Helvetica,sans-Serif\" font-size=\"14.00\" fill=\"#000000\">entropy = 0.592</text>\n<text text-anchor=\"middle\" x=\"1023.5\" y=\"-260.8\" font-family=\"Helvetica,sans-Serif\" font-size=\"14.00\" fill=\"#000000\">samples = 7</text>\n<text text-anchor=\"middle\" x=\"1023.5\" y=\"-245.8\" font-family=\"Helvetica,sans-Serif\" font-size=\"14.00\" fill=\"#000000\">value = [6, 1, 0]</text>\n<text text-anchor=\"middle\" x=\"1023.5\" y=\"-230.8\" font-family=\"Helvetica,sans-Serif\" font-size=\"14.00\" fill=\"#000000\">class = 琴酒</text>\n</g>\n<!-- 23&#45;&gt;24 -->\n<g id=\"edge24\" class=\"edge\">\n<title>23&#45;&gt;24</title>\n<path fill=\"none\" stroke=\"#000000\" d=\"M1023.5,-341.8796C1023.5,-333.6838 1023.5,-324.9891 1023.5,-316.5013\"/>\n<polygon fill=\"#000000\" stroke=\"#000000\" points=\"1027.0001,-316.298 1023.5,-306.2981 1020.0001,-316.2981 1027.0001,-316.298\"/>\n</g>\n<!-- 27 -->\n<g id=\"node28\" class=\"node\">\n<title>27</title>\n<path fill=\"#39e581\" stroke=\"#000000\" d=\"M1204,-298.5C1204,-298.5 1113,-298.5 1113,-298.5 1107,-298.5 1101,-292.5 1101,-286.5 1101,-286.5 1101,-242.5 1101,-242.5 1101,-236.5 1107,-230.5 1113,-230.5 1113,-230.5 1204,-230.5 1204,-230.5 1210,-230.5 1216,-236.5 1216,-242.5 1216,-242.5 1216,-286.5 1216,-286.5 1216,-292.5 1210,-298.5 1204,-298.5\"/>\n<text text-anchor=\"middle\" x=\"1158.5\" y=\"-283.3\" font-family=\"Helvetica,sans-Serif\" font-size=\"14.00\" fill=\"#000000\">entropy = 0.0</text>\n<text text-anchor=\"middle\" x=\"1158.5\" y=\"-268.3\" font-family=\"Helvetica,sans-Serif\" font-size=\"14.00\" fill=\"#000000\">samples = 2</text>\n<text text-anchor=\"middle\" x=\"1158.5\" y=\"-253.3\" font-family=\"Helvetica,sans-Serif\" font-size=\"14.00\" fill=\"#000000\">value = [0, 2, 0]</text>\n<text text-anchor=\"middle\" x=\"1158.5\" y=\"-238.3\" font-family=\"Helvetica,sans-Serif\" font-size=\"14.00\" fill=\"#000000\">class = 雪梨</text>\n</g>\n<!-- 23&#45;&gt;27 -->\n<g id=\"edge27\" class=\"edge\">\n<title>23&#45;&gt;27</title>\n<path fill=\"none\" stroke=\"#000000\" d=\"M1070.7164,-341.8796C1084.0642,-330.1138 1098.5785,-317.3197 1111.8904,-305.5855\"/>\n<polygon fill=\"#000000\" stroke=\"#000000\" points=\"1114.384,-308.0531 1119.5713,-298.8149 1109.7552,-302.8019 1114.384,-308.0531\"/>\n</g>\n<!-- 25 -->\n<g id=\"node26\" class=\"node\">\n<title>25</title>\n<path fill=\"#39e581\" stroke=\"#000000\" d=\"M1065,-179.5C1065,-179.5 974,-179.5 974,-179.5 968,-179.5 962,-173.5 962,-167.5 962,-167.5 962,-123.5 962,-123.5 962,-117.5 968,-111.5 974,-111.5 974,-111.5 1065,-111.5 1065,-111.5 1071,-111.5 1077,-117.5 1077,-123.5 1077,-123.5 1077,-167.5 1077,-167.5 1077,-173.5 1071,-179.5 1065,-179.5\"/>\n<text text-anchor=\"middle\" x=\"1019.5\" y=\"-164.3\" font-family=\"Helvetica,sans-Serif\" font-size=\"14.00\" fill=\"#000000\">entropy = 0.0</text>\n<text text-anchor=\"middle\" x=\"1019.5\" y=\"-149.3\" font-family=\"Helvetica,sans-Serif\" font-size=\"14.00\" fill=\"#000000\">samples = 1</text>\n<text text-anchor=\"middle\" x=\"1019.5\" y=\"-134.3\" font-family=\"Helvetica,sans-Serif\" font-size=\"14.00\" fill=\"#000000\">value = [0, 1, 0]</text>\n<text text-anchor=\"middle\" x=\"1019.5\" y=\"-119.3\" font-family=\"Helvetica,sans-Serif\" font-size=\"14.00\" fill=\"#000000\">class = 雪梨</text>\n</g>\n<!-- 24&#45;&gt;25 -->\n<g id=\"edge25\" class=\"edge\">\n<title>24&#45;&gt;25</title>\n<path fill=\"none\" stroke=\"#000000\" d=\"M1022.101,-222.8796C1021.7425,-212.2134 1021.3555,-200.7021 1020.9925,-189.9015\"/>\n<polygon fill=\"#000000\" stroke=\"#000000\" points=\"1024.4875,-189.6917 1020.6534,-179.8149 1017.4915,-189.9269 1024.4875,-189.6917\"/>\n</g>\n<!-- 26 -->\n<g id=\"node27\" class=\"node\">\n<title>26</title>\n<path fill=\"#e58139\" stroke=\"#000000\" d=\"M1198,-179.5C1198,-179.5 1107,-179.5 1107,-179.5 1101,-179.5 1095,-173.5 1095,-167.5 1095,-167.5 1095,-123.5 1095,-123.5 1095,-117.5 1101,-111.5 1107,-111.5 1107,-111.5 1198,-111.5 1198,-111.5 1204,-111.5 1210,-117.5 1210,-123.5 1210,-123.5 1210,-167.5 1210,-167.5 1210,-173.5 1204,-179.5 1198,-179.5\"/>\n<text text-anchor=\"middle\" x=\"1152.5\" y=\"-164.3\" font-family=\"Helvetica,sans-Serif\" font-size=\"14.00\" fill=\"#000000\">entropy = 0.0</text>\n<text text-anchor=\"middle\" x=\"1152.5\" y=\"-149.3\" font-family=\"Helvetica,sans-Serif\" font-size=\"14.00\" fill=\"#000000\">samples = 6</text>\n<text text-anchor=\"middle\" x=\"1152.5\" y=\"-134.3\" font-family=\"Helvetica,sans-Serif\" font-size=\"14.00\" fill=\"#000000\">value = [6, 0, 0]</text>\n<text text-anchor=\"middle\" x=\"1152.5\" y=\"-119.3\" font-family=\"Helvetica,sans-Serif\" font-size=\"14.00\" fill=\"#000000\">class = 琴酒</text>\n</g>\n<!-- 24&#45;&gt;26 -->\n<g id=\"edge26\" class=\"edge\">\n<title>24&#45;&gt;26</title>\n<path fill=\"none\" stroke=\"#000000\" d=\"M1068.6179,-222.8796C1081.2533,-211.2237 1094.9826,-198.5587 1107.605,-186.9148\"/>\n<polygon fill=\"#000000\" stroke=\"#000000\" points=\"1110.3244,-189.168 1115.3015,-179.8149 1105.578,-184.0228 1110.3244,-189.168\"/>\n</g>\n</g>\n</svg>\n"
          },
          "metadata": {
            "tags": []
          },
          "execution_count": 25
        }
      ]
    },
    {
      "cell_type": "markdown",
      "metadata": {
        "id": "vTlbr7LAnNkc",
        "colab_type": "text"
      },
      "source": [
        "### 2020.8.19日"
      ]
    },
    {
      "cell_type": "code",
      "metadata": {
        "id": "zReadh246p30",
        "colab_type": "code",
        "colab": {
          "base_uri": "https://localhost:8080/",
          "height": 53
        },
        "outputId": "083a9e9f-8c08-4b33-e8bc-124152d4e369"
      },
      "source": [
        "# 剪枝参数。\n",
        "# 查看决策树对训练集的逆合程度和测试集的拟合程度。\n",
        "score_train = clf.score(Xtrain, Ytrain)\n",
        "print(score_train)\n",
        "score_test = clf.score(Xtest,Ytest)\n",
        "print(score_test)"
      ],
      "execution_count": 26,
      "outputs": [
        {
          "output_type": "stream",
          "text": [
            "1.0\n",
            "0.9444444444444444\n"
          ],
          "name": "stdout"
        }
      ]
    },
    {
      "cell_type": "markdown",
      "metadata": {
        "id": "ME4Smot5nNnC",
        "colab_type": "text"
      },
      "source": [
        "## 当决策树的训练拟合度远远高于测试拟合度的时候，我们称之为过拟合。\n",
        "## 过拟合的原因大致是因为决策树生成的时候应用了很多训练集的噪声，使得对未知数据## 拟合程度不是很号。\n",
        "\n",
        "## 因此需要对其进行减枝操作。\n",
        "\n",
        "\n",
        "# 正确的减枝是优化决策树的关键。\n",
        "\n",
        "\n",
        "## sklearn 提供了不同的剪枝策略：\n",
        "\n",
        "- max-depth\n",
        "#### 限制决策数的最大深度，超过最大深度的树枝全部剪掉。该方法应用的最多，高纬度，低样本，非常适用。\n",
        "\n",
        "#### 决策数生长一层，对样本需求增加一倍，所以max-depth可以在这种情况下有效的限制\n",
        "\n",
        "#### 过拟合。实际使用的时候可以逐步长生深度，查看效果后选择最优。\n",
        "\n",
        "- min_samples_leaf & min_samples_split.\n",
        "\n",
        "#### 前者对节点的子节点的要求，后者对节点本身要求。都是表示最小的样本数，否则就不分枝。一般搭配maxt_depth 来使用。 一般来说从5开始，不宜过大也不宜过小。\n",
        "\n",
        "#### 对于类别不多的分类问题，=1 就是最佳的选择。\n",
        "\n"
      ]
    },
    {
      "cell_type": "code",
      "metadata": {
        "id": "yP86Dn0ho5To",
        "colab_type": "code",
        "colab": {
          "base_uri": "https://localhost:8080/",
          "height": 597
        },
        "outputId": "68bc2cd9-f9f9-422d-9bcb-d01124f4d4e8"
      },
      "source": [
        "clf = tree.DecisionTreeClassifier(criterion='entropy', random_state=30, splitter='random', max_depth=3, min_samples_leaf=10, min_samples_split=10)\n",
        "\n",
        "clf.fit(Xtrain, Ytrain)\n",
        "\n",
        "class_name = ['琴酒','雪莉','贝尔摩德']\n",
        "dot_data = tree.export_graphviz(clf, feature_names=feature_name, class_names=class_name, filled=True, rounded=True)\n",
        "\n",
        "graph = graphviz.Source(dot_data)\n",
        "graph"
      ],
      "execution_count": 27,
      "outputs": [
        {
          "output_type": "execute_result",
          "data": {
            "text/plain": [
              "<graphviz.files.Source at 0x7f443653c7b8>"
            ],
            "image/svg+xml": "<?xml version=\"1.0\" encoding=\"UTF-8\" standalone=\"no\"?>\n<!DOCTYPE svg PUBLIC \"-//W3C//DTD SVG 1.1//EN\"\n \"http://www.w3.org/Graphics/SVG/1.1/DTD/svg11.dtd\">\n<!-- Generated by graphviz version 2.40.1 (20161225.0304)\n -->\n<!-- Title: Tree Pages: 1 -->\n<svg width=\"867pt\" height=\"433pt\"\n viewBox=\"0.00 0.00 867.00 433.00\" xmlns=\"http://www.w3.org/2000/svg\" xmlns:xlink=\"http://www.w3.org/1999/xlink\">\n<g id=\"graph0\" class=\"graph\" transform=\"scale(1 1) rotate(0) translate(4 429)\">\n<title>Tree</title>\n<polygon fill=\"#ffffff\" stroke=\"transparent\" points=\"-4,4 -4,-429 863,-429 863,4 -4,4\"/>\n<!-- 0 -->\n<g id=\"node1\" class=\"node\">\n<title>0</title>\n<path fill=\"#e7fcef\" stroke=\"#000000\" d=\"M501.5,-425C501.5,-425 385.5,-425 385.5,-425 379.5,-425 373.5,-419 373.5,-413 373.5,-413 373.5,-354 373.5,-354 373.5,-348 379.5,-342 385.5,-342 385.5,-342 501.5,-342 501.5,-342 507.5,-342 513.5,-348 513.5,-354 513.5,-354 513.5,-413 513.5,-413 513.5,-419 507.5,-425 501.5,-425\"/>\n<text text-anchor=\"middle\" x=\"443.5\" y=\"-409.8\" font-family=\"Helvetica,sans-Serif\" font-size=\"14.00\" fill=\"#000000\">类黄酮 &lt;= 2.234</text>\n<text text-anchor=\"middle\" x=\"443.5\" y=\"-394.8\" font-family=\"Helvetica,sans-Serif\" font-size=\"14.00\" fill=\"#000000\">entropy = 1.539</text>\n<text text-anchor=\"middle\" x=\"443.5\" y=\"-379.8\" font-family=\"Helvetica,sans-Serif\" font-size=\"14.00\" fill=\"#000000\">samples = 124</text>\n<text text-anchor=\"middle\" x=\"443.5\" y=\"-364.8\" font-family=\"Helvetica,sans-Serif\" font-size=\"14.00\" fill=\"#000000\">value = [43, 53, 28]</text>\n<text text-anchor=\"middle\" x=\"443.5\" y=\"-349.8\" font-family=\"Helvetica,sans-Serif\" font-size=\"14.00\" fill=\"#000000\">class = 雪莉</text>\n</g>\n<!-- 1 -->\n<g id=\"node2\" class=\"node\">\n<title>1</title>\n<path fill=\"#e2fbec\" stroke=\"#000000\" d=\"M445,-306C445,-306 242,-306 242,-306 236,-306 230,-300 230,-294 230,-294 230,-235 230,-235 230,-229 236,-223 242,-223 242,-223 445,-223 445,-223 451,-223 457,-229 457,-235 457,-235 457,-294 457,-294 457,-300 451,-306 445,-306\"/>\n<text text-anchor=\"middle\" x=\"343.5\" y=\"-290.8\" font-family=\"Helvetica,sans-Serif\" font-size=\"14.00\" fill=\"#000000\">od280/od315稀释葡萄酒 &lt;= 2.21</text>\n<text text-anchor=\"middle\" x=\"343.5\" y=\"-275.8\" font-family=\"Helvetica,sans-Serif\" font-size=\"14.00\" fill=\"#000000\">entropy = 1.098</text>\n<text text-anchor=\"middle\" x=\"343.5\" y=\"-260.8\" font-family=\"Helvetica,sans-Serif\" font-size=\"14.00\" fill=\"#000000\">samples = 62</text>\n<text text-anchor=\"middle\" x=\"343.5\" y=\"-245.8\" font-family=\"Helvetica,sans-Serif\" font-size=\"14.00\" fill=\"#000000\">value = [1, 33, 28]</text>\n<text text-anchor=\"middle\" x=\"343.5\" y=\"-230.8\" font-family=\"Helvetica,sans-Serif\" font-size=\"14.00\" fill=\"#000000\">class = 雪莉</text>\n</g>\n<!-- 0&#45;&gt;1 -->\n<g id=\"edge1\" class=\"edge\">\n<title>0&#45;&gt;1</title>\n<path fill=\"none\" stroke=\"#000000\" d=\"M408.5249,-341.8796C400.9565,-332.8733 392.8819,-323.2644 385.088,-313.9897\"/>\n<polygon fill=\"#000000\" stroke=\"#000000\" points=\"387.7374,-311.7022 378.6244,-306.2981 382.3784,-316.2056 387.7374,-311.7022\"/>\n<text text-anchor=\"middle\" x=\"376.4636\" y=\"-327.5045\" font-family=\"Helvetica,sans-Serif\" font-size=\"14.00\" fill=\"#000000\">True</text>\n</g>\n<!-- 8 -->\n<g id=\"node9\" class=\"node\">\n<title>8</title>\n<path fill=\"#f1bd97\" stroke=\"#000000\" d=\"M600,-306C600,-306 487,-306 487,-306 481,-306 475,-300 475,-294 475,-294 475,-235 475,-235 475,-229 481,-223 487,-223 487,-223 600,-223 600,-223 606,-223 612,-229 612,-235 612,-235 612,-294 612,-294 612,-300 606,-306 600,-306\"/>\n<text text-anchor=\"middle\" x=\"543.5\" y=\"-290.8\" font-family=\"Helvetica,sans-Serif\" font-size=\"14.00\" fill=\"#000000\">脯氨酸 &lt;= 595.824</text>\n<text text-anchor=\"middle\" x=\"543.5\" y=\"-275.8\" font-family=\"Helvetica,sans-Serif\" font-size=\"14.00\" fill=\"#000000\">entropy = 0.907</text>\n<text text-anchor=\"middle\" x=\"543.5\" y=\"-260.8\" font-family=\"Helvetica,sans-Serif\" font-size=\"14.00\" fill=\"#000000\">samples = 62</text>\n<text text-anchor=\"middle\" x=\"543.5\" y=\"-245.8\" font-family=\"Helvetica,sans-Serif\" font-size=\"14.00\" fill=\"#000000\">value = [42, 20, 0]</text>\n<text text-anchor=\"middle\" x=\"543.5\" y=\"-230.8\" font-family=\"Helvetica,sans-Serif\" font-size=\"14.00\" fill=\"#000000\">class = 琴酒</text>\n</g>\n<!-- 0&#45;&gt;8 -->\n<g id=\"edge8\" class=\"edge\">\n<title>0&#45;&gt;8</title>\n<path fill=\"none\" stroke=\"#000000\" d=\"M478.4751,-341.8796C486.0435,-332.8733 494.1181,-323.2644 501.912,-313.9897\"/>\n<polygon fill=\"#000000\" stroke=\"#000000\" points=\"504.6216,-316.2056 508.3756,-306.2981 499.2626,-311.7022 504.6216,-316.2056\"/>\n<text text-anchor=\"middle\" x=\"510.5364\" y=\"-327.5045\" font-family=\"Helvetica,sans-Serif\" font-size=\"14.00\" fill=\"#000000\">False</text>\n</g>\n<!-- 2 -->\n<g id=\"node3\" class=\"node\">\n<title>2</title>\n<path fill=\"#a876ed\" stroke=\"#000000\" d=\"M267,-187C267,-187 128,-187 128,-187 122,-187 116,-181 116,-175 116,-175 116,-116 116,-116 116,-110 122,-104 128,-104 128,-104 267,-104 267,-104 273,-104 279,-110 279,-116 279,-116 279,-175 279,-175 279,-181 273,-187 267,-187\"/>\n<text text-anchor=\"middle\" x=\"197.5\" y=\"-171.8\" font-family=\"Helvetica,sans-Serif\" font-size=\"14.00\" fill=\"#000000\">非黄烷类酚类 &lt;= 0.497</text>\n<text text-anchor=\"middle\" x=\"197.5\" y=\"-156.8\" font-family=\"Helvetica,sans-Serif\" font-size=\"14.00\" fill=\"#000000\">entropy = 0.787</text>\n<text text-anchor=\"middle\" x=\"197.5\" y=\"-141.8\" font-family=\"Helvetica,sans-Serif\" font-size=\"14.00\" fill=\"#000000\">samples = 34</text>\n<text text-anchor=\"middle\" x=\"197.5\" y=\"-126.8\" font-family=\"Helvetica,sans-Serif\" font-size=\"14.00\" fill=\"#000000\">value = [0, 8, 26]</text>\n<text text-anchor=\"middle\" x=\"197.5\" y=\"-111.8\" font-family=\"Helvetica,sans-Serif\" font-size=\"14.00\" fill=\"#000000\">class = 贝尔摩德</text>\n</g>\n<!-- 1&#45;&gt;2 -->\n<g id=\"edge2\" class=\"edge\">\n<title>1&#45;&gt;2</title>\n<path fill=\"none\" stroke=\"#000000\" d=\"M292.4363,-222.8796C280.9445,-213.513 268.6532,-203.4948 256.855,-193.8784\"/>\n<polygon fill=\"#000000\" stroke=\"#000000\" points=\"258.7444,-190.903 248.7817,-187.2981 254.3218,-196.329 258.7444,-190.903\"/>\n</g>\n<!-- 5 -->\n<g id=\"node6\" class=\"node\">\n<title>5</title>\n<path fill=\"#50e890\" stroke=\"#000000\" d=\"M408,-187C408,-187 309,-187 309,-187 303,-187 297,-181 297,-175 297,-175 297,-116 297,-116 297,-110 303,-104 309,-104 309,-104 408,-104 408,-104 414,-104 420,-110 420,-116 420,-116 420,-175 420,-175 420,-181 414,-187 408,-187\"/>\n<text text-anchor=\"middle\" x=\"358.5\" y=\"-171.8\" font-family=\"Helvetica,sans-Serif\" font-size=\"14.00\" fill=\"#000000\">灰 &lt;= 2.326</text>\n<text text-anchor=\"middle\" x=\"358.5\" y=\"-156.8\" font-family=\"Helvetica,sans-Serif\" font-size=\"14.00\" fill=\"#000000\">entropy = 0.59</text>\n<text text-anchor=\"middle\" x=\"358.5\" y=\"-141.8\" font-family=\"Helvetica,sans-Serif\" font-size=\"14.00\" fill=\"#000000\">samples = 28</text>\n<text text-anchor=\"middle\" x=\"358.5\" y=\"-126.8\" font-family=\"Helvetica,sans-Serif\" font-size=\"14.00\" fill=\"#000000\">value = [1, 25, 2]</text>\n<text text-anchor=\"middle\" x=\"358.5\" y=\"-111.8\" font-family=\"Helvetica,sans-Serif\" font-size=\"14.00\" fill=\"#000000\">class = 雪莉</text>\n</g>\n<!-- 1&#45;&gt;5 -->\n<g id=\"edge5\" class=\"edge\">\n<title>1&#45;&gt;5</title>\n<path fill=\"none\" stroke=\"#000000\" d=\"M348.7463,-222.8796C349.7907,-214.5938 350.8994,-205.798 351.9805,-197.2216\"/>\n<polygon fill=\"#000000\" stroke=\"#000000\" points=\"355.4532,-197.6573 353.2313,-187.2981 348.5081,-196.7818 355.4532,-197.6573\"/>\n</g>\n<!-- 3 -->\n<g id=\"node4\" class=\"node\">\n<title>3</title>\n<path fill=\"#995eea\" stroke=\"#000000\" d=\"M111,-68C111,-68 12,-68 12,-68 6,-68 0,-62 0,-56 0,-56 0,-12 0,-12 0,-6 6,0 12,0 12,0 111,0 111,0 117,0 123,-6 123,-12 123,-12 123,-56 123,-56 123,-62 117,-68 111,-68\"/>\n<text text-anchor=\"middle\" x=\"61.5\" y=\"-52.8\" font-family=\"Helvetica,sans-Serif\" font-size=\"14.00\" fill=\"#000000\">entropy = 0.629</text>\n<text text-anchor=\"middle\" x=\"61.5\" y=\"-37.8\" font-family=\"Helvetica,sans-Serif\" font-size=\"14.00\" fill=\"#000000\">samples = 19</text>\n<text text-anchor=\"middle\" x=\"61.5\" y=\"-22.8\" font-family=\"Helvetica,sans-Serif\" font-size=\"14.00\" fill=\"#000000\">value = [0, 3, 16]</text>\n<text text-anchor=\"middle\" x=\"61.5\" y=\"-7.8\" font-family=\"Helvetica,sans-Serif\" font-size=\"14.00\" fill=\"#000000\">class = 贝尔摩德</text>\n</g>\n<!-- 2&#45;&gt;3 -->\n<g id=\"edge3\" class=\"edge\">\n<title>2&#45;&gt;3</title>\n<path fill=\"none\" stroke=\"#000000\" d=\"M146.8586,-103.9815C135.2001,-94.4232 122.812,-84.2668 111.1941,-74.7419\"/>\n<polygon fill=\"#000000\" stroke=\"#000000\" points=\"113.2448,-71.8972 103.2925,-68.2637 108.8067,-77.3105 113.2448,-71.8972\"/>\n</g>\n<!-- 4 -->\n<g id=\"node5\" class=\"node\">\n<title>4</title>\n<path fill=\"#c09cf2\" stroke=\"#000000\" d=\"M252,-68C252,-68 153,-68 153,-68 147,-68 141,-62 141,-56 141,-56 141,-12 141,-12 141,-6 147,0 153,0 153,0 252,0 252,0 258,0 264,-6 264,-12 264,-12 264,-56 264,-56 264,-62 258,-68 252,-68\"/>\n<text text-anchor=\"middle\" x=\"202.5\" y=\"-52.8\" font-family=\"Helvetica,sans-Serif\" font-size=\"14.00\" fill=\"#000000\">entropy = 0.918</text>\n<text text-anchor=\"middle\" x=\"202.5\" y=\"-37.8\" font-family=\"Helvetica,sans-Serif\" font-size=\"14.00\" fill=\"#000000\">samples = 15</text>\n<text text-anchor=\"middle\" x=\"202.5\" y=\"-22.8\" font-family=\"Helvetica,sans-Serif\" font-size=\"14.00\" fill=\"#000000\">value = [0, 5, 10]</text>\n<text text-anchor=\"middle\" x=\"202.5\" y=\"-7.8\" font-family=\"Helvetica,sans-Serif\" font-size=\"14.00\" fill=\"#000000\">class = 贝尔摩德</text>\n</g>\n<!-- 2&#45;&gt;4 -->\n<g id=\"edge4\" class=\"edge\">\n<title>2&#45;&gt;4</title>\n<path fill=\"none\" stroke=\"#000000\" d=\"M199.3618,-103.9815C199.7369,-95.618 200.1324,-86.7965 200.5116,-78.3409\"/>\n<polygon fill=\"#000000\" stroke=\"#000000\" points=\"204.0119,-78.4105 200.9635,-68.2637 197.019,-78.0968 204.0119,-78.4105\"/>\n</g>\n<!-- 6 -->\n<g id=\"node7\" class=\"node\">\n<title>6</title>\n<path fill=\"#47e78a\" stroke=\"#000000\" d=\"M403,-68C403,-68 304,-68 304,-68 298,-68 292,-62 292,-56 292,-56 292,-12 292,-12 292,-6 298,0 304,0 304,0 403,0 403,0 409,0 415,-6 415,-12 415,-12 415,-56 415,-56 415,-62 409,-68 403,-68\"/>\n<text text-anchor=\"middle\" x=\"353.5\" y=\"-52.8\" font-family=\"Helvetica,sans-Serif\" font-size=\"14.00\" fill=\"#000000\">entropy = 0.353</text>\n<text text-anchor=\"middle\" x=\"353.5\" y=\"-37.8\" font-family=\"Helvetica,sans-Serif\" font-size=\"14.00\" fill=\"#000000\">samples = 15</text>\n<text text-anchor=\"middle\" x=\"353.5\" y=\"-22.8\" font-family=\"Helvetica,sans-Serif\" font-size=\"14.00\" fill=\"#000000\">value = [1, 14, 0]</text>\n<text text-anchor=\"middle\" x=\"353.5\" y=\"-7.8\" font-family=\"Helvetica,sans-Serif\" font-size=\"14.00\" fill=\"#000000\">class = 雪莉</text>\n</g>\n<!-- 5&#45;&gt;6 -->\n<g id=\"edge6\" class=\"edge\">\n<title>5&#45;&gt;6</title>\n<path fill=\"none\" stroke=\"#000000\" d=\"M356.6382,-103.9815C356.2631,-95.618 355.8676,-86.7965 355.4884,-78.3409\"/>\n<polygon fill=\"#000000\" stroke=\"#000000\" points=\"358.981,-78.0968 355.0365,-68.2637 351.9881,-78.4105 358.981,-78.0968\"/>\n</g>\n<!-- 7 -->\n<g id=\"node8\" class=\"node\">\n<title>7</title>\n<path fill=\"#5dea98\" stroke=\"#000000\" d=\"M544,-68C544,-68 445,-68 445,-68 439,-68 433,-62 433,-56 433,-56 433,-12 433,-12 433,-6 439,0 445,0 445,0 544,0 544,0 550,0 556,-6 556,-12 556,-12 556,-56 556,-56 556,-62 550,-68 544,-68\"/>\n<text text-anchor=\"middle\" x=\"494.5\" y=\"-52.8\" font-family=\"Helvetica,sans-Serif\" font-size=\"14.00\" fill=\"#000000\">entropy = 0.619</text>\n<text text-anchor=\"middle\" x=\"494.5\" y=\"-37.8\" font-family=\"Helvetica,sans-Serif\" font-size=\"14.00\" fill=\"#000000\">samples = 13</text>\n<text text-anchor=\"middle\" x=\"494.5\" y=\"-22.8\" font-family=\"Helvetica,sans-Serif\" font-size=\"14.00\" fill=\"#000000\">value = [0, 11, 2]</text>\n<text text-anchor=\"middle\" x=\"494.5\" y=\"-7.8\" font-family=\"Helvetica,sans-Serif\" font-size=\"14.00\" fill=\"#000000\">class = 雪莉</text>\n</g>\n<!-- 5&#45;&gt;7 -->\n<g id=\"edge7\" class=\"edge\">\n<title>5&#45;&gt;7</title>\n<path fill=\"none\" stroke=\"#000000\" d=\"M409.1414,-103.9815C420.7999,-94.4232 433.188,-84.2668 444.8059,-74.7419\"/>\n<polygon fill=\"#000000\" stroke=\"#000000\" points=\"447.1933,-77.3105 452.7075,-68.2637 442.7552,-71.8972 447.1933,-77.3105\"/>\n</g>\n<!-- 9 -->\n<g id=\"node10\" class=\"node\">\n<title>9</title>\n<path fill=\"#39e581\" stroke=\"#000000\" d=\"M578,-179.5C578,-179.5 479,-179.5 479,-179.5 473,-179.5 467,-173.5 467,-167.5 467,-167.5 467,-123.5 467,-123.5 467,-117.5 473,-111.5 479,-111.5 479,-111.5 578,-111.5 578,-111.5 584,-111.5 590,-117.5 590,-123.5 590,-123.5 590,-167.5 590,-167.5 590,-173.5 584,-179.5 578,-179.5\"/>\n<text text-anchor=\"middle\" x=\"528.5\" y=\"-164.3\" font-family=\"Helvetica,sans-Serif\" font-size=\"14.00\" fill=\"#000000\">entropy = 0.0</text>\n<text text-anchor=\"middle\" x=\"528.5\" y=\"-149.3\" font-family=\"Helvetica,sans-Serif\" font-size=\"14.00\" fill=\"#000000\">samples = 14</text>\n<text text-anchor=\"middle\" x=\"528.5\" y=\"-134.3\" font-family=\"Helvetica,sans-Serif\" font-size=\"14.00\" fill=\"#000000\">value = [0, 14, 0]</text>\n<text text-anchor=\"middle\" x=\"528.5\" y=\"-119.3\" font-family=\"Helvetica,sans-Serif\" font-size=\"14.00\" fill=\"#000000\">class = 雪莉</text>\n</g>\n<!-- 8&#45;&gt;9 -->\n<g id=\"edge9\" class=\"edge\">\n<title>8&#45;&gt;9</title>\n<path fill=\"none\" stroke=\"#000000\" d=\"M538.2537,-222.8796C536.9092,-212.2134 535.4582,-200.7021 534.0968,-189.9015\"/>\n<polygon fill=\"#000000\" stroke=\"#000000\" points=\"537.5486,-189.2987 532.8254,-179.8149 530.6036,-190.1742 537.5486,-189.2987\"/>\n</g>\n<!-- 10 -->\n<g id=\"node11\" class=\"node\">\n<title>10</title>\n<path fill=\"#e99355\" stroke=\"#000000\" d=\"M733,-187C733,-187 620,-187 620,-187 614,-187 608,-181 608,-175 608,-175 608,-116 608,-116 608,-110 614,-104 620,-104 620,-104 733,-104 733,-104 739,-104 745,-110 745,-116 745,-116 745,-175 745,-175 745,-181 739,-187 733,-187\"/>\n<text text-anchor=\"middle\" x=\"676.5\" y=\"-171.8\" font-family=\"Helvetica,sans-Serif\" font-size=\"14.00\" fill=\"#000000\">脯氨酸 &lt;= 1026.54</text>\n<text text-anchor=\"middle\" x=\"676.5\" y=\"-156.8\" font-family=\"Helvetica,sans-Serif\" font-size=\"14.00\" fill=\"#000000\">entropy = 0.544</text>\n<text text-anchor=\"middle\" x=\"676.5\" y=\"-141.8\" font-family=\"Helvetica,sans-Serif\" font-size=\"14.00\" fill=\"#000000\">samples = 48</text>\n<text text-anchor=\"middle\" x=\"676.5\" y=\"-126.8\" font-family=\"Helvetica,sans-Serif\" font-size=\"14.00\" fill=\"#000000\">value = [42, 6, 0]</text>\n<text text-anchor=\"middle\" x=\"676.5\" y=\"-111.8\" font-family=\"Helvetica,sans-Serif\" font-size=\"14.00\" fill=\"#000000\">class = 琴酒</text>\n</g>\n<!-- 8&#45;&gt;10 -->\n<g id=\"edge10\" class=\"edge\">\n<title>8&#45;&gt;10</title>\n<path fill=\"none\" stroke=\"#000000\" d=\"M590.0169,-222.8796C600.3848,-213.6031 611.4671,-203.6874 622.1199,-194.1559\"/>\n<polygon fill=\"#000000\" stroke=\"#000000\" points=\"624.6659,-196.5744 629.7845,-187.2981 619.9983,-191.3577 624.6659,-196.5744\"/>\n</g>\n<!-- 11 -->\n<g id=\"node12\" class=\"node\">\n<title>11</title>\n<path fill=\"#f1bb94\" stroke=\"#000000\" d=\"M706,-68C706,-68 607,-68 607,-68 601,-68 595,-62 595,-56 595,-56 595,-12 595,-12 595,-6 601,0 607,0 607,0 706,0 706,0 712,0 718,-6 718,-12 718,-12 718,-56 718,-56 718,-62 712,-68 706,-68\"/>\n<text text-anchor=\"middle\" x=\"656.5\" y=\"-52.8\" font-family=\"Helvetica,sans-Serif\" font-size=\"14.00\" fill=\"#000000\">entropy = 0.9</text>\n<text text-anchor=\"middle\" x=\"656.5\" y=\"-37.8\" font-family=\"Helvetica,sans-Serif\" font-size=\"14.00\" fill=\"#000000\">samples = 19</text>\n<text text-anchor=\"middle\" x=\"656.5\" y=\"-22.8\" font-family=\"Helvetica,sans-Serif\" font-size=\"14.00\" fill=\"#000000\">value = [13, 6, 0]</text>\n<text text-anchor=\"middle\" x=\"656.5\" y=\"-7.8\" font-family=\"Helvetica,sans-Serif\" font-size=\"14.00\" fill=\"#000000\">class = 琴酒</text>\n</g>\n<!-- 10&#45;&gt;11 -->\n<g id=\"edge11\" class=\"edge\">\n<title>10&#45;&gt;11</title>\n<path fill=\"none\" stroke=\"#000000\" d=\"M669.0527,-103.9815C667.5526,-95.618 665.9702,-86.7965 664.4535,-78.3409\"/>\n<polygon fill=\"#000000\" stroke=\"#000000\" points=\"667.8566,-77.4886 662.646,-68.2637 660.9666,-78.7246 667.8566,-77.4886\"/>\n</g>\n<!-- 12 -->\n<g id=\"node13\" class=\"node\">\n<title>12</title>\n<path fill=\"#e58139\" stroke=\"#000000\" d=\"M847,-68C847,-68 748,-68 748,-68 742,-68 736,-62 736,-56 736,-56 736,-12 736,-12 736,-6 742,0 748,0 748,0 847,0 847,0 853,0 859,-6 859,-12 859,-12 859,-56 859,-56 859,-62 853,-68 847,-68\"/>\n<text text-anchor=\"middle\" x=\"797.5\" y=\"-52.8\" font-family=\"Helvetica,sans-Serif\" font-size=\"14.00\" fill=\"#000000\">entropy = 0.0</text>\n<text text-anchor=\"middle\" x=\"797.5\" y=\"-37.8\" font-family=\"Helvetica,sans-Serif\" font-size=\"14.00\" fill=\"#000000\">samples = 29</text>\n<text text-anchor=\"middle\" x=\"797.5\" y=\"-22.8\" font-family=\"Helvetica,sans-Serif\" font-size=\"14.00\" fill=\"#000000\">value = [29, 0, 0]</text>\n<text text-anchor=\"middle\" x=\"797.5\" y=\"-7.8\" font-family=\"Helvetica,sans-Serif\" font-size=\"14.00\" fill=\"#000000\">class = 琴酒</text>\n</g>\n<!-- 10&#45;&gt;12 -->\n<g id=\"edge12\" class=\"edge\">\n<title>10&#45;&gt;12</title>\n<path fill=\"none\" stroke=\"#000000\" d=\"M721.5559,-103.9815C731.7291,-94.607 742.5267,-84.6572 752.6898,-75.2921\"/>\n<polygon fill=\"#000000\" stroke=\"#000000\" points=\"755.3349,-77.6141 760.317,-68.2637 750.5913,-72.4663 755.3349,-77.6141\"/>\n</g>\n</g>\n</svg>\n"
          },
          "metadata": {
            "tags": []
          },
          "execution_count": 27
        }
      ]
    },
    {
      "cell_type": "code",
      "metadata": {
        "id": "iOw_npoStSHm",
        "colab_type": "code",
        "colab": {
          "base_uri": "https://localhost:8080/",
          "height": 53
        },
        "outputId": "7a44316a-b51b-4560-fa8f-9bb5a365f67e"
      },
      "source": [
        "train_score = clf.score(Xtrain,Ytrain)\n",
        "print(train_score)\n",
        "test_score = clf.score(Xtest, Ytest)\n",
        "print(test_score)"
      ],
      "execution_count": 28,
      "outputs": [
        {
          "output_type": "stream",
          "text": [
            "0.8629032258064516\n",
            "0.9629629629629629\n"
          ],
          "name": "stdout"
        }
      ]
    },
    {
      "cell_type": "markdown",
      "metadata": {
        "id": "VJsQ_p6-t_4F",
        "colab_type": "text"
      },
      "source": [
        "## max_features && min_inpurity_decrease\n",
        "\n",
        "### 配合max_depth 使用，用作精修。\n",
        "\n",
        "### maxfeatures 强行限制特则会那个个数，超过一定个数，会舍弃。\n",
        "### min_inpurity_decrease 则是限制不纯度，不纯度小于阈值的会被丢弃。0.19版本新增。"
      ]
    },
    {
      "cell_type": "markdown",
      "metadata": {
        "id": "EmHhQ45wt_yO",
        "colab_type": "text"
      },
      "source": [
        "# 确定最优的剪枝参数。\n",
        "\n",
        "横坐标超参，纵坐标模型表现指标。从图形来决定超参数的选择。\n",
        "\n",
        "问题：1 剪枝参数一定会提高模型在测试集上的表现吗？  \n",
        "问题：2 这么多参数，一个个的画曲线吗 ？？？\n"
      ]
    },
    {
      "cell_type": "code",
      "metadata": {
        "id": "vJeR1mKItw9v",
        "colab_type": "code",
        "colab": {
          "base_uri": "https://localhost:8080/",
          "height": 265
        },
        "outputId": "a7d35377-17ad-4029-e52d-32d9080ef440"
      },
      "source": [
        "import matplotlib.pyplot as plt\n",
        "\n",
        "test = []\n",
        "for i in range(10):\n",
        "  clf = tree.DecisionTreeClassifier(max_depth=i+1, criterion='entropy', random_state=30, splitter='random')\n",
        "  clf = clf.fit(Xtrain,Ytrain)\n",
        "  score = clf.score(Xtest,Ytest)\n",
        "  test.append(score)\n",
        "\n",
        "# 画出score曲线。\n",
        "plt.plot(range(1,11), test, color='r', label='max_depth')\n",
        "plt.legend()\n",
        "plt.show()"
      ],
      "execution_count": 31,
      "outputs": [
        {
          "output_type": "display_data",
          "data": {
            "image/png": "[encoded data removed]",
            "text/plain": [
              "<Figure size 432x288 with 1 Axes>"
            ]
          },
          "metadata": {
            "tags": [],
            "needs_background": "light"
          }
        }
      ]
    },
    {
      "cell_type": "code",
      "metadata": {
        "id": "XrL07ddgvXHA",
        "colab_type": "code",
        "colab": {}
      },
      "source": [
        "# 可以看出，max_depth 在3 的时候最佳。"
      ],
      "execution_count": null,
      "outputs": []
    },
    {
      "cell_type": "markdown",
      "metadata": {
        "id": "syEtesYht_vP",
        "colab_type": "text"
      },
      "source": [
        "# 目标权重参数。\n",
        "# class_weight && min_weight_fraction_leaf\n",
        "\n",
        "处理样本中分类不均匀的问题，而min_weight_fraction_leaf 确保叶节点包含样权重总和的一部分。"
      ]
    },
    {
      "cell_type": "markdown",
      "metadata": {
        "id": "zeV3E_H3zbxE",
        "colab_type": "text"
      },
      "source": [
        "# 重要的属性和接口。\n",
        "\n",
        "重要的属性： feature_importances_\n",
        "\n",
        "重要的接口： fit,score,apply,predict.  \n",
        "apply 输入：测试集，输出：测试样本所在的叶节点的索引。  \n",
        "predict： 输入测试集， 输出： 测试样本的标签。   \n",
        "\n",
        "\n",
        "# 注意：所有接口中要求输入X_train和X_test的部分，输入的特征矩阵必须至少是一个二维矩阵。\n",
        "# sklearn不接受任何一维矩阵作为特征矩阵被输入\n",
        "\n",
        "\n",
        "# 如果一组数据只有一个特征，那么必须用 reshape(-1,1) 来增加维度。\n",
        "\n",
        "# 如果一组数据，只有一个数据，一个特征，那么用 reshape(1,-1) 来增加维度。"
      ]
    },
    {
      "cell_type": "code",
      "metadata": {
        "id": "to9BxqIa0cxh",
        "colab_type": "code",
        "colab": {
          "base_uri": "https://localhost:8080/",
          "height": 89
        },
        "outputId": "a4344d9f-02a7-4321-8f38-57e60e12b86d"
      },
      "source": [
        "clf.apply(Xtest)"
      ],
      "execution_count": 32,
      "outputs": [
        {
          "output_type": "execute_result",
          "data": {
            "text/plain": [
              "array([22, 22, 28, 16, 26,  6, 28, 28, 28, 28,  6, 16,  4, 22,  9,  4,  8,\n",
              "       28, 28, 28,  4,  4, 16, 13,  4, 22,  4, 28,  4,  6, 28, 16, 28,  4,\n",
              "       22, 28, 16, 16,  8, 10, 28,  4,  4, 16,  4,  9, 28,  4, 16, 16, 28,\n",
              "        4, 28, 16])"
            ]
          },
          "metadata": {
            "tags": []
          },
          "execution_count": 32
        }
      ]
    },
    {
      "cell_type": "code",
      "metadata": {
        "id": "dM1-4h8X1Arc",
        "colab_type": "code",
        "colab": {
          "base_uri": "https://localhost:8080/",
          "height": 71
        },
        "outputId": "3028597c-bc37-48a2-fa65-c824edfccb88"
      },
      "source": [
        "clf.predict(Xtest)"
      ],
      "execution_count": 33,
      "outputs": [
        {
          "output_type": "execute_result",
          "data": {
            "text/plain": [
              "array([1, 1, 0, 1, 0, 2, 0, 0, 0, 0, 2, 1, 2, 1, 2, 2, 1, 0, 0, 0, 2, 2,\n",
              "       1, 1, 2, 1, 2, 0, 2, 2, 0, 1, 0, 2, 1, 0, 1, 1, 1, 1, 0, 2, 2, 1,\n",
              "       2, 2, 0, 2, 1, 1, 0, 2, 0, 1])"
            ]
          },
          "metadata": {
            "tags": []
          },
          "execution_count": 33
        }
      ]
    },
    {
      "cell_type": "code",
      "metadata": {
        "id": "gE1uO_Ye1FTN",
        "colab_type": "code",
        "colab": {
          "base_uri": "https://localhost:8080/",
          "height": 989
        },
        "outputId": "b772fa30-ab7c-4352-8faf-3adda9b7ab19"
      },
      "source": [
        "clf.predict_proba(Xtest)"
      ],
      "execution_count": 35,
      "outputs": [
        {
          "output_type": "execute_result",
          "data": {
            "text/plain": [
              "array([[0., 1., 0.],\n",
              "       [0., 1., 0.],\n",
              "       [1., 0., 0.],\n",
              "       [0., 1., 0.],\n",
              "       [1., 0., 0.],\n",
              "       [0., 0., 1.],\n",
              "       [1., 0., 0.],\n",
              "       [1., 0., 0.],\n",
              "       [1., 0., 0.],\n",
              "       [1., 0., 0.],\n",
              "       [0., 0., 1.],\n",
              "       [0., 1., 0.],\n",
              "       [0., 0., 1.],\n",
              "       [0., 1., 0.],\n",
              "       [0., 0., 1.],\n",
              "       [0., 0., 1.],\n",
              "       [0., 1., 0.],\n",
              "       [1., 0., 0.],\n",
              "       [1., 0., 0.],\n",
              "       [1., 0., 0.],\n",
              "       [0., 0., 1.],\n",
              "       [0., 0., 1.],\n",
              "       [0., 1., 0.],\n",
              "       [0., 1., 0.],\n",
              "       [0., 0., 1.],\n",
              "       [0., 1., 0.],\n",
              "       [0., 0., 1.],\n",
              "       [1., 0., 0.],\n",
              "       [0., 0., 1.],\n",
              "       [0., 0., 1.],\n",
              "       [1., 0., 0.],\n",
              "       [0., 1., 0.],\n",
              "       [1., 0., 0.],\n",
              "       [0., 0., 1.],\n",
              "       [0., 1., 0.],\n",
              "       [1., 0., 0.],\n",
              "       [0., 1., 0.],\n",
              "       [0., 1., 0.],\n",
              "       [0., 1., 0.],\n",
              "       [0., 1., 0.],\n",
              "       [1., 0., 0.],\n",
              "       [0., 0., 1.],\n",
              "       [0., 0., 1.],\n",
              "       [0., 1., 0.],\n",
              "       [0., 0., 1.],\n",
              "       [0., 0., 1.],\n",
              "       [1., 0., 0.],\n",
              "       [0., 0., 1.],\n",
              "       [0., 1., 0.],\n",
              "       [0., 1., 0.],\n",
              "       [1., 0., 0.],\n",
              "       [0., 0., 1.],\n",
              "       [1., 0., 0.],\n",
              "       [0., 1., 0.]])"
            ]
          },
          "metadata": {
            "tags": []
          },
          "execution_count": 35
        }
      ]
    },
    {
      "cell_type": "markdown",
      "metadata": {
        "id": "1zTO9hpo1JPa",
        "colab_type": "text"
      },
      "source": [
        "# 八个参数：Criterion，两个随机性相关的参数（random_state，splitter），五个剪枝 参数（max_depth,min_samples_split，min_samples_leaf，max_feature, min_impurity_decrease）\n",
        "# 一个属性：feature_importances_\n",
        "# 四个接口：fit，score，apply，predict\n",
        "# 有了这些知识，基本上分类树的使用大家都能够掌握了，接下来再到实例中去磨练就好。"
      ]
    },
    {
      "cell_type": "markdown",
      "metadata": {
        "id": "hzshIjxK1wLi",
        "colab_type": "text"
      },
      "source": [
        "# DecisionTreeRegressor\n",
        "\n",
        "\n",
        "\n",
        "```\n",
        "class  sklearn.tree.DecisionTreeRegressor   \n",
        "(criterion=’mse’,   \n",
        "splitter=’best’,   \n",
        "max_depth=None,   \n",
        "min_samples_split=2,   \n",
        "min_samples_leaf=1,   \n",
        "min_weight_fraction_leaf=0.0,   \n",
        "max_features=None,    \n",
        "random_state=None,          \n",
        "max_leaf_nodes=None,          \n",
        "min_impurity_decrease=0.0,      \n",
        "min_impurity_split=None,        \n",
        "presort=False)      \n",
        "```\n",
        "\n",
        "# 重要参数\n",
        "## criterion : 衡量分支质量的指标，支持三种。\n",
        "###  - mse 均方误差。父节点和子节点之间的均方误差的差额将被用来作为特征选择的标准。这种方法通过使用叶节点的均值来最小化L2 损失。\n",
        "\n",
        "\n",
        "### - friedman_mse\n",
        "\n",
        "### - mae : mean absolute error   -------------L1损失。\n",
        "\n",
        "\n",
        "# 分类树书中我们用准确率score做为模型的衡量指标，在回归树中我们使用 **R**  作为模型衡量指标。\n",
        "\n",
        "![链接文字](https://img-blog.csdnimg.cn/20200819164715502.png#pic_center)\n",
        "\n",
        "\n",
        "y^ 是真实标签的平均数。 所以v是总平方和。\n",
        "\n",
        "\n",
        "虽然mse 总是为正，但是在sklearnz中将其当作一种损失，使用 neg-mean-squared-error.为负。"
      ]
    },
    {
      "cell_type": "code",
      "metadata": {
        "id": "WFDfY8aK6hW3",
        "colab_type": "code",
        "colab": {
          "base_uri": "https://localhost:8080/",
          "height": 71
        },
        "outputId": "29e45cc2-f85d-495a-efed-8f8915cef8dd"
      },
      "source": [
        "from sklearn.datasets import load_boston\n",
        "from sklearn.model_selection import cross_val_score\n",
        "from sklearn.tree import DecisionTreeRegressor\n",
        "\n",
        "boston = load_boston()\n",
        "regressor = DecisionTreeRegressor(random_state=0)\n",
        "cross_val_score(regressor, boston.data, boston.target, cv=10, scoring='neg_mean_squared_error')\n",
        "# 诗词交叉验证cv=10， 并对模型进行打分。"
      ],
      "execution_count": 37,
      "outputs": [
        {
          "output_type": "execute_result",
          "data": {
            "text/plain": [
              "array([-16.41568627, -10.61843137, -18.30176471, -55.36803922,\n",
              "       -16.01470588, -44.70117647, -12.2148    , -91.3888    ,\n",
              "       -57.764     , -36.8134    ])"
            ]
          },
          "metadata": {
            "tags": []
          },
          "execution_count": 37
        }
      ]
    },
    {
      "cell_type": "markdown",
      "metadata": {
        "id": "CcFhwCjM7qkJ",
        "colab_type": "text"
      },
      "source": [
        "# 实例：一维回归的图像绘制。\n",
        "\n",
        "\n",
        "![链接文字](https://img-blog.csdnimg.cn/20200819170226476.png?x-oss-process=image/watermark,type_ZmFuZ3poZW5naGVpdGk,shadow_10,text_aHR0cHM6Ly9ibG9nLmNzZG4ubmV0L2dhb2N1aTg4Mw==,size_16,color_FFFFFF,t_70#pic_center)\n"
      ]
    },
    {
      "cell_type": "code",
      "metadata": {
        "id": "Fc0Hl7Yg9GBB",
        "colab_type": "code",
        "colab": {}
      },
      "source": [
        "# 1. 导入需要的库。\n",
        "\n",
        "import numpy as np\n",
        "from sklearn.tree import DecisionTreeRegressor\n",
        "import matplotlib.pyplot as plt\n"
      ],
      "execution_count": 38,
      "outputs": []
    },
    {
      "cell_type": "code",
      "metadata": {
        "id": "9O92SpTY9gDh",
        "colab_type": "code",
        "colab": {
          "base_uri": "https://localhost:8080/",
          "height": 35
        },
        "outputId": "01aac035-9a19-41e8-dd9e-e8969abba519"
      },
      "source": [
        "# 2. 创建一条含有噪声的正选曲线。\n",
        "rng = np.random.RandomState(1)\n",
        "x = np.sort(5*rng.rand(80,1), axis=0) # 生成八十个数。\n",
        "y = np.sin(x).ravel()\n",
        "\n",
        "y[::5] += 3*(0.5 - rng.rand(16))\n",
        "\n",
        "# 一共八十个数，每隔5个就是16个数。\n",
        "# 因为决策树不接受一维数据，所以，x需要是 80 1 \n",
        "\n",
        "# y 是标签，所以需要ravel\n",
        "\n",
        "x.shape"
      ],
      "execution_count": 44,
      "outputs": [
        {
          "output_type": "execute_result",
          "data": {
            "text/plain": [
              "(80, 1)"
            ]
          },
          "metadata": {
            "tags": []
          },
          "execution_count": 44
        }
      ]
    },
    {
      "cell_type": "code",
      "metadata": {
        "id": "IKF3LEbD_V7I",
        "colab_type": "code",
        "colab": {
          "base_uri": "https://localhost:8080/",
          "height": 53
        },
        "outputId": "e056e027-f745-4743-e6d0-46a7d7f7fddc"
      },
      "source": [
        "# rng = np.random.RandomState(1)\n",
        "\n",
        "# np.random.random((2,1))"
      ],
      "execution_count": 40,
      "outputs": [
        {
          "output_type": "execute_result",
          "data": {
            "text/plain": [
              "array([[0.79689208],\n",
              "       [0.01133547]])"
            ]
          },
          "metadata": {
            "tags": []
          },
          "execution_count": 40
        }
      ]
    },
    {
      "cell_type": "code",
      "metadata": {
        "id": "BipXr96s_dQc",
        "colab_type": "code",
        "colab": {
          "base_uri": "https://localhost:8080/",
          "height": 35
        },
        "outputId": "e87dba63-f063-4ddb-d90c-9cd7c46b394b"
      },
      "source": [
        "# np.random.random((2,1)).ravel()"
      ],
      "execution_count": 42,
      "outputs": [
        {
          "output_type": "execute_result",
          "data": {
            "text/plain": [
              "array([0.98986905, 0.57149401])"
            ]
          },
          "metadata": {
            "tags": []
          },
          "execution_count": 42
        }
      ]
    },
    {
      "cell_type": "code",
      "metadata": {
        "id": "jyBqu3-V_1RY",
        "colab_type": "code",
        "colab": {
          "base_uri": "https://localhost:8080/",
          "height": 125
        },
        "outputId": "c4ac238f-8a4b-4a3b-f1c8-8ee7bd0686a8"
      },
      "source": [
        "# 3. 实例化和训练模型。\n",
        "regr_1 = DecisionTreeRegressor(max_depth=2)\n",
        "regr_2 = DecisionTreeRegressor(max_depth=5)\n",
        "\n",
        "regr_1.fit(x,y)\n",
        "regr_2.fit(x,y)\n"
      ],
      "execution_count": 45,
      "outputs": [
        {
          "output_type": "execute_result",
          "data": {
            "text/plain": [
              "DecisionTreeRegressor(ccp_alpha=0.0, criterion='mse', max_depth=5,\n",
              "                      max_features=None, max_leaf_nodes=None,\n",
              "                      min_impurity_decrease=0.0, min_impurity_split=None,\n",
              "                      min_samples_leaf=1, min_samples_split=2,\n",
              "                      min_weight_fraction_leaf=0.0, presort='deprecated',\n",
              "                      random_state=None, splitter='best')"
            ]
          },
          "metadata": {
            "tags": []
          },
          "execution_count": 45
        }
      ]
    },
    {
      "cell_type": "code",
      "metadata": {
        "id": "kBXnFGE7B3ZQ",
        "colab_type": "code",
        "colab": {
          "base_uri": "https://localhost:8080/",
          "height": 35
        },
        "outputId": "3833f836-ac69-4476-b1fc-4b876c5230c4"
      },
      "source": [
        "# 增维切片的用法。\n",
        "l = np.array([1,2,3,4,5])\n",
        "l.shape"
      ],
      "execution_count": 46,
      "outputs": [
        {
          "output_type": "execute_result",
          "data": {
            "text/plain": [
              "(5,)"
            ]
          },
          "metadata": {
            "tags": []
          },
          "execution_count": 46
        }
      ]
    },
    {
      "cell_type": "code",
      "metadata": {
        "id": "nDfXk8TWCFsg",
        "colab_type": "code",
        "colab": {}
      },
      "source": [
        "l2 = l[:,np.newaxis]"
      ],
      "execution_count": 51,
      "outputs": []
    },
    {
      "cell_type": "code",
      "metadata": {
        "id": "Gjv79mPBCMov",
        "colab_type": "code",
        "colab": {
          "base_uri": "https://localhost:8080/",
          "height": 35
        },
        "outputId": "1c191678-bfd8-4aa2-d904-0d4ff7efbba1"
      },
      "source": [
        "l"
      ],
      "execution_count": 52,
      "outputs": [
        {
          "output_type": "execute_result",
          "data": {
            "text/plain": [
              "array([1, 2, 3, 4, 5])"
            ]
          },
          "metadata": {
            "tags": []
          },
          "execution_count": 52
        }
      ]
    },
    {
      "cell_type": "code",
      "metadata": {
        "id": "3ZphYzg3CWrH",
        "colab_type": "code",
        "colab": {
          "base_uri": "https://localhost:8080/",
          "height": 107
        },
        "outputId": "5bd21db0-fe70-4413-a57b-5873133a5b11"
      },
      "source": [
        "l2"
      ],
      "execution_count": 53,
      "outputs": [
        {
          "output_type": "execute_result",
          "data": {
            "text/plain": [
              "array([[1],\n",
              "       [2],\n",
              "       [3],\n",
              "       [4],\n",
              "       [5]])"
            ]
          },
          "metadata": {
            "tags": []
          },
          "execution_count": 53
        }
      ]
    },
    {
      "cell_type": "code",
      "metadata": {
        "id": "-UBLjsPMCbGm",
        "colab_type": "code",
        "colab": {
          "base_uri": "https://localhost:8080/",
          "height": 35
        },
        "outputId": "8304add6-23c7-428e-fac9-c4b652c26ed0"
      },
      "source": [
        "l3 = l[np.newaxis,:]\n",
        "l3"
      ],
      "execution_count": 55,
      "outputs": [
        {
          "output_type": "execute_result",
          "data": {
            "text/plain": [
              "array([[1, 2, 3, 4, 5]])"
            ]
          },
          "metadata": {
            "tags": []
          },
          "execution_count": 55
        }
      ]
    },
    {
      "cell_type": "code",
      "metadata": {
        "id": "nL2GIAWmDkwu",
        "colab_type": "code",
        "colab": {}
      },
      "source": [
        "# 测试。\n",
        "x_test = np.arange(0.0, 5.0, 0.01)[:,np.newaxis]\n",
        "\n",
        "y_1 = regr_1.predict(x_test)\n",
        "y_2 = regr_2.predict(x_test)\n"
      ],
      "execution_count": 56,
      "outputs": []
    },
    {
      "cell_type": "code",
      "metadata": {
        "id": "L2CowoYGClnw",
        "colab_type": "code",
        "colab": {
          "base_uri": "https://localhost:8080/",
          "height": 295
        },
        "outputId": "d8fe101f-19f7-4f4a-a3bf-a078d4fb56f8"
      },
      "source": [
        "# 4. 绘制图像。\n",
        "\n",
        "plt.figure()\n",
        "plt.scatter(x,y, s=20, edgecolors='black', c='darkorange', label='data')\n",
        "plt.plot(x_test, y_1, color='cornflowerblue', label='max_depth=2', linewidth=2)\n",
        "plt.plot(x_test, y_2, color='yellowgreen', label='max_depth=5', linewidth=2)\n",
        "\n",
        "plt.xlabel('data')\n",
        "plt.ylabel('target')\n",
        "plt.title('Decision Tree Regreesion')\n",
        "plt.legend()\n",
        "plt.show()"
      ],
      "execution_count": 57,
      "outputs": [
        {
          "output_type": "display_data",
          "data": {
            "image/png": "[encoded data removed]",
            "text/plain": [
              "<Figure size 432x288 with 1 Axes>"
            ]
          },
          "metadata": {
            "tags": [],
            "needs_background": "light"
          }
        }
      ]
    },
    {
      "cell_type": "code",
      "metadata": {
        "id": "6ayFlpFQEjeG",
        "colab_type": "code",
        "colab": {}
      },
      "source": [
        ""
      ],
      "execution_count": null,
      "outputs": []
    }
  ]
}