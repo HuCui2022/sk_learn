{
  "nbformat": 4,
  "nbformat_minor": 0,
  "metadata": {
    "colab": {
      "name": "sk_learn001_tree.ipynb",
      "provenance": [],
      "collapsed_sections": [],
      "toc_visible": true,
      "authorship_tag": "ABX9TyPVKmVeie7WC3IyHLd+rppt",
      "include_colab_link": true
    },
    "kernelspec": {
      "name": "python3",
      "display_name": "Python 3"
    }
  },
  "cells": [
    {
      "cell_type": "markdown",
      "metadata": {
        "id": "view-in-github",
        "colab_type": "text"
      },
      "source": [
        "<a href=\"https://colab.research.google.com/github/smiledinisa/sk_learn/blob/master/sk_learn001_tree.ipynb\" target=\"_parent\"><img src=\"https://colab.research.google.com/assets/colab-badge.svg\" alt=\"Open In Colab\"/></a>"
      ]
    },
    {
      "cell_type": "code",
      "metadata": {
        "id": "XlNniN08nDS-",
        "colab_type": "code",
        "colab": {
          "base_uri": "https://localhost:8080/",
          "height": 127
        },
        "outputId": "24414fc8-c62a-4a3e-b6cd-a8f1d800fa6a"
      },
      "source": [
        "from google.colab import drive\n",
        "drive.mount('/content/drive/')\n"
      ],
      "execution_count": null,
      "outputs": [
        {
          "output_type": "stream",
          "text": [
            "Go to this URL in a browser: https://accounts.google.com/o/oauth2/auth?client_id=947318989803-6bn6qk8qdgf4n4g3pfee6491hc0brc4i.apps.googleusercontent.com&redirect_uri=urn%3aietf%3awg%3aoauth%3a2.0%3aoob&scope=email%20https%3a%2f%2fwww.googleapis.com%2fauth%2fdocs.test%20https%3a%2f%2fwww.googleapis.com%2fauth%2fdrive%20https%3a%2f%2fwww.googleapis.com%2fauth%2fdrive.photos.readonly%20https%3a%2f%2fwww.googleapis.com%2fauth%2fpeopleapi.readonly&response_type=code\n",
            "\n",
            "Enter your authorization code:\n",
            "··········\n",
            "Mounted at /content/drive/\n"
          ],
          "name": "stdout"
        }
      ]
    },
    {
      "cell_type": "code",
      "metadata": {
        "id": "W853B96VnYN6",
        "colab_type": "code",
        "colab": {}
      },
      "source": [
        "# from sklearn import tree #导入需要的模块\n",
        "# clf = tree.DecisionTreeClassifier()   #实例化\n",
        "# clf = clf.fit(X_train,y_train) #用训练集数据训练模型\n",
        "# result = clf.score(X_test,y_test)  #导入测试集，从接口中调用需要的信息"
      ],
      "execution_count": null,
      "outputs": []
    },
    {
      "cell_type": "code",
      "metadata": {
        "id": "LhVBr2XSnxKz",
        "colab_type": "code",
        "colab": {
          "base_uri": "https://localhost:8080/",
          "height": 35
        },
        "outputId": "d010b30d-6efc-4843-f5cd-52611322b999"
      },
      "source": [
        "cd /content/drive/My Drive"
      ],
      "execution_count": null,
      "outputs": [
        {
          "output_type": "stream",
          "text": [
            "/content/drive/My Drive\n"
          ],
          "name": "stdout"
        }
      ]
    },
    {
      "cell_type": "code",
      "metadata": {
        "id": "C28dqCRRn3KD",
        "colab_type": "code",
        "colab": {}
      },
      "source": [
        "from sklearn import tree\n",
        "import sklearn\n",
        "\n",
        "\n",
        "# class sklearn.tree.DecisionTreeClassifier (criterion=’gini’, splitter=’best’, max_depth=None,\n",
        "# min_samples_split=2, min_samples_leaf=1, min_weight_fraction_leaf=0.0, max_features=None,\n",
        "# random_state=None, max_leaf_nodes=None, min_impurity_decrease=0.0, min_impurity_split=None,\n",
        "# class_weight=None, presort=False)"
      ],
      "execution_count": null,
      "outputs": []
    },
    {
      "cell_type": "code",
      "metadata": {
        "id": "ujun196YoKw7",
        "colab_type": "code",
        "colab": {}
      },
      "source": [
        "# 以下就对以上的各个参数进行分析和解读。\n",
        "\n",
        "# criterion: 标准。 不纯度： 有两个，信息熵，entropy，和基尼系数 Gini imputrity .\n",
        "\n",
        "# 该参数就是确定不纯度的计算，找出最佳节点和最佳分支，不纯度越低，决策树对训练集的拟合越好。\n",
        "# 该参数不填写默认使用gini，填写的话就两个选项。gini和 entropy。"
      ],
      "execution_count": null,
      "outputs": []
    },
    {
      "cell_type": "markdown",
      "metadata": {
        "id": "4OAp1DYOqwD-",
        "colab_type": "text"
      },
      "source": [
        "![链接文字](https://img-blog.csdnimg.cn/20200818210331733.png?x-oss-process=image/watermark,type_ZmFuZ3poZW5naGVpdGk,shadow_10,text_aHR0cHM6Ly9ibG9nLmNzZG4ubmV0L2dhb2N1aTg4Mw==,size_16,color_FFFFFF,t_70#pic_center)\n",
        "\n",
        "\n",
        "p(i|t) 代表了t节点，i代表各个分类，p代表所占比例。分类i在节点t上所占的比例。\n",
        "\n",
        "信息熵对不纯度更加敏感，惩罚最强。\n",
        "\n",
        "但是实际使用中，信息熵和基尼系数其实是相当的。\n",
        "\n",
        "信息熵的决策树生长的会更加精细，适合应用于高维数据和噪音较多的数据。\n",
        "\n",
        "entropy很容易过拟合。\n",
        "\n"
      ]
    },
    {
      "cell_type": "markdown",
      "metadata": {
        "id": "j8JhC9Exqybl",
        "colab_type": "text"
      },
      "source": [
        "# 怎么选取：entropy 还是gini？？？\n",
        "# 维度很大信息熵，噪音很大信息熵。\n",
        "# 低纬度两者无区别。\n",
        "# 拟合度度不够的时候选信息熵。\n",
        "# 最终结论：两个都试试，哪个好，用哪个。----------------------废话。\n",
        "\n",
        "决策树流程就是： 计算全部特征的不纯度指标-----》选取不纯度指标最优的特征来进行分支-----》在第一个特征的分支下，计算全部特征的不纯度指标-----------》选取最优----------》循环直到没有更多的特征，决策树停止生长。"
      ]
    },
    {
      "cell_type": "code",
      "metadata": {
        "id": "IH5D8MlVqyes",
        "colab_type": "code",
        "colab": {}
      },
      "source": [
        "##1. 建立一棵树。\n",
        "\n",
        "from sklearn import tree\n",
        "from sklearn.datasets import load_wine #红酒数据集。\n",
        "from sklearn.model_selection import train_test_split #进行数据集的分割，成为训练集和测试集。\n"
      ],
      "execution_count": null,
      "outputs": []
    },
    {
      "cell_type": "code",
      "metadata": {
        "id": "naMKqqHtuRoW",
        "colab_type": "code",
        "colab": {
          "base_uri": "https://localhost:8080/",
          "height": 35
        },
        "outputId": "c2886eae-5950-4fc6-dd2d-ff275dac5e4c"
      },
      "source": [
        "# 2.探索数据。（分析数据）\n",
        "wine = load_wine()\n",
        "wine.data.shape"
      ],
      "execution_count": null,
      "outputs": [
        {
          "output_type": "execute_result",
          "data": {
            "text/plain": [
              "(178, 13)"
            ]
          },
          "metadata": {
            "tags": []
          },
          "execution_count": 11
        }
      ]
    },
    {
      "cell_type": "code",
      "metadata": {
        "id": "wwV2__S9vFA4",
        "colab_type": "code",
        "colab": {
          "base_uri": "https://localhost:8080/",
          "height": 179
        },
        "outputId": "54ce2912-db67-4c04-90a9-6d6cce1f537e"
      },
      "source": [
        "wine.target"
      ],
      "execution_count": null,
      "outputs": [
        {
          "output_type": "execute_result",
          "data": {
            "text/plain": [
              "array([0, 0, 0, 0, 0, 0, 0, 0, 0, 0, 0, 0, 0, 0, 0, 0, 0, 0, 0, 0, 0, 0,\n",
              "       0, 0, 0, 0, 0, 0, 0, 0, 0, 0, 0, 0, 0, 0, 0, 0, 0, 0, 0, 0, 0, 0,\n",
              "       0, 0, 0, 0, 0, 0, 0, 0, 0, 0, 0, 0, 0, 0, 0, 1, 1, 1, 1, 1, 1, 1,\n",
              "       1, 1, 1, 1, 1, 1, 1, 1, 1, 1, 1, 1, 1, 1, 1, 1, 1, 1, 1, 1, 1, 1,\n",
              "       1, 1, 1, 1, 1, 1, 1, 1, 1, 1, 1, 1, 1, 1, 1, 1, 1, 1, 1, 1, 1, 1,\n",
              "       1, 1, 1, 1, 1, 1, 1, 1, 1, 1, 1, 1, 1, 1, 1, 1, 1, 1, 1, 1, 2, 2,\n",
              "       2, 2, 2, 2, 2, 2, 2, 2, 2, 2, 2, 2, 2, 2, 2, 2, 2, 2, 2, 2, 2, 2,\n",
              "       2, 2, 2, 2, 2, 2, 2, 2, 2, 2, 2, 2, 2, 2, 2, 2, 2, 2, 2, 2, 2, 2,\n",
              "       2, 2])"
            ]
          },
          "metadata": {
            "tags": []
          },
          "execution_count": 12
        }
      ]
    },
    {
      "cell_type": "code",
      "metadata": {
        "id": "WktEm7kHvHOx",
        "colab_type": "code",
        "colab": {}
      },
      "source": [
        "import pandas as pd"
      ],
      "execution_count": null,
      "outputs": []
    },
    {
      "cell_type": "code",
      "metadata": {
        "id": "2K0XEVP7vL5Y",
        "colab_type": "code",
        "colab": {
          "base_uri": "https://localhost:8080/",
          "height": 251
        },
        "outputId": "e33544a2-0b83-40f1-fccc-1ca867d1cfe0"
      },
      "source": [
        "pd.concat([pd.DataFrame(wine.data),pd.DataFrame(wine.target)], axis=1)\n",
        "\n",
        "wine.feature_names #酒的特征。"
      ],
      "execution_count": null,
      "outputs": [
        {
          "output_type": "execute_result",
          "data": {
            "text/plain": [
              "['alcohol',\n",
              " 'malic_acid',\n",
              " 'ash',\n",
              " 'alcalinity_of_ash',\n",
              " 'magnesium',\n",
              " 'total_phenols',\n",
              " 'flavanoids',\n",
              " 'nonflavanoid_phenols',\n",
              " 'proanthocyanins',\n",
              " 'color_intensity',\n",
              " 'hue',\n",
              " 'od280/od315_of_diluted_wines',\n",
              " 'proline']"
            ]
          },
          "metadata": {
            "tags": []
          },
          "execution_count": 14
        }
      ]
    },
    {
      "cell_type": "code",
      "metadata": {
        "id": "euyCvrqXvkcf",
        "colab_type": "code",
        "colab": {
          "base_uri": "https://localhost:8080/",
          "height": 35
        },
        "outputId": "6063517c-a062-4d0e-c278-8083f6e97dbe"
      },
      "source": [
        "wine.target_names # 分类标签。"
      ],
      "execution_count": null,
      "outputs": [
        {
          "output_type": "execute_result",
          "data": {
            "text/plain": [
              "array(['class_0', 'class_1', 'class_2'], dtype='<U7')"
            ]
          },
          "metadata": {
            "tags": []
          },
          "execution_count": 16
        }
      ]
    },
    {
      "cell_type": "code",
      "metadata": {
        "id": "4awfhExBvoPA",
        "colab_type": "code",
        "colab": {
          "base_uri": "https://localhost:8080/",
          "height": 251
        },
        "outputId": "245b6435-bc18-48ce-b46e-6990ab3f4bfa"
      },
      "source": [
        "wine.data"
      ],
      "execution_count": null,
      "outputs": [
        {
          "output_type": "execute_result",
          "data": {
            "text/plain": [
              "array([[1.423e+01, 1.710e+00, 2.430e+00, ..., 1.040e+00, 3.920e+00,\n",
              "        1.065e+03],\n",
              "       [1.320e+01, 1.780e+00, 2.140e+00, ..., 1.050e+00, 3.400e+00,\n",
              "        1.050e+03],\n",
              "       [1.316e+01, 2.360e+00, 2.670e+00, ..., 1.030e+00, 3.170e+00,\n",
              "        1.185e+03],\n",
              "       ...,\n",
              "       [1.327e+01, 4.280e+00, 2.260e+00, ..., 5.900e-01, 1.560e+00,\n",
              "        8.350e+02],\n",
              "       [1.317e+01, 2.590e+00, 2.370e+00, ..., 6.000e-01, 1.620e+00,\n",
              "        8.400e+02],\n",
              "       [1.413e+01, 4.100e+00, 2.740e+00, ..., 6.100e-01, 1.600e+00,\n",
              "        5.600e+02]])"
            ]
          },
          "metadata": {
            "tags": []
          },
          "execution_count": 18
        }
      ]
    },
    {
      "cell_type": "code",
      "metadata": {
        "id": "64Muwgyyv3N_",
        "colab_type": "code",
        "colab": {
          "base_uri": "https://localhost:8080/",
          "height": 35
        },
        "outputId": "965f7a0a-e49b-453c-fd1e-03f384bf640a"
      },
      "source": [
        "# 3. 分训练集HE TEST\n",
        "\n",
        "Xtrain, Xtest, Ytrain,Ytest = train_test_split(wine.data,wine.target, test_size =0.3)\n",
        "\n",
        "Xtrain.shape"
      ],
      "execution_count": null,
      "outputs": [
        {
          "output_type": "execute_result",
          "data": {
            "text/plain": [
              "(124, 13)"
            ]
          },
          "metadata": {
            "tags": []
          },
          "execution_count": 19
        }
      ]
    },
    {
      "cell_type": "code",
      "metadata": {
        "id": "Gu8b8rSdwyDp",
        "colab_type": "code",
        "colab": {
          "base_uri": "https://localhost:8080/",
          "height": 35
        },
        "outputId": "d081da20-0a0c-464e-9172-acacd1d36694"
      },
      "source": [
        "Xtest.shape # X是数据，Y是标签，特征数为13\n"
      ],
      "execution_count": null,
      "outputs": [
        {
          "output_type": "execute_result",
          "data": {
            "text/plain": [
              "(54, 13)"
            ]
          },
          "metadata": {
            "tags": []
          },
          "execution_count": 21
        }
      ]
    },
    {
      "cell_type": "code",
      "metadata": {
        "id": "eg3-yloRwzzn",
        "colab_type": "code",
        "colab": {
          "base_uri": "https://localhost:8080/",
          "height": 35
        },
        "outputId": "0eb4f454-fcce-4045-a388-93c423d581ad"
      },
      "source": [
        "# 建立模型。\n",
        "clf =tree.DecisionTreeClassifier(criterion='entropy')\n",
        "clf = clf.fit(Xtrain,Ytrain) # 填入训练集。\n",
        "score = clf.score(Xtest,Ytest) # 用测试集进行测试。\n",
        "\n",
        "score #得出测试准确度。"
      ],
      "execution_count": null,
      "outputs": [
        {
          "output_type": "execute_result",
          "data": {
            "text/plain": [
              "0.9629629629629629"
            ]
          },
          "metadata": {
            "tags": []
          },
          "execution_count": 22
        }
      ]
    },
    {
      "cell_type": "code",
      "metadata": {
        "id": "5RpnBdrLxifh",
        "colab_type": "code",
        "colab": {
          "base_uri": "https://localhost:8080/",
          "height": 756
        },
        "outputId": "0874eb8b-d476-45cb-8483-ea98d6f1cdf6"
      },
      "source": [
        "# 5 画出一棵树。\n",
        "\n",
        "feature_name = ['酒精','苹果酸','灰','灰的碱性','镁','总酚','类黄酮','非黄烷类酚类','花青素','颜色强度','色调','od280/od315稀释葡萄酒','脯氨酸']\n",
        "\n",
        "import graphviz\n",
        "dot_data = tree.export_graphviz(clf, out_file=None\n",
        "                                ,feature_names = feature_name\n",
        "                                ,class_names=[\"琴酒\",\"雪莉\",\"贝尔摩德\"]\n",
        "                                ,filled=True\n",
        "                                ,rounded=True\n",
        "                               ) \n",
        "graph = graphviz.Source(dot_data)\n",
        "graph"
      ],
      "execution_count": null,
      "outputs": [
        {
          "output_type": "execute_result",
          "data": {
            "text/plain": [
              "<graphviz.files.Source at 0x7fa14306f278>"
            ],
            "image/svg+xml": "<?xml version=\"1.0\" encoding=\"UTF-8\" standalone=\"no\"?>\n<!DOCTYPE svg PUBLIC \"-//W3C//DTD SVG 1.1//EN\"\n \"http://www.w3.org/Graphics/SVG/1.1/DTD/svg11.dtd\">\n<!-- Generated by graphviz version 2.40.1 (20161225.0304)\n -->\n<!-- Title: Tree Pages: 1 -->\n<svg width=\"822pt\" height=\"552pt\"\n viewBox=\"0.00 0.00 822.00 552.00\" xmlns=\"http://www.w3.org/2000/svg\" xmlns:xlink=\"http://www.w3.org/1999/xlink\">\n<g id=\"graph0\" class=\"graph\" transform=\"scale(1 1) rotate(0) translate(4 548)\">\n<title>Tree</title>\n<polygon fill=\"#ffffff\" stroke=\"transparent\" points=\"-4,4 -4,-548 818,-548 818,4 -4,4\"/>\n<!-- 0 -->\n<g id=\"node1\" class=\"node\">\n<title>0</title>\n<path fill=\"#f3fdf7\" stroke=\"#000000\" d=\"M330.5,-544C330.5,-544 214.5,-544 214.5,-544 208.5,-544 202.5,-538 202.5,-532 202.5,-532 202.5,-473 202.5,-473 202.5,-467 208.5,-461 214.5,-461 214.5,-461 330.5,-461 330.5,-461 336.5,-461 342.5,-467 342.5,-473 342.5,-473 342.5,-532 342.5,-532 342.5,-538 336.5,-544 330.5,-544\"/>\n<text text-anchor=\"middle\" x=\"272.5\" y=\"-528.8\" font-family=\"Helvetica,sans-Serif\" font-size=\"14.00\" fill=\"#000000\">类黄酮 &lt;= 1.575</text>\n<text text-anchor=\"middle\" x=\"272.5\" y=\"-513.8\" font-family=\"Helvetica,sans-Serif\" font-size=\"14.00\" fill=\"#000000\">entropy = 1.575</text>\n<text text-anchor=\"middle\" x=\"272.5\" y=\"-498.8\" font-family=\"Helvetica,sans-Serif\" font-size=\"14.00\" fill=\"#000000\">samples = 124</text>\n<text text-anchor=\"middle\" x=\"272.5\" y=\"-483.8\" font-family=\"Helvetica,sans-Serif\" font-size=\"14.00\" fill=\"#000000\">value = [42, 47, 35]</text>\n<text text-anchor=\"middle\" x=\"272.5\" y=\"-468.8\" font-family=\"Helvetica,sans-Serif\" font-size=\"14.00\" fill=\"#000000\">class = 雪莉</text>\n</g>\n<!-- 1 -->\n<g id=\"node2\" class=\"node\">\n<title>1</title>\n<path fill=\"#a16cec\" stroke=\"#000000\" d=\"M250,-425C250,-425 151,-425 151,-425 145,-425 139,-419 139,-413 139,-413 139,-354 139,-354 139,-348 145,-342 151,-342 151,-342 250,-342 250,-342 256,-342 262,-348 262,-354 262,-354 262,-413 262,-413 262,-419 256,-425 250,-425\"/>\n<text text-anchor=\"middle\" x=\"200.5\" y=\"-409.8\" font-family=\"Helvetica,sans-Serif\" font-size=\"14.00\" fill=\"#000000\">色调 &lt;= 0.93</text>\n<text text-anchor=\"middle\" x=\"200.5\" y=\"-394.8\" font-family=\"Helvetica,sans-Serif\" font-size=\"14.00\" fill=\"#000000\">entropy = 0.731</text>\n<text text-anchor=\"middle\" x=\"200.5\" y=\"-379.8\" font-family=\"Helvetica,sans-Serif\" font-size=\"14.00\" fill=\"#000000\">samples = 44</text>\n<text text-anchor=\"middle\" x=\"200.5\" y=\"-364.8\" font-family=\"Helvetica,sans-Serif\" font-size=\"14.00\" fill=\"#000000\">value = [0, 9, 35]</text>\n<text text-anchor=\"middle\" x=\"200.5\" y=\"-349.8\" font-family=\"Helvetica,sans-Serif\" font-size=\"14.00\" fill=\"#000000\">class = 贝尔摩德</text>\n</g>\n<!-- 0&#45;&gt;1 -->\n<g id=\"edge1\" class=\"edge\">\n<title>0&#45;&gt;1</title>\n<path fill=\"none\" stroke=\"#000000\" d=\"M247.3179,-460.8796C242.0867,-452.2335 236.5195,-443.0322 231.1177,-434.1042\"/>\n<polygon fill=\"#000000\" stroke=\"#000000\" points=\"233.9608,-432.0421 225.7896,-425.2981 227.9717,-435.6658 233.9608,-432.0421\"/>\n<text text-anchor=\"middle\" x=\"219.816\" y=\"-445.8739\" font-family=\"Helvetica,sans-Serif\" font-size=\"14.00\" fill=\"#000000\">True</text>\n</g>\n<!-- 6 -->\n<g id=\"node7\" class=\"node\">\n<title>6</title>\n<path fill=\"#fdf3ec\" stroke=\"#000000\" d=\"M458,-425C458,-425 351,-425 351,-425 345,-425 339,-419 339,-413 339,-413 339,-354 339,-354 339,-348 345,-342 351,-342 351,-342 458,-342 458,-342 464,-342 470,-348 470,-354 470,-354 470,-413 470,-413 470,-419 464,-425 458,-425\"/>\n<text text-anchor=\"middle\" x=\"404.5\" y=\"-409.8\" font-family=\"Helvetica,sans-Serif\" font-size=\"14.00\" fill=\"#000000\">脯氨酸 &lt;= 724.5</text>\n<text text-anchor=\"middle\" x=\"404.5\" y=\"-394.8\" font-family=\"Helvetica,sans-Serif\" font-size=\"14.00\" fill=\"#000000\">entropy = 0.998</text>\n<text text-anchor=\"middle\" x=\"404.5\" y=\"-379.8\" font-family=\"Helvetica,sans-Serif\" font-size=\"14.00\" fill=\"#000000\">samples = 80</text>\n<text text-anchor=\"middle\" x=\"404.5\" y=\"-364.8\" font-family=\"Helvetica,sans-Serif\" font-size=\"14.00\" fill=\"#000000\">value = [42, 38, 0]</text>\n<text text-anchor=\"middle\" x=\"404.5\" y=\"-349.8\" font-family=\"Helvetica,sans-Serif\" font-size=\"14.00\" fill=\"#000000\">class = 琴酒</text>\n</g>\n<!-- 0&#45;&gt;6 -->\n<g id=\"edge6\" class=\"edge\">\n<title>0&#45;&gt;6</title>\n<path fill=\"none\" stroke=\"#000000\" d=\"M318.6672,-460.8796C328.9571,-451.6031 339.956,-441.6874 350.5287,-432.1559\"/>\n<polygon fill=\"#000000\" stroke=\"#000000\" points=\"353.0519,-434.5935 358.1358,-425.2981 348.3648,-429.3944 353.0519,-434.5935\"/>\n<text text-anchor=\"middle\" x=\"356.8427\" y=\"-446.5646\" font-family=\"Helvetica,sans-Serif\" font-size=\"14.00\" fill=\"#000000\">False</text>\n</g>\n<!-- 2 -->\n<g id=\"node3\" class=\"node\">\n<title>2</title>\n<path fill=\"#8139e5\" stroke=\"#000000\" d=\"M111,-298.5C111,-298.5 12,-298.5 12,-298.5 6,-298.5 0,-292.5 0,-286.5 0,-286.5 0,-242.5 0,-242.5 0,-236.5 6,-230.5 12,-230.5 12,-230.5 111,-230.5 111,-230.5 117,-230.5 123,-236.5 123,-242.5 123,-242.5 123,-286.5 123,-286.5 123,-292.5 117,-298.5 111,-298.5\"/>\n<text text-anchor=\"middle\" x=\"61.5\" y=\"-283.3\" font-family=\"Helvetica,sans-Serif\" font-size=\"14.00\" fill=\"#000000\">entropy = 0.0</text>\n<text text-anchor=\"middle\" x=\"61.5\" y=\"-268.3\" font-family=\"Helvetica,sans-Serif\" font-size=\"14.00\" fill=\"#000000\">samples = 34</text>\n<text text-anchor=\"middle\" x=\"61.5\" y=\"-253.3\" font-family=\"Helvetica,sans-Serif\" font-size=\"14.00\" fill=\"#000000\">value = [0, 0, 34]</text>\n<text text-anchor=\"middle\" x=\"61.5\" y=\"-238.3\" font-family=\"Helvetica,sans-Serif\" font-size=\"14.00\" fill=\"#000000\">class = 贝尔摩德</text>\n</g>\n<!-- 1&#45;&gt;2 -->\n<g id=\"edge2\" class=\"edge\">\n<title>1&#45;&gt;2</title>\n<path fill=\"none\" stroke=\"#000000\" d=\"M151.8845,-341.8796C138.1413,-330.1138 123.1969,-317.3197 109.4907,-305.5855\"/>\n<polygon fill=\"#000000\" stroke=\"#000000\" points=\"111.4548,-302.6596 101.5822,-298.8149 106.9024,-307.9771 111.4548,-302.6596\"/>\n</g>\n<!-- 3 -->\n<g id=\"node4\" class=\"node\">\n<title>3</title>\n<path fill=\"#4fe88f\" stroke=\"#000000\" d=\"M247.5,-306C247.5,-306 153.5,-306 153.5,-306 147.5,-306 141.5,-300 141.5,-294 141.5,-294 141.5,-235 141.5,-235 141.5,-229 147.5,-223 153.5,-223 153.5,-223 247.5,-223 247.5,-223 253.5,-223 259.5,-229 259.5,-235 259.5,-235 259.5,-294 259.5,-294 259.5,-300 253.5,-306 247.5,-306\"/>\n<text text-anchor=\"middle\" x=\"200.5\" y=\"-290.8\" font-family=\"Helvetica,sans-Serif\" font-size=\"14.00\" fill=\"#000000\">酒精 &lt;= 13.515</text>\n<text text-anchor=\"middle\" x=\"200.5\" y=\"-275.8\" font-family=\"Helvetica,sans-Serif\" font-size=\"14.00\" fill=\"#000000\">entropy = 0.469</text>\n<text text-anchor=\"middle\" x=\"200.5\" y=\"-260.8\" font-family=\"Helvetica,sans-Serif\" font-size=\"14.00\" fill=\"#000000\">samples = 10</text>\n<text text-anchor=\"middle\" x=\"200.5\" y=\"-245.8\" font-family=\"Helvetica,sans-Serif\" font-size=\"14.00\" fill=\"#000000\">value = [0, 9, 1]</text>\n<text text-anchor=\"middle\" x=\"200.5\" y=\"-230.8\" font-family=\"Helvetica,sans-Serif\" font-size=\"14.00\" fill=\"#000000\">class = 雪莉</text>\n</g>\n<!-- 1&#45;&gt;3 -->\n<g id=\"edge3\" class=\"edge\">\n<title>1&#45;&gt;3</title>\n<path fill=\"none\" stroke=\"#000000\" d=\"M200.5,-341.8796C200.5,-333.6838 200.5,-324.9891 200.5,-316.5013\"/>\n<polygon fill=\"#000000\" stroke=\"#000000\" points=\"204.0001,-316.298 200.5,-306.2981 197.0001,-316.2981 204.0001,-316.298\"/>\n</g>\n<!-- 4 -->\n<g id=\"node5\" class=\"node\">\n<title>4</title>\n<path fill=\"#39e581\" stroke=\"#000000\" d=\"M109,-179.5C109,-179.5 18,-179.5 18,-179.5 12,-179.5 6,-173.5 6,-167.5 6,-167.5 6,-123.5 6,-123.5 6,-117.5 12,-111.5 18,-111.5 18,-111.5 109,-111.5 109,-111.5 115,-111.5 121,-117.5 121,-123.5 121,-123.5 121,-167.5 121,-167.5 121,-173.5 115,-179.5 109,-179.5\"/>\n<text text-anchor=\"middle\" x=\"63.5\" y=\"-164.3\" font-family=\"Helvetica,sans-Serif\" font-size=\"14.00\" fill=\"#000000\">entropy = 0.0</text>\n<text text-anchor=\"middle\" x=\"63.5\" y=\"-149.3\" font-family=\"Helvetica,sans-Serif\" font-size=\"14.00\" fill=\"#000000\">samples = 9</text>\n<text text-anchor=\"middle\" x=\"63.5\" y=\"-134.3\" font-family=\"Helvetica,sans-Serif\" font-size=\"14.00\" fill=\"#000000\">value = [0, 9, 0]</text>\n<text text-anchor=\"middle\" x=\"63.5\" y=\"-119.3\" font-family=\"Helvetica,sans-Serif\" font-size=\"14.00\" fill=\"#000000\">class = 雪莉</text>\n</g>\n<!-- 3&#45;&gt;4 -->\n<g id=\"edge4\" class=\"edge\">\n<title>3&#45;&gt;4</title>\n<path fill=\"none\" stroke=\"#000000\" d=\"M152.584,-222.8796C139.0385,-211.1138 124.3092,-198.3197 110.8002,-186.5855\"/>\n<polygon fill=\"#000000\" stroke=\"#000000\" points=\"112.8503,-183.7303 103.0054,-179.8149 108.2599,-189.015 112.8503,-183.7303\"/>\n</g>\n<!-- 5 -->\n<g id=\"node6\" class=\"node\">\n<title>5</title>\n<path fill=\"#8139e5\" stroke=\"#000000\" d=\"M250,-179.5C250,-179.5 151,-179.5 151,-179.5 145,-179.5 139,-173.5 139,-167.5 139,-167.5 139,-123.5 139,-123.5 139,-117.5 145,-111.5 151,-111.5 151,-111.5 250,-111.5 250,-111.5 256,-111.5 262,-117.5 262,-123.5 262,-123.5 262,-167.5 262,-167.5 262,-173.5 256,-179.5 250,-179.5\"/>\n<text text-anchor=\"middle\" x=\"200.5\" y=\"-164.3\" font-family=\"Helvetica,sans-Serif\" font-size=\"14.00\" fill=\"#000000\">entropy = 0.0</text>\n<text text-anchor=\"middle\" x=\"200.5\" y=\"-149.3\" font-family=\"Helvetica,sans-Serif\" font-size=\"14.00\" fill=\"#000000\">samples = 1</text>\n<text text-anchor=\"middle\" x=\"200.5\" y=\"-134.3\" font-family=\"Helvetica,sans-Serif\" font-size=\"14.00\" fill=\"#000000\">value = [0, 0, 1]</text>\n<text text-anchor=\"middle\" x=\"200.5\" y=\"-119.3\" font-family=\"Helvetica,sans-Serif\" font-size=\"14.00\" fill=\"#000000\">class = 贝尔摩德</text>\n</g>\n<!-- 3&#45;&gt;5 -->\n<g id=\"edge5\" class=\"edge\">\n<title>3&#45;&gt;5</title>\n<path fill=\"none\" stroke=\"#000000\" d=\"M200.5,-222.8796C200.5,-212.2134 200.5,-200.7021 200.5,-189.9015\"/>\n<polygon fill=\"#000000\" stroke=\"#000000\" points=\"204.0001,-189.8149 200.5,-179.8149 197.0001,-189.815 204.0001,-189.8149\"/>\n</g>\n<!-- 7 -->\n<g id=\"node8\" class=\"node\">\n<title>7</title>\n<path fill=\"#3ee684\" stroke=\"#000000\" d=\"M459.5,-306C459.5,-306 349.5,-306 349.5,-306 343.5,-306 337.5,-300 337.5,-294 337.5,-294 337.5,-235 337.5,-235 337.5,-229 343.5,-223 349.5,-223 349.5,-223 459.5,-223 459.5,-223 465.5,-223 471.5,-229 471.5,-235 471.5,-235 471.5,-294 471.5,-294 471.5,-300 465.5,-306 459.5,-306\"/>\n<text text-anchor=\"middle\" x=\"404.5\" y=\"-290.8\" font-family=\"Helvetica,sans-Serif\" font-size=\"14.00\" fill=\"#000000\">灰的碱性 &lt;= 17.75</text>\n<text text-anchor=\"middle\" x=\"404.5\" y=\"-275.8\" font-family=\"Helvetica,sans-Serif\" font-size=\"14.00\" fill=\"#000000\">entropy = 0.179</text>\n<text text-anchor=\"middle\" x=\"404.5\" y=\"-260.8\" font-family=\"Helvetica,sans-Serif\" font-size=\"14.00\" fill=\"#000000\">samples = 37</text>\n<text text-anchor=\"middle\" x=\"404.5\" y=\"-245.8\" font-family=\"Helvetica,sans-Serif\" font-size=\"14.00\" fill=\"#000000\">value = [1, 36, 0]</text>\n<text text-anchor=\"middle\" x=\"404.5\" y=\"-230.8\" font-family=\"Helvetica,sans-Serif\" font-size=\"14.00\" fill=\"#000000\">class = 雪莉</text>\n</g>\n<!-- 6&#45;&gt;7 -->\n<g id=\"edge7\" class=\"edge\">\n<title>6&#45;&gt;7</title>\n<path fill=\"none\" stroke=\"#000000\" d=\"M404.5,-341.8796C404.5,-333.6838 404.5,-324.9891 404.5,-316.5013\"/>\n<polygon fill=\"#000000\" stroke=\"#000000\" points=\"408.0001,-316.298 404.5,-306.2981 401.0001,-316.2981 408.0001,-316.298\"/>\n</g>\n<!-- 12 -->\n<g id=\"node13\" class=\"node\">\n<title>12</title>\n<path fill=\"#e68743\" stroke=\"#000000\" d=\"M670.5,-306C670.5,-306 560.5,-306 560.5,-306 554.5,-306 548.5,-300 548.5,-294 548.5,-294 548.5,-235 548.5,-235 548.5,-229 554.5,-223 560.5,-223 560.5,-223 670.5,-223 670.5,-223 676.5,-223 682.5,-229 682.5,-235 682.5,-235 682.5,-294 682.5,-294 682.5,-300 676.5,-306 670.5,-306\"/>\n<text text-anchor=\"middle\" x=\"615.5\" y=\"-290.8\" font-family=\"Helvetica,sans-Serif\" font-size=\"14.00\" fill=\"#000000\">颜色强度 &lt;= 3.435</text>\n<text text-anchor=\"middle\" x=\"615.5\" y=\"-275.8\" font-family=\"Helvetica,sans-Serif\" font-size=\"14.00\" fill=\"#000000\">entropy = 0.271</text>\n<text text-anchor=\"middle\" x=\"615.5\" y=\"-260.8\" font-family=\"Helvetica,sans-Serif\" font-size=\"14.00\" fill=\"#000000\">samples = 43</text>\n<text text-anchor=\"middle\" x=\"615.5\" y=\"-245.8\" font-family=\"Helvetica,sans-Serif\" font-size=\"14.00\" fill=\"#000000\">value = [41, 2, 0]</text>\n<text text-anchor=\"middle\" x=\"615.5\" y=\"-230.8\" font-family=\"Helvetica,sans-Serif\" font-size=\"14.00\" fill=\"#000000\">class = 琴酒</text>\n</g>\n<!-- 6&#45;&gt;12 -->\n<g id=\"edge12\" class=\"edge\">\n<title>6&#45;&gt;12</title>\n<path fill=\"none\" stroke=\"#000000\" d=\"M470.1051,-346.5C492.1057,-334.0921 516.8207,-320.1532 539.5463,-307.3365\"/>\n<polygon fill=\"#000000\" stroke=\"#000000\" points=\"541.4892,-310.259 548.4801,-302.298 538.0505,-304.1618 541.4892,-310.259\"/>\n</g>\n<!-- 8 -->\n<g id=\"node9\" class=\"node\">\n<title>8</title>\n<path fill=\"#7beeab\" stroke=\"#000000\" d=\"M386.5,-187C386.5,-187 292.5,-187 292.5,-187 286.5,-187 280.5,-181 280.5,-175 280.5,-175 280.5,-116 280.5,-116 280.5,-110 286.5,-104 292.5,-104 292.5,-104 386.5,-104 386.5,-104 392.5,-104 398.5,-110 398.5,-116 398.5,-116 398.5,-175 398.5,-175 398.5,-181 392.5,-187 386.5,-187\"/>\n<text text-anchor=\"middle\" x=\"339.5\" y=\"-171.8\" font-family=\"Helvetica,sans-Serif\" font-size=\"14.00\" fill=\"#000000\">酒精 &lt;= 13.175</text>\n<text text-anchor=\"middle\" x=\"339.5\" y=\"-156.8\" font-family=\"Helvetica,sans-Serif\" font-size=\"14.00\" fill=\"#000000\">entropy = 0.811</text>\n<text text-anchor=\"middle\" x=\"339.5\" y=\"-141.8\" font-family=\"Helvetica,sans-Serif\" font-size=\"14.00\" fill=\"#000000\">samples = 4</text>\n<text text-anchor=\"middle\" x=\"339.5\" y=\"-126.8\" font-family=\"Helvetica,sans-Serif\" font-size=\"14.00\" fill=\"#000000\">value = [1, 3, 0]</text>\n<text text-anchor=\"middle\" x=\"339.5\" y=\"-111.8\" font-family=\"Helvetica,sans-Serif\" font-size=\"14.00\" fill=\"#000000\">class = 雪莉</text>\n</g>\n<!-- 7&#45;&gt;8 -->\n<g id=\"edge8\" class=\"edge\">\n<title>7&#45;&gt;8</title>\n<path fill=\"none\" stroke=\"#000000\" d=\"M381.7662,-222.8796C377.0435,-214.2335 372.0176,-205.0322 367.141,-196.1042\"/>\n<polygon fill=\"#000000\" stroke=\"#000000\" points=\"370.1963,-194.3964 362.3309,-187.2981 364.053,-197.752 370.1963,-194.3964\"/>\n</g>\n<!-- 11 -->\n<g id=\"node12\" class=\"node\">\n<title>11</title>\n<path fill=\"#39e581\" stroke=\"#000000\" d=\"M528,-179.5C528,-179.5 429,-179.5 429,-179.5 423,-179.5 417,-173.5 417,-167.5 417,-167.5 417,-123.5 417,-123.5 417,-117.5 423,-111.5 429,-111.5 429,-111.5 528,-111.5 528,-111.5 534,-111.5 540,-117.5 540,-123.5 540,-123.5 540,-167.5 540,-167.5 540,-173.5 534,-179.5 528,-179.5\"/>\n<text text-anchor=\"middle\" x=\"478.5\" y=\"-164.3\" font-family=\"Helvetica,sans-Serif\" font-size=\"14.00\" fill=\"#000000\">entropy = 0.0</text>\n<text text-anchor=\"middle\" x=\"478.5\" y=\"-149.3\" font-family=\"Helvetica,sans-Serif\" font-size=\"14.00\" fill=\"#000000\">samples = 33</text>\n<text text-anchor=\"middle\" x=\"478.5\" y=\"-134.3\" font-family=\"Helvetica,sans-Serif\" font-size=\"14.00\" fill=\"#000000\">value = [0, 33, 0]</text>\n<text text-anchor=\"middle\" x=\"478.5\" y=\"-119.3\" font-family=\"Helvetica,sans-Serif\" font-size=\"14.00\" fill=\"#000000\">class = 雪莉</text>\n</g>\n<!-- 7&#45;&gt;11 -->\n<g id=\"edge11\" class=\"edge\">\n<title>7&#45;&gt;11</title>\n<path fill=\"none\" stroke=\"#000000\" d=\"M430.3816,-222.8796C437.2879,-211.7735 444.7639,-199.7513 451.7175,-188.5691\"/>\n<polygon fill=\"#000000\" stroke=\"#000000\" points=\"454.8527,-190.1552 457.1613,-179.8149 448.9083,-186.4587 454.8527,-190.1552\"/>\n</g>\n<!-- 9 -->\n<g id=\"node10\" class=\"node\">\n<title>9</title>\n<path fill=\"#39e581\" stroke=\"#000000\" d=\"M319,-68C319,-68 228,-68 228,-68 222,-68 216,-62 216,-56 216,-56 216,-12 216,-12 216,-6 222,0 228,0 228,0 319,0 319,0 325,0 331,-6 331,-12 331,-12 331,-56 331,-56 331,-62 325,-68 319,-68\"/>\n<text text-anchor=\"middle\" x=\"273.5\" y=\"-52.8\" font-family=\"Helvetica,sans-Serif\" font-size=\"14.00\" fill=\"#000000\">entropy = 0.0</text>\n<text text-anchor=\"middle\" x=\"273.5\" y=\"-37.8\" font-family=\"Helvetica,sans-Serif\" font-size=\"14.00\" fill=\"#000000\">samples = 3</text>\n<text text-anchor=\"middle\" x=\"273.5\" y=\"-22.8\" font-family=\"Helvetica,sans-Serif\" font-size=\"14.00\" fill=\"#000000\">value = [0, 3, 0]</text>\n<text text-anchor=\"middle\" x=\"273.5\" y=\"-7.8\" font-family=\"Helvetica,sans-Serif\" font-size=\"14.00\" fill=\"#000000\">class = 雪莉</text>\n</g>\n<!-- 8&#45;&gt;9 -->\n<g id=\"edge9\" class=\"edge\">\n<title>8&#45;&gt;9</title>\n<path fill=\"none\" stroke=\"#000000\" d=\"M314.924,-103.9815C309.7014,-95.1585 304.1771,-85.8258 298.9237,-76.9506\"/>\n<polygon fill=\"#000000\" stroke=\"#000000\" points=\"301.8874,-75.0863 293.7816,-68.2637 295.8636,-78.652 301.8874,-75.0863\"/>\n</g>\n<!-- 10 -->\n<g id=\"node11\" class=\"node\">\n<title>10</title>\n<path fill=\"#e58139\" stroke=\"#000000\" d=\"M452,-68C452,-68 361,-68 361,-68 355,-68 349,-62 349,-56 349,-56 349,-12 349,-12 349,-6 355,0 361,0 361,0 452,0 452,0 458,0 464,-6 464,-12 464,-12 464,-56 464,-56 464,-62 458,-68 452,-68\"/>\n<text text-anchor=\"middle\" x=\"406.5\" y=\"-52.8\" font-family=\"Helvetica,sans-Serif\" font-size=\"14.00\" fill=\"#000000\">entropy = 0.0</text>\n<text text-anchor=\"middle\" x=\"406.5\" y=\"-37.8\" font-family=\"Helvetica,sans-Serif\" font-size=\"14.00\" fill=\"#000000\">samples = 1</text>\n<text text-anchor=\"middle\" x=\"406.5\" y=\"-22.8\" font-family=\"Helvetica,sans-Serif\" font-size=\"14.00\" fill=\"#000000\">value = [1, 0, 0]</text>\n<text text-anchor=\"middle\" x=\"406.5\" y=\"-7.8\" font-family=\"Helvetica,sans-Serif\" font-size=\"14.00\" fill=\"#000000\">class = 琴酒</text>\n</g>\n<!-- 8&#45;&gt;10 -->\n<g id=\"edge10\" class=\"edge\">\n<title>8&#45;&gt;10</title>\n<path fill=\"none\" stroke=\"#000000\" d=\"M364.4483,-103.9815C369.7501,-95.1585 375.3581,-85.8258 380.6911,-76.9506\"/>\n<polygon fill=\"#000000\" stroke=\"#000000\" points=\"383.7605,-78.638 385.9111,-68.2637 377.7604,-75.0325 383.7605,-78.638\"/>\n</g>\n<!-- 13 -->\n<g id=\"node14\" class=\"node\">\n<title>13</title>\n<path fill=\"#39e581\" stroke=\"#000000\" d=\"M661,-179.5C661,-179.5 570,-179.5 570,-179.5 564,-179.5 558,-173.5 558,-167.5 558,-167.5 558,-123.5 558,-123.5 558,-117.5 564,-111.5 570,-111.5 570,-111.5 661,-111.5 661,-111.5 667,-111.5 673,-117.5 673,-123.5 673,-123.5 673,-167.5 673,-167.5 673,-173.5 667,-179.5 661,-179.5\"/>\n<text text-anchor=\"middle\" x=\"615.5\" y=\"-164.3\" font-family=\"Helvetica,sans-Serif\" font-size=\"14.00\" fill=\"#000000\">entropy = 0.0</text>\n<text text-anchor=\"middle\" x=\"615.5\" y=\"-149.3\" font-family=\"Helvetica,sans-Serif\" font-size=\"14.00\" fill=\"#000000\">samples = 2</text>\n<text text-anchor=\"middle\" x=\"615.5\" y=\"-134.3\" font-family=\"Helvetica,sans-Serif\" font-size=\"14.00\" fill=\"#000000\">value = [0, 2, 0]</text>\n<text text-anchor=\"middle\" x=\"615.5\" y=\"-119.3\" font-family=\"Helvetica,sans-Serif\" font-size=\"14.00\" fill=\"#000000\">class = 雪莉</text>\n</g>\n<!-- 12&#45;&gt;13 -->\n<g id=\"edge13\" class=\"edge\">\n<title>12&#45;&gt;13</title>\n<path fill=\"none\" stroke=\"#000000\" d=\"M615.5,-222.8796C615.5,-212.2134 615.5,-200.7021 615.5,-189.9015\"/>\n<polygon fill=\"#000000\" stroke=\"#000000\" points=\"619.0001,-189.8149 615.5,-179.8149 612.0001,-189.815 619.0001,-189.8149\"/>\n</g>\n<!-- 14 -->\n<g id=\"node15\" class=\"node\">\n<title>14</title>\n<path fill=\"#e58139\" stroke=\"#000000\" d=\"M802,-179.5C802,-179.5 703,-179.5 703,-179.5 697,-179.5 691,-173.5 691,-167.5 691,-167.5 691,-123.5 691,-123.5 691,-117.5 697,-111.5 703,-111.5 703,-111.5 802,-111.5 802,-111.5 808,-111.5 814,-117.5 814,-123.5 814,-123.5 814,-167.5 814,-167.5 814,-173.5 808,-179.5 802,-179.5\"/>\n<text text-anchor=\"middle\" x=\"752.5\" y=\"-164.3\" font-family=\"Helvetica,sans-Serif\" font-size=\"14.00\" fill=\"#000000\">entropy = 0.0</text>\n<text text-anchor=\"middle\" x=\"752.5\" y=\"-149.3\" font-family=\"Helvetica,sans-Serif\" font-size=\"14.00\" fill=\"#000000\">samples = 41</text>\n<text text-anchor=\"middle\" x=\"752.5\" y=\"-134.3\" font-family=\"Helvetica,sans-Serif\" font-size=\"14.00\" fill=\"#000000\">value = [41, 0, 0]</text>\n<text text-anchor=\"middle\" x=\"752.5\" y=\"-119.3\" font-family=\"Helvetica,sans-Serif\" font-size=\"14.00\" fill=\"#000000\">class = 琴酒</text>\n</g>\n<!-- 12&#45;&gt;14 -->\n<g id=\"edge14\" class=\"edge\">\n<title>12&#45;&gt;14</title>\n<path fill=\"none\" stroke=\"#000000\" d=\"M663.416,-222.8796C676.9615,-211.1138 691.6908,-198.3197 705.1998,-186.5855\"/>\n<polygon fill=\"#000000\" stroke=\"#000000\" points=\"707.7401,-189.015 712.9946,-179.8149 703.1497,-183.7303 707.7401,-189.015\"/>\n</g>\n</g>\n</svg>\n"
          },
          "metadata": {
            "tags": []
          },
          "execution_count": 35
        }
      ]
    },
    {
      "cell_type": "code",
      "metadata": {
        "id": "h5vn1MfuyY9-",
        "colab_type": "code",
        "colab": {}
      },
      "source": [
        "# 我们已经根据一个参数也就是标准 criterion ：来建立了一棵决策树。\n",
        "# 但是一般来说决策树对不同的数据不能保证最优，那么sk-learn的方法就是造不同的决策树。\n",
        "\n",
        "# 第二个参数。 random_state.\n",
        "\n",
        "# 然后sklearn根据不同的决策树来选择最优的树。\n",
        "\n",
        "# clf = tree.DecisionTreeClassifier(criterion='entropy', random_state=30)\n",
        "# clf = clf.fit(Xtrain,Ytrian)\n",
        "# score = clf.score(Xtest,Ytest)"
      ],
      "execution_count": null,
      "outputs": []
    },
    {
      "cell_type": "markdown",
      "metadata": {
        "id": "pjIDAakx36u_",
        "colab_type": "text"
      },
      "source": [
        "## random_state & spliter\n",
        "\n",
        " random_state 让树构建的时候更加随机，当然这中随机是建立在数据集维度够高的前提下。\n",
        "\n",
        "spliter 有两个参数 best和random ，best，虽然随机，但是还是会考虑更加重要的feature。重要性可以同构feature_importances_来查看。\n",
        "\n",
        "random ：则就不会考虑feature_importances_\n",
        "\n",
        "\n"
      ]
    },
    {
      "cell_type": "code",
      "metadata": {
        "id": "jETMtIKOz5SP",
        "colab_type": "code",
        "colab": {
          "base_uri": "https://localhost:8080/",
          "height": 35
        },
        "outputId": "f90c86b0-e975-4270-b241-0d0cd23b51e4"
      },
      "source": [
        "clf = tree.DecisionTreeClassifier(criterion='entropy', random_state=30, splitter='random')\n",
        "\n",
        "clf = clf.fit(Xtrain,Ytrain)\n",
        "\n",
        "score = clf.score(Xtest,Ytest)\n",
        "\n",
        "score"
      ],
      "execution_count": null,
      "outputs": [
        {
          "output_type": "execute_result",
          "data": {
            "text/plain": [
              "0.9444444444444444"
            ]
          },
          "metadata": {
            "tags": []
          },
          "execution_count": 37
        }
      ]
    },
    {
      "cell_type": "code",
      "metadata": {
        "id": "O8g4ADB16E9W",
        "colab_type": "code",
        "colab": {
          "base_uri": "https://localhost:8080/",
          "height": 1000
        },
        "outputId": "5025fd6b-0ac4-4415-bbd1-63575676a1cf"
      },
      "source": [
        "import graphviz\n",
        "dot_data = tree.export_graphviz(clf,feature_names=feature_name,class_names=['琴酒','雪梨','贝尔莫德'],filled=True,rounded=True)\n",
        "\n",
        "graph = graphviz.Source(dot_data)\n",
        "graph"
      ],
      "execution_count": null,
      "outputs": [
        {
          "output_type": "execute_result",
          "data": {
            "text/plain": [
              "<graphviz.files.Source at 0x7fa143094e80>"
            ],
            "image/svg+xml": "<?xml version=\"1.0\" encoding=\"UTF-8\" standalone=\"no\"?>\n<!DOCTYPE svg PUBLIC \"-//W3C//DTD SVG 1.1//EN\"\n \"http://www.w3.org/Graphics/SVG/1.1/DTD/svg11.dtd\">\n<!-- Generated by graphviz version 2.40.1 (20161225.0304)\n -->\n<!-- Title: Tree Pages: 1 -->\n<svg width=\"1350pt\" height=\"790pt\"\n viewBox=\"0.00 0.00 1350.00 790.00\" xmlns=\"http://www.w3.org/2000/svg\" xmlns:xlink=\"http://www.w3.org/1999/xlink\">\n<g id=\"graph0\" class=\"graph\" transform=\"scale(1 1) rotate(0) translate(4 786)\">\n<title>Tree</title>\n<polygon fill=\"#ffffff\" stroke=\"transparent\" points=\"-4,4 -4,-786 1346,-786 1346,4 -4,4\"/>\n<!-- 0 -->\n<g id=\"node1\" class=\"node\">\n<title>0</title>\n<path fill=\"#f3fdf7\" stroke=\"#000000\" d=\"M710.5,-782C710.5,-782 594.5,-782 594.5,-782 588.5,-782 582.5,-776 582.5,-770 582.5,-770 582.5,-711 582.5,-711 582.5,-705 588.5,-699 594.5,-699 594.5,-699 710.5,-699 710.5,-699 716.5,-699 722.5,-705 722.5,-711 722.5,-711 722.5,-770 722.5,-770 722.5,-776 716.5,-782 710.5,-782\"/>\n<text text-anchor=\"middle\" x=\"652.5\" y=\"-766.8\" font-family=\"Helvetica,sans-Serif\" font-size=\"14.00\" fill=\"#000000\">类黄酮 &lt;= 1.714</text>\n<text text-anchor=\"middle\" x=\"652.5\" y=\"-751.8\" font-family=\"Helvetica,sans-Serif\" font-size=\"14.00\" fill=\"#000000\">entropy = 1.575</text>\n<text text-anchor=\"middle\" x=\"652.5\" y=\"-736.8\" font-family=\"Helvetica,sans-Serif\" font-size=\"14.00\" fill=\"#000000\">samples = 124</text>\n<text text-anchor=\"middle\" x=\"652.5\" y=\"-721.8\" font-family=\"Helvetica,sans-Serif\" font-size=\"14.00\" fill=\"#000000\">value = [42, 47, 35]</text>\n<text text-anchor=\"middle\" x=\"652.5\" y=\"-706.8\" font-family=\"Helvetica,sans-Serif\" font-size=\"14.00\" fill=\"#000000\">class = 雪梨</text>\n</g>\n<!-- 1 -->\n<g id=\"node2\" class=\"node\">\n<title>1</title>\n<path fill=\"#b78ef0\" stroke=\"#000000\" d=\"M573,-663C573,-663 466,-663 466,-663 460,-663 454,-657 454,-651 454,-651 454,-592 454,-592 454,-586 460,-580 466,-580 466,-580 573,-580 573,-580 579,-580 585,-586 585,-592 585,-592 585,-651 585,-651 585,-657 579,-663 573,-663\"/>\n<text text-anchor=\"middle\" x=\"519.5\" y=\"-647.8\" font-family=\"Helvetica,sans-Serif\" font-size=\"14.00\" fill=\"#000000\">酒精 &lt;= 12.606</text>\n<text text-anchor=\"middle\" x=\"519.5\" y=\"-632.8\" font-family=\"Helvetica,sans-Serif\" font-size=\"14.00\" fill=\"#000000\">entropy = 0.881</text>\n<text text-anchor=\"middle\" x=\"519.5\" y=\"-617.8\" font-family=\"Helvetica,sans-Serif\" font-size=\"14.00\" fill=\"#000000\">samples = 50</text>\n<text text-anchor=\"middle\" x=\"519.5\" y=\"-602.8\" font-family=\"Helvetica,sans-Serif\" font-size=\"14.00\" fill=\"#000000\">value = [0, 15, 35]</text>\n<text text-anchor=\"middle\" x=\"519.5\" y=\"-587.8\" font-family=\"Helvetica,sans-Serif\" font-size=\"14.00\" fill=\"#000000\">class = 贝尔莫德</text>\n</g>\n<!-- 0&#45;&gt;1 -->\n<g id=\"edge1\" class=\"edge\">\n<title>0&#45;&gt;1</title>\n<path fill=\"none\" stroke=\"#000000\" d=\"M605.9831,-698.8796C595.6152,-689.6031 584.5329,-679.6874 573.8801,-670.1559\"/>\n<polygon fill=\"#000000\" stroke=\"#000000\" points=\"576.0017,-667.3577 566.2155,-663.2981 571.3341,-672.5744 576.0017,-667.3577\"/>\n<text text-anchor=\"middle\" x=\"567.6022\" y=\"-684.5596\" font-family=\"Helvetica,sans-Serif\" font-size=\"14.00\" fill=\"#000000\">True</text>\n</g>\n<!-- 12 -->\n<g id=\"node13\" class=\"node\">\n<title>12</title>\n<path fill=\"#f9e1d0\" stroke=\"#000000\" d=\"M862,-663C862,-663 749,-663 749,-663 743,-663 737,-657 737,-651 737,-651 737,-592 737,-592 737,-586 743,-580 749,-580 749,-580 862,-580 862,-580 868,-580 874,-586 874,-592 874,-592 874,-651 874,-651 874,-657 868,-663 862,-663\"/>\n<text text-anchor=\"middle\" x=\"805.5\" y=\"-647.8\" font-family=\"Helvetica,sans-Serif\" font-size=\"14.00\" fill=\"#000000\">脯氨酸 &lt;= 982.588</text>\n<text text-anchor=\"middle\" x=\"805.5\" y=\"-632.8\" font-family=\"Helvetica,sans-Serif\" font-size=\"14.00\" fill=\"#000000\">entropy = 0.987</text>\n<text text-anchor=\"middle\" x=\"805.5\" y=\"-617.8\" font-family=\"Helvetica,sans-Serif\" font-size=\"14.00\" fill=\"#000000\">samples = 74</text>\n<text text-anchor=\"middle\" x=\"805.5\" y=\"-602.8\" font-family=\"Helvetica,sans-Serif\" font-size=\"14.00\" fill=\"#000000\">value = [42, 32, 0]</text>\n<text text-anchor=\"middle\" x=\"805.5\" y=\"-587.8\" font-family=\"Helvetica,sans-Serif\" font-size=\"14.00\" fill=\"#000000\">class = 琴酒</text>\n</g>\n<!-- 0&#45;&gt;12 -->\n<g id=\"edge12\" class=\"edge\">\n<title>0&#45;&gt;12</title>\n<path fill=\"none\" stroke=\"#000000\" d=\"M706.012,-698.8796C718.2412,-689.368 731.3344,-679.1843 743.8732,-669.432\"/>\n<polygon fill=\"#000000\" stroke=\"#000000\" points=\"746.2735,-671.9991 752.0182,-663.0969 741.9759,-666.4736 746.2735,-671.9991\"/>\n<text text-anchor=\"middle\" x=\"748.9174\" y=\"-684.2039\" font-family=\"Helvetica,sans-Serif\" font-size=\"14.00\" fill=\"#000000\">False</text>\n</g>\n<!-- 2 -->\n<g id=\"node3\" class=\"node\">\n<title>2</title>\n<path fill=\"#a4f3c5\" stroke=\"#000000\" d=\"M376,-544C376,-544 165,-544 165,-544 159,-544 153,-538 153,-532 153,-532 153,-473 153,-473 153,-467 159,-461 165,-461 165,-461 376,-461 376,-461 382,-461 388,-467 388,-473 388,-473 388,-532 388,-532 388,-538 382,-544 376,-544\"/>\n<text text-anchor=\"middle\" x=\"270.5\" y=\"-528.8\" font-family=\"Helvetica,sans-Serif\" font-size=\"14.00\" fill=\"#000000\">od280/od315稀释葡萄酒 &lt;= 1.875</text>\n<text text-anchor=\"middle\" x=\"270.5\" y=\"-513.8\" font-family=\"Helvetica,sans-Serif\" font-size=\"14.00\" fill=\"#000000\">entropy = 0.934</text>\n<text text-anchor=\"middle\" x=\"270.5\" y=\"-498.8\" font-family=\"Helvetica,sans-Serif\" font-size=\"14.00\" fill=\"#000000\">samples = 20</text>\n<text text-anchor=\"middle\" x=\"270.5\" y=\"-483.8\" font-family=\"Helvetica,sans-Serif\" font-size=\"14.00\" fill=\"#000000\">value = [0, 13, 7]</text>\n<text text-anchor=\"middle\" x=\"270.5\" y=\"-468.8\" font-family=\"Helvetica,sans-Serif\" font-size=\"14.00\" fill=\"#000000\">class = 雪梨</text>\n</g>\n<!-- 1&#45;&gt;2 -->\n<g id=\"edge2\" class=\"edge\">\n<title>1&#45;&gt;2</title>\n<path fill=\"none\" stroke=\"#000000\" d=\"M453.7525,-590.0785C427.2296,-577.4029 396.0909,-562.5214 367.0838,-548.6585\"/>\n<polygon fill=\"#000000\" stroke=\"#000000\" points=\"368.2811,-545.3516 357.7493,-544.1975 365.2627,-551.6674 368.2811,-545.3516\"/>\n</g>\n<!-- 7 -->\n<g id=\"node8\" class=\"node\">\n<title>7</title>\n<path fill=\"#8a47e7\" stroke=\"#000000\" d=\"M569,-544C569,-544 470,-544 470,-544 464,-544 458,-538 458,-532 458,-532 458,-473 458,-473 458,-467 464,-461 470,-461 470,-461 569,-461 569,-461 575,-461 581,-467 581,-473 581,-473 581,-532 581,-532 581,-538 575,-544 569,-544\"/>\n<text text-anchor=\"middle\" x=\"519.5\" y=\"-528.8\" font-family=\"Helvetica,sans-Serif\" font-size=\"14.00\" fill=\"#000000\">类黄酮 &lt;= 1.196</text>\n<text text-anchor=\"middle\" x=\"519.5\" y=\"-513.8\" font-family=\"Helvetica,sans-Serif\" font-size=\"14.00\" fill=\"#000000\">entropy = 0.353</text>\n<text text-anchor=\"middle\" x=\"519.5\" y=\"-498.8\" font-family=\"Helvetica,sans-Serif\" font-size=\"14.00\" fill=\"#000000\">samples = 30</text>\n<text text-anchor=\"middle\" x=\"519.5\" y=\"-483.8\" font-family=\"Helvetica,sans-Serif\" font-size=\"14.00\" fill=\"#000000\">value = [0, 2, 28]</text>\n<text text-anchor=\"middle\" x=\"519.5\" y=\"-468.8\" font-family=\"Helvetica,sans-Serif\" font-size=\"14.00\" fill=\"#000000\">class = 贝尔莫德</text>\n</g>\n<!-- 1&#45;&gt;7 -->\n<g id=\"edge7\" class=\"edge\">\n<title>1&#45;&gt;7</title>\n<path fill=\"none\" stroke=\"#000000\" d=\"M519.5,-579.8796C519.5,-571.6838 519.5,-562.9891 519.5,-554.5013\"/>\n<polygon fill=\"#000000\" stroke=\"#000000\" points=\"523.0001,-554.298 519.5,-544.2981 516.0001,-554.2981 523.0001,-554.298\"/>\n</g>\n<!-- 3 -->\n<g id=\"node4\" class=\"node\">\n<title>3</title>\n<path fill=\"#a572ec\" stroke=\"#000000\" d=\"M179,-425C179,-425 80,-425 80,-425 74,-425 68,-419 68,-413 68,-413 68,-354 68,-354 68,-348 74,-342 80,-342 80,-342 179,-342 179,-342 185,-342 191,-348 191,-354 191,-354 191,-413 191,-413 191,-419 185,-425 179,-425\"/>\n<text text-anchor=\"middle\" x=\"129.5\" y=\"-409.8\" font-family=\"Helvetica,sans-Serif\" font-size=\"14.00\" fill=\"#000000\">色调 &lt;= 0.939</text>\n<text text-anchor=\"middle\" x=\"129.5\" y=\"-394.8\" font-family=\"Helvetica,sans-Serif\" font-size=\"14.00\" fill=\"#000000\">entropy = 0.764</text>\n<text text-anchor=\"middle\" x=\"129.5\" y=\"-379.8\" font-family=\"Helvetica,sans-Serif\" font-size=\"14.00\" fill=\"#000000\">samples = 9</text>\n<text text-anchor=\"middle\" x=\"129.5\" y=\"-364.8\" font-family=\"Helvetica,sans-Serif\" font-size=\"14.00\" fill=\"#000000\">value = [0, 2, 7]</text>\n<text text-anchor=\"middle\" x=\"129.5\" y=\"-349.8\" font-family=\"Helvetica,sans-Serif\" font-size=\"14.00\" fill=\"#000000\">class = 贝尔莫德</text>\n</g>\n<!-- 2&#45;&gt;3 -->\n<g id=\"edge3\" class=\"edge\">\n<title>2&#45;&gt;3</title>\n<path fill=\"none\" stroke=\"#000000\" d=\"M221.185,-460.8796C210.0868,-451.513 198.2165,-441.4948 186.8223,-431.8784\"/>\n<polygon fill=\"#000000\" stroke=\"#000000\" points=\"188.925,-429.0731 179.0254,-425.2981 184.4101,-434.4225 188.925,-429.0731\"/>\n</g>\n<!-- 6 -->\n<g id=\"node7\" class=\"node\">\n<title>6</title>\n<path fill=\"#39e581\" stroke=\"#000000\" d=\"M320,-417.5C320,-417.5 221,-417.5 221,-417.5 215,-417.5 209,-411.5 209,-405.5 209,-405.5 209,-361.5 209,-361.5 209,-355.5 215,-349.5 221,-349.5 221,-349.5 320,-349.5 320,-349.5 326,-349.5 332,-355.5 332,-361.5 332,-361.5 332,-405.5 332,-405.5 332,-411.5 326,-417.5 320,-417.5\"/>\n<text text-anchor=\"middle\" x=\"270.5\" y=\"-402.3\" font-family=\"Helvetica,sans-Serif\" font-size=\"14.00\" fill=\"#000000\">entropy = 0.0</text>\n<text text-anchor=\"middle\" x=\"270.5\" y=\"-387.3\" font-family=\"Helvetica,sans-Serif\" font-size=\"14.00\" fill=\"#000000\">samples = 11</text>\n<text text-anchor=\"middle\" x=\"270.5\" y=\"-372.3\" font-family=\"Helvetica,sans-Serif\" font-size=\"14.00\" fill=\"#000000\">value = [0, 11, 0]</text>\n<text text-anchor=\"middle\" x=\"270.5\" y=\"-357.3\" font-family=\"Helvetica,sans-Serif\" font-size=\"14.00\" fill=\"#000000\">class = 雪梨</text>\n</g>\n<!-- 2&#45;&gt;6 -->\n<g id=\"edge6\" class=\"edge\">\n<title>2&#45;&gt;6</title>\n<path fill=\"none\" stroke=\"#000000\" d=\"M270.5,-460.8796C270.5,-450.2134 270.5,-438.7021 270.5,-427.9015\"/>\n<polygon fill=\"#000000\" stroke=\"#000000\" points=\"274.0001,-427.8149 270.5,-417.8149 267.0001,-427.815 274.0001,-427.8149\"/>\n</g>\n<!-- 4 -->\n<g id=\"node5\" class=\"node\">\n<title>4</title>\n<path fill=\"#8139e5\" stroke=\"#000000\" d=\"M111,-298.5C111,-298.5 12,-298.5 12,-298.5 6,-298.5 0,-292.5 0,-286.5 0,-286.5 0,-242.5 0,-242.5 0,-236.5 6,-230.5 12,-230.5 12,-230.5 111,-230.5 111,-230.5 117,-230.5 123,-236.5 123,-242.5 123,-242.5 123,-286.5 123,-286.5 123,-292.5 117,-298.5 111,-298.5\"/>\n<text text-anchor=\"middle\" x=\"61.5\" y=\"-283.3\" font-family=\"Helvetica,sans-Serif\" font-size=\"14.00\" fill=\"#000000\">entropy = 0.0</text>\n<text text-anchor=\"middle\" x=\"61.5\" y=\"-268.3\" font-family=\"Helvetica,sans-Serif\" font-size=\"14.00\" fill=\"#000000\">samples = 7</text>\n<text text-anchor=\"middle\" x=\"61.5\" y=\"-253.3\" font-family=\"Helvetica,sans-Serif\" font-size=\"14.00\" fill=\"#000000\">value = [0, 0, 7]</text>\n<text text-anchor=\"middle\" x=\"61.5\" y=\"-238.3\" font-family=\"Helvetica,sans-Serif\" font-size=\"14.00\" fill=\"#000000\">class = 贝尔莫德</text>\n</g>\n<!-- 3&#45;&gt;4 -->\n<g id=\"edge4\" class=\"edge\">\n<title>3&#45;&gt;4</title>\n<path fill=\"none\" stroke=\"#000000\" d=\"M105.7169,-341.8796C99.3706,-330.7735 92.5007,-318.7513 86.1109,-307.5691\"/>\n<polygon fill=\"#000000\" stroke=\"#000000\" points=\"89.1088,-305.7609 81.1085,-298.8149 83.0311,-309.2339 89.1088,-305.7609\"/>\n</g>\n<!-- 5 -->\n<g id=\"node6\" class=\"node\">\n<title>5</title>\n<path fill=\"#39e581\" stroke=\"#000000\" d=\"M244,-298.5C244,-298.5 153,-298.5 153,-298.5 147,-298.5 141,-292.5 141,-286.5 141,-286.5 141,-242.5 141,-242.5 141,-236.5 147,-230.5 153,-230.5 153,-230.5 244,-230.5 244,-230.5 250,-230.5 256,-236.5 256,-242.5 256,-242.5 256,-286.5 256,-286.5 256,-292.5 250,-298.5 244,-298.5\"/>\n<text text-anchor=\"middle\" x=\"198.5\" y=\"-283.3\" font-family=\"Helvetica,sans-Serif\" font-size=\"14.00\" fill=\"#000000\">entropy = 0.0</text>\n<text text-anchor=\"middle\" x=\"198.5\" y=\"-268.3\" font-family=\"Helvetica,sans-Serif\" font-size=\"14.00\" fill=\"#000000\">samples = 2</text>\n<text text-anchor=\"middle\" x=\"198.5\" y=\"-253.3\" font-family=\"Helvetica,sans-Serif\" font-size=\"14.00\" fill=\"#000000\">value = [0, 2, 0]</text>\n<text text-anchor=\"middle\" x=\"198.5\" y=\"-238.3\" font-family=\"Helvetica,sans-Serif\" font-size=\"14.00\" fill=\"#000000\">class = 雪梨</text>\n</g>\n<!-- 3&#45;&gt;5 -->\n<g id=\"edge5\" class=\"edge\">\n<title>3&#45;&gt;5</title>\n<path fill=\"none\" stroke=\"#000000\" d=\"M153.6329,-341.8796C160.0725,-330.7735 167.0434,-318.7513 173.5271,-307.5691\"/>\n<polygon fill=\"#000000\" stroke=\"#000000\" points=\"176.6148,-309.2215 178.6031,-298.8149 170.5591,-305.7102 176.6148,-309.2215\"/>\n</g>\n<!-- 8 -->\n<g id=\"node9\" class=\"node\">\n<title>8</title>\n<path fill=\"#8139e5\" stroke=\"#000000\" d=\"M461,-417.5C461,-417.5 362,-417.5 362,-417.5 356,-417.5 350,-411.5 350,-405.5 350,-405.5 350,-361.5 350,-361.5 350,-355.5 356,-349.5 362,-349.5 362,-349.5 461,-349.5 461,-349.5 467,-349.5 473,-355.5 473,-361.5 473,-361.5 473,-405.5 473,-405.5 473,-411.5 467,-417.5 461,-417.5\"/>\n<text text-anchor=\"middle\" x=\"411.5\" y=\"-402.3\" font-family=\"Helvetica,sans-Serif\" font-size=\"14.00\" fill=\"#000000\">entropy = 0.0</text>\n<text text-anchor=\"middle\" x=\"411.5\" y=\"-387.3\" font-family=\"Helvetica,sans-Serif\" font-size=\"14.00\" fill=\"#000000\">samples = 25</text>\n<text text-anchor=\"middle\" x=\"411.5\" y=\"-372.3\" font-family=\"Helvetica,sans-Serif\" font-size=\"14.00\" fill=\"#000000\">value = [0, 0, 25]</text>\n<text text-anchor=\"middle\" x=\"411.5\" y=\"-357.3\" font-family=\"Helvetica,sans-Serif\" font-size=\"14.00\" fill=\"#000000\">class = 贝尔莫德</text>\n</g>\n<!-- 7&#45;&gt;8 -->\n<g id=\"edge8\" class=\"edge\">\n<title>7&#45;&gt;8</title>\n<path fill=\"none\" stroke=\"#000000\" d=\"M481.7268,-460.8796C471.2482,-449.3337 459.8709,-436.7976 449.3859,-425.2446\"/>\n<polygon fill=\"#000000\" stroke=\"#000000\" points=\"451.9553,-422.8678 442.643,-417.8149 446.7718,-427.5722 451.9553,-422.8678\"/>\n</g>\n<!-- 9 -->\n<g id=\"node10\" class=\"node\">\n<title>9</title>\n<path fill=\"#d5bdf6\" stroke=\"#000000\" d=\"M642,-425C642,-425 503,-425 503,-425 497,-425 491,-419 491,-413 491,-413 491,-354 491,-354 491,-348 497,-342 503,-342 503,-342 642,-342 642,-342 648,-342 654,-348 654,-354 654,-354 654,-413 654,-413 654,-419 648,-425 642,-425\"/>\n<text text-anchor=\"middle\" x=\"572.5\" y=\"-409.8\" font-family=\"Helvetica,sans-Serif\" font-size=\"14.00\" fill=\"#000000\">非黄烷类酚类 &lt;= 0.401</text>\n<text text-anchor=\"middle\" x=\"572.5\" y=\"-394.8\" font-family=\"Helvetica,sans-Serif\" font-size=\"14.00\" fill=\"#000000\">entropy = 0.971</text>\n<text text-anchor=\"middle\" x=\"572.5\" y=\"-379.8\" font-family=\"Helvetica,sans-Serif\" font-size=\"14.00\" fill=\"#000000\">samples = 5</text>\n<text text-anchor=\"middle\" x=\"572.5\" y=\"-364.8\" font-family=\"Helvetica,sans-Serif\" font-size=\"14.00\" fill=\"#000000\">value = [0, 2, 3]</text>\n<text text-anchor=\"middle\" x=\"572.5\" y=\"-349.8\" font-family=\"Helvetica,sans-Serif\" font-size=\"14.00\" fill=\"#000000\">class = 贝尔莫德</text>\n</g>\n<!-- 7&#45;&gt;9 -->\n<g id=\"edge9\" class=\"edge\">\n<title>7&#45;&gt;9</title>\n<path fill=\"none\" stroke=\"#000000\" d=\"M538.0368,-460.8796C541.8074,-452.4136 545.815,-443.4153 549.7133,-434.6626\"/>\n<polygon fill=\"#000000\" stroke=\"#000000\" points=\"553.0127,-435.857 553.8841,-425.2981 546.6183,-433.009 553.0127,-435.857\"/>\n</g>\n<!-- 10 -->\n<g id=\"node11\" class=\"node\">\n<title>10</title>\n<path fill=\"#8139e5\" stroke=\"#000000\" d=\"M501,-298.5C501,-298.5 402,-298.5 402,-298.5 396,-298.5 390,-292.5 390,-286.5 390,-286.5 390,-242.5 390,-242.5 390,-236.5 396,-230.5 402,-230.5 402,-230.5 501,-230.5 501,-230.5 507,-230.5 513,-236.5 513,-242.5 513,-242.5 513,-286.5 513,-286.5 513,-292.5 507,-298.5 501,-298.5\"/>\n<text text-anchor=\"middle\" x=\"451.5\" y=\"-283.3\" font-family=\"Helvetica,sans-Serif\" font-size=\"14.00\" fill=\"#000000\">entropy = 0.0</text>\n<text text-anchor=\"middle\" x=\"451.5\" y=\"-268.3\" font-family=\"Helvetica,sans-Serif\" font-size=\"14.00\" fill=\"#000000\">samples = 3</text>\n<text text-anchor=\"middle\" x=\"451.5\" y=\"-253.3\" font-family=\"Helvetica,sans-Serif\" font-size=\"14.00\" fill=\"#000000\">value = [0, 0, 3]</text>\n<text text-anchor=\"middle\" x=\"451.5\" y=\"-238.3\" font-family=\"Helvetica,sans-Serif\" font-size=\"14.00\" fill=\"#000000\">class = 贝尔莫德</text>\n</g>\n<!-- 9&#45;&gt;10 -->\n<g id=\"edge10\" class=\"edge\">\n<title>9&#45;&gt;10</title>\n<path fill=\"none\" stroke=\"#000000\" d=\"M530.1801,-341.8796C518.3283,-330.2237 505.4505,-317.5587 493.6109,-305.9148\"/>\n<polygon fill=\"#000000\" stroke=\"#000000\" points=\"495.9756,-303.3314 486.3917,-298.8149 491.0673,-308.3223 495.9756,-303.3314\"/>\n</g>\n<!-- 11 -->\n<g id=\"node12\" class=\"node\">\n<title>11</title>\n<path fill=\"#39e581\" stroke=\"#000000\" d=\"M634,-298.5C634,-298.5 543,-298.5 543,-298.5 537,-298.5 531,-292.5 531,-286.5 531,-286.5 531,-242.5 531,-242.5 531,-236.5 537,-230.5 543,-230.5 543,-230.5 634,-230.5 634,-230.5 640,-230.5 646,-236.5 646,-242.5 646,-242.5 646,-286.5 646,-286.5 646,-292.5 640,-298.5 634,-298.5\"/>\n<text text-anchor=\"middle\" x=\"588.5\" y=\"-283.3\" font-family=\"Helvetica,sans-Serif\" font-size=\"14.00\" fill=\"#000000\">entropy = 0.0</text>\n<text text-anchor=\"middle\" x=\"588.5\" y=\"-268.3\" font-family=\"Helvetica,sans-Serif\" font-size=\"14.00\" fill=\"#000000\">samples = 2</text>\n<text text-anchor=\"middle\" x=\"588.5\" y=\"-253.3\" font-family=\"Helvetica,sans-Serif\" font-size=\"14.00\" fill=\"#000000\">value = [0, 2, 0]</text>\n<text text-anchor=\"middle\" x=\"588.5\" y=\"-238.3\" font-family=\"Helvetica,sans-Serif\" font-size=\"14.00\" fill=\"#000000\">class = 雪梨</text>\n</g>\n<!-- 9&#45;&gt;11 -->\n<g id=\"edge11\" class=\"edge\">\n<title>9&#45;&gt;11</title>\n<path fill=\"none\" stroke=\"#000000\" d=\"M578.096,-341.8796C579.5301,-331.2134 581.0779,-319.7021 582.53,-308.9015\"/>\n<polygon fill=\"#000000\" stroke=\"#000000\" points=\"586.0224,-309.1922 583.8862,-298.8149 579.0848,-308.2593 586.0224,-309.1922\"/>\n</g>\n<!-- 13 -->\n<g id=\"node14\" class=\"node\">\n<title>13</title>\n<path fill=\"#6ceca2\" stroke=\"#000000\" d=\"M855,-544C855,-544 756,-544 756,-544 750,-544 744,-538 744,-532 744,-532 744,-473 744,-473 744,-467 750,-461 756,-461 756,-461 855,-461 855,-461 861,-461 867,-467 867,-473 867,-473 867,-532 867,-532 867,-538 861,-544 855,-544\"/>\n<text text-anchor=\"middle\" x=\"805.5\" y=\"-528.8\" font-family=\"Helvetica,sans-Serif\" font-size=\"14.00\" fill=\"#000000\">酒精 &lt;= 12.804</text>\n<text text-anchor=\"middle\" x=\"805.5\" y=\"-513.8\" font-family=\"Helvetica,sans-Serif\" font-size=\"14.00\" fill=\"#000000\">entropy = 0.732</text>\n<text text-anchor=\"middle\" x=\"805.5\" y=\"-498.8\" font-family=\"Helvetica,sans-Serif\" font-size=\"14.00\" fill=\"#000000\">samples = 39</text>\n<text text-anchor=\"middle\" x=\"805.5\" y=\"-483.8\" font-family=\"Helvetica,sans-Serif\" font-size=\"14.00\" fill=\"#000000\">value = [8, 31, 0]</text>\n<text text-anchor=\"middle\" x=\"805.5\" y=\"-468.8\" font-family=\"Helvetica,sans-Serif\" font-size=\"14.00\" fill=\"#000000\">class = 雪梨</text>\n</g>\n<!-- 12&#45;&gt;13 -->\n<g id=\"edge13\" class=\"edge\">\n<title>12&#45;&gt;13</title>\n<path fill=\"none\" stroke=\"#000000\" d=\"M805.5,-579.8796C805.5,-571.6838 805.5,-562.9891 805.5,-554.5013\"/>\n<polygon fill=\"#000000\" stroke=\"#000000\" points=\"809.0001,-554.298 805.5,-544.2981 802.0001,-554.2981 809.0001,-554.298\"/>\n</g>\n<!-- 22 -->\n<g id=\"node23\" class=\"node\">\n<title>22</title>\n<path fill=\"#e6853f\" stroke=\"#000000\" d=\"M1071,-544C1071,-544 972,-544 972,-544 966,-544 960,-538 960,-532 960,-532 960,-473 960,-473 960,-467 966,-461 972,-461 972,-461 1071,-461 1071,-461 1077,-461 1083,-467 1083,-473 1083,-473 1083,-532 1083,-532 1083,-538 1077,-544 1071,-544\"/>\n<text text-anchor=\"middle\" x=\"1021.5\" y=\"-528.8\" font-family=\"Helvetica,sans-Serif\" font-size=\"14.00\" fill=\"#000000\">镁 &lt;= 130.487</text>\n<text text-anchor=\"middle\" x=\"1021.5\" y=\"-513.8\" font-family=\"Helvetica,sans-Serif\" font-size=\"14.00\" fill=\"#000000\">entropy = 0.187</text>\n<text text-anchor=\"middle\" x=\"1021.5\" y=\"-498.8\" font-family=\"Helvetica,sans-Serif\" font-size=\"14.00\" fill=\"#000000\">samples = 35</text>\n<text text-anchor=\"middle\" x=\"1021.5\" y=\"-483.8\" font-family=\"Helvetica,sans-Serif\" font-size=\"14.00\" fill=\"#000000\">value = [34, 1, 0]</text>\n<text text-anchor=\"middle\" x=\"1021.5\" y=\"-468.8\" font-family=\"Helvetica,sans-Serif\" font-size=\"14.00\" fill=\"#000000\">class = 琴酒</text>\n</g>\n<!-- 12&#45;&gt;22 -->\n<g id=\"edge22\" class=\"edge\">\n<title>12&#45;&gt;22</title>\n<path fill=\"none\" stroke=\"#000000\" d=\"M874.1405,-583.6841C898.675,-570.1675 926.3488,-554.9212 951.0347,-541.3212\"/>\n<polygon fill=\"#000000\" stroke=\"#000000\" points=\"952.9131,-544.2824 959.983,-536.3913 949.5353,-538.1512 952.9131,-544.2824\"/>\n</g>\n<!-- 14 -->\n<g id=\"node15\" class=\"node\">\n<title>14</title>\n<path fill=\"#39e581\" stroke=\"#000000\" d=\"M783,-417.5C783,-417.5 684,-417.5 684,-417.5 678,-417.5 672,-411.5 672,-405.5 672,-405.5 672,-361.5 672,-361.5 672,-355.5 678,-349.5 684,-349.5 684,-349.5 783,-349.5 783,-349.5 789,-349.5 795,-355.5 795,-361.5 795,-361.5 795,-405.5 795,-405.5 795,-411.5 789,-417.5 783,-417.5\"/>\n<text text-anchor=\"middle\" x=\"733.5\" y=\"-402.3\" font-family=\"Helvetica,sans-Serif\" font-size=\"14.00\" fill=\"#000000\">entropy = 0.0</text>\n<text text-anchor=\"middle\" x=\"733.5\" y=\"-387.3\" font-family=\"Helvetica,sans-Serif\" font-size=\"14.00\" fill=\"#000000\">samples = 26</text>\n<text text-anchor=\"middle\" x=\"733.5\" y=\"-372.3\" font-family=\"Helvetica,sans-Serif\" font-size=\"14.00\" fill=\"#000000\">value = [0, 26, 0]</text>\n<text text-anchor=\"middle\" x=\"733.5\" y=\"-357.3\" font-family=\"Helvetica,sans-Serif\" font-size=\"14.00\" fill=\"#000000\">class = 雪梨</text>\n</g>\n<!-- 13&#45;&gt;14 -->\n<g id=\"edge14\" class=\"edge\">\n<title>13&#45;&gt;14</title>\n<path fill=\"none\" stroke=\"#000000\" d=\"M780.3179,-460.8796C773.5983,-449.7735 766.3243,-437.7513 759.5586,-426.5691\"/>\n<polygon fill=\"#000000\" stroke=\"#000000\" points=\"762.4332,-424.5589 754.262,-417.8149 756.4441,-428.1826 762.4332,-424.5589\"/>\n</g>\n<!-- 15 -->\n<g id=\"node16\" class=\"node\">\n<title>15</title>\n<path fill=\"#f5d0b5\" stroke=\"#000000\" d=\"M929.5,-425C929.5,-425 825.5,-425 825.5,-425 819.5,-425 813.5,-419 813.5,-413 813.5,-413 813.5,-354 813.5,-354 813.5,-348 819.5,-342 825.5,-342 825.5,-342 929.5,-342 929.5,-342 935.5,-342 941.5,-348 941.5,-354 941.5,-354 941.5,-413 941.5,-413 941.5,-419 935.5,-425 929.5,-425\"/>\n<text text-anchor=\"middle\" x=\"877.5\" y=\"-409.8\" font-family=\"Helvetica,sans-Serif\" font-size=\"14.00\" fill=\"#000000\">脯氨酸 &lt;= 692.61</text>\n<text text-anchor=\"middle\" x=\"877.5\" y=\"-394.8\" font-family=\"Helvetica,sans-Serif\" font-size=\"14.00\" fill=\"#000000\">entropy = 0.961</text>\n<text text-anchor=\"middle\" x=\"877.5\" y=\"-379.8\" font-family=\"Helvetica,sans-Serif\" font-size=\"14.00\" fill=\"#000000\">samples = 13</text>\n<text text-anchor=\"middle\" x=\"877.5\" y=\"-364.8\" font-family=\"Helvetica,sans-Serif\" font-size=\"14.00\" fill=\"#000000\">value = [8, 5, 0]</text>\n<text text-anchor=\"middle\" x=\"877.5\" y=\"-349.8\" font-family=\"Helvetica,sans-Serif\" font-size=\"14.00\" fill=\"#000000\">class = 琴酒</text>\n</g>\n<!-- 13&#45;&gt;15 -->\n<g id=\"edge15\" class=\"edge\">\n<title>13&#45;&gt;15</title>\n<path fill=\"none\" stroke=\"#000000\" d=\"M830.6821,-460.8796C835.9133,-452.2335 841.4805,-443.0322 846.8823,-434.1042\"/>\n<polygon fill=\"#000000\" stroke=\"#000000\" points=\"850.0283,-435.6658 852.2104,-425.2981 844.0392,-432.0421 850.0283,-435.6658\"/>\n</g>\n<!-- 16 -->\n<g id=\"node17\" class=\"node\">\n<title>16</title>\n<path fill=\"#61ea9a\" stroke=\"#000000\" d=\"M857.5,-306C857.5,-306 761.5,-306 761.5,-306 755.5,-306 749.5,-300 749.5,-294 749.5,-294 749.5,-235 749.5,-235 749.5,-229 755.5,-223 761.5,-223 761.5,-223 857.5,-223 857.5,-223 863.5,-223 869.5,-229 869.5,-235 869.5,-235 869.5,-294 869.5,-294 869.5,-300 863.5,-306 857.5,-306\"/>\n<text text-anchor=\"middle\" x=\"809.5\" y=\"-290.8\" font-family=\"Helvetica,sans-Serif\" font-size=\"14.00\" fill=\"#000000\">苹果酸 &lt;= 3.388</text>\n<text text-anchor=\"middle\" x=\"809.5\" y=\"-275.8\" font-family=\"Helvetica,sans-Serif\" font-size=\"14.00\" fill=\"#000000\">entropy = 0.65</text>\n<text text-anchor=\"middle\" x=\"809.5\" y=\"-260.8\" font-family=\"Helvetica,sans-Serif\" font-size=\"14.00\" fill=\"#000000\">samples = 6</text>\n<text text-anchor=\"middle\" x=\"809.5\" y=\"-245.8\" font-family=\"Helvetica,sans-Serif\" font-size=\"14.00\" fill=\"#000000\">value = [1, 5, 0]</text>\n<text text-anchor=\"middle\" x=\"809.5\" y=\"-230.8\" font-family=\"Helvetica,sans-Serif\" font-size=\"14.00\" fill=\"#000000\">class = 雪梨</text>\n</g>\n<!-- 15&#45;&gt;16 -->\n<g id=\"edge16\" class=\"edge\">\n<title>15&#45;&gt;16</title>\n<path fill=\"none\" stroke=\"#000000\" d=\"M853.7169,-341.8796C848.7763,-333.2335 843.5184,-324.0322 838.4167,-315.1042\"/>\n<polygon fill=\"#000000\" stroke=\"#000000\" points=\"841.3849,-313.244 833.3846,-306.2981 835.3072,-316.717 841.3849,-313.244\"/>\n</g>\n<!-- 21 -->\n<g id=\"node22\" class=\"node\">\n<title>21</title>\n<path fill=\"#e58139\" stroke=\"#000000\" d=\"M991,-298.5C991,-298.5 900,-298.5 900,-298.5 894,-298.5 888,-292.5 888,-286.5 888,-286.5 888,-242.5 888,-242.5 888,-236.5 894,-230.5 900,-230.5 900,-230.5 991,-230.5 991,-230.5 997,-230.5 1003,-236.5 1003,-242.5 1003,-242.5 1003,-286.5 1003,-286.5 1003,-292.5 997,-298.5 991,-298.5\"/>\n<text text-anchor=\"middle\" x=\"945.5\" y=\"-283.3\" font-family=\"Helvetica,sans-Serif\" font-size=\"14.00\" fill=\"#000000\">entropy = 0.0</text>\n<text text-anchor=\"middle\" x=\"945.5\" y=\"-268.3\" font-family=\"Helvetica,sans-Serif\" font-size=\"14.00\" fill=\"#000000\">samples = 7</text>\n<text text-anchor=\"middle\" x=\"945.5\" y=\"-253.3\" font-family=\"Helvetica,sans-Serif\" font-size=\"14.00\" fill=\"#000000\">value = [7, 0, 0]</text>\n<text text-anchor=\"middle\" x=\"945.5\" y=\"-238.3\" font-family=\"Helvetica,sans-Serif\" font-size=\"14.00\" fill=\"#000000\">class = 琴酒</text>\n</g>\n<!-- 15&#45;&gt;21 -->\n<g id=\"edge21\" class=\"edge\">\n<title>15&#45;&gt;21</title>\n<path fill=\"none\" stroke=\"#000000\" d=\"M901.2831,-341.8796C907.6294,-330.7735 914.4993,-318.7513 920.8891,-307.5691\"/>\n<polygon fill=\"#000000\" stroke=\"#000000\" points=\"923.9689,-309.2339 925.8915,-298.8149 917.8912,-305.7609 923.9689,-309.2339\"/>\n</g>\n<!-- 17 -->\n<g id=\"node18\" class=\"node\">\n<title>17</title>\n<path fill=\"#39e581\" stroke=\"#000000\" d=\"M789,-179.5C789,-179.5 698,-179.5 698,-179.5 692,-179.5 686,-173.5 686,-167.5 686,-167.5 686,-123.5 686,-123.5 686,-117.5 692,-111.5 698,-111.5 698,-111.5 789,-111.5 789,-111.5 795,-111.5 801,-117.5 801,-123.5 801,-123.5 801,-167.5 801,-167.5 801,-173.5 795,-179.5 789,-179.5\"/>\n<text text-anchor=\"middle\" x=\"743.5\" y=\"-164.3\" font-family=\"Helvetica,sans-Serif\" font-size=\"14.00\" fill=\"#000000\">entropy = 0.0</text>\n<text text-anchor=\"middle\" x=\"743.5\" y=\"-149.3\" font-family=\"Helvetica,sans-Serif\" font-size=\"14.00\" fill=\"#000000\">samples = 4</text>\n<text text-anchor=\"middle\" x=\"743.5\" y=\"-134.3\" font-family=\"Helvetica,sans-Serif\" font-size=\"14.00\" fill=\"#000000\">value = [0, 4, 0]</text>\n<text text-anchor=\"middle\" x=\"743.5\" y=\"-119.3\" font-family=\"Helvetica,sans-Serif\" font-size=\"14.00\" fill=\"#000000\">class = 雪梨</text>\n</g>\n<!-- 16&#45;&gt;17 -->\n<g id=\"edge17\" class=\"edge\">\n<title>16&#45;&gt;17</title>\n<path fill=\"none\" stroke=\"#000000\" d=\"M786.4164,-222.8796C780.2567,-211.7735 773.5889,-199.7513 767.3871,-188.5691\"/>\n<polygon fill=\"#000000\" stroke=\"#000000\" points=\"770.4428,-186.8624 762.5318,-179.8149 764.3213,-190.2576 770.4428,-186.8624\"/>\n</g>\n<!-- 18 -->\n<g id=\"node19\" class=\"node\">\n<title>18</title>\n<path fill=\"#ffffff\" stroke=\"#000000\" d=\"M922,-187C922,-187 831,-187 831,-187 825,-187 819,-181 819,-175 819,-175 819,-116 819,-116 819,-110 825,-104 831,-104 831,-104 922,-104 922,-104 928,-104 934,-110 934,-116 934,-116 934,-175 934,-175 934,-181 928,-187 922,-187\"/>\n<text text-anchor=\"middle\" x=\"876.5\" y=\"-171.8\" font-family=\"Helvetica,sans-Serif\" font-size=\"14.00\" fill=\"#000000\">总酚 &lt;= 2.621</text>\n<text text-anchor=\"middle\" x=\"876.5\" y=\"-156.8\" font-family=\"Helvetica,sans-Serif\" font-size=\"14.00\" fill=\"#000000\">entropy = 1.0</text>\n<text text-anchor=\"middle\" x=\"876.5\" y=\"-141.8\" font-family=\"Helvetica,sans-Serif\" font-size=\"14.00\" fill=\"#000000\">samples = 2</text>\n<text text-anchor=\"middle\" x=\"876.5\" y=\"-126.8\" font-family=\"Helvetica,sans-Serif\" font-size=\"14.00\" fill=\"#000000\">value = [1, 1, 0]</text>\n<text text-anchor=\"middle\" x=\"876.5\" y=\"-111.8\" font-family=\"Helvetica,sans-Serif\" font-size=\"14.00\" fill=\"#000000\">class = 琴酒</text>\n</g>\n<!-- 16&#45;&gt;18 -->\n<g id=\"edge18\" class=\"edge\">\n<title>16&#45;&gt;18</title>\n<path fill=\"none\" stroke=\"#000000\" d=\"M832.9333,-222.8796C837.8013,-214.2335 842.9819,-205.0322 848.0086,-196.1042\"/>\n<polygon fill=\"#000000\" stroke=\"#000000\" points=\"851.1103,-197.729 852.9666,-187.2981 845.0107,-194.2947 851.1103,-197.729\"/>\n</g>\n<!-- 19 -->\n<g id=\"node20\" class=\"node\">\n<title>19</title>\n<path fill=\"#39e581\" stroke=\"#000000\" d=\"M856,-68C856,-68 765,-68 765,-68 759,-68 753,-62 753,-56 753,-56 753,-12 753,-12 753,-6 759,0 765,0 765,0 856,0 856,0 862,0 868,-6 868,-12 868,-12 868,-56 868,-56 868,-62 862,-68 856,-68\"/>\n<text text-anchor=\"middle\" x=\"810.5\" y=\"-52.8\" font-family=\"Helvetica,sans-Serif\" font-size=\"14.00\" fill=\"#000000\">entropy = 0.0</text>\n<text text-anchor=\"middle\" x=\"810.5\" y=\"-37.8\" font-family=\"Helvetica,sans-Serif\" font-size=\"14.00\" fill=\"#000000\">samples = 1</text>\n<text text-anchor=\"middle\" x=\"810.5\" y=\"-22.8\" font-family=\"Helvetica,sans-Serif\" font-size=\"14.00\" fill=\"#000000\">value = [0, 1, 0]</text>\n<text text-anchor=\"middle\" x=\"810.5\" y=\"-7.8\" font-family=\"Helvetica,sans-Serif\" font-size=\"14.00\" fill=\"#000000\">class = 雪梨</text>\n</g>\n<!-- 18&#45;&gt;19 -->\n<g id=\"edge19\" class=\"edge\">\n<title>18&#45;&gt;19</title>\n<path fill=\"none\" stroke=\"#000000\" d=\"M851.924,-103.9815C846.7014,-95.1585 841.1771,-85.8258 835.9237,-76.9506\"/>\n<polygon fill=\"#000000\" stroke=\"#000000\" points=\"838.8874,-75.0863 830.7816,-68.2637 832.8636,-78.652 838.8874,-75.0863\"/>\n</g>\n<!-- 20 -->\n<g id=\"node21\" class=\"node\">\n<title>20</title>\n<path fill=\"#e58139\" stroke=\"#000000\" d=\"M989,-68C989,-68 898,-68 898,-68 892,-68 886,-62 886,-56 886,-56 886,-12 886,-12 886,-6 892,0 898,0 898,0 989,0 989,0 995,0 1001,-6 1001,-12 1001,-12 1001,-56 1001,-56 1001,-62 995,-68 989,-68\"/>\n<text text-anchor=\"middle\" x=\"943.5\" y=\"-52.8\" font-family=\"Helvetica,sans-Serif\" font-size=\"14.00\" fill=\"#000000\">entropy = 0.0</text>\n<text text-anchor=\"middle\" x=\"943.5\" y=\"-37.8\" font-family=\"Helvetica,sans-Serif\" font-size=\"14.00\" fill=\"#000000\">samples = 1</text>\n<text text-anchor=\"middle\" x=\"943.5\" y=\"-22.8\" font-family=\"Helvetica,sans-Serif\" font-size=\"14.00\" fill=\"#000000\">value = [1, 0, 0]</text>\n<text text-anchor=\"middle\" x=\"943.5\" y=\"-7.8\" font-family=\"Helvetica,sans-Serif\" font-size=\"14.00\" fill=\"#000000\">class = 琴酒</text>\n</g>\n<!-- 18&#45;&gt;20 -->\n<g id=\"edge20\" class=\"edge\">\n<title>18&#45;&gt;20</title>\n<path fill=\"none\" stroke=\"#000000\" d=\"M901.4483,-103.9815C906.7501,-95.1585 912.3581,-85.8258 917.6911,-76.9506\"/>\n<polygon fill=\"#000000\" stroke=\"#000000\" points=\"920.7605,-78.638 922.9111,-68.2637 914.7604,-75.0325 920.7605,-78.638\"/>\n</g>\n<!-- 23 -->\n<g id=\"node24\" class=\"node\">\n<title>23</title>\n<path fill=\"#e58139\" stroke=\"#000000\" d=\"M1071,-417.5C1071,-417.5 972,-417.5 972,-417.5 966,-417.5 960,-411.5 960,-405.5 960,-405.5 960,-361.5 960,-361.5 960,-355.5 966,-349.5 972,-349.5 972,-349.5 1071,-349.5 1071,-349.5 1077,-349.5 1083,-355.5 1083,-361.5 1083,-361.5 1083,-405.5 1083,-405.5 1083,-411.5 1077,-417.5 1071,-417.5\"/>\n<text text-anchor=\"middle\" x=\"1021.5\" y=\"-402.3\" font-family=\"Helvetica,sans-Serif\" font-size=\"14.00\" fill=\"#000000\">entropy = 0.0</text>\n<text text-anchor=\"middle\" x=\"1021.5\" y=\"-387.3\" font-family=\"Helvetica,sans-Serif\" font-size=\"14.00\" fill=\"#000000\">samples = 33</text>\n<text text-anchor=\"middle\" x=\"1021.5\" y=\"-372.3\" font-family=\"Helvetica,sans-Serif\" font-size=\"14.00\" fill=\"#000000\">value = [33, 0, 0]</text>\n<text text-anchor=\"middle\" x=\"1021.5\" y=\"-357.3\" font-family=\"Helvetica,sans-Serif\" font-size=\"14.00\" fill=\"#000000\">class = 琴酒</text>\n</g>\n<!-- 22&#45;&gt;23 -->\n<g id=\"edge23\" class=\"edge\">\n<title>22&#45;&gt;23</title>\n<path fill=\"none\" stroke=\"#000000\" d=\"M1021.5,-460.8796C1021.5,-450.2134 1021.5,-438.7021 1021.5,-427.9015\"/>\n<polygon fill=\"#000000\" stroke=\"#000000\" points=\"1025.0001,-427.8149 1021.5,-417.8149 1018.0001,-427.815 1025.0001,-427.8149\"/>\n</g>\n<!-- 24 -->\n<g id=\"node25\" class=\"node\">\n<title>24</title>\n<path fill=\"#ffffff\" stroke=\"#000000\" d=\"M1324,-425C1324,-425 1113,-425 1113,-425 1107,-425 1101,-419 1101,-413 1101,-413 1101,-354 1101,-354 1101,-348 1107,-342 1113,-342 1113,-342 1324,-342 1324,-342 1330,-342 1336,-348 1336,-354 1336,-354 1336,-413 1336,-413 1336,-419 1330,-425 1324,-425\"/>\n<text text-anchor=\"middle\" x=\"1218.5\" y=\"-409.8\" font-family=\"Helvetica,sans-Serif\" font-size=\"14.00\" fill=\"#000000\">od280/od315稀释葡萄酒 &lt;= 3.126</text>\n<text text-anchor=\"middle\" x=\"1218.5\" y=\"-394.8\" font-family=\"Helvetica,sans-Serif\" font-size=\"14.00\" fill=\"#000000\">entropy = 1.0</text>\n<text text-anchor=\"middle\" x=\"1218.5\" y=\"-379.8\" font-family=\"Helvetica,sans-Serif\" font-size=\"14.00\" fill=\"#000000\">samples = 2</text>\n<text text-anchor=\"middle\" x=\"1218.5\" y=\"-364.8\" font-family=\"Helvetica,sans-Serif\" font-size=\"14.00\" fill=\"#000000\">value = [1, 1, 0]</text>\n<text text-anchor=\"middle\" x=\"1218.5\" y=\"-349.8\" font-family=\"Helvetica,sans-Serif\" font-size=\"14.00\" fill=\"#000000\">class = 琴酒</text>\n</g>\n<!-- 22&#45;&gt;24 -->\n<g id=\"edge24\" class=\"edge\">\n<title>22&#45;&gt;24</title>\n<path fill=\"none\" stroke=\"#000000\" d=\"M1083.0217,-465.3371C1101.3291,-454.2783 1121.6303,-442.0152 1140.8257,-430.42\"/>\n<polygon fill=\"#000000\" stroke=\"#000000\" points=\"1142.8064,-433.3126 1149.5563,-425.1462 1139.187,-427.3209 1142.8064,-433.3126\"/>\n</g>\n<!-- 25 -->\n<g id=\"node26\" class=\"node\">\n<title>25</title>\n<path fill=\"#e58139\" stroke=\"#000000\" d=\"M1197,-298.5C1197,-298.5 1106,-298.5 1106,-298.5 1100,-298.5 1094,-292.5 1094,-286.5 1094,-286.5 1094,-242.5 1094,-242.5 1094,-236.5 1100,-230.5 1106,-230.5 1106,-230.5 1197,-230.5 1197,-230.5 1203,-230.5 1209,-236.5 1209,-242.5 1209,-242.5 1209,-286.5 1209,-286.5 1209,-292.5 1203,-298.5 1197,-298.5\"/>\n<text text-anchor=\"middle\" x=\"1151.5\" y=\"-283.3\" font-family=\"Helvetica,sans-Serif\" font-size=\"14.00\" fill=\"#000000\">entropy = 0.0</text>\n<text text-anchor=\"middle\" x=\"1151.5\" y=\"-268.3\" font-family=\"Helvetica,sans-Serif\" font-size=\"14.00\" fill=\"#000000\">samples = 1</text>\n<text text-anchor=\"middle\" x=\"1151.5\" y=\"-253.3\" font-family=\"Helvetica,sans-Serif\" font-size=\"14.00\" fill=\"#000000\">value = [1, 0, 0]</text>\n<text text-anchor=\"middle\" x=\"1151.5\" y=\"-238.3\" font-family=\"Helvetica,sans-Serif\" font-size=\"14.00\" fill=\"#000000\">class = 琴酒</text>\n</g>\n<!-- 24&#45;&gt;25 -->\n<g id=\"edge25\" class=\"edge\">\n<title>24&#45;&gt;25</title>\n<path fill=\"none\" stroke=\"#000000\" d=\"M1195.0667,-341.8796C1188.8137,-330.7735 1182.0448,-318.7513 1175.749,-307.5691\"/>\n<polygon fill=\"#000000\" stroke=\"#000000\" points=\"1178.7761,-305.8116 1170.8202,-298.8149 1172.6765,-309.2459 1178.7761,-305.8116\"/>\n</g>\n<!-- 26 -->\n<g id=\"node27\" class=\"node\">\n<title>26</title>\n<path fill=\"#39e581\" stroke=\"#000000\" d=\"M1330,-298.5C1330,-298.5 1239,-298.5 1239,-298.5 1233,-298.5 1227,-292.5 1227,-286.5 1227,-286.5 1227,-242.5 1227,-242.5 1227,-236.5 1233,-230.5 1239,-230.5 1239,-230.5 1330,-230.5 1330,-230.5 1336,-230.5 1342,-236.5 1342,-242.5 1342,-242.5 1342,-286.5 1342,-286.5 1342,-292.5 1336,-298.5 1330,-298.5\"/>\n<text text-anchor=\"middle\" x=\"1284.5\" y=\"-283.3\" font-family=\"Helvetica,sans-Serif\" font-size=\"14.00\" fill=\"#000000\">entropy = 0.0</text>\n<text text-anchor=\"middle\" x=\"1284.5\" y=\"-268.3\" font-family=\"Helvetica,sans-Serif\" font-size=\"14.00\" fill=\"#000000\">samples = 1</text>\n<text text-anchor=\"middle\" x=\"1284.5\" y=\"-253.3\" font-family=\"Helvetica,sans-Serif\" font-size=\"14.00\" fill=\"#000000\">value = [0, 1, 0]</text>\n<text text-anchor=\"middle\" x=\"1284.5\" y=\"-238.3\" font-family=\"Helvetica,sans-Serif\" font-size=\"14.00\" fill=\"#000000\">class = 雪梨</text>\n</g>\n<!-- 24&#45;&gt;26 -->\n<g id=\"edge26\" class=\"edge\">\n<title>24&#45;&gt;26</title>\n<path fill=\"none\" stroke=\"#000000\" d=\"M1241.5836,-341.8796C1247.7433,-330.7735 1254.4111,-318.7513 1260.6129,-307.5691\"/>\n<polygon fill=\"#000000\" stroke=\"#000000\" points=\"1263.6787,-309.2576 1265.4682,-298.8149 1257.5572,-305.8624 1263.6787,-309.2576\"/>\n</g>\n</g>\n</svg>\n"
          },
          "metadata": {
            "tags": []
          },
          "execution_count": 38
        }
      ]
    },
    {
      "cell_type": "code",
      "metadata": {
        "id": "zReadh246p30",
        "colab_type": "code",
        "colab": {}
      },
      "source": [
        ""
      ],
      "execution_count": null,
      "outputs": []
    }
  ]
}